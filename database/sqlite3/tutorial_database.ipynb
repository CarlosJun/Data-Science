{
 "cells": [
  {
   "cell_type": "code",
   "execution_count": 1,
   "metadata": {},
   "outputs": [],
   "source": [
    "# importar biblioteca do banco\n",
    "import sqlite3"
   ]
  },
  {
   "cell_type": "markdown",
   "metadata": {},
   "source": [
    "# 1. Criando a tabela no banco"
   ]
  },
  {
   "cell_type": "code",
   "execution_count": 2,
   "metadata": {},
   "outputs": [],
   "source": [
    "# # conectando ao banco de dados em memória\n",
    "# conn = sqlite3.connect(':memory:')\n",
    "\n",
    "# conectando ao banco de dados\n",
    "conn = sqlite3.connect('enterprise.db')\n",
    "\n",
    "# definindo um cursor\n",
    "cursor = conn.cursor()"
   ]
  },
  {
   "cell_type": "code",
   "execution_count": 3,
   "metadata": {},
   "outputs": [
    {
     "name": "stdout",
     "output_type": "stream",
     "text": [
      "Tabela criada com sucesso.\n"
     ]
    }
   ],
   "source": [
    "# criando a tabela\n",
    "cursor.execute(\"\"\"\n",
    "                  CREATE TABLE empregados (\n",
    "                      id INTEGER NOT NULL PRIMARY KEY AUTOINCREMENT,\n",
    "                      nome TEXT NOT NULL,\n",
    "                      cargo TEXT,\n",
    "                      salario REAL);\n",
    "                \"\"\")\n",
    "\n",
    "print('Tabela criada com sucesso.')\n",
    "# fechar a conexão com o banco\n",
    "conn.close()"
   ]
  },
  {
   "cell_type": "code",
   "execution_count": 4,
   "metadata": {},
   "outputs": [
    {
     "name": "stdout",
     "output_type": "stream",
     "text": [
      "empregados\n",
      "0|id|INTEGER|1||1\n",
      "1|nome|TEXT|1||0\n",
      "2|cargo|TEXT|0||0\n",
      "3|salario|REAL|0||0\n"
     ]
    }
   ],
   "source": [
    "# testar se a tabela foi criada\n",
    "!sqlite3 enterprise.db '.tables'\n",
    "!sqlite3 enterprise.db 'PRAGMA table_info(empregados)'"
   ]
  },
  {
   "cell_type": "markdown",
   "metadata": {},
   "source": [
    "# 2. Adicionando dados no banco"
   ]
  },
  {
   "cell_type": "code",
   "execution_count": 5,
   "metadata": {},
   "outputs": [],
   "source": [
    "# acrescentar os dados existentes ao banco\n",
    "empregados = [\n",
    "    {\"nome\":\"Valentina\", \"cargo\":\"Analista\", \"salario\":5000},\n",
    "    {\"nome\":\"Enzo\", \"cargo\":\"Analista\", \"salario\":4000},\n",
    "    {\"nome\":\"Maria\", \"cargo\":\"Desenvolvedor\", \"salario\":5000}\n",
    "]\n",
    "\n",
    "# conectando ao banco de dados\n",
    "conn = sqlite3.connect('enterprise.db')\n",
    "# definindo um cursor\n",
    "cursor = conn.cursor()\n",
    "\n",
    "# inserindo dados na tabela\n",
    "for empregado in empregados:\n",
    "    cursor.execute(\"\"\"\n",
    "                      INSERT INTO empregados (nome, cargo, salario)\n",
    "                      VALUES (?, ?, ?)\n",
    "                   \"\"\", (empregado['nome'], \n",
    "                         empregado['cargo'], \n",
    "                         empregado['salario']))"
   ]
  },
  {
   "cell_type": "code",
   "execution_count": 6,
   "metadata": {},
   "outputs": [],
   "source": [
    "# salvando os dados no banco\n",
    "conn.commit()\n",
    "# fechar a conexão com o banco\n",
    "conn.close()"
   ]
  },
  {
   "cell_type": "markdown",
   "metadata": {},
   "source": [
    "# 3. Consultando dados no banco"
   ]
  },
  {
   "cell_type": "code",
   "execution_count": 20,
   "metadata": {},
   "outputs": [
    {
     "name": "stdout",
     "output_type": "stream",
     "text": [
      "(1, 'Valentina', 'Analista', 5000.0)\n",
      "(2, 'Enzo', 'Analista', 4000.0)\n",
      "(3, 'Maria', 'Desenvolvedor', 5000.0)\n",
      "(4, 'Gabriel', 'Engenheiro', 6000.0)\n",
      "(5, 'Gabriel', 'Engenheiro', 6000.0)\n",
      "(6, 'Gabriel', 'Engenheiro', 6000.0)\n"
     ]
    }
   ],
   "source": [
    "conn = sqlite3.connect('enterprise.db')\n",
    "cursor = conn.cursor()\n",
    "\n",
    "# lendo os dados\n",
    "cursor.execute(\"SELECT * FROM empregados;\")\n",
    "\n",
    "for row in cursor.fetchall():\n",
    "    print(row)\n",
    "\n",
    "# fechar a conexão com o banco\n",
    "conn.close()"
   ]
  },
  {
   "cell_type": "code",
   "execution_count": 8,
   "metadata": {},
   "outputs": [
    {
     "data": {
      "text/plain": [
       "[{'nome': 'Valentina', 'cargo': 'Analista', 'salario': 5000.0},\n",
       " {'nome': 'Enzo', 'cargo': 'Analista', 'salario': 4000.0},\n",
       " {'nome': 'Maria', 'cargo': 'Desenvolvedor', 'salario': 5000.0}]"
      ]
     },
     "execution_count": 8,
     "metadata": {},
     "output_type": "execute_result"
    }
   ],
   "source": [
    "conn = sqlite3.connect('enterprise.db')\n",
    "cursor = conn.cursor()\n",
    "\n",
    "query = \"\"\"\n",
    "            SELECT nome, cargo, salario \n",
    "            FROM empregados;\n",
    "        \"\"\"\n",
    "\n",
    "# lendo os dados\n",
    "cursor.execute(query)\n",
    "    \n",
    "employers = [{'nome':row[0], 'cargo':row[1], 'salario':row[2]} \n",
    "              for row in cursor.fetchall()]\n",
    "\n",
    "# fechar a conexão com o banco\n",
    "conn.close()\n",
    "\n",
    "employers"
   ]
  },
  {
   "cell_type": "code",
   "execution_count": 9,
   "metadata": {},
   "outputs": [],
   "source": [
    "def query_employers_to_dict(conn, query):\n",
    "    \n",
    "    # definindo um cursor\n",
    "    cursor = conn.cursor()\n",
    "    \n",
    "    # lendo os dados\n",
    "    cursor.execute(query)\n",
    "    \n",
    "    # construindo dicionário da consulta\n",
    "    employers_dict = [{'nome':row[0], 'cargo':row[1], 'salario':row[2]} \n",
    "                       for row in cursor.fetchall()]\n",
    "    \n",
    "    return employers_dict"
   ]
  },
  {
   "cell_type": "code",
   "execution_count": 10,
   "metadata": {},
   "outputs": [
    {
     "data": {
      "text/plain": [
       "[{'nome': 'Valentina', 'cargo': 'Analista', 'salario': 5000.0},\n",
       " {'nome': 'Enzo', 'cargo': 'Analista', 'salario': 4000.0}]"
      ]
     },
     "execution_count": 10,
     "metadata": {},
     "output_type": "execute_result"
    }
   ],
   "source": [
    "conn = sqlite3.connect('enterprise.db')\n",
    "\n",
    "cargo = 'Analista' # tentar com 'analista'\n",
    "\n",
    "query = \"\"\"\n",
    "            SELECT nome, cargo, salario \n",
    "            FROM empregados\n",
    "            WHERE \"cargo\" = \"{}\";\n",
    "        \"\"\".format(cargo)\n",
    "    \n",
    "employers = query_employers_to_dict(conn, query)\n",
    "\n",
    "# fechar a conexão com o banco\n",
    "conn.close()\n",
    "\n",
    "employers"
   ]
  },
  {
   "cell_type": "code",
   "execution_count": 11,
   "metadata": {},
   "outputs": [
    {
     "data": {
      "text/plain": [
       "[{'nome': 'Valentina', 'cargo': 'Analista', 'salario': 5000.0},\n",
       " {'nome': 'Enzo', 'cargo': 'Analista', 'salario': 4000.0}]"
      ]
     },
     "execution_count": 11,
     "metadata": {},
     "output_type": "execute_result"
    }
   ],
   "source": [
    "conn = sqlite3.connect('enterprise.db')\n",
    "\n",
    "cargo = 'Analista'\n",
    "\n",
    "query = \"\"\"\n",
    "            SELECT nome, cargo, salario\n",
    "            FROM empregados\n",
    "            WHERE \"cargo\" LIKE \"{}\";\n",
    "        \"\"\".format(cargo)\n",
    "\n",
    "employers = query_employers_to_dict(conn, query)\n",
    "\n",
    "# fechar a conexão com o banco\n",
    "conn.close()\n",
    "\n",
    "employers"
   ]
  },
  {
   "cell_type": "code",
   "execution_count": 12,
   "metadata": {},
   "outputs": [
    {
     "data": {
      "text/plain": [
       "[{'nome': 'Valentina', 'cargo': 'Analista', 'salario': 5000.0},\n",
       " {'nome': 'Maria', 'cargo': 'Desenvolvedor', 'salario': 5000.0}]"
      ]
     },
     "execution_count": 12,
     "metadata": {},
     "output_type": "execute_result"
    }
   ],
   "source": [
    "conn = sqlite3.connect('enterprise.db')\n",
    "\n",
    "info = 'salario'\n",
    "value = '5000'\n",
    "\n",
    "if value.isnumeric():\n",
    "    value = float(value)\n",
    "    \n",
    "# construir a consulta\n",
    "query = \"\"\"\n",
    "            SELECT nome, cargo, salario \n",
    "            FROM empregados\n",
    "            WHERE \"{}\" LIKE \"{}\";\n",
    "        \"\"\".format(info, value)\n",
    "    \n",
    "employers = query_employers_to_dict(conn, query)\n",
    "employers"
   ]
  },
  {
   "cell_type": "markdown",
   "metadata": {},
   "source": [
    "# 4. Adicionando dados no banco"
   ]
  },
  {
   "cell_type": "code",
   "execution_count": 23,
   "metadata": {},
   "outputs": [],
   "source": [
    "# acrescentar um novo empregado ao banco de dados\n",
    "nome = \"Gabriel\" \n",
    "cargo = \"Engenheiro\" \n",
    "salario = 6000\n",
    "\n",
    "# conectando ao banco de dados\n",
    "conn = sqlite3.connect('enterprise.db')\n",
    "# definindo um cursor\n",
    "cursor = conn.cursor()\n",
    "\n",
    "# inserindo o dado na tabela\n",
    "cursor.execute(\"\"\"\n",
    "                  INSERT INTO empregados (nome, cargo, salario)\n",
    "                  VALUES (\"{}\", \"{}\", \"{}\")\n",
    "               \"\"\".format(nome, cargo, salario))\n",
    "\n",
    "# salvando os dados no banco\n",
    "conn.commit()\n",
    "# fechar a conexão com o banco\n",
    "conn.close()"
   ]
  }
 ],
 "metadata": {
  "kernelspec": {
   "display_name": "Python 3",
   "language": "python",
   "name": "python3"
  },
  "language_info": {
   "codemirror_mode": {
    "name": "ipython",
    "version": 3
   },
   "file_extension": ".py",
   "mimetype": "text/x-python",
   "name": "python",
   "nbconvert_exporter": "python",
   "pygments_lexer": "ipython3",
   "version": "3.7.7"
  }
 },
 "nbformat": 4,
 "nbformat_minor": 4
}
