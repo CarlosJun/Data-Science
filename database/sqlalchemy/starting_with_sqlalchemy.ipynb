{
 "cells": [
  {
   "cell_type": "code",
   "execution_count": 1,
   "id": "abe209f5",
   "metadata": {},
   "outputs": [],
   "source": [
    "# pip install sqlalchemy\n",
    "# conda install sqlalchemy\n",
    "import sqlalchemy"
   ]
  },
  {
   "cell_type": "markdown",
   "id": "0da0c5cd",
   "metadata": {},
   "source": [
    "# Conectando ao banco de dados"
   ]
  },
  {
   "cell_type": "code",
   "execution_count": 2,
   "id": "25846797",
   "metadata": {},
   "outputs": [],
   "source": [
    "# criar a interface de conexão ao banco de dados\n",
    "engine = sqlalchemy.create_engine('sqlite:///:memory:', echo=True)"
   ]
  },
  {
   "cell_type": "code",
   "execution_count": 3,
   "id": "7e727fe9",
   "metadata": {},
   "outputs": [],
   "source": [
    "from sqlalchemy.orm import declarative_base\n",
    "\n",
    "Base = declarative_base()"
   ]
  },
  {
   "cell_type": "code",
   "execution_count": 4,
   "id": "08fa7b6e",
   "metadata": {},
   "outputs": [],
   "source": [
    "from sqlalchemy import Column, Integer, String"
   ]
  },
  {
   "cell_type": "code",
   "execution_count": 5,
   "id": "23793f9f",
   "metadata": {},
   "outputs": [],
   "source": [
    "class User(Base):\n",
    "    __tablename__ = 'users'\n",
    "\n",
    "    id = Column(Integer, primary_key=True)\n",
    "    name = Column(String(50))\n",
    "    fullname = Column(String(50))\n",
    "    nickname = Column(String(50))\n",
    "\n",
    "    def __repr__(self):\n",
    "        return \"<User(name='%s', fullname='%s', nickname='%s')>\" % (\n",
    "            self.name, self.fullname, self.nickname)"
   ]
  },
  {
   "cell_type": "code",
   "execution_count": 7,
   "id": "3ab2b2a3",
   "metadata": {},
   "outputs": [
    {
     "name": "stdout",
     "output_type": "stream",
     "text": [
      "2021-08-12 11:06:19,738 INFO sqlalchemy.engine.Engine BEGIN (implicit)\n",
      "2021-08-12 11:06:19,741 INFO sqlalchemy.engine.Engine PRAGMA main.table_info(\"users\")\n",
      "2021-08-12 11:06:19,746 INFO sqlalchemy.engine.Engine [raw sql] ()\n",
      "2021-08-12 11:06:19,747 INFO sqlalchemy.engine.Engine PRAGMA temp.table_info(\"users\")\n",
      "2021-08-12 11:06:19,747 INFO sqlalchemy.engine.Engine [raw sql] ()\n",
      "2021-08-12 11:06:19,749 INFO sqlalchemy.engine.Engine \n",
      "CREATE TABLE users (\n",
      "\tid INTEGER NOT NULL, \n",
      "\tname VARCHAR, \n",
      "\tfullname VARCHAR, \n",
      "\tnickname VARCHAR, \n",
      "\tPRIMARY KEY (id)\n",
      ")\n",
      "\n",
      "\n",
      "2021-08-12 11:06:19,751 INFO sqlalchemy.engine.Engine [no key 0.00154s] ()\n",
      "2021-08-12 11:06:19,752 INFO sqlalchemy.engine.Engine COMMIT\n"
     ]
    }
   ],
   "source": [
    "# criar a tabela no banco de dados\n",
    "Base.metadata.create_all(engine)"
   ]
  },
  {
   "cell_type": "code",
   "execution_count": null,
   "id": "44941d1d",
   "metadata": {},
   "outputs": [],
   "source": []
  }
 ],
 "metadata": {
  "kernelspec": {
   "display_name": "Python 3",
   "language": "python",
   "name": "python3"
  },
  "language_info": {
   "codemirror_mode": {
    "name": "ipython",
    "version": 3
   },
   "file_extension": ".py",
   "mimetype": "text/x-python",
   "name": "python",
   "nbconvert_exporter": "python",
   "pygments_lexer": "ipython3",
   "version": "3.7.10"
  }
 },
 "nbformat": 4,
 "nbformat_minor": 5
}
