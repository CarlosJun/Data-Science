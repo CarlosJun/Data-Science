{
 "cells": [
  {
   "cell_type": "code",
   "execution_count": 1,
   "metadata": {},
   "outputs": [],
   "source": [
    "# !pip install sqlalchemy\n",
    "# !conda install sqlalchemy -y\n",
    "\n",
    "import sqlalchemy"
   ]
  },
  {
   "cell_type": "code",
   "execution_count": 2,
   "metadata": {},
   "outputs": [
    {
     "data": {
      "text/plain": [
       "'1.4.22'"
      ]
     },
     "execution_count": 2,
     "metadata": {},
     "output_type": "execute_result"
    }
   ],
   "source": [
    "# verificar a versão\n",
    "sqlalchemy.__version__"
   ]
  },
  {
   "cell_type": "markdown",
   "metadata": {},
   "source": [
    "# Conectando ao banco de dados"
   ]
  },
  {
   "cell_type": "code",
   "execution_count": 3,
   "metadata": {},
   "outputs": [],
   "source": [
    "# criar a interface de conexão ao banco de dados\n",
    "# configurar o echo como True vai mostrar os códigos SQL gerados\n",
    "\n",
    "#engine = sqlalchemy.create_engine('sqlite:///:memory:', echo=True)\n",
    "\n",
    "engine = sqlalchemy.create_engine('sqlite:///enterprise.db', echo=True)"
   ]
  },
  {
   "cell_type": "markdown",
   "metadata": {},
   "source": [
    "# Declarando o mapeamento"
   ]
  },
  {
   "cell_type": "markdown",
   "metadata": {},
   "source": [
    "Na configuração inicial do ORM vamos iniciar descrevendo as tabelas que serão inseridas no banco, que nesse caso serão as nossas próprias classes"
   ]
  },
  {
   "cell_type": "code",
   "execution_count": 4,
   "metadata": {},
   "outputs": [],
   "source": [
    "from sqlalchemy.orm import declarative_base\n",
    "\n",
    "Base = declarative_base()"
   ]
  },
  {
   "cell_type": "code",
   "execution_count": 5,
   "metadata": {},
   "outputs": [],
   "source": [
    "from sqlalchemy import Column, Integer, String"
   ]
  },
  {
   "cell_type": "code",
   "execution_count": 6,
   "metadata": {},
   "outputs": [],
   "source": [
    "class User(Base):\n",
    "    \n",
    "    __tablename__ = 'users' # obrigatório\n",
    "\n",
    "    id = Column(Integer, primary_key=True) # obrigatório\n",
    "    name = Column(String(50))\n",
    "    fullname = Column(String(50))\n",
    "    age = Column(Integer)\n",
    "\n",
    "    def __repr__(self):\n",
    "        return \"<User(name='{}', fullname='{}', age={})>\".format(\n",
    "            self.name, self.fullname, self.age)"
   ]
  },
  {
   "cell_type": "markdown",
   "metadata": {},
   "source": [
    "# Criar a tabela no banco de dados"
   ]
  },
  {
   "cell_type": "code",
   "execution_count": 7,
   "metadata": {},
   "outputs": [
    {
     "name": "stdout",
     "output_type": "stream",
     "text": [
      "2021-10-13 16:26:45,850 INFO sqlalchemy.engine.Engine BEGIN (implicit)\n",
      "2021-10-13 16:26:45,851 INFO sqlalchemy.engine.Engine PRAGMA main.table_info(\"users\")\n",
      "2021-10-13 16:26:45,852 INFO sqlalchemy.engine.Engine [raw sql] ()\n",
      "2021-10-13 16:26:45,853 INFO sqlalchemy.engine.Engine PRAGMA temp.table_info(\"users\")\n",
      "2021-10-13 16:26:45,853 INFO sqlalchemy.engine.Engine [raw sql] ()\n",
      "2021-10-13 16:26:45,854 INFO sqlalchemy.engine.Engine \n",
      "CREATE TABLE users (\n",
      "\tid INTEGER NOT NULL, \n",
      "\tname VARCHAR(50), \n",
      "\tfullname VARCHAR(50), \n",
      "\tage INTEGER, \n",
      "\tPRIMARY KEY (id)\n",
      ")\n",
      "\n",
      "\n",
      "2021-10-13 16:26:45,855 INFO sqlalchemy.engine.Engine [no key 0.00040s] ()\n",
      "2021-10-13 16:26:45,859 INFO sqlalchemy.engine.Engine COMMIT\n"
     ]
    }
   ],
   "source": [
    "# criar a tabela no banco de dados\n",
    "Base.metadata.create_all(engine)"
   ]
  },
  {
   "cell_type": "markdown",
   "metadata": {},
   "source": [
    "# Criar uma instância da classe mapeada"
   ]
  },
  {
   "cell_type": "code",
   "execution_count": 8,
   "metadata": {},
   "outputs": [],
   "source": [
    "user = User(name='enzo', fullname='Francisco Enzo', age=20)"
   ]
  },
  {
   "cell_type": "code",
   "execution_count": 9,
   "metadata": {},
   "outputs": [
    {
     "data": {
      "text/plain": [
       "'enzo'"
      ]
     },
     "execution_count": 9,
     "metadata": {},
     "output_type": "execute_result"
    }
   ],
   "source": [
    "user.name"
   ]
  },
  {
   "cell_type": "code",
   "execution_count": 10,
   "metadata": {},
   "outputs": [
    {
     "data": {
      "text/plain": [
       "'Francisco Enzo'"
      ]
     },
     "execution_count": 10,
     "metadata": {},
     "output_type": "execute_result"
    }
   ],
   "source": [
    "user.fullname"
   ]
  },
  {
   "cell_type": "code",
   "execution_count": 11,
   "metadata": {},
   "outputs": [
    {
     "data": {
      "text/plain": [
       "'None'"
      ]
     },
     "execution_count": 11,
     "metadata": {},
     "output_type": "execute_result"
    }
   ],
   "source": [
    "str(user.id)"
   ]
  },
  {
   "cell_type": "markdown",
   "metadata": {},
   "source": [
    "# Criar uma sessão"
   ]
  },
  {
   "cell_type": "code",
   "execution_count": 12,
   "metadata": {},
   "outputs": [
    {
     "data": {
      "text/plain": [
       "sessionmaker(class_='Session', bind=Engine(sqlite:///enterprise.db), autoflush=True, autocommit=False, expire_on_commit=True)"
      ]
     },
     "execution_count": 12,
     "metadata": {},
     "output_type": "execute_result"
    }
   ],
   "source": [
    "from sqlalchemy.orm import sessionmaker\n",
    "\n",
    "# criando uma sessão e atribuindo a engine criada anteriormente\n",
    "Session = sessionmaker(bind=engine)\n",
    "Session"
   ]
  },
  {
   "cell_type": "code",
   "execution_count": 13,
   "metadata": {},
   "outputs": [],
   "source": [
    "# criar um objeto da sessão\n",
    "session = Session()"
   ]
  },
  {
   "cell_type": "markdown",
   "metadata": {},
   "source": [
    "# Adicionar objetos (INSERT)"
   ]
  },
  {
   "cell_type": "code",
   "execution_count": 14,
   "metadata": {},
   "outputs": [],
   "source": [
    "# persistindo o objeto criado na sessão\n",
    "session.add(user)"
   ]
  },
  {
   "cell_type": "markdown",
   "metadata": {},
   "source": [
    "Até agora, dizemos que a instância está pendente; nenhum SQL ainda foi criado e o objeto ainda não foi representado por uma linha no banco de dados. A sessão só enviará o SQL para persistir o usuário assim que for necessário, usando um processo conhecido como **flush**."
   ]
  },
  {
   "cell_type": "code",
   "execution_count": 15,
   "metadata": {},
   "outputs": [
    {
     "name": "stdout",
     "output_type": "stream",
     "text": [
      "2021-10-13 16:26:52,107 INFO sqlalchemy.engine.Engine BEGIN (implicit)\n",
      "2021-10-13 16:26:52,109 INFO sqlalchemy.engine.Engine INSERT INTO users (name, fullname, age) VALUES (?, ?, ?)\n",
      "2021-10-13 16:26:52,110 INFO sqlalchemy.engine.Engine [generated in 0.00063s] ('enzo', 'Francisco Enzo', 20)\n",
      "2021-10-13 16:26:52,111 INFO sqlalchemy.engine.Engine COMMIT\n"
     ]
    }
   ],
   "source": [
    "# confirmar as mudanças\n",
    "session.commit()"
   ]
  },
  {
   "cell_type": "code",
   "execution_count": 16,
   "metadata": {},
   "outputs": [],
   "source": [
    "# criar e adicionar diversos objetos na nossa sessão\n",
    "session.add_all([\n",
    "    User(name='valentina', fullname='Maria Valentina', age=23),\n",
    "    User(name='pedro', fullname='João Pedro', age=20)])"
   ]
  },
  {
   "cell_type": "code",
   "execution_count": 17,
   "metadata": {},
   "outputs": [
    {
     "data": {
      "text/plain": [
       "IdentitySet([<User(name='valentina', fullname='Maria Valentina', age=23)>, <User(name='pedro', fullname='João Pedro', age=20)>])"
      ]
     },
     "execution_count": 17,
     "metadata": {},
     "output_type": "execute_result"
    }
   ],
   "source": [
    "# verificar as novas mudanças pendentes\n",
    "session.new"
   ]
  },
  {
   "cell_type": "code",
   "execution_count": 18,
   "metadata": {},
   "outputs": [
    {
     "name": "stdout",
     "output_type": "stream",
     "text": [
      "2021-10-13 16:27:01,512 INFO sqlalchemy.engine.Engine BEGIN (implicit)\n",
      "2021-10-13 16:27:01,513 INFO sqlalchemy.engine.Engine INSERT INTO users (name, fullname, age) VALUES (?, ?, ?)\n",
      "2021-10-13 16:27:01,513 INFO sqlalchemy.engine.Engine [cached since 9.404s ago] ('valentina', 'Maria Valentina', 23)\n",
      "2021-10-13 16:27:01,514 INFO sqlalchemy.engine.Engine INSERT INTO users (name, fullname, age) VALUES (?, ?, ?)\n",
      "2021-10-13 16:27:01,514 INFO sqlalchemy.engine.Engine [cached since 9.405s ago] ('pedro', 'João Pedro', 20)\n",
      "2021-10-13 16:27:01,515 INFO sqlalchemy.engine.Engine COMMIT\n"
     ]
    }
   ],
   "source": [
    "# confirmar as mudanças\n",
    "session.commit()"
   ]
  },
  {
   "cell_type": "markdown",
   "metadata": {},
   "source": [
    "# Consultar objetos (SELECT)"
   ]
  },
  {
   "cell_type": "code",
   "execution_count": 19,
   "metadata": {},
   "outputs": [
    {
     "name": "stdout",
     "output_type": "stream",
     "text": [
      "2021-10-13 16:27:02,912 INFO sqlalchemy.engine.Engine BEGIN (implicit)\n",
      "2021-10-13 16:27:02,915 INFO sqlalchemy.engine.Engine SELECT users.id AS users_id, users.name AS users_name, users.fullname AS users_fullname, users.age AS users_age \n",
      "FROM users \n",
      "WHERE users.name = ?\n",
      " LIMIT ? OFFSET ?\n",
      "2021-10-13 16:27:02,915 INFO sqlalchemy.engine.Engine [generated in 0.00061s] ('enzo', 1, 0)\n"
     ]
    }
   ],
   "source": [
    "# consultar por dados\n",
    "query_user = session.query(User).filter_by(name='enzo').first()"
   ]
  },
  {
   "cell_type": "code",
   "execution_count": 20,
   "metadata": {},
   "outputs": [
    {
     "data": {
      "text/plain": [
       "'enzo'"
      ]
     },
     "execution_count": 20,
     "metadata": {},
     "output_type": "execute_result"
    }
   ],
   "source": [
    "query_user.name"
   ]
  },
  {
   "cell_type": "code",
   "execution_count": 21,
   "metadata": {},
   "outputs": [
    {
     "data": {
      "text/plain": [
       "20"
      ]
     },
     "execution_count": 21,
     "metadata": {},
     "output_type": "execute_result"
    }
   ],
   "source": [
    "query_user.age"
   ]
  },
  {
   "cell_type": "code",
   "execution_count": 22,
   "metadata": {},
   "outputs": [
    {
     "name": "stdout",
     "output_type": "stream",
     "text": [
      "2021-10-13 16:27:16,560 INFO sqlalchemy.engine.Engine SELECT users.id AS users_id, users.name AS users_name, users.fullname AS users_fullname, users.age AS users_age \n",
      "FROM users ORDER BY users.id\n",
      "2021-10-13 16:27:16,560 INFO sqlalchemy.engine.Engine [generated in 0.00044s] ()\n",
      "enzo Francisco Enzo\n",
      "valentina Maria Valentina\n",
      "pedro João Pedro\n"
     ]
    }
   ],
   "source": [
    "# selecionar todos os usuários ordenados pelo o id\n",
    "for instance in session.query(User).order_by(User.id):\n",
    "    print(instance.name, instance.fullname)"
   ]
  },
  {
   "cell_type": "code",
   "execution_count": 23,
   "metadata": {},
   "outputs": [
    {
     "name": "stdout",
     "output_type": "stream",
     "text": [
      "2021-10-13 16:27:23,699 INFO sqlalchemy.engine.Engine SELECT users.name AS users_name, users.age AS users_age \n",
      "FROM users \n",
      "WHERE users.name = ?\n",
      "2021-10-13 16:27:23,700 INFO sqlalchemy.engine.Engine [generated in 0.00077s] ('enzo',)\n",
      "('enzo', 20)\n"
     ]
    }
   ],
   "source": [
    "# filtrar por um atributo\n",
    "for name in session.query(User.name, User.age).filter_by(name='enzo'):\n",
    "    print(name)"
   ]
  },
  {
   "cell_type": "markdown",
   "metadata": {},
   "source": [
    "# Modificar objetos (UPDATE)"
   ]
  },
  {
   "cell_type": "code",
   "execution_count": 24,
   "metadata": {},
   "outputs": [
    {
     "data": {
      "text/plain": [
       "'Francisco Enzo'"
      ]
     },
     "execution_count": 24,
     "metadata": {},
     "output_type": "execute_result"
    }
   ],
   "source": [
    "user.fullname"
   ]
  },
  {
   "cell_type": "code",
   "execution_count": 25,
   "metadata": {},
   "outputs": [],
   "source": [
    "# mudar os dados do nosso objeto já criado (UPDATE)\n",
    "user.fullname = 'Francisco Enzo Souza'"
   ]
  },
  {
   "cell_type": "code",
   "execution_count": 26,
   "metadata": {},
   "outputs": [
    {
     "data": {
      "text/plain": [
       "IdentitySet([<User(name='enzo', fullname='Francisco Enzo Souza', age=20)>])"
      ]
     },
     "execution_count": 26,
     "metadata": {},
     "output_type": "execute_result"
    }
   ],
   "source": [
    "# verificar o cache de mudanças\n",
    "session.dirty"
   ]
  },
  {
   "cell_type": "code",
   "execution_count": 27,
   "metadata": {},
   "outputs": [
    {
     "name": "stdout",
     "output_type": "stream",
     "text": [
      "2021-10-13 16:27:37,615 INFO sqlalchemy.engine.Engine UPDATE users SET fullname=? WHERE users.id = ?\n",
      "2021-10-13 16:27:37,616 INFO sqlalchemy.engine.Engine [generated in 0.00162s] ('Francisco Enzo Souza', 1)\n",
      "2021-10-13 16:27:37,617 INFO sqlalchemy.engine.Engine COMMIT\n"
     ]
    }
   ],
   "source": [
    "# confirmar as mudanças\n",
    "session.commit()"
   ]
  },
  {
   "cell_type": "markdown",
   "metadata": {},
   "source": [
    "# Deletar objetos (DELETE)"
   ]
  },
  {
   "cell_type": "code",
   "execution_count": 28,
   "metadata": {},
   "outputs": [
    {
     "name": "stdout",
     "output_type": "stream",
     "text": [
      "2021-10-13 16:27:48,651 INFO sqlalchemy.engine.Engine BEGIN (implicit)\n",
      "2021-10-13 16:27:48,652 INFO sqlalchemy.engine.Engine SELECT users.id AS users_id, users.name AS users_name, users.fullname AS users_fullname, users.age AS users_age \n",
      "FROM users \n",
      "WHERE users.name = ?\n",
      " LIMIT ? OFFSET ?\n",
      "2021-10-13 16:27:48,653 INFO sqlalchemy.engine.Engine [cached since 45.74s ago] ('valentina', 1, 0)\n"
     ]
    }
   ],
   "source": [
    "user = session.query(User).filter_by(name='valentina').first()"
   ]
  },
  {
   "cell_type": "code",
   "execution_count": 29,
   "metadata": {},
   "outputs": [
    {
     "data": {
      "text/plain": [
       "<User(name='valentina', fullname='Maria Valentina', age=23)>"
      ]
     },
     "execution_count": 29,
     "metadata": {},
     "output_type": "execute_result"
    }
   ],
   "source": [
    "user"
   ]
  },
  {
   "cell_type": "code",
   "execution_count": 30,
   "metadata": {},
   "outputs": [],
   "source": [
    "# deletar um usuário\n",
    "session.delete(user)"
   ]
  },
  {
   "cell_type": "code",
   "execution_count": 31,
   "metadata": {},
   "outputs": [
    {
     "name": "stdout",
     "output_type": "stream",
     "text": [
      "2021-10-13 16:27:53,664 INFO sqlalchemy.engine.Engine DELETE FROM users WHERE users.id = ?\n",
      "2021-10-13 16:27:53,664 INFO sqlalchemy.engine.Engine [generated in 0.00076s] (2,)\n",
      "2021-10-13 16:27:53,665 INFO sqlalchemy.engine.Engine COMMIT\n"
     ]
    }
   ],
   "source": [
    "# confirmar as mudanças\n",
    "session.commit()"
   ]
  },
  {
   "cell_type": "code",
   "execution_count": 32,
   "metadata": {},
   "outputs": [
    {
     "name": "stdout",
     "output_type": "stream",
     "text": [
      "2021-10-13 16:27:58,118 INFO sqlalchemy.engine.Engine BEGIN (implicit)\n",
      "2021-10-13 16:27:58,122 INFO sqlalchemy.engine.Engine SELECT count(*) AS count_1 \n",
      "FROM (SELECT users.id AS users_id, users.name AS users_name, users.fullname AS users_fullname, users.age AS users_age \n",
      "FROM users \n",
      "WHERE users.name = ?) AS anon_1\n",
      "2021-10-13 16:27:58,123 INFO sqlalchemy.engine.Engine [generated in 0.00062s] ('valentina',)\n"
     ]
    },
    {
     "data": {
      "text/plain": [
       "0"
      ]
     },
     "execution_count": 32,
     "metadata": {},
     "output_type": "execute_result"
    }
   ],
   "source": [
    "# consultar por informações refentes ao usuário deletado\n",
    "session.query(User).filter_by(name='valentina').count()"
   ]
  },
  {
   "cell_type": "markdown",
   "metadata": {},
   "source": [
    "Você pode consultar mais operações usando o SQLAlchemy na documentação da biblioteca: https://docs.sqlalchemy.org/en/14/orm/tutorial.html"
   ]
  },
  {
   "cell_type": "markdown",
   "metadata": {},
   "source": [
    "Próximas etapa: \n",
    "- aprender a construir relações entre objetos;\n",
    "- adicionar informações em tabelas pré-existentes;\n",
    "- configurar as operações em cascata."
   ]
  }
 ],
 "metadata": {
  "kernelspec": {
   "display_name": "Python 3",
   "language": "python",
   "name": "python3"
  },
  "language_info": {
   "codemirror_mode": {
    "name": "ipython",
    "version": 3
   },
   "file_extension": ".py",
   "mimetype": "text/x-python",
   "name": "python",
   "nbconvert_exporter": "python",
   "pygments_lexer": "ipython3",
   "version": "3.7.7"
  }
 },
 "nbformat": 4,
 "nbformat_minor": 5
}
