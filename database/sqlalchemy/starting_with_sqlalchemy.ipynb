{
 "cells": [
  {
   "cell_type": "code",
   "execution_count": 1,
   "id": "abe209f5",
   "metadata": {},
   "outputs": [],
   "source": [
    "# pip install sqlalchemy\n",
    "# conda install sqlalchemy\n",
    "import sqlalchemy"
   ]
  },
  {
   "cell_type": "code",
   "execution_count": 2,
   "id": "7c048cff",
   "metadata": {},
   "outputs": [
    {
     "data": {
      "text/plain": [
       "'1.4.22'"
      ]
     },
     "execution_count": 2,
     "metadata": {},
     "output_type": "execute_result"
    }
   ],
   "source": [
    "# verificar a versão\n",
    "sqlalchemy.__version__"
   ]
  },
  {
   "cell_type": "markdown",
   "id": "0da0c5cd",
   "metadata": {},
   "source": [
    "# Conectando ao banco de dados"
   ]
  },
  {
   "cell_type": "code",
   "execution_count": 3,
   "id": "25846797",
   "metadata": {},
   "outputs": [],
   "source": [
    "# criar a interface de conexão ao banco de dados\n",
    "# configurar o echo como True vai mostrar os códigos SQL gerados\n",
    "engine = sqlalchemy.create_engine('sqlite:///:memory:', echo=True)"
   ]
  },
  {
   "cell_type": "markdown",
   "id": "1561b18c",
   "metadata": {},
   "source": [
    "# Declarando o mapeamento"
   ]
  },
  {
   "cell_type": "code",
   "execution_count": 4,
   "id": "7e727fe9",
   "metadata": {},
   "outputs": [],
   "source": [
    "from sqlalchemy.orm import declarative_base\n",
    "\n",
    "Base = declarative_base()"
   ]
  },
  {
   "cell_type": "code",
   "execution_count": 5,
   "id": "08fa7b6e",
   "metadata": {},
   "outputs": [],
   "source": [
    "from sqlalchemy import Column, Integer, String"
   ]
  },
  {
   "cell_type": "code",
   "execution_count": 6,
   "id": "23793f9f",
   "metadata": {},
   "outputs": [],
   "source": [
    "class User(Base):\n",
    "    __tablename__ = 'users' # obrigatório\n",
    "\n",
    "    id = Column(Integer, primary_key=True) # obrigatório\n",
    "    name = Column(String(50))\n",
    "    fullname = Column(String(50))\n",
    "    nickname = Column(String(50))\n",
    "\n",
    "    def __repr__(self):\n",
    "        return \"<User(name='%s', fullname='%s', nickname='%s')>\" % (\n",
    "            self.name, self.fullname, self.nickname)"
   ]
  },
  {
   "cell_type": "markdown",
   "id": "be39bb27",
   "metadata": {},
   "source": [
    "# Criar a tabela no banco de dados"
   ]
  },
  {
   "cell_type": "code",
   "execution_count": 7,
   "id": "3ab2b2a3",
   "metadata": {},
   "outputs": [
    {
     "name": "stdout",
     "output_type": "stream",
     "text": [
      "2021-10-13 12:01:05,169 INFO sqlalchemy.engine.Engine BEGIN (implicit)\n",
      "2021-10-13 12:01:05,173 INFO sqlalchemy.engine.Engine PRAGMA main.table_info(\"users\")\n",
      "2021-10-13 12:01:05,176 INFO sqlalchemy.engine.Engine [raw sql] ()\n",
      "2021-10-13 12:01:05,178 INFO sqlalchemy.engine.Engine PRAGMA temp.table_info(\"users\")\n",
      "2021-10-13 12:01:05,180 INFO sqlalchemy.engine.Engine [raw sql] ()\n",
      "2021-10-13 12:01:05,181 INFO sqlalchemy.engine.Engine \n",
      "CREATE TABLE users (\n",
      "\tid INTEGER NOT NULL, \n",
      "\tname VARCHAR(50), \n",
      "\tfullname VARCHAR(50), \n",
      "\tnickname VARCHAR(50), \n",
      "\tPRIMARY KEY (id)\n",
      ")\n",
      "\n",
      "\n",
      "2021-10-13 12:01:05,182 INFO sqlalchemy.engine.Engine [no key 0.00153s] ()\n",
      "2021-10-13 12:01:05,183 INFO sqlalchemy.engine.Engine COMMIT\n"
     ]
    }
   ],
   "source": [
    "# criar a tabela no banco de dados\n",
    "Base.metadata.create_all(engine)"
   ]
  },
  {
   "cell_type": "markdown",
   "id": "9f0083bc",
   "metadata": {},
   "source": [
    "# Criar as instâncias da classe mapeada"
   ]
  },
  {
   "cell_type": "code",
   "execution_count": 8,
   "id": "ac6b9b01",
   "metadata": {},
   "outputs": [],
   "source": [
    "ed_user = User(name='ed', fullname='Ed Jones', nickname='edsnickname')"
   ]
  },
  {
   "cell_type": "code",
   "execution_count": 9,
   "id": "f843f16a",
   "metadata": {},
   "outputs": [
    {
     "data": {
      "text/plain": [
       "'ed'"
      ]
     },
     "execution_count": 9,
     "metadata": {},
     "output_type": "execute_result"
    }
   ],
   "source": [
    "ed_user.name"
   ]
  },
  {
   "cell_type": "code",
   "execution_count": 10,
   "id": "dc64afd9",
   "metadata": {},
   "outputs": [
    {
     "data": {
      "text/plain": [
       "'Ed Jones'"
      ]
     },
     "execution_count": 10,
     "metadata": {},
     "output_type": "execute_result"
    }
   ],
   "source": [
    "ed_user.fullname"
   ]
  },
  {
   "cell_type": "code",
   "execution_count": 11,
   "id": "cca729d0",
   "metadata": {},
   "outputs": [
    {
     "data": {
      "text/plain": [
       "'None'"
      ]
     },
     "execution_count": 11,
     "metadata": {},
     "output_type": "execute_result"
    }
   ],
   "source": [
    "str(ed_user.id)"
   ]
  },
  {
   "cell_type": "markdown",
   "id": "3ba905d9",
   "metadata": {},
   "source": [
    "# Criar uma sessão"
   ]
  },
  {
   "cell_type": "code",
   "execution_count": 12,
   "id": "336b3981",
   "metadata": {},
   "outputs": [],
   "source": [
    "from sqlalchemy.orm import sessionmaker\n",
    "\n",
    "# criando uma sessão e atribuindo a engine criad anteriormente\n",
    "Session = sessionmaker(bind=engine)"
   ]
  },
  {
   "cell_type": "code",
   "execution_count": 13,
   "id": "cea2fc24",
   "metadata": {},
   "outputs": [],
   "source": [
    "# criar um objeto da sessão\n",
    "session = Session()"
   ]
  },
  {
   "cell_type": "markdown",
   "id": "3d61cd32",
   "metadata": {},
   "source": [
    "# Adicionar objetos (INSERT)"
   ]
  },
  {
   "cell_type": "code",
   "execution_count": 14,
   "id": "2200e86b",
   "metadata": {},
   "outputs": [],
   "source": [
    "# persistindo o objeto criado na sessão\n",
    "session.add(ed_user)"
   ]
  },
  {
   "cell_type": "markdown",
   "id": "2c28b502",
   "metadata": {},
   "source": [
    "Até agora, dizemos que a instância está pendente; nenhum SQL ainda foi criado e o objeto ainda não foi representado por uma linha no banco de dados. A sessão só enviará o SQL para persistir o usuário assim que for necessário, usando um processo conhecido como **flush**. Se consultarmos no banco de dados por pelo o usuário criado, todas as informações pendentes serão liberadas primeiro e a consulta será emitida imediatamente."
   ]
  },
  {
   "cell_type": "code",
   "execution_count": 15,
   "id": "4eb4c589",
   "metadata": {},
   "outputs": [
    {
     "name": "stdout",
     "output_type": "stream",
     "text": [
      "2021-10-13 12:01:05,947 INFO sqlalchemy.engine.Engine BEGIN (implicit)\n",
      "2021-10-13 12:01:05,949 INFO sqlalchemy.engine.Engine INSERT INTO users (name, fullname, nickname) VALUES (?, ?, ?)\n",
      "2021-10-13 12:01:05,949 INFO sqlalchemy.engine.Engine [generated in 0.00059s] ('ed', 'Ed Jones', 'edsnickname')\n",
      "2021-10-13 12:01:05,953 INFO sqlalchemy.engine.Engine SELECT users.id AS users_id, users.name AS users_name, users.fullname AS users_fullname, users.nickname AS users_nickname \n",
      "FROM users \n",
      "WHERE users.name = ?\n",
      " LIMIT ? OFFSET ?\n",
      "2021-10-13 12:01:05,953 INFO sqlalchemy.engine.Engine [generated in 0.00062s] ('ed', 1, 0)\n"
     ]
    }
   ],
   "source": [
    "# consultar por dados\n",
    "our_user = session.query(User).filter_by(name='ed').first()"
   ]
  },
  {
   "cell_type": "code",
   "execution_count": 16,
   "id": "163bd7f9",
   "metadata": {},
   "outputs": [
    {
     "data": {
      "text/plain": [
       "<User(name='ed', fullname='Ed Jones', nickname='edsnickname')>"
      ]
     },
     "execution_count": 16,
     "metadata": {},
     "output_type": "execute_result"
    }
   ],
   "source": [
    "our_user"
   ]
  },
  {
   "cell_type": "code",
   "execution_count": 17,
   "id": "067348c6",
   "metadata": {},
   "outputs": [
    {
     "data": {
      "text/plain": [
       "'ed'"
      ]
     },
     "execution_count": 17,
     "metadata": {},
     "output_type": "execute_result"
    }
   ],
   "source": [
    "our_user.name"
   ]
  },
  {
   "cell_type": "code",
   "execution_count": 18,
   "id": "5f4fe7d6",
   "metadata": {},
   "outputs": [],
   "source": [
    "# criar e adicionar diversos objetos na nossa sessão\n",
    "session.add_all([\n",
    "    User(name='wendy', fullname='Wendy Williams', nickname='windy'),\n",
    "    User(name='mary', fullname='Mary Contrary', nickname='mary')])"
   ]
  },
  {
   "cell_type": "code",
   "execution_count": 19,
   "id": "724fcb13",
   "metadata": {},
   "outputs": [
    {
     "data": {
      "text/plain": [
       "IdentitySet([<User(name='wendy', fullname='Wendy Williams', nickname='windy')>, <User(name='mary', fullname='Mary Contrary', nickname='mary')>])"
      ]
     },
     "execution_count": 19,
     "metadata": {},
     "output_type": "execute_result"
    }
   ],
   "source": [
    "# verificar as novas mudanças pendentes\n",
    "session.new"
   ]
  },
  {
   "cell_type": "markdown",
   "id": "0489bc7d",
   "metadata": {},
   "source": [
    "# Modificar objetos (UPDATE)"
   ]
  },
  {
   "cell_type": "code",
   "execution_count": 20,
   "id": "62eeb415",
   "metadata": {},
   "outputs": [],
   "source": [
    "# mudar os dados do nosso objeto já criado (UPDATE)\n",
    "ed_user.nickname = 'eddie'"
   ]
  },
  {
   "cell_type": "code",
   "execution_count": 21,
   "id": "174f6b2a",
   "metadata": {},
   "outputs": [
    {
     "data": {
      "text/plain": [
       "IdentitySet([<User(name='ed', fullname='Ed Jones', nickname='eddie')>])"
      ]
     },
     "execution_count": 21,
     "metadata": {},
     "output_type": "execute_result"
    }
   ],
   "source": [
    "# verificar cache de mudanças\n",
    "session.dirty"
   ]
  },
  {
   "cell_type": "code",
   "execution_count": 22,
   "id": "6a9d2f22",
   "metadata": {},
   "outputs": [
    {
     "data": {
      "text/plain": [
       "IdentitySet([<User(name='wendy', fullname='Wendy Williams', nickname='windy')>, <User(name='mary', fullname='Mary Contrary', nickname='mary')>])"
      ]
     },
     "execution_count": 22,
     "metadata": {},
     "output_type": "execute_result"
    }
   ],
   "source": [
    "# verificar as novas mudanças\n",
    "session.new"
   ]
  },
  {
   "cell_type": "code",
   "execution_count": 23,
   "id": "450e8e68",
   "metadata": {},
   "outputs": [
    {
     "name": "stdout",
     "output_type": "stream",
     "text": [
      "2021-10-13 12:02:06,378 INFO sqlalchemy.engine.Engine UPDATE users SET nickname=? WHERE users.id = ?\n",
      "2021-10-13 12:02:06,379 INFO sqlalchemy.engine.Engine [generated in 0.00111s] ('eddie', 1)\n",
      "2021-10-13 12:02:06,380 INFO sqlalchemy.engine.Engine INSERT INTO users (name, fullname, nickname) VALUES (?, ?, ?)\n",
      "2021-10-13 12:02:06,380 INFO sqlalchemy.engine.Engine [cached since 60.43s ago] ('wendy', 'Wendy Williams', 'windy')\n",
      "2021-10-13 12:02:06,381 INFO sqlalchemy.engine.Engine INSERT INTO users (name, fullname, nickname) VALUES (?, ?, ?)\n",
      "2021-10-13 12:02:06,381 INFO sqlalchemy.engine.Engine [cached since 60.43s ago] ('mary', 'Mary Contrary', 'mary')\n",
      "2021-10-13 12:02:06,382 INFO sqlalchemy.engine.Engine COMMIT\n"
     ]
    }
   ],
   "source": [
    "# confirmar as mudanças\n",
    "session.commit()"
   ]
  },
  {
   "cell_type": "markdown",
   "id": "c7884660",
   "metadata": {},
   "source": [
    "# Consultar objetos (SELECT)"
   ]
  },
  {
   "cell_type": "code",
   "execution_count": 26,
   "id": "f8fc8be3",
   "metadata": {},
   "outputs": [
    {
     "name": "stdout",
     "output_type": "stream",
     "text": [
      "2021-10-13 12:06:12,050 INFO sqlalchemy.engine.Engine SELECT users.id AS users_id, users.name AS users_name, users.fullname AS users_fullname, users.nickname AS users_nickname \n",
      "FROM users ORDER BY users.id\n",
      "2021-10-13 12:06:12,054 INFO sqlalchemy.engine.Engine [cached since 55.04s ago] ()\n",
      "ed Ed Jones\n",
      "wendy Wendy Williams\n",
      "mary Mary Contrary\n"
     ]
    }
   ],
   "source": [
    "# selecionar todos os usuários ordenados pelo o id\n",
    "for instance in session.query(User).order_by(User.id):\n",
    "    print(instance.name, instance.fullname)"
   ]
  },
  {
   "cell_type": "code",
   "execution_count": 27,
   "id": "c1652b9a",
   "metadata": {},
   "outputs": [
    {
     "name": "stdout",
     "output_type": "stream",
     "text": [
      "2021-10-13 12:07:13,032 INFO sqlalchemy.engine.Engine SELECT users.name AS users_name, users.fullname AS users_fullname \n",
      "FROM users\n",
      "2021-10-13 12:07:13,033 INFO sqlalchemy.engine.Engine [generated in 0.00109s] ()\n",
      "ed Ed Jones\n",
      "wendy Wendy Williams\n",
      "mary Mary Contrary\n"
     ]
    }
   ],
   "source": [
    "# selecionar colunas específicas\n",
    "for name, fullname in session.query(User.name, User.fullname):\n",
    "    print(name, fullname)"
   ]
  },
  {
   "cell_type": "code",
   "execution_count": 31,
   "id": "980da3f3",
   "metadata": {},
   "outputs": [
    {
     "name": "stdout",
     "output_type": "stream",
     "text": [
      "2021-10-13 12:09:17,119 INFO sqlalchemy.engine.Engine SELECT users.name AS users_name \n",
      "FROM users \n",
      "WHERE users.fullname = ?\n",
      "2021-10-13 12:09:17,120 INFO sqlalchemy.engine.Engine [cached since 29.15s ago] ('Ed Jones',)\n",
      "('ed',)\n"
     ]
    }
   ],
   "source": [
    "# filtrar por um atributo\n",
    "for name in session.query(User.name).filter_by(fullname='Ed Jones'):\n",
    "    print(name)"
   ]
  },
  {
   "cell_type": "markdown",
   "id": "642f7dc0",
   "metadata": {},
   "source": [
    "# Deletar objetos (DELETE)"
   ]
  },
  {
   "cell_type": "code",
   "execution_count": 43,
   "id": "6440a545",
   "metadata": {},
   "outputs": [
    {
     "name": "stdout",
     "output_type": "stream",
     "text": [
      "2021-10-13 12:20:46,235 INFO sqlalchemy.engine.Engine SELECT users.id AS users_id, users.name AS users_name, users.fullname AS users_fullname, users.nickname AS users_nickname \n",
      "FROM users \n",
      "WHERE users.name = ?\n",
      " LIMIT ? OFFSET ?\n",
      "2021-10-13 12:20:46,236 INFO sqlalchemy.engine.Engine [cached since 1180s ago] ('wendy', 1, 0)\n"
     ]
    }
   ],
   "source": [
    "user = session.query(User).filter_by(name='wendy').first()"
   ]
  },
  {
   "cell_type": "code",
   "execution_count": 44,
   "id": "b74c9532",
   "metadata": {},
   "outputs": [
    {
     "data": {
      "text/plain": [
       "<User(name='wendy', fullname='Wendy Williams', nickname='windy')>"
      ]
     },
     "execution_count": 44,
     "metadata": {},
     "output_type": "execute_result"
    }
   ],
   "source": [
    "user"
   ]
  },
  {
   "cell_type": "code",
   "execution_count": 45,
   "id": "ad9cb56e",
   "metadata": {},
   "outputs": [],
   "source": [
    "# deletar um usuário\n",
    "session.delete(user)"
   ]
  },
  {
   "cell_type": "code",
   "execution_count": 46,
   "id": "844fbe99",
   "metadata": {},
   "outputs": [
    {
     "name": "stdout",
     "output_type": "stream",
     "text": [
      "2021-10-13 12:21:14,059 INFO sqlalchemy.engine.Engine DELETE FROM users WHERE users.id = ?\n",
      "2021-10-13 12:21:14,060 INFO sqlalchemy.engine.Engine [cached since 334.4s ago] (2,)\n",
      "2021-10-13 12:21:14,061 INFO sqlalchemy.engine.Engine COMMIT\n"
     ]
    }
   ],
   "source": [
    "# confirmar as mudanças\n",
    "session.commit()"
   ]
  },
  {
   "cell_type": "code",
   "execution_count": 47,
   "id": "3951906f",
   "metadata": {},
   "outputs": [
    {
     "name": "stdout",
     "output_type": "stream",
     "text": [
      "2021-10-13 12:21:21,104 INFO sqlalchemy.engine.Engine BEGIN (implicit)\n",
      "2021-10-13 12:21:21,105 INFO sqlalchemy.engine.Engine SELECT count(*) AS count_1 \n",
      "FROM (SELECT users.id AS users_id, users.name AS users_name, users.fullname AS users_fullname, users.nickname AS users_nickname \n",
      "FROM users \n",
      "WHERE users.name = ?) AS anon_1\n",
      "2021-10-13 12:21:21,106 INFO sqlalchemy.engine.Engine [cached since 341.5s ago] ('wendy',)\n"
     ]
    },
    {
     "data": {
      "text/plain": [
       "0"
      ]
     },
     "execution_count": 47,
     "metadata": {},
     "output_type": "execute_result"
    }
   ],
   "source": [
    "# consultar por informações refentes ao usuário deletado\n",
    "session.query(User).filter_by(name='wendy').count()"
   ]
  },
  {
   "cell_type": "markdown",
   "id": "6362c9ef",
   "metadata": {},
   "source": [
    "Você pode consultar mais operações usando o SQLAlchemy na documentação da biblioteca: https://docs.sqlalchemy.org/en/14/orm/tutorial.html"
   ]
  },
  {
   "cell_type": "markdown",
   "id": "fec542c9",
   "metadata": {},
   "source": [
    "Próximas etapa: \n",
    "- aprender a construir relações entre objetos;\n",
    "- adicionar informações em tabelas pré-existentes;\n",
    "- configurar as operações em cascata."
   ]
  }
 ],
 "metadata": {
  "kernelspec": {
   "display_name": "Python 3",
   "language": "python",
   "name": "python3"
  },
  "language_info": {
   "codemirror_mode": {
    "name": "ipython",
    "version": 3
   },
   "file_extension": ".py",
   "mimetype": "text/x-python",
   "name": "python",
   "nbconvert_exporter": "python",
   "pygments_lexer": "ipython3",
   "version": "3.7.10"
  }
 },
 "nbformat": 4,
 "nbformat_minor": 5
}
