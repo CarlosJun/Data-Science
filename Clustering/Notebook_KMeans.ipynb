{
 "cells": [
  {
   "cell_type": "markdown",
   "metadata": {},
   "source": [
    "# <p style=\"text-align: center;\">Clusterização e algoritmo K-means</p> \n",
    "\n",
    "Organizar dados em agrupamentos é um dos modos mais fundamentais de compreensão e aprendizado. Como por exemplo, os organismos em um sistema biologico são classificados em domínio, reino, filo, classe, etc. A análise de agrupamento é o estudo formal de métodos e algoritmos para agrupar objetos de acordo com medidas ou características semelhantes. A análise de cluster, em sua essência, não utiliza rótulos de categoria que marcam objetos com identificadores anteriores, ou seja, rótulos de classe. A ausência de informação de categoria distingue o agrupamento de dados (aprendizagem não supervisionada) da classificação ou análise discriminante (aprendizagem supervisionada). O objetivo da clusterização é encontrar estruturas em dados e, portanto, é de natureza exploratória. \n",
    "\n",
    "A técnica de Clustering tem uma longa e rica história em uma variedade de campos científicos. Um dos algoritmos de clusterização mais populares e simples, o K-means, foi publicado pela primeira vez em 1955. Apesar do K-means ter sido proposto há mais de 50 anos e milhares de algoritmos de clustering terem sido publicados desde então, o K-means é ainda amplamente utilizado.\n",
    "\n",
    "Fonte: Anil K. Jain, Data clustering: 50 years beyond K-means, Pattern Recognition Letters, Volume 31, Issue 8, 2010"
   ]
  },
  {
   "cell_type": "markdown",
   "metadata": {},
   "source": [
    "# Objetivo\n",
    "\n",
    "- Implementar as funções do algoritmo KMeans passo-a-passo\n",
    "- Comparar a implementação com o algoritmo do Scikit-Learn\n",
    "- Entender e codificar o Método do Cotovelo\n",
    "- Utilizar o K-means em um dataset real "
   ]
  },
  {
   "cell_type": "markdown",
   "metadata": {},
   "source": [
    "# Carregando os dados de teste"
   ]
  },
  {
   "cell_type": "markdown",
   "metadata": {},
   "source": [
    "Carregue os dados disponibilizados, e identifique visualmente em quantos grupos a distribuição dos dados parece assumir"
   ]
  },
  {
   "cell_type": "code",
   "execution_count": 1,
   "metadata": {},
   "outputs": [],
   "source": [
    "# Import libraries\n",
    "import numpy as np # linear algebra\n",
    "import pandas as pd # data processing\n",
    "from matplotlib import pyplot as plt # data visualization"
   ]
  },
  {
   "cell_type": "code",
   "execution_count": 2,
   "metadata": {},
   "outputs": [
    {
     "data": {
      "image/png": "[encoded data removed]",
      "text/plain": [
       "<Figure size 432x288 with 1 Axes>"
      ]
     },
     "metadata": {
      "needs_background": "light"
     },
     "output_type": "display_data"
    }
   ],
   "source": [
    "# load the data with pandas\n",
    "dataset = pd.read_csv('dataset.csv', header=None)\n",
    "dataset = np.array(dataset)\n",
    "\n",
    "plt.scatter(dataset[:,0], dataset[:,1], s=10)\n",
    "plt.show()"
   ]
  },
  {
   "cell_type": "markdown",
   "metadata": {},
   "source": [
    "# 1. Implementar o algoritmo K-means"
   ]
  },
  {
   "cell_type": "markdown",
   "metadata": {},
   "source": [
    "Nesta etapa você irá implementar as funções que compõe o algoritmo do KMeans uma a uma. É importante entender e ler a documentação de cada função, principalmente as dimensões dos dados esperados na saída."
   ]
  },
  {
   "cell_type": "markdown",
   "metadata": {},
   "source": [
    "## 1.1 Inicializar os centróides"
   ]
  },
  {
   "cell_type": "markdown",
   "metadata": {},
   "source": [
    "A primeira etapa do algoritmo consiste em inicializar os centróides de maneira aleatória. Essa etapa é uma das mais importantes do algoritmo e uma boa inicialização pode diminuir bastante o tempo de convergência.\n",
    "\n",
    "Para inicializar os centróides você pode considerar o conhecimento prévio sobre os dados, mesmo sem saber a quantidade de grupos ou sua distribuição. \n",
    "\n",
    "> Dica: https://docs.scipy.org/doc/numpy/reference/generated/numpy.random.uniform.html "
   ]
  },
  {
   "cell_type": "code",
   "execution_count": 3,
   "metadata": {},
   "outputs": [],
   "source": [
    "def calculate_initial_centers(dataset, k):\n",
    "    \"\"\"\n",
    "    Inicializa os centróides iniciais de maneira arbitrária \n",
    "    \n",
    "    Argumentos:\n",
    "    dataset -- Conjunto de dados - [m,n]\n",
    "    k -- Número de centróides desejados\n",
    "    \n",
    "    Retornos:\n",
    "    centroids -- Lista com os centroides calculados - [k,n]\n",
    "    \"\"\"\n",
    "    \n",
    "    #### CODE HERE ####\n",
    "    \n",
    "    minimum = np.min(dataset, axis=0)\n",
    "    maximum = np.max(dataset, axis=0)\n",
    "    shape = [k, dataset.shape[1]]\n",
    "    centroids = np.random.uniform(minimum, maximum, size=shape)\n",
    "    \n",
    "    ### END OF CODE ###\n",
    "    \n",
    "    return centroids"
   ]
  },
  {
   "cell_type": "markdown",
   "metadata": {},
   "source": [
    "Teste a função criada e visualize os centróides que foram calculados."
   ]
  },
  {
   "cell_type": "code",
   "execution_count": 144,
   "metadata": {},
   "outputs": [
    {
     "data": {
      "image/png": "[encoded data removed]",
      "text/plain": [
       "<Figure size 432x288 with 1 Axes>"
      ]
     },
     "metadata": {
      "needs_background": "light"
     },
     "output_type": "display_data"
    }
   ],
   "source": [
    "k = 3\n",
    "centroids = calculate_initial_centers(dataset, k)\n",
    "\n",
    "plt.scatter(dataset[:,0], dataset[:,1], s=10)\n",
    "plt.scatter(centroids[:,0], centroids[:,1], c='red', s=100)\n",
    "plt.show()"
   ]
  },
  {
   "cell_type": "markdown",
   "metadata": {},
   "source": [
    "## 1.2 Definir os clusters"
   ]
  },
  {
   "cell_type": "markdown",
   "metadata": {},
   "source": [
    "Na segunda etapa do algoritmo serão definidos o grupo de cada dado, de acordo com os centróides calculados."
   ]
  },
  {
   "cell_type": "markdown",
   "metadata": {},
   "source": [
    "### 1.2.1 Função de distância "
   ]
  },
  {
   "cell_type": "markdown",
   "metadata": {},
   "source": [
    "Codifique a função de distância euclidiana entre dois pontos __(a, b)__.\n",
    "\n",
    "Definido pela equação:\n",
    "\n",
    "$$ d(a,b) = \\sqrt{(a_1-b_1)^{2}+(a_2-b_2)^{2}+ ... + (a_n-b_n)^{2}} $$\n",
    "\n",
    "$$ d(a,b) = \\sqrt{\\sum_{i=1}^{n}(a_i-b_i)^{2}} $$"
   ]
  },
  {
   "cell_type": "code",
   "execution_count": 19,
   "metadata": {},
   "outputs": [],
   "source": [
    "def euclidean_distance(a, b):\n",
    "    \"\"\"\n",
    "    Calcula a distância euclidiana entre os pontos a e b\n",
    "    \n",
    "    Argumentos:\n",
    "    a -- Um ponto no espaço - [1,n]\n",
    "    b -- Um ponto no espaço - [1,n]\n",
    "    \n",
    "    Retornos:\n",
    "    distance -- Distância euclidiana entre os pontos\n",
    "    \"\"\"\n",
    "    \n",
    "    #### CODE HERE ####\n",
    "    \n",
    "    distance = np.sqrt(np.sum(np.square(a-b)))\n",
    "    \n",
    "    ### END OF CODE ###\n",
    "    \n",
    "    return distance"
   ]
  },
  {
   "cell_type": "markdown",
   "metadata": {},
   "source": [
    "Teste a função criada."
   ]
  },
  {
   "cell_type": "code",
   "execution_count": 20,
   "metadata": {},
   "outputs": [
    {
     "name": "stdout",
     "output_type": "stream",
     "text": [
      "Distância calculada corretamente!\n"
     ]
    }
   ],
   "source": [
    "a = np.array([1, 5, 9])\n",
    "b = np.array([3, 7, 8])\n",
    "\n",
    "if (euclidean_distance(a,b) == 3):\n",
    "    print(\"Distância calculada corretamente!\")\n",
    "else:\n",
    "    print(\"Função de distância incorreta\")"
   ]
  },
  {
   "cell_type": "markdown",
   "metadata": {},
   "source": [
    "### 1.2.2 Calcular o centroide mais próximo"
   ]
  },
  {
   "cell_type": "markdown",
   "metadata": {},
   "source": [
    "Utilizando a função de distância codificada anteriormente, complete a função abaixo para calcular o centroid mais próximo de um ponto qualquer. \n",
    "\n",
    "> Dica: https://docs.scipy.org/doc/numpy/reference/generated/numpy.argmin.html"
   ]
  },
  {
   "cell_type": "code",
   "execution_count": 21,
   "metadata": {},
   "outputs": [],
   "source": [
    "def nearest_centroid(a, centroids):\n",
    "    \"\"\"\n",
    "    Calcula o indice do centroid mais próximo ao ponto a\n",
    "    \n",
    "    Argumentos:\n",
    "    a -- Um ponto no espaço - [1,n]\n",
    "    centroids -- Lista com os centroides - [k,n]\n",
    "    \n",
    "    Retornos:\n",
    "    nearest_index -- Índice do centroid mais próximo\n",
    "    \"\"\"\n",
    "    \n",
    "    #### CODE HERE ####\n",
    "    \n",
    "    # Inicializa as distâncias com zero\n",
    "    distance_centroids = np.zeros(centroids.shape[0])\n",
    "    \n",
    "    for index, centroid in enumerate(centroids):\n",
    "        distance = euclidean_distance(a,centroid)\n",
    "        distance_centroids[index] = distance\n",
    "    \n",
    "    nearest_index = np.argmin(distance_centroids)\n",
    "      \n",
    "    ### END OF CODE ###\n",
    "    \n",
    "    return nearest_index"
   ]
  },
  {
   "cell_type": "markdown",
   "metadata": {},
   "source": [
    "Teste a função criada"
   ]
  },
  {
   "cell_type": "code",
   "execution_count": 190,
   "metadata": {},
   "outputs": [
    {
     "data": {
      "image/png": "[encoded data removed]",
      "text/plain": [
       "<Figure size 432x288 with 1 Axes>"
      ]
     },
     "metadata": {
      "needs_background": "light"
     },
     "output_type": "display_data"
    }
   ],
   "source": [
    "# Seleciona um ponto aleatório no dataset\n",
    "index = np.random.randint(dataset.shape[0])\n",
    "a = dataset[index,:]\n",
    "\n",
    "# Usa a função para descobrir o centroid mais próximo\n",
    "idx_nearest_centroid = nearest_centroid(a, centroids)\n",
    "\n",
    "\n",
    "# Plota os dados ------------------------------------------------\n",
    "plt.scatter(dataset[:,0], dataset[:,1], s=10)\n",
    "# Plota o ponto aleatório escolhido em uma cor diferente\n",
    "plt.scatter(a[0], a[1], c='magenta', s=30)\n",
    "\n",
    "# Plota os centroids\n",
    "plt.scatter(centroids[:,0], centroids[:,1], c='red', s=100)\n",
    "# Plota o centroid mais próximo com uma cor diferente\n",
    "plt.scatter(centroids[idx_nearest_centroid,0], \n",
    "            centroids[idx_nearest_centroid,1], \n",
    "            c='springgreen', s=100)\n",
    "\n",
    "# Cria uma linha do ponto escolhido para o centroid selecionado\n",
    "plt.plot([a[0], centroids[idx_nearest_centroid,0]], \n",
    "         [a[1], centroids[idx_nearest_centroid,1]],c='orange')\n",
    "plt.annotate('CENTROID', (centroids[idx_nearest_centroid,0], \n",
    "            centroids[idx_nearest_centroid,1],))\n",
    "plt.show()"
   ]
  },
  {
   "cell_type": "markdown",
   "metadata": {},
   "source": [
    "### 1.2.3 Calcular centroid mais próximo de cada dado do dataset"
   ]
  },
  {
   "cell_type": "markdown",
   "metadata": {},
   "source": [
    "Utilizando a função anterior que retorna o índice do centroid mais próximo, calcule o centroid mais próximo de cada dado do dataset. "
   ]
  },
  {
   "cell_type": "code",
   "execution_count": 191,
   "metadata": {},
   "outputs": [],
   "source": [
    "def all_nearest_centroids(dataset, centroids):\n",
    "    \"\"\"\n",
    "    Calcula o indice do centroid mais próximo para cada \n",
    "    ponto do dataset\n",
    "    \n",
    "    Argumentos:\n",
    "    dataset -- Conjunto de dados - [m,n]\n",
    "    centroids -- Lista com os centroides - [k,n]\n",
    "    \n",
    "    Retornos:\n",
    "    nearest_indexes -- Indices do centroids mais próximos - [m,1]\n",
    "    \"\"\"\n",
    "    \n",
    "    #### CODE HERE ####\n",
    "    \n",
    "    # Inicializa as distâncias com zero\n",
    "    nearest_indexes = np.zeros(dataset.shape[0])\n",
    "    \n",
    "    for index, a in enumerate(dataset):\n",
    "        nearest_indexes[index] = nearest_centroid(a, centroids)\n",
    "      \n",
    "    ### END OF CODE ###\n",
    "    \n",
    "    return nearest_indexes"
   ]
  },
  {
   "cell_type": "markdown",
   "metadata": {},
   "source": [
    "Teste a função criada visualizando os cluster formados."
   ]
  },
  {
   "cell_type": "code",
   "execution_count": 186,
   "metadata": {},
   "outputs": [],
   "source": [
    "nearest_indexes = all_nearest_centroids(dataset, centroids)"
   ]
  },
  {
   "cell_type": "code",
   "execution_count": 187,
   "metadata": {},
   "outputs": [
    {
     "data": {
      "image/png": "[encoded data removed]",
      "text/plain": [
       "<Figure size 432x288 with 1 Axes>"
      ]
     },
     "metadata": {
      "needs_background": "light"
     },
     "output_type": "display_data"
    }
   ],
   "source": [
    "plt.scatter(dataset[:,0], dataset[:,1], c=nearest_indexes)\n",
    "plt.scatter(centroids[:,0], centroids[:,1], c='red', s=100)\n",
    "plt.show()"
   ]
  },
  {
   "cell_type": "markdown",
   "metadata": {},
   "source": [
    "## 1.3 Métrica de avaliação "
   ]
  },
  {
   "cell_type": "markdown",
   "metadata": {},
   "source": [
    "Após formar os clusters, como sabemos se o resultado gerado é bom? Para isso, precisamos definir uma métrica de avaliação.\n",
    "\n",
    "O algoritmo K-means tem como objetivo escolher centróides que minimizem a soma quadrática das distância entre os dados de um cluster e seu centróide. Essa métrica é conhecida como __inertia__.\n",
    "$$\\sum_{i=0}^{n}\\min_{\\mu_j \\in C}(||x_i - \\mu_j||^2)$$\n",
    "\n",
    "A __inertia__, ou o critério de soma dos quadrados dentro do cluster, pode ser reconhecido como uma medida de o quão internamente coerentes são os clusters, porém ela sofre de alguns inconvenientes:\n",
    "\n",
    "- A inertia pressupõe que os clusters são convexos e isotrópicos, o que nem sempre é o caso. Desta forma, pode não representar bem em aglomerados alongados ou variedades com formas irregulares.\n",
    "- A inertia não é uma métrica normalizada: sabemos apenas que valores mais baixos são melhores e zero é o valor ótimo. Mas em espaços de dimensões muito altas, as distâncias euclidianas tendem a se tornar infladas (este é um exemplo da chamada “maldição da dimensionalidade”). A execução de um algoritmo de redução de dimensionalidade, como o PCA, pode aliviar esse problema e acelerar os cálculos.\n",
    "\n",
    "Fonte: https://scikit-learn.org/stable/modules/clustering.html"
   ]
  },
  {
   "cell_type": "markdown",
   "metadata": {},
   "source": [
    "Para podermos avaliar os nosso clusters, codifique a métrica da inertia abaixo, para isso você pode utilizar a função de distância euclidiana construída anteriormente."
   ]
  },
  {
   "cell_type": "code",
   "execution_count": 194,
   "metadata": {},
   "outputs": [],
   "source": [
    "def inertia(dataset, centroids, nearest_indexes):\n",
    "    \"\"\"\n",
    "    Soma das distâncias quadradas das amostras para o \n",
    "    centro do cluster mais próximo.\n",
    "    \n",
    "    Argumentos:\n",
    "    dataset -- Conjunto de dados - [m,n]\n",
    "    centroids -- Lista com os centroides - [k,n]\n",
    "    nearest_indexes -- Indices do centroids mais próximos - [m,1]\n",
    "    \n",
    "    Retornos:\n",
    "    inertia -- Soma total do quadrado da distância entre \n",
    "    os dados de um cluster e seu centróide\n",
    "    \"\"\"\n",
    "    \n",
    "    #### CODE HERE ####\n",
    "    \n",
    "    inertia = 0\n",
    "    for index, centroid in enumerate(centroids):\n",
    "        dataframe = dataset[nearest_indexes == index,:] \n",
    "        for a in dataframe:\n",
    "            inertia += np.square(euclidean_distance(a, centroid))\n",
    "      \n",
    "    ### END OF CODE ###\n",
    "    \n",
    "    return inertia"
   ]
  },
  {
   "cell_type": "markdown",
   "metadata": {},
   "source": [
    "Teste a função codificada executando o código abaixo."
   ]
  },
  {
   "cell_type": "code",
   "execution_count": 204,
   "metadata": {},
   "outputs": [
    {
     "name": "stdout",
     "output_type": "stream",
     "text": [
      "Inertia calculada corretamente!\n"
     ]
    }
   ],
   "source": [
    "tmp_data = np.array([[1,2,3],[3,4,5],[4,5,6]])\n",
    "tmp_centroide = np.array([2,3,4])\n",
    "\n",
    "tmp_nearest_indexes = all_nearest_centroids(tmp_data, tmp_centroide)\n",
    "if np.floor(inertia(tmp_data, tmp_centroide, tmp_nearest_indexes)) == 9:\n",
    "    print(\"Inertia calculada corretamente!\")\n",
    "else:\n",
    "    print(\"Função de inertia incorreta!\")"
   ]
  },
  {
   "cell_type": "code",
   "execution_count": 205,
   "metadata": {},
   "outputs": [
    {
     "data": {
      "text/plain": [
       "2419.717107355093"
      ]
     },
     "execution_count": 205,
     "metadata": {},
     "output_type": "execute_result"
    }
   ],
   "source": [
    "# Use a função para verificar a inertia dos seus clusters\n",
    "inertia(dataset, centroids, nearest_indexes)"
   ]
  },
  {
   "cell_type": "code",
   "execution_count": null,
   "metadata": {},
   "outputs": [],
   "source": []
  }
 ],
 "metadata": {
  "kernelspec": {
   "display_name": "Python 3",
   "language": "python",
   "name": "python3"
  },
  "language_info": {
   "codemirror_mode": {
    "name": "ipython",
    "version": 3
   },
   "file_extension": ".py",
   "mimetype": "text/x-python",
   "name": "python",
   "nbconvert_exporter": "python",
   "pygments_lexer": "ipython3",
   "version": "3.6.8"
  }
 },
 "nbformat": 4,
 "nbformat_minor": 2
}
