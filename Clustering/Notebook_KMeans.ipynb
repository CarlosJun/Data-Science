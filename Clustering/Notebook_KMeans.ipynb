{
 "cells": [
  {
   "cell_type": "markdown",
   "metadata": {},
   "source": [
    "## <p style=\"text-align: center;\">Clusterização e algoritmo KMeans</p> \n",
    "\n",
    "Organizar dados em agrupamentos é um dos modos mais fundamentais de compreensão e aprendizado. Como por exemplo, os organismos em um sistema biologico são classificados em domínio, reino, filo, classe, etc. A análise de agrupamento é o estudo formal de métodos e algoritmos para agrupar objetos de acordo com medidas ou características semelhantes. A análise de cluster, em sua essência, não utiliza rótulos de categoria que marcam objetos com identificadores anteriores, ou seja, rótulos de classe. A ausência de informação de categoria distingue o agrupamento de dados (aprendizagem não supervisionada) da classificação ou análise discriminante (aprendizagem supervisionada). O objetivo da clusterização é encontrar estruturas em dados e, portanto, é de natureza exploratória. \n",
    "\n",
    "A técnica de Clustering tem uma longa e rica história em uma variedade de campos científicos. Um dos algoritmos de clusterização mais populares e simples, o K-means, foi publicado pela primeira vez em 1955. Apesar do K-means ter sido proposto há mais de 50 anos e milhares de algoritmos de clustering terem sido publicados desde então, o K-means é ainda amplamente utilizado.\n",
    "\n",
    "Anil K. Jain, Data clustering: 50 years beyond K-means, Pattern Recognition Letters, Volume 31, Issue 8, 2010"
   ]
  },
  {
   "cell_type": "markdown",
   "metadata": {},
   "source": [
    "## Objetivo\n",
    "\n",
    "- Implementar as funções do algoritmo KMeans passo-a-passo\n",
    "- Comparar a implementação com o algoritmo do Scikit-Learn\n",
    "- Entender e codificar o Método do Cotovelo\n",
    "- Utilizar o KMeans em um dataset real "
   ]
  },
  {
   "cell_type": "markdown",
   "metadata": {},
   "source": [
    "## Carregando os dados de teste"
   ]
  },
  {
   "cell_type": "markdown",
   "metadata": {},
   "source": [
    "Carregue os dados disponibilizados, e identifique visualmente em quantos grupos a distribuição dos dados parece assumir"
   ]
  },
  {
   "cell_type": "code",
   "execution_count": 8,
   "metadata": {},
   "outputs": [],
   "source": [
    "# Import libraries\n",
    "import numpy as np # linear algebra\n",
    "import pandas as pd # data processing\n",
    "from matplotlib import pyplot as plt # data visualization"
   ]
  },
  {
   "cell_type": "code",
   "execution_count": 9,
   "metadata": {},
   "outputs": [
    {
     "data": {
      "image/png": "[encoded data removed]",
      "text/plain": [
       "<Figure size 432x288 with 1 Axes>"
      ]
     },
     "metadata": {
      "needs_background": "light"
     },
     "output_type": "display_data"
    }
   ],
   "source": [
    "# load the data with pandas\n",
    "dataset = pd.read_csv('dataset.csv', header=None)\n",
    "dataset = np.array(dataset)\n",
    "\n",
    "plt.scatter(dataset[:,0], dataset[:,1], s=10)\n",
    "plt.show()"
   ]
  },
  {
   "cell_type": "markdown",
   "metadata": {},
   "source": [
    "## 1. Implementar o algoritmo KMeans"
   ]
  },
  {
   "cell_type": "markdown",
   "metadata": {},
   "source": [
    "Nesta etapa você irá implementar as funções que compõe o algoritmo do KMeans uma a uma. É importante entender e ler a documentação de cada função, principalmente as dimensões dos dados esperados na saída."
   ]
  },
  {
   "cell_type": "markdown",
   "metadata": {},
   "source": [
    "### 1.1 Inicializar os centróides"
   ]
  },
  {
   "cell_type": "markdown",
   "metadata": {},
   "source": [
    "A primeira etapa do algoritmo consiste em inicializar os centróides de maneira aleatória. Essa etapa é uma das mais importantes do algoritmo e uma boa inicialização pode diminuir bastante o tempo de convergência.\n",
    "\n",
    "Para inicializar os centróides você pode considerar o conhecimento prévio sobre os dados, mesmo sem saber a quantidade de grupos ou sua distribuição. \n",
    "\n",
    "> Dica: https://docs.scipy.org/doc/numpy/reference/generated/numpy.random.uniform.html "
   ]
  },
  {
   "cell_type": "code",
   "execution_count": 13,
   "metadata": {},
   "outputs": [],
   "source": [
    "def calculate_initial_centers(dataset, k):\n",
    "    \"\"\"\n",
    "    Inicializa os centróides iniciais de maneira arbitrária \n",
    "    \n",
    "    Argumentos:\n",
    "    dataset -- Conjunto de dados - [m,n]\n",
    "    k -- Número de centróides desejados\n",
    "    \n",
    "    Retornos:\n",
    "    centroids -- Lista com os centroides calculados - [k,n]\n",
    "    \"\"\"\n",
    "    \n",
    "    #### CODE HERE ####\n",
    "    \n",
    "    minimum = np.min(dataset, axis=0)\n",
    "    maximum = np.max(dataset, axis=0)\n",
    "    shape = [k, dataset.shape[1]]\n",
    "    centroids = np.random.uniform(minimum, maximum, size=shape)\n",
    "    \n",
    "    ### END OF CODE ###\n",
    "    \n",
    "    return centroids"
   ]
  },
  {
   "cell_type": "markdown",
   "metadata": {},
   "source": [
    "Teste a função criada e visualize os centróides que foram calculados."
   ]
  },
  {
   "cell_type": "code",
   "execution_count": 15,
   "metadata": {},
   "outputs": [
    {
     "data": {
      "image/png": "[encoded data removed]",
      "text/plain": [
       "<Figure size 432x288 with 1 Axes>"
      ]
     },
     "metadata": {
      "needs_background": "light"
     },
     "output_type": "display_data"
    }
   ],
   "source": [
    "k = 3\n",
    "centroids = calculate_initial_centers(dataset, k)\n",
    "\n",
    "plt.scatter(dataset[:,0], dataset[:,1], s=10)\n",
    "plt.scatter(centroids[:,0], centroids[:,1], c='red')\n",
    "plt.show()"
   ]
  },
  {
   "cell_type": "markdown",
   "metadata": {},
   "source": [
    "### 1.2 Definir os clusters"
   ]
  },
  {
   "cell_type": "markdown",
   "metadata": {},
   "source": [
    "Na segunda etapa do algoritmo serão definidos o grupo de cada dado, de acordo com os centróides calculados."
   ]
  },
  {
   "cell_type": "markdown",
   "metadata": {},
   "source": [
    "#### 1.2.1 Função de distância "
   ]
  },
  {
   "cell_type": "markdown",
   "metadata": {},
   "source": [
    "Codifique a função de distância euclidiana entre dois pontos __(a, b)__.\n",
    "\n",
    "Definido pela equação:\n",
    "\n",
    "$$ d(a,b) = \\sqrt{(a_1-b_1)^{2}+(a_2-b_2)^{2}+ ... + (a_n-b_n)^{2}} $$\n",
    "\n",
    "$$ d(a,b) = \\sqrt{\\sum_{i=1}^{n}(a_i-b_i)^{2}} $$"
   ]
  },
  {
   "cell_type": "code",
   "execution_count": 30,
   "metadata": {},
   "outputs": [],
   "source": [
    "def euclidean_distance(a, b):\n",
    "    \"\"\"\n",
    "    Calcula a distância euclidiana entre os pontos a e b\n",
    "    \n",
    "    Argumentos:\n",
    "    a -- Um ponto no espaço - [1,n]\n",
    "    b -- Um ponto no espaço - [1,n]\n",
    "    \n",
    "    Retornos:\n",
    "    distance -- Distância entre os pontos\n",
    "    \"\"\"\n",
    "    \n",
    "    #### CODE HERE ####\n",
    "    \n",
    "    distance = np.sqrt(np.sum(np.square(a-b)))\n",
    "    \n",
    "    ### END OF CODE ###\n",
    "    \n",
    "    return distance"
   ]
  },
  {
   "cell_type": "markdown",
   "metadata": {},
   "source": [
    "Teste a função criada."
   ]
  },
  {
   "cell_type": "code",
   "execution_count": 29,
   "metadata": {},
   "outputs": [
    {
     "name": "stdout",
     "output_type": "stream",
     "text": [
      "Distância calculada corretamente!\n"
     ]
    }
   ],
   "source": [
    "a = np.array([1, 5, 9])\n",
    "b = np.array([3, 7, 8])\n",
    "\n",
    "if (euclidean_distance(a,b) == 3):\n",
    "    print(\"Distância calculada corretamente!\")\n",
    "else:\n",
    "    print(\"Função de distância incorreta\")"
   ]
  },
  {
   "cell_type": "code",
   "execution_count": null,
   "metadata": {},
   "outputs": [],
   "source": []
  }
 ],
 "metadata": {
  "kernelspec": {
   "display_name": "Python 3",
   "language": "python",
   "name": "python3"
  },
  "language_info": {
   "codemirror_mode": {
    "name": "ipython",
    "version": 3
   },
   "file_extension": ".py",
   "mimetype": "text/x-python",
   "name": "python",
   "nbconvert_exporter": "python",
   "pygments_lexer": "ipython3",
   "version": "3.6.8"
  }
 },
 "nbformat": 4,
 "nbformat_minor": 2
}
