{
 "cells": [
  {
   "cell_type": "markdown",
   "metadata": {},
   "source": [
    "<center><img src=\"https://synapsedatascience.com.br/wp-content/uploads/2020/12/logo-jupyter.png\" width=\"300\"/></center>"
   ]
  },
  {
   "cell_type": "markdown",
   "metadata": {},
   "source": [
    "# Enviando mensagens para o Telegram"
   ]
  },
  {
   "cell_type": "markdown",
   "metadata": {},
   "source": [
    "Enviar mensagens para o celular é uma ferramenta poderosa para melhorar a interação do programa com os usuários. Por exemplo, no ramo da ciência de dados, podemos:\n",
    "\n",
    "1. enviar os resultados de um modelo treinado;\n",
    "2. notificar quando um experimento foi finalizado;\n",
    "3. enviar mensagens de falhas obtidas durante a execução de um código.\n",
    "\n",
    "Para isso, vamos utilizar a API de bots do próprio Telegram, você pode acessar a [documentação](https://core.telegram.org/bots/api#making-requests) para saber mais detalhes e consultar outras opções."
   ]
  },
  {
   "cell_type": "markdown",
   "metadata": {},
   "source": [
    "# Passo a passo"
   ]
  },
  {
   "cell_type": "markdown",
   "metadata": {},
   "source": [
    "1. Criar um novo bot utilizando o BotFather;\n",
    "2. Adicionar o bot em um grupo, onde serão recebidas as mensagens;\n",
    "3. Obter o ID do grupo;\n",
    "4. Enviar mensagens utilizando o bot e o ID do grupo."
   ]
  },
  {
   "cell_type": "markdown",
   "metadata": {},
   "source": [
    "# Enviar mensagens"
   ]
  },
  {
   "cell_type": "code",
   "execution_count": null,
   "metadata": {},
   "outputs": [],
   "source": [
    "# importar biblioteca para requisições http\n",
    "import requests"
   ]
  },
  {
   "cell_type": "code",
   "execution_count": null,
   "metadata": {},
   "outputs": [],
   "source": [
    "# mostra o id do último grupo adicionado\n",
    "def last_chat_id(token):\n",
    "    try:\n",
    "        url = \"https://api.telegram.org/bot{}/getUpdates\".format(token)\n",
    "        response = requests.get(url)\n",
    "        if response.status_code == 200:\n",
    "            json_msg = response.json()\n",
    "            for json_result in reversed(json_msg['result']):\n",
    "                message_keys = json_result['message'].keys()\n",
    "                if ('new_chat_member' in message_keys) or ('group_chat_created' in message_keys):\n",
    "                    return json_result['message']['chat']['id']\n",
    "            print('Nenhum grupo encontrado')\n",
    "        else:\n",
    "            print('A resposta falhou, código de status: {}'.format(response.status_code))\n",
    "    except Exception as e:\n",
    "        print(\"Erro no getUpdates:\", e)\n",
    "\n",
    "# enviar mensagens utilizando o bot para um chat específico\n",
    "def send_message(token, chat_id, message):\n",
    "    try:\n",
    "        data = {\"chat_id\": chat_id, \"text\": msg}\n",
    "        url = \"https://api.telegram.org/bot{}/sendMessage\".format(token)\n",
    "        requests.post(url, data)\n",
    "    except Exception as e:\n",
    "        print(\"Erro no sendMessage:\", e)"
   ]
  },
  {
   "cell_type": "code",
   "execution_count": null,
   "metadata": {},
   "outputs": [],
   "source": [
    "# token único utilizado para manipular o bot (não deve ser compartilhado)\n",
    "# exemplo: '1413778757:AAFxmr611LssAHbZn1uqV_NKFsbwK3TT-wc'\n",
    "token = None\n",
    "\n",
    "# id do chat que será enviado as mensagens\n",
    "chat_id = last_chat_id(token)\n",
    "\n",
    "print(\"Id do chat:\", chat_id)"
   ]
  },
  {
   "cell_type": "code",
   "execution_count": null,
   "metadata": {},
   "outputs": [],
   "source": [
    "# exemplo de mensagem\n",
    "msg = \"Resultados dos experimentos: 97%\"\n",
    "\n",
    "# enviar a mensagem\n",
    "send_message(token, chat_id, msg)"
   ]
  }
 ],
 "metadata": {
  "kernelspec": {
   "display_name": "Python 3",
   "language": "python",
   "name": "python3"
  },
  "language_info": {
   "codemirror_mode": {
    "name": "ipython",
    "version": 3
   },
   "file_extension": ".py",
   "mimetype": "text/x-python",
   "name": "python",
   "nbconvert_exporter": "python",
   "pygments_lexer": "ipython3",
   "version": "3.7.8"
  }
 },
 "nbformat": 4,
 "nbformat_minor": 4
}
