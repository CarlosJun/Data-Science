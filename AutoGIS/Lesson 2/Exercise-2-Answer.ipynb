{
 "cells": [
  {
   "cell_type": "markdown",
   "metadata": {},
   "source": [
    "# Exercício 2\n",
    "\n",
    "Neste exercício vamos criar geometrias em Geopandas, re-projetar dados e fazer algumas\n",
    "cálculos geométricos.\n",
    " \n"
   ]
  },
  {
   "cell_type": "markdown",
   "metadata": {},
   "source": [
    "## Problema 1: Criar polygon de uma lista de coordenadas.\n",
    "\n",
    "No primeiro problema **você deve criar um polígono com base nas coordenadas fornecidas e plotar o polígono em um mapa**. As listas ``xcoords`` e ``ycoords`` contêm as coordenadas x e y de pontos, que pertencem ao polígono. O primeiro par de coordenadas se parece com isto: ``(29.99671173095703, 63.748023986816406)``."
   ]
  },
  {
   "cell_type": "code",
   "execution_count": 1,
   "metadata": {},
   "outputs": [],
   "source": [
    "import geopandas as gpd\n",
    "import matplotlib.pyplot as plt\n",
    "from shapely.geometry import Polygon\n",
    "\n",
    "# X -coordinates \n",
    "xcoords = [29.99671173095703, 31.58196258544922, 27.738052368164062, 26.50013542175293, 26.652359008789062, 25.921663284301758, 22.90027618408203, 23.257217407226562,\n",
    "           23.335693359375, 22.87444305419922, 23.08465003967285, 22.565473556518555, 21.452774047851562, 21.66388702392578, 21.065969467163086, 21.67659568786621,\n",
    "           21.496871948242188, 22.339998245239258, 22.288192749023438, 24.539581298828125, 25.444232940673828, 25.303749084472656, 24.669166564941406, 24.689163208007812,\n",
    "           24.174999237060547, 23.68471908569336, 24.000761032104492, 23.57332992553711, 23.76513671875, 23.430830001831055, 23.6597900390625, 20.580928802490234, 21.320831298828125,\n",
    "           22.398330688476562, 23.97638702392578, 24.934917449951172, 25.7611083984375, 25.95930290222168, 26.476804733276367, 27.91069221496582, 29.1027774810791, 29.29846954345703,\n",
    "           28.4355525970459, 28.817358016967773, 28.459857940673828, 30.028610229492188, 29.075136184692383, 30.13492774963379, 29.818885803222656, 29.640830993652344, 30.57735824584961,\n",
    "           29.99671173095703]\n",
    "\n",
    "# Y -coordinates\n",
    "ycoords = [63.748023986816406, 62.90789794921875, 60.511383056640625, 60.44499588012695, 60.646385192871094, 60.243743896484375, 59.806800842285156, 59.91944122314453,\n",
    "           60.02395248413086, 60.14555358886719, 60.3452033996582, 60.211936950683594, 60.56249237060547, 61.54027557373047, 62.59798049926758, 63.02013397216797,\n",
    "           63.20353698730469, 63.27652359008789, 63.525691986083984, 64.79915618896484, 64.9533920288086, 65.51513671875, 65.65470886230469, 65.89610290527344, 65.79151916503906,\n",
    "           66.26332092285156, 66.80228424072266, 67.1570053100586, 67.4168701171875, 67.47978210449219, 67.94589233398438, 69.060302734375, 69.32611083984375, 68.71110534667969,\n",
    "           68.83248901367188, 68.580810546875, 68.98916625976562, 69.68568420410156, 69.9363784790039, 70.08860778808594, 69.70597076416016, 69.48533630371094, 68.90263366699219,\n",
    "           68.84700012207031, 68.53485107421875, 67.69471740722656, 66.90360260009766, 65.70887756347656, 65.6533203125, 64.92096710205078, 64.22373962402344, 63.748023986816406]\n"
   ]
  },
  {
   "cell_type": "markdown",
   "metadata": {},
   "source": [
    "**Primeiro, crie uma variável Polygon `poly` fora das coordenadas x e y:**\n",
    "\n",
    "- Crie uma lista de pares de coordenadas x e y de xcoords e ycoords e armazene-os em uma variável `coordpairs`. Um par de coordenadas pode ser uma tupla ou uma lista.\n",
    "- Crie um polígono usando a lista 'coordpairs' e armazene o polígono em uma variável `poly`.\n",
    "\n",
    "**Insira o polígono em um GeoDataFrame chamado ``geo``:**\n",
    "- Crie uma variável geodataframe vazia ``geo``\n",
    "- Insira um polígono 'poly' no 'geo' em uma nova coluna chamada 'geometry' usando o indexador 'loc'"
   ]
  },
  {
   "cell_type": "code",
   "execution_count": 2,
   "metadata": {
    "deletable": false,
    "nbgrader": {
     "checksum": "7a81f2f993f09f0bb8e487e1277d98ac",
     "grade": false,
     "grade_id": "Create_polygon_dataframe",
     "locked": false,
     "schema_version": 1,
     "solution": true
    }
   },
   "outputs": [],
   "source": [
    "# Create a list of x and y coordinate pairs out of xcoords and ycoords\n",
    "coordpairs = [[xcoord, ycoord] for xcoord, ycoord in zip(xcoords, ycoords)]\n",
    "\n",
    "# Create a shapely Polygon using the 'coordpairs' -list\n",
    "poly = Polygon(coordpairs)\n",
    "\n",
    "# Create an empty GeoDataFrame\n",
    "geo = gpd.GeoDataFrame()\n",
    "\n",
    "# Insert the 'poly' -polygon into the 'geo' GeoDataFrame into a new column named 'geometry' \n",
    "\n",
    "\n",
    "# REPLACE THE ERROR BELOW WITH YOUR OWN CODE\n",
    "geo.loc[0, 'geometry'] = poly"
   ]
  },
  {
   "cell_type": "code",
   "execution_count": 3,
   "metadata": {
    "deletable": false,
    "editable": false,
    "nbgrader": {
     "checksum": "157c36241930e1fd43c74dc60c0137a8",
     "grade": true,
     "grade_id": "Create_polygon_dataframe_test",
     "locked": true,
     "points": 2,
     "schema_version": 1,
     "solution": false
    }
   },
   "outputs": [
    {
     "name": "stdout",
     "output_type": "stream",
     "text": [
      "                                            geometry\n",
      "0  POLYGON ((29.99671173095703 63.74802398681641,...\n"
     ]
    }
   ],
   "source": [
    "# Check the content of the GeoDataFrame:\n",
    "print(geo.head())\n"
   ]
  },
  {
   "cell_type": "markdown",
   "metadata": {},
   "source": [
    "**Por último:**\n",
    "- salve o polígono em um arquivo Shapefile chamado `'polygon.shp'`.\n",
    "- mostrar o polygono usando a função 'plot'"
   ]
  },
  {
   "cell_type": "code",
   "execution_count": 4,
   "metadata": {
    "deletable": false,
    "nbgrader": {
     "checksum": "ad4b174bd039f60cb883e5624031af20",
     "grade": false,
     "grade_id": "Plot_and_save",
     "locked": false,
     "schema_version": 1,
     "solution": true
    }
   },
   "outputs": [],
   "source": [
    "# Save the GeoDataFrame into a new Shapefile called 'polygon.shp'.\n",
    "fp = 'data/polygon.shp'\n",
    "\n",
    "# REPLACE THE ERROR BELOW WITH YOUR OWN CODE\n",
    "geo.to_file(fp)"
   ]
  },
  {
   "cell_type": "code",
   "execution_count": 5,
   "metadata": {
    "deletable": false,
    "editable": false,
    "nbgrader": {
     "checksum": "cb8a4eafbf99f0bc0c625bb2f462c2cb",
     "grade": true,
     "grade_id": "Plot_and_save_test",
     "locked": true,
     "points": 2,
     "schema_version": 1,
     "solution": false
    }
   },
   "outputs": [],
   "source": [
    "# Plot a map of the polygon \n"
   ]
  },
  {
   "cell_type": "code",
   "execution_count": 6,
   "metadata": {
    "deletable": false,
    "nbgrader": {
     "checksum": "80a6342cd58b394c6198500410ebb311",
     "grade": true,
     "grade_id": "Check_output",
     "locked": false,
     "points": 2,
     "schema_version": 1,
     "solution": true
    }
   },
   "outputs": [
    {
     "data": {
      "text/plain": [
       "<matplotlib.axes._subplots.AxesSubplot at 0x7fc0e3909f10>"
      ]
     },
     "execution_count": 6,
     "metadata": {},
     "output_type": "execute_result"
    },
    {
     "data": {
      "image/png": "[encoded data removed]",
      "text/plain": [
       "<Figure size 432x288 with 1 Axes>"
      ]
     },
     "metadata": {
      "needs_background": "light"
     },
     "output_type": "display_data"
    }
   ],
   "source": [
    "# REPLACE THE ERROR BELOW WITH YOUR OWN CODE\n",
    "geo.plot()"
   ]
  },
  {
   "cell_type": "markdown",
   "metadata": {},
   "source": [
    "## Problema 2: Pontos para mapa\n",
    "\n",
    "O problema 2 continua o processo que começamos no Exercício 1, ou seja, criar objetos de ponto geométrico e colocá-los em um mapa.\n",
    "\n",
    "**Neste problema, nosso objetivo é plotar um mapa baseado em um conjunto de coordenadas x e y que são armazenadas em um arquivo csv.**\n",
    "\n",
    "As coordenadas estão em graus decimais WGS84, e os dados são armazenados no arquivo separado por vírgulas `some_posts.csv` na pasta `data`. As primeiras linhas dos dados são assim:\n",
    "\n",
    "```\n",
    "lat,lon,timestamp,userid\n",
    "-24.980792492,31.484633302,2015-07-07 03:02,66487960\n",
    "-25.499224667,31.508905612,2015-07-07 03:18,65281761\n",
    "-24.342578456,30.930866066,2015-03-07 03:38,90916112\n",
    "-24.85461393,31.519718439,2015-10-07 05:04,37959089\n",
    "```\n",
    "\n",
    "Os dados têm 81379 linhas e consistem em locais e horários de postagens nas redes sociais dentro do parque nacional Kruger na África do Sul:\n",
    "\n",
    "| Column | Description |\n",
    "|--------|-------------|\n",
    "| lat | y-coordinate of the post |\n",
    "| lon | x-coordinate of the post |\n",
    "| timestamp | Time when the post was uploaded |\n",
    "| userid | userid |\n",
    "\n",
    "*Nota: embora os dados sejam baseados em dados reais de mídias sociais, eles estão anônimos. Os dados de userids e timestamps foram randomizados, ou seja, eles não coincidem com os dados reais, também a precisão espacial dos dados foi reduzida.*\n",
    "\n",
    "**Primeiro:**\n",
    "\n",
    "- Importe os módulos necessários\n",
    "- Leia os dados de `data / some_posts.csv` em um dataframe do Pandas chamado` data`\n",
    "- Crie uma coluna vazia chamada `geometry` onde você irá armazenar objetos Point bem formados\n",
    "- Inserir objetos Point na coluna `geometry` baseada nas colunas de coordenadas\n",
    "    - Você pode querer iterar sobre as linhas do dataframe e usar o indexador `.loc` para atualizar o valor da coluna correta em cada linha. [Veja mais dicas dos materiais do curso desta semana] (https://automating-gis-processes.github.io/2018/docs/lessons/L2/geopandas-basics.html#creating-geometries-into-a-geodataframe)\n",
    "    - *Nota: se esta etapa estiver demorando muito para ser executada, você pode primeiro testar seu código com um subconjunto dos dados originais, por exemplo. pegando as primeiras 50 linhas de dados `data [: 50]`. Depois que o código funcionar corretamente, você poderá executar o processo para todo o dataframe.*\n",
    "    - Opcional: você também pode tentar resolver este problema usando ``pandas.DataFrame.apply`` ou a função `` zip ()`` (estas abordagens serão muito mais rápidas do que usar um laço ``for`` e ``.iterrows ()``"
   ]
  },
  {
   "cell_type": "code",
   "execution_count": 7,
   "metadata": {},
   "outputs": [],
   "source": [
    "# REPLACE THE ERROR BELOW WITH YOUR OWN CODE\n",
    "import pandas as pd\n",
    "import numpy as np\n",
    "from shapely.geometry import Point\n",
    "\n",
    "fp = 'data/some_posts.csv'\n",
    "data = pd.read_csv(fp,',')\n",
    "data['geometry'] = np.nan\n",
    "\n",
    "def latlon_point(row):\n",
    "    row['geometry'] = Point(row['lon'], row['lat']) \n",
    "    return row\n",
    "\n",
    "data = data.apply(lambda row: latlon_point(row), axis=1)"
   ]
  },
  {
   "cell_type": "code",
   "execution_count": 8,
   "metadata": {},
   "outputs": [
    {
     "name": "stdout",
     "output_type": "stream",
     "text": [
      "         lat        lon         timestamp    userid  \\\n",
      "0 -24.980792  31.484633  2015-07-07 03:02  66487960   \n",
      "1 -25.499225  31.508906  2015-07-07 03:18  65281761   \n",
      "2 -24.342578  30.930866  2015-03-07 03:38  90916112   \n",
      "3 -24.854614  31.519718  2015-10-07 05:04  37959089   \n",
      "4 -24.921069  31.520836  2015-10-07 05:19  27793716   \n",
      "\n",
      "                             geometry  \n",
      "0  POINT (31.484633302 -24.980792492)  \n",
      "1  POINT (31.508905612 -25.499224667)  \n",
      "2  POINT (30.930866066 -24.342578456)  \n",
      "3   POINT (31.519718439 -24.85461393)  \n",
      "4  POINT (31.520835558 -24.921068894)  \n"
     ]
    }
   ],
   "source": [
    "# Check the dataframe head\n",
    "print(data.head())"
   ]
  },
  {
   "cell_type": "markdown",
   "metadata": {},
   "source": [
    "**Próximo:**\n",
    "- Converta esse DataFrame em um GeoDataFrame, [Veja dicas](https://automating-gis-processes.github.io/2018/lessons/L2/exercise-2.html)\n",
    "\n",
    "- Atualize o CRS para o sistema de coordenadas como WGS84 (ou seja, código epsg: 4326)\n",
    "\n",
    "- Salve os dados em um Shapefile chamado `Kruger_posts.shp`"
   ]
  },
  {
   "cell_type": "code",
   "execution_count": null,
   "metadata": {},
   "outputs": [],
   "source": [
    "import geopandas as gpd\n",
    "from fiona.crs import from_epsg\n",
    "\n",
    "geo = gpd.GeoDataFrame(data, geometry='geometry', crs=from_epsg(4326))\n",
    "\n",
    "fp = 'data/Kruger_posts.shp'\n",
    "geo.to_file(fp)"
   ]
  },
  {
   "cell_type": "code",
   "execution_count": null,
   "metadata": {},
   "outputs": [],
   "source": [
    "# Check the geodataframe head\n",
    "print(geo.head())"
   ]
  },
  {
   "cell_type": "markdown",
   "metadata": {},
   "source": [
    "**Por último:**\n",
    "- Crie um mapa simples dos pontos (um deles é suficiente):\n",
    "     - Crie o mapa usando a função `.plot ()` no Python. Você pode precisar usar o método `matplotlib.pyplot.show()` para exibir a imagem dentro deste bloco de notas."
   ]
  },
  {
   "cell_type": "code",
   "execution_count": null,
   "metadata": {},
   "outputs": [],
   "source": [
    "# REPLACE THE ERROR BELOW WITH YOUR OWN CODE\n",
    "geo.plot()"
   ]
  },
  {
   "cell_type": "markdown",
   "metadata": {},
   "source": [
    "## Problem 3: o quanto de distância as pessoas viajaram?"
   ]
  },
  {
   "cell_type": "markdown",
   "metadata": {},
   "source": [
    "Neste problema, o objetivo é calcular a distância em metros que os indivíduos percorreram de acordo com os\n",
    "postos em mídia sociais (distâncias euclidianas entre os pontos).\n",
    "\n",
    "Usaremos o shapefile \"Kruger_posts.shp\" gerado no Problema 2 como entrada.\n",
    "\n",
    "**Você pode seguir os seguintes passos:**\n",
    "  - leia no shapefile como um geodataframe\n",
    "  - Reprojetar os dados da projeção WGS84 para a projeção `EPSG: 32735` que significa Zona UTM 35S (zona UTM para a África do Sul) para transformar os dados em sistema métrico.\n",
    "  - Agrupar os dados pelo ID do usuário"
   ]
  },
  {
   "cell_type": "code",
   "execution_count": null,
   "metadata": {},
   "outputs": [],
   "source": [
    "import geopandas as gpd\n",
    "\n",
    "fp = 'Kruger_posts.shp'\n",
    "data = gpd.read_file(fp)\n",
    "data = data.to_crs(epsg=32735)"
   ]
  },
  {
   "cell_type": "code",
   "execution_count": null,
   "metadata": {},
   "outputs": [],
   "source": [
    "# Check that the crs is correct (should be epsg:32735)\n",
    "print(data.crs)"
   ]
  },
  {
   "cell_type": "code",
   "execution_count": null,
   "metadata": {},
   "outputs": [],
   "source": [
    "data_grouped = data.groupby(['userid'])"
   ]
  },
  {
   "cell_type": "markdown",
   "metadata": {},
   "source": [
    "**Em seguida:**\n",
    "- Crie um GeoDataFrame vazio chamado `movements`\n",
    "- Para cada usuário:\n",
    "     - [ordene] (http://pandas.pydata.org/pandas-docs/stable/generated/pandas.DataFrame.sort_values.html) as linhas por timestamp\n",
    "     - crie um objeto LineString baseado nos pontos do usuário\n",
    "     - [adicione] (http://pandas.pydata.org/pandas-docs/stable/generated/pandas.DataFrame.append.html) a geometria e o userid no GeoDataFrame que você criou na última etapa\n",
    "- Defina o CRS dos ``movements`` GeoDataFrame como `` EPSG: 32735`` (código epsg: 32735)"
   ]
  },
  {
   "cell_type": "code",
   "execution_count": null,
   "metadata": {},
   "outputs": [],
   "source": [
    "from fiona.crs import from_epsg\n",
    "from shapely.geometry import LineString\n",
    "movements = gpd.GeoDataFrame(columns=['userid','geometry'], geometry='geometry', crs=from_epsg(32735))\n",
    "\n",
    "# iterate over each group\n",
    "list_df = []\n",
    "idx = 0\n",
    "for userid, df_group in data_grouped:\n",
    "    sort_df = df_group.sort_values(['timestamp'])\n",
    "    \n",
    "    if(len(sort_df.index) > 1):\n",
    "        line = LineString(sort_df['geometry'].tolist())\n",
    "        list_df.append({'userid': userid, 'geometry': line})\n",
    "        idx += 1\n",
    "        \n",
    "movements = movements.append(list_df)"
   ]
  },
  {
   "cell_type": "code",
   "execution_count": null,
   "metadata": {},
   "outputs": [],
   "source": [
    "movements.crs"
   ]
  },
  {
   "cell_type": "markdown",
   "metadata": {},
   "source": [
    "**Por último:**\n",
    "- Calcule os comprimentos das linhas em uma nova coluna chamada ``distance`` no GeoDataFrame ``movements``.\n",
    "- Salve o ``movements`` em um Shapefile chamado ``Some Movements.shp``"
   ]
  },
  {
   "cell_type": "code",
   "execution_count": null,
   "metadata": {},
   "outputs": [],
   "source": [
    "movements['distance'] = movements.length\n",
    "\n",
    "fp = 'data/Some_movements.shp'\n",
    "movements.to_file(fp)"
   ]
  },
  {
   "cell_type": "markdown",
   "metadata": {},
   "source": [
    "Agora você deve poder imprimir respostas para as seguintes perguntas:\n",
    "\n",
    "- Qual foi a menor distância percorrida em metros?\n",
    "- Qual foi a distância média percorrida em metros?\n",
    "- Qual foi a distância máxima percorrida em metros?"
   ]
  },
  {
   "cell_type": "code",
   "execution_count": null,
   "metadata": {},
   "outputs": [],
   "source": [
    "#shortest distance\n",
    "print(\"shortest distance \", movements['distance'].min())\n",
    "#mean distance\n",
    "print(\"mean distance \", movements['distance'].mean())\n",
    "#maximum distance\n",
    "print(\"maximum distance \", movements['distance'].max())"
   ]
  }
 ],
 "metadata": {
  "anaconda-cloud": {},
  "kernelspec": {
   "display_name": "Python 3",
   "language": "python",
   "name": "python3"
  },
  "language_info": {
   "codemirror_mode": {
    "name": "ipython",
    "version": 3
   },
   "file_extension": ".py",
   "mimetype": "text/x-python",
   "name": "python",
   "nbconvert_exporter": "python",
   "pygments_lexer": "ipython3",
   "version": "3.7.4"
  }
 },
 "nbformat": 4,
 "nbformat_minor": 2
}
