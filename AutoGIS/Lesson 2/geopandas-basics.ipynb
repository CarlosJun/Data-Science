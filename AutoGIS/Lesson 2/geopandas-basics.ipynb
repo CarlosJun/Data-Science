{
 "cells": [
  {
   "cell_type": "markdown",
   "metadata": {},
   "source": [
    "# 1. Introdução a Geopandas\n",
    "\n",
    "**Fonte:**\n",
    "este material é uma tradução e adaptação do notebook: <br/> https://github.com/Automating-GIS-processes/site/blob/master/source/notebooks/L2/geopandas-basics.ipynb\n",
    "\n",
    "## 1.1 Baixando os dados\n",
    "\n",
    "Para esta lição vamos usar o conjunto de dados dos bairros da cidade de Fortaleza.\n",
    "\n",
    "Você pode encontrar um catálogo de dados da cidade, disponibilizados por diversidades entidades governamentais, no site: https://dados.fortaleza.ce.gov.br/catalogo\n",
    "\n",
    "Primeiramente vamos fazer download dos dados, podemos baixar os dados direto do navegador ou utilizando o terminal:\n",
    "\n",
    "Vamos baixar os [dados](https://dados.fortaleza.ce.gov.br/dataset/8d20208f-25d6-4ca3-b0bc-1b9b371bd062/resource/781b13ec-b479-4b97-a742-d3b7144672ee/download/limitebairro.json) com o comando\n",
    "`wget` (para MacOS use `curl -O`). Baixe os dados na pasta do nosso projeto executando o seguinte comando no terminal  (caso não saiba como abrir o terminal [veja aqui](https://jupyterlab.readthedocs.io/en/stable/user/terminal.html)):\n",
    "\n",
    "```\n",
    "# Mude o diretório para a pasta Lesson 2\n",
    "$ cd /home/carlos/Data-Science/AutoGIS/Leasson\\ 2/data/\n",
    "$ wget https://dados.fortaleza.ce.gov.br/dataset/8d20208f-25d6-4ca3-b0bc-1b9b371bd062/resource/781b13ec-b479-4b97-a742-d3b7144672ee/download/limitebairro.json\n",
    "    \n",
    "```\n",
    "*Dica: você pode copiar e colar comandos para o terminal do JupyterLab pressionando SHIFT + RIGHT-CLICK com o seu mouse e selecionando 'Paste'.*\n",
    "\n",
    "Agora, a nossa pasta `data` inclui um arquivo no formato JSON nomeado de `limitebairro.json`."
   ]
  },
  {
   "cell_type": "markdown",
   "metadata": {},
   "source": [
    "## 1.2 Lendo arquivos\n",
    "\n",
    "Tipicamente o primeiro passo para fazer uma análise em python consiste em carregar os dados. Para sistemas GIS existem vários tipos de formatos como [Shapefile](https://en.wikipedia.org/wiki/Shapefile), [GeoJSON](https://en.wikipedia.org/wiki/GeoJSON), [KML](https://en.wikipedia.org/wiki/Keyhole_Markup_Language), e [GPKG](https://en.wikipedia.org/wiki/GeoPackage) que são os mais comuns. \n",
    "\n",
    "O [Geopandas](http://geopandas.org/io.html) é capaz de ler de todos estes formatos e muitos outros. Ler dados espaciais pode ser feito facilmente com o Geopandas usando a função `gpd.from_file()`.\n",
    "\n",
    "Você pode instalar o geopandas no nosso ambiente, utilizando o seguinte comando: __conda install geopandas__"
   ]
  },
  {
   "cell_type": "code",
   "execution_count": 2,
   "metadata": {},
   "outputs": [],
   "source": [
    "# Import necessary modules\n",
    "import geopandas as gpd\n",
    "\n",
    "# Set filepath \n",
    "fp = \"data/limitebairro.json\"\n",
    "\n",
    "# Read file using gpd.read_file()\n",
    "data = gpd.read_file(fp, driver='GeoJSON')"
   ]
  },
  {
   "cell_type": "markdown",
   "metadata": {},
   "source": [
    "Agora que o arquivo json foi lido na variável `data`, vamos ver o seu formato:"
   ]
  },
  {
   "cell_type": "code",
   "execution_count": 3,
   "metadata": {},
   "outputs": [
    {
     "data": {
      "text/plain": [
       "geopandas.geodataframe.GeoDataFrame"
      ]
     },
     "execution_count": 3,
     "metadata": {},
     "output_type": "execute_result"
    }
   ],
   "source": [
    "type(data)"
   ]
  },
  {
   "cell_type": "markdown",
   "metadata": {},
   "source": [
    "Podemos ver que o tipo da variável é um `GeoDataFrame`. O objeto GeoDataFrame herda as funcionalidades do `pandas.DataFrame` adicionando operações sobre dados espaciais, usando abordagens semelhantes as estruturas de dados do Pandas (por isso o nome Geopandas). O `GeoDataFrame` possui algumas características especiais e funções internas que facilitam análises de estruturas geometricas.\n",
    "\n",
    "Vamos dar uma olhada nos nosso dados, mostrando as cinco primeiras linhas utilizando a função `head()`."
   ]
  },
  {
   "cell_type": "code",
   "execution_count": 8,
   "metadata": {},
   "outputs": [
    {
     "data": {
      "text/html": [
       "<div>\n",
       "<style scoped>\n",
       "    .dataframe tbody tr th:only-of-type {\n",
       "        vertical-align: middle;\n",
       "    }\n",
       "\n",
       "    .dataframe tbody tr th {\n",
       "        vertical-align: top;\n",
       "    }\n",
       "\n",
       "    .dataframe thead th {\n",
       "        text-align: right;\n",
       "    }\n",
       "</style>\n",
       "<table border=\"1\" class=\"dataframe\">\n",
       "  <thead>\n",
       "    <tr style=\"text-align: right;\">\n",
       "      <th></th>\n",
       "      <th>id</th>\n",
       "      <th>GID</th>\n",
       "      <th>NOME</th>\n",
       "      <th>geometry</th>\n",
       "    </tr>\n",
       "  </thead>\n",
       "  <tbody>\n",
       "    <tr>\n",
       "      <th>0</th>\n",
       "      <td>Limite Bairro.fid-2be50750_153af4824fe_2d2e</td>\n",
       "      <td>6</td>\n",
       "      <td>PASSARE</td>\n",
       "      <td>POLYGON ((-38.53982 -3.79554, -38.53974 -3.795...</td>\n",
       "    </tr>\n",
       "    <tr>\n",
       "      <th>1</th>\n",
       "      <td>Limite Bairro.fid-2be50750_153af4824fe_2d2f</td>\n",
       "      <td>21</td>\n",
       "      <td>CAIS DO PORTO</td>\n",
       "      <td>POLYGON ((-38.47933 -3.72091, -38.47930 -3.720...</td>\n",
       "    </tr>\n",
       "    <tr>\n",
       "      <th>2</th>\n",
       "      <td>Limite Bairro.fid-2be50750_153af4824fe_2d30</td>\n",
       "      <td>22</td>\n",
       "      <td>CIDADE 2000</td>\n",
       "      <td>POLYGON ((-38.46765 -3.74968, -38.46751 -3.749...</td>\n",
       "    </tr>\n",
       "    <tr>\n",
       "      <th>3</th>\n",
       "      <td>Limite Bairro.fid-2be50750_153af4824fe_2d31</td>\n",
       "      <td>23</td>\n",
       "      <td>ALTO DA BALANCA</td>\n",
       "      <td>POLYGON ((-38.51716 -3.76998, -38.51726 -3.769...</td>\n",
       "    </tr>\n",
       "    <tr>\n",
       "      <th>4</th>\n",
       "      <td>Limite Bairro.fid-2be50750_153af4824fe_2d32</td>\n",
       "      <td>17</td>\n",
       "      <td>BARRA DO CEARA</td>\n",
       "      <td>POLYGON ((-38.56888 -3.70169, -38.56893 -3.701...</td>\n",
       "    </tr>\n",
       "  </tbody>\n",
       "</table>\n",
       "</div>"
      ],
      "text/plain": [
       "                                            id  GID             NOME  \\\n",
       "0  Limite Bairro.fid-2be50750_153af4824fe_2d2e    6          PASSARE   \n",
       "1  Limite Bairro.fid-2be50750_153af4824fe_2d2f   21    CAIS DO PORTO   \n",
       "2  Limite Bairro.fid-2be50750_153af4824fe_2d30   22      CIDADE 2000   \n",
       "3  Limite Bairro.fid-2be50750_153af4824fe_2d31   23  ALTO DA BALANCA   \n",
       "4  Limite Bairro.fid-2be50750_153af4824fe_2d32   17   BARRA DO CEARA   \n",
       "\n",
       "                                            geometry  \n",
       "0  POLYGON ((-38.53982 -3.79554, -38.53974 -3.795...  \n",
       "1  POLYGON ((-38.47933 -3.72091, -38.47930 -3.720...  \n",
       "2  POLYGON ((-38.46765 -3.74968, -38.46751 -3.749...  \n",
       "3  POLYGON ((-38.51716 -3.76998, -38.51726 -3.769...  \n",
       "4  POLYGON ((-38.56888 -3.70169, -38.56893 -3.701...  "
      ]
     },
     "execution_count": 8,
     "metadata": {},
     "output_type": "execute_result"
    }
   ],
   "source": [
    "data.head(5)"
   ]
  },
  {
   "cell_type": "markdown",
   "metadata": {},
   "source": [
    "Quando utilizamos dados espaciais, é uma boa ideia explorar os dados utilizando um mapa. Criar um mapa simples de um `GeoDataFrame` é muito fácil: você pode utilizar a função ``.plot()`` que cria um mapa baseado nas geometrias dos dados. Na verdade o Geopandas utiliza o Matplotlib para criar os mapas.\n",
    "\n",
    "Vamos testar a função ``.plot()`` e ver como os nosso dados se parecem em um mapa."
   ]
  },
  {
   "cell_type": "code",
   "execution_count": 9,
   "metadata": {},
   "outputs": [
    {
     "data": {
      "text/plain": [
       "<matplotlib.axes._subplots.AxesSubplot at 0x7f04e39ddd30>"
      ]
     },
     "execution_count": 9,
     "metadata": {},
     "output_type": "execute_result"
    },
    {
     "data": {
      "image/png": "[encoded data removed]",
      "text/plain": [
       "<Figure size 432x288 with 1 Axes>"
      ]
     },
     "metadata": {
      "needs_background": "light"
     },
     "output_type": "display_data"
    }
   ],
   "source": [
    "data.plot()"
   ]
  },
  {
   "cell_type": "markdown",
   "metadata": {},
   "source": [
    "Como podemos ver, é realmente muitio fácil produzir um mapa de um arquivo JSON utilizando o geopandas. O módulo automáticamente posiciona seu mapa de uma forma que todos os dados são inseridos."
   ]
  },
  {
   "cell_type": "markdown",
   "metadata": {},
   "source": [
    "## 1.2 Escrevendo um arquivo\n",
    "\n",
    "Escrever os dados espaciais no disco utilizando o GeoPandas também é muito fácil.\n",
    "\n",
    "Vamos selecionar apenas as 50 primeiras linhas dos nossos dados e escrever em um novo arquivo utilizando a função ``gpd.to_file()``. Desta vez, para salvar os arquivos, vamos utilizar o formato padrão Shapefile (.shp)."
   ]
  },
  {
   "cell_type": "code",
   "execution_count": 10,
   "metadata": {},
   "outputs": [],
   "source": [
    "# Create a output path for the data\n",
    "outfp = \"data/limitebairro.shp\"\n",
    "\n",
    "# Select first 50 rows\n",
    "selection = data[0:50]\n",
    "\n",
    "# Write those rows into a new Shapefile (the default output file format is Shapefile)\n",
    "selection.to_file(outfp)"
   ]
  },
  {
   "cell_type": "markdown",
   "metadata": {},
   "source": [
    "Perceba que os arquivos Shapefile são constituidos de muitos arquivos separados, como ´.dbf´ que contém informações dos atributos, o arquivo '.prj' que contém informações sobre coordenada do sistema de referência. "
   ]
  },
  {
   "cell_type": "markdown",
   "metadata": {},
   "source": [
    "**TAREFA:** Vamos ler o novo arquivo Shapefile criado e ver como os dados se parecem."
   ]
  },
  {
   "cell_type": "code",
   "execution_count": 26,
   "metadata": {},
   "outputs": [],
   "source": [
    "## CODE HERE ##"
   ]
  },
  {
   "cell_type": "markdown",
   "metadata": {},
   "source": [
    "## 1.3 Operando com geometrias no Geopandas\n",
    "\n",
    "O geopandas tira vantagem das geometrias do modulo Shapely que usamos anteriormente. As geometrias são armazenadas em uma coluna chamado *geometry* que é um nome padrão para armazenar as informações de geometria no geopandas.\n",
    "\n",
    "Vamos ver os 5 primeiros dados da coluna 'geometry':"
   ]
  },
  {
   "cell_type": "code",
   "execution_count": 11,
   "metadata": {},
   "outputs": [
    {
     "name": "stdout",
     "output_type": "stream",
     "text": [
      "0    POLYGON ((-38.53982 -3.79554, -38.53974 -3.795...\n",
      "1    POLYGON ((-38.47933 -3.72091, -38.47930 -3.720...\n",
      "2    POLYGON ((-38.46765 -3.74968, -38.46751 -3.749...\n",
      "3    POLYGON ((-38.51716 -3.76998, -38.51726 -3.769...\n",
      "4    POLYGON ((-38.56888 -3.70169, -38.56893 -3.701...\n",
      "Name: geometry, dtype: geometry\n"
     ]
    }
   ],
   "source": [
    "# It is possible to get a specific column by specifying the column name within square brackets []\n",
    "print(data['geometry'].head(5))"
   ]
  },
  {
   "cell_type": "markdown",
   "metadata": {},
   "source": [
    "Como podemos ver a coluna `geometry` contém valores familiares, que são basicamente os objetos `Polygons` que usamos anteriormente do módulo Shapely. Como os dados espaciais estão armazenados em objetos Shapely, **logo é possível usar todas as funcionalidades do módulo Shapely**.\n",
    "\n",
    "- Vamos testar essa funcionalidade, percorrendo por nossos dados e mostrando a `area` dos cinco primeiros Polígonos.\n",
    "  - Nós podemos percorrer as linhas dos nossos dataset usando a função `iterrows()`"
   ]
  },
  {
   "cell_type": "code",
   "execution_count": 12,
   "metadata": {},
   "outputs": [
    {
     "name": "stdout",
     "output_type": "stream",
     "text": [
      "Polygon area at index 0 is: 0.00058\n",
      "Polygon area at index 1 is: 0.00021\n",
      "Polygon area at index 2 is: 0.00004\n",
      "Polygon area at index 3 is: 0.00007\n",
      "Polygon area at index 4 is: 0.00033\n"
     ]
    }
   ],
   "source": [
    "# Make a selection that contains only the first five rows\n",
    "selection = data[0:5]\n",
    "\n",
    "# Iterate over rows and print the area of a Polygon\n",
    "for index, row in selection.iterrows():\n",
    "    # Get the area of the polygon\n",
    "    poly_area = row['geometry'].area\n",
    "    # Print information for the user\n",
    "    print(\"Polygon area at index {index} is: {area:.5f}\".format(index=index, area=poly_area))"
   ]
  },
  {
   "cell_type": "markdown",
   "metadata": {},
   "source": [
    "Como você pode observar, todas as funcionalidade do **Pandas**, como a função `iterrows()` estão diretamente disponíveis no Geopandas sem precisar chamar o pandas diretamente, isso porque o Geopandas é uma **extensão** do Pandas.\n",
    "\n",
    "- Vamos criar um nova coluna no nosso GeoDataFrame em que nós calculamos e armazenamos as áreas dos polígonos individualmente em uma nova coluna. Calcular a área dos nosso polygons é muito fácil no geopandas usando o atributo ``GeoDataFrame.area``, desta forma, não é preciso percorrer todos os dados linha por linha, como fizemos anteriormente."
   ]
  },
  {
   "cell_type": "code",
   "execution_count": 15,
   "metadata": {},
   "outputs": [
    {
     "data": {
      "text/html": [
       "<div>\n",
       "<style scoped>\n",
       "    .dataframe tbody tr th:only-of-type {\n",
       "        vertical-align: middle;\n",
       "    }\n",
       "\n",
       "    .dataframe tbody tr th {\n",
       "        vertical-align: top;\n",
       "    }\n",
       "\n",
       "    .dataframe thead th {\n",
       "        text-align: right;\n",
       "    }\n",
       "</style>\n",
       "<table border=\"1\" class=\"dataframe\">\n",
       "  <thead>\n",
       "    <tr style=\"text-align: right;\">\n",
       "      <th></th>\n",
       "      <th>id</th>\n",
       "      <th>GID</th>\n",
       "      <th>NOME</th>\n",
       "      <th>geometry</th>\n",
       "      <th>area</th>\n",
       "    </tr>\n",
       "  </thead>\n",
       "  <tbody>\n",
       "    <tr>\n",
       "      <th>0</th>\n",
       "      <td>Limite Bairro.fid-2be50750_153af4824fe_2d2e</td>\n",
       "      <td>6</td>\n",
       "      <td>PASSARE</td>\n",
       "      <td>POLYGON ((-38.53982 -3.79554, -38.53974 -3.795...</td>\n",
       "      <td>0.000584</td>\n",
       "    </tr>\n",
       "    <tr>\n",
       "      <th>1</th>\n",
       "      <td>Limite Bairro.fid-2be50750_153af4824fe_2d2f</td>\n",
       "      <td>21</td>\n",
       "      <td>CAIS DO PORTO</td>\n",
       "      <td>POLYGON ((-38.47933 -3.72091, -38.47930 -3.720...</td>\n",
       "      <td>0.000209</td>\n",
       "    </tr>\n",
       "    <tr>\n",
       "      <th>2</th>\n",
       "      <td>Limite Bairro.fid-2be50750_153af4824fe_2d30</td>\n",
       "      <td>22</td>\n",
       "      <td>CIDADE 2000</td>\n",
       "      <td>POLYGON ((-38.46765 -3.74968, -38.46751 -3.749...</td>\n",
       "      <td>0.000041</td>\n",
       "    </tr>\n",
       "    <tr>\n",
       "      <th>3</th>\n",
       "      <td>Limite Bairro.fid-2be50750_153af4824fe_2d31</td>\n",
       "      <td>23</td>\n",
       "      <td>ALTO DA BALANCA</td>\n",
       "      <td>POLYGON ((-38.51716 -3.76998, -38.51726 -3.769...</td>\n",
       "      <td>0.000075</td>\n",
       "    </tr>\n",
       "    <tr>\n",
       "      <th>4</th>\n",
       "      <td>Limite Bairro.fid-2be50750_153af4824fe_2d32</td>\n",
       "      <td>17</td>\n",
       "      <td>BARRA DO CEARA</td>\n",
       "      <td>POLYGON ((-38.56888 -3.70169, -38.56893 -3.701...</td>\n",
       "      <td>0.000334</td>\n",
       "    </tr>\n",
       "  </tbody>\n",
       "</table>\n",
       "</div>"
      ],
      "text/plain": [
       "                                            id  GID             NOME  \\\n",
       "0  Limite Bairro.fid-2be50750_153af4824fe_2d2e    6          PASSARE   \n",
       "1  Limite Bairro.fid-2be50750_153af4824fe_2d2f   21    CAIS DO PORTO   \n",
       "2  Limite Bairro.fid-2be50750_153af4824fe_2d30   22      CIDADE 2000   \n",
       "3  Limite Bairro.fid-2be50750_153af4824fe_2d31   23  ALTO DA BALANCA   \n",
       "4  Limite Bairro.fid-2be50750_153af4824fe_2d32   17   BARRA DO CEARA   \n",
       "\n",
       "                                            geometry      area  \n",
       "0  POLYGON ((-38.53982 -3.79554, -38.53974 -3.795...  0.000584  \n",
       "1  POLYGON ((-38.47933 -3.72091, -38.47930 -3.720...  0.000209  \n",
       "2  POLYGON ((-38.46765 -3.74968, -38.46751 -3.749...  0.000041  \n",
       "3  POLYGON ((-38.51716 -3.76998, -38.51726 -3.769...  0.000075  \n",
       "4  POLYGON ((-38.56888 -3.70169, -38.56893 -3.701...  0.000334  "
      ]
     },
     "execution_count": 15,
     "metadata": {},
     "output_type": "execute_result"
    }
   ],
   "source": [
    "# Create a new column called 'area' and assign the area of the Polygons into it\n",
    "data['area'] = data.area\n",
    "\n",
    "# Print first 5 rows of the data\n",
    "data.head(5)"
   ]
  },
  {
   "cell_type": "markdown",
   "metadata": {},
   "source": [
    "Como podemos ver o nosso dataset ganhou uma nova coluna com nome `area` em que foram armazenadas as áreas de cada polígono.\n",
    "\n",
    "- Vamos também checar outras funções como `min`, `max` e `mean` que são funções bem familiares do pandas."
   ]
  },
  {
   "cell_type": "code",
   "execution_count": 22,
   "metadata": {},
   "outputs": [
    {
     "name": "stdout",
     "output_type": "stream",
     "text": [
      "Max area: 0.00112\n",
      "Min area: 3e-05\n",
      "Mean area: 0.00021\n"
     ]
    }
   ],
   "source": [
    "# Maximum area\n",
    "max_area = data['area'].max()\n",
    "\n",
    "# Minimum area\n",
    "min_area = data['area'].min()\n",
    "\n",
    "# Mean area\n",
    "mean_area = data['area'].mean()\n",
    "\n",
    "print(\"Max area: {max}\\nMin area: {min}\\nMean area: {mean}\".format(max=round(max_area, 5), min=round(min_area, 5), mean=round(mean_area, 5)))"
   ]
  },
  {
   "cell_type": "markdown",
   "metadata": {},
   "source": [
    "O polígono com maior área no nosso dataset apresenta 0.00112 graus decimais quadrados. Para realizar operações sobre esses dados, seria mais interessante ter essas informações em km², na próxima aula, vamos ver como realizar uma transformação sobre os dados para obter resultados em metros e kilometros."
   ]
  },
  {
   "cell_type": "markdown",
   "metadata": {},
   "source": [
    "## 1.4 Criando geometrias para um GeoDataFrame\n",
    "\n",
    "Desde que o geopandas tira vantagem dos objetos do módulo shapely, é possível criar um Shapefile do zero, passando objetos geometricos para um `GeoDataFrame`. Assim podemos converter coordenadas em um arquivo texto (.csv) para arquivos Shapefile, GeoJSON e outros formatos. Em seguida vamos ver como isto pode ser feito.\n",
    "\n",
    "- Vamos primeiro criar um `GeoDataFrame` vázio."
   ]
  },
  {
   "cell_type": "code",
   "execution_count": 23,
   "metadata": {},
   "outputs": [
    {
     "name": "stdout",
     "output_type": "stream",
     "text": [
      "Empty GeoDataFrame\n",
      "Columns: []\n",
      "Index: []\n"
     ]
    }
   ],
   "source": [
    "# Import necessary modules first\n",
    "import geopandas as gpd\n",
    "from shapely.geometry import Point, Polygon\n",
    "\n",
    "# Create an empty geopandas GeoDataFrame\n",
    "newdata = gpd.GeoDataFrame()\n",
    "\n",
    "# Let's see what we have at the moment\n",
    "print(newdata)"
   ]
  },
  {
   "cell_type": "markdown",
   "metadata": {},
   "source": [
    "como pode ser observado, o `GeoDataFrame` está vázio, pois ainda não armazenamos nenhum dado nele.\n",
    "\n",
    "- Agora vamos criar uma nova coluna chamada `geometry` que armazenará os nosso objetos geometricos."
   ]
  },
  {
   "cell_type": "code",
   "execution_count": 24,
   "metadata": {},
   "outputs": [
    {
     "name": "stdout",
     "output_type": "stream",
     "text": [
      "Empty GeoDataFrame\n",
      "Columns: [geometry]\n",
      "Index: []\n"
     ]
    }
   ],
   "source": [
    "# Create a new column called 'geometry' to the GeoDataFrame\n",
    "newdata['geometry'] = None\n",
    "\n",
    "# Let's again see what's inside\n",
    "print(newdata)"
   ]
  },
  {
   "cell_type": "markdown",
   "metadata": {},
   "source": [
    "Agora temos a colina `geometry` no nosso GeoDataFrame, mas não temos nenhum dado armazenado ainda.\n",
    "\n",
    "- Vamos criar um `Polygon` aproximado representando o Campus do Pici da UFC, que posteriormente vamos adicionar ao nosso GeoDataFrame:"
   ]
  },
  {
   "cell_type": "code",
   "execution_count": 27,
   "metadata": {},
   "outputs": [
    {
     "name": "stdout",
     "output_type": "stream",
     "text": [
      "POLYGON ((-3.73745 -38.57351, -3.74404 -38.58482, -3.74632 -38.58471, -3.7462 -38.58146, -3.74711 -38.582, -3.75738 -38.57242, -3.7568 -38.57186, -3.75608 -38.57256, -3.7549 -38.5709, -3.754 -38.57079, -3.74978 -38.57464, -3.74648 -38.57122, -3.74857 -38.5692, -3.746 -38.5667, -3.74132 -38.56938, -3.73688 -38.56933, -3.73745 -38.57351))\n"
     ]
    }
   ],
   "source": [
    "# Approximate coordinates of Campus do Pici, UFC (Fortaleza/CE)\n",
    "coordinates = [(-3.73745, -38.57351), (-3.74404, -38.58482), (-3.74632, -38.58471), (-3.74620, -38.58146),\n",
    "               (-3.74711, -38.58200), (-3.75738, -38.57242), (-3.75680, -38.57186), (-3.75608, -38.57256),\n",
    "               (-3.75490, -38.57090), (-3.75400, -38.57079), (-3.74978, -38.57464), (-3.74648, -38.57122),\n",
    "               (-3.74857, -38.56920), (-3.74600, -38.56670), (-3.74132, -38.56938), (-3.73688, -38.56933)]\n",
    "\n",
    "# Create a Shapely polygon from the coordinate-tuple list\n",
    "poly = Polygon(coordinates)\n",
    "\n",
    "# Let's see what we have\n",
    "print(poly)"
   ]
  },
  {
   "cell_type": "code",
   "execution_count": 28,
   "metadata": {},
   "outputs": [
    {
     "data": {
      "image/svg+xml": [
       "<svg xmlns=\"http://www.w3.org/2000/svg\" xmlns:xlink=\"http://www.w3.org/1999/xlink\" width=\"100.0\" height=\"100.0\" viewBox=\"-3.7582 -38.58564 0.022139999999999826 0.019759999999998\" preserveAspectRatio=\"xMinYMin meet\"><g transform=\"matrix(1,0,0,-1,0,-77.15152)\"><path fill-rule=\"evenodd\" fill=\"#66cc99\" stroke=\"#555555\" stroke-width=\"0.0004427999999999965\" opacity=\"0.6\" d=\"M -3.73745,-38.57351 L -3.74404,-38.58482 L -3.74632,-38.58471 L -3.7462,-38.58146 L -3.74711,-38.582 L -3.75738,-38.57242 L -3.7568,-38.57186 L -3.75608,-38.57256 L -3.7549,-38.5709 L -3.754,-38.57079 L -3.74978,-38.57464 L -3.74648,-38.57122 L -3.74857,-38.5692 L -3.746,-38.5667 L -3.74132,-38.56938 L -3.73688,-38.56933 L -3.73745,-38.57351 z\" /></g></svg>"
      ],
      "text/plain": [
       "<shapely.geometry.polygon.Polygon at 0x7f04e12c81f0>"
      ]
     },
     "execution_count": 28,
     "metadata": {},
     "output_type": "execute_result"
    }
   ],
   "source": [
    "poly"
   ]
  },
  {
   "cell_type": "markdown",
   "metadata": {},
   "source": [
    "Agora que temos no objeto `Polygon`, vamos inseri-lo na coluna ´geoemtry´ do nosso GeoDataFrame, na posição 0:"
   ]
  },
  {
   "cell_type": "code",
   "execution_count": 29,
   "metadata": {},
   "outputs": [
    {
     "name": "stdout",
     "output_type": "stream",
     "text": [
      "                                            geometry\n",
      "0  POLYGON ((-3.73745 -38.57351, -3.74404 -38.584...\n"
     ]
    }
   ],
   "source": [
    "# Insert the polygon into 'geometry' -column at index 0\n",
    "newdata.loc[0, 'geometry'] = poly\n",
    "\n",
    "# Let's see what we have now\n",
    "print(newdata)"
   ]
  },
  {
   "cell_type": "markdown",
   "metadata": {},
   "source": [
    "Legal, agora nós temos um `GeoDataFrame` com um polígono, já podemos exportar para um arquivo Shapefile. Além disso podemos querer adicionar mais informações as nossas geometrias.\n",
    "\n",
    "- Antes de salvar o nosso novo dataframe,  vamos adicionar uma nova coluna chamada de `location` com o texto `Campus do Pici`, que descreve o local que representa a geometria. "
   ]
  },
  {
   "cell_type": "code",
   "execution_count": 30,
   "metadata": {},
   "outputs": [
    {
     "name": "stdout",
     "output_type": "stream",
     "text": [
      "                                            geometry        location\n",
      "0  POLYGON ((-3.73745 -38.57351, -3.74404 -38.584...  Campus do Pici\n"
     ]
    }
   ],
   "source": [
    "# Add a new column and insert data \n",
    "newdata.loc[0, 'location'] = 'Campus do Pici'\n",
    "\n",
    "# Let's check the data\n",
    "print(newdata)"
   ]
  },
  {
   "cell_type": "markdown",
   "metadata": {},
   "source": [
    "Certo, agora temos informações adicionais para reconhecer o que a nossa geoemetria representa.\n",
    "\n",
    "Antes de exportar os nossos dados é um  boa ideia determinar o **sistema de referência de coordenadas (projeção) do nosso GeoDataFrame.** Para isso, nós podemos utilizar o atributo `.crs` que mostra o sistema de coordenadas dos dados, que no nosso caso vai estar vázio, pois estamos criando um `GeoDataFrame` do zero.\n",
    "\n",
    "Veremos mais sobre projeção na próxima aula.\n",
    "\n",
    "- Verifique a projeção do nosso recém criado GeoDataFrame\n"
   ]
  },
  {
   "cell_type": "code",
   "execution_count": 31,
   "metadata": {},
   "outputs": [
    {
     "name": "stdout",
     "output_type": "stream",
     "text": [
      "None\n"
     ]
    }
   ],
   "source": [
    "print(newdata.crs)"
   ]
  },
  {
   "cell_type": "markdown",
   "metadata": {},
   "source": [
    "- Vamos adicionar um crs para o nosso GeoDataFrame. O padrão utilizado no noso exemplo foi o sistema de coordenadas WGS84 (código epsg: 4326):"
   ]
  },
  {
   "cell_type": "code",
   "execution_count": 37,
   "metadata": {},
   "outputs": [
    {
     "name": "stdout",
     "output_type": "stream",
     "text": [
      "EPSG:4326\n"
     ]
    }
   ],
   "source": [
    "# Set the GeoDataFrame's coordinate system to WGS84 (i.e. epsg code 4326)\n",
    "newdata.crs = 'EPSG:4326'\n",
    "\n",
    "# Let's see how the crs definition looks like\n",
    "print(newdata.crs)"
   ]
  },
  {
   "cell_type": "markdown",
   "metadata": {},
   "source": [
    "Como podemos ver, agora nós possuimos um sistema de referência de coordenadas (CRS) no nosso \n",
    "`GeoDataFrame`. A informação de CRS aqui é uma string em python contendo os valores necessários para o geopandas criar um arquivo `.prj` para o nosso Shapefile, que contém as informações de CRS.\n",
    "\n",
    "- Finalmente, podemos exportar o nosso GeoDataFrame utilizando a função `.to_file()`. A função funciona basicamente como as funções de exportação do numpy ou pandas, mas aqui precisamos apenas especificar o caminho no qual o nosso shapefile será salvo:"
   ]
  },
  {
   "cell_type": "code",
   "execution_count": 38,
   "metadata": {},
   "outputs": [],
   "source": [
    "# Determine the output path for the Shapefile\n",
    "outfp = \"data/pici.shp\"\n",
    "\n",
    "# Write the data into that Shapefile\n",
    "newdata.to_file(outfp)"
   ]
  },
  {
   "cell_type": "markdown",
   "metadata": {},
   "source": [
    "## Resumo\n",
    "\n",
    "Neste tutorial nós introduzimos os primeiros passaos para usar geopandas. Mais especificamente \n",
    "voce deve ter aprendido a fazer:\n",
    "\n",
    "**1)** Ler dados de Shapefile usando geopandas,\n",
    "\n",
    "**2)** Escrever dados GeoDataFrame de Shapefile usando geopandas,\n",
    "\n",
    "**3)** criar um GeoDataFrame do zero."
   ]
  }
 ],
 "metadata": {
  "kernelspec": {
   "display_name": "Python 3",
   "language": "python",
   "name": "python3"
  },
  "language_info": {
   "codemirror_mode": {
    "name": "ipython",
    "version": 3
   },
   "file_extension": ".py",
   "mimetype": "text/x-python",
   "name": "python",
   "nbconvert_exporter": "python",
   "pygments_lexer": "ipython3",
   "version": "3.8.2"
  }
 },
 "nbformat": 4,
 "nbformat_minor": 1
}
