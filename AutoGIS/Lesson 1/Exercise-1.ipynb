{
 "cells": [
  {
   "cell_type": "markdown",
   "metadata": {},
   "source": [
    "# Exercise 1: Trabalhando com objetos geométricos"
   ]
  },
  {
   "cell_type": "markdown",
   "metadata": {},
   "source": [
    "Neste exercício vamos praticas como criar objetos usando o módulo Shapely e como encontrar diferentes atributos dessas geometrias. Vamos utilizar as funções aprendidas anteriormente para fazer diferentes operações GIS."
   ]
  },
  {
   "cell_type": "markdown",
   "metadata": {},
   "source": [
    "## Problema 1: criando geometrias básicas"
   ]
  },
  {
   "cell_type": "markdown",
   "metadata": {},
   "source": [
    "1. Crie uma função chamada `create_point_geom()` que recebe dois parâmetros (x_coord, y_coord). Função deve retornar um objeto `Point` do módulo Shapely. "
   ]
  },
  {
   "cell_type": "code",
   "execution_count": 5,
   "metadata": {},
   "outputs": [
    {
     "ename": "SyntaxError",
     "evalue": "unexpected EOF while parsing (<ipython-input-5-e4d664e63632>, line 2)",
     "output_type": "error",
     "traceback": [
      "\u001b[0;36m  File \u001b[0;32m\"<ipython-input-5-e4d664e63632>\"\u001b[0;36m, line \u001b[0;32m2\u001b[0m\n\u001b[0;31m    ## CODE HERE ##\u001b[0m\n\u001b[0m                   ^\u001b[0m\n\u001b[0;31mSyntaxError\u001b[0m\u001b[0;31m:\u001b[0m unexpected EOF while parsing\n"
     ]
    }
   ],
   "source": [
    "def create_point_geom(x_coord, y_coord):\n",
    "    ## CODE HERE ##"
   ]
  },
  {
   "cell_type": "markdown",
   "metadata": {},
   "source": [
    "Demonstre o uso da função códificada na célula acima criando um objeto `Point`"
   ]
  },
  {
   "cell_type": "code",
   "execution_count": 4,
   "metadata": {},
   "outputs": [],
   "source": [
    "## CODE HERE ##"
   ]
  },
  {
   "cell_type": "markdown",
   "metadata": {},
   "source": [
    "2. Crie uma função chamada **`create_line_geom()`** que recebe uma lista de objetos `Point` como parâmetro chamado de **`points`** e retorna um objeto `LineString` contendo estes pontos. Em adição, você deve tomar cuidado para a função tratar alguns casos como:\n",
    " - Dentro da função, deve ser checado com `assert` se o parâmetro de entrada é uma **list**. Se outra coisa além de uma lista vor enviado como parâmetro deve ser retornado a seguinte mensagem de erro: `\"Input should be a list!\"`\n",
    " - Também deverá ser verificado com `assert`se a lista de entrada contém pelo menos dois valores. Caso contrário retorne uma mensagem de erro: `\"LineString object requires at least two Points!\"`"
   ]
  },
  {
   "cell_type": "code",
   "execution_count": 6,
   "metadata": {},
   "outputs": [
    {
     "ename": "SyntaxError",
     "evalue": "unexpected EOF while parsing (<ipython-input-6-637caec84685>, line 2)",
     "output_type": "error",
     "traceback": [
      "\u001b[0;36m  File \u001b[0;32m\"<ipython-input-6-637caec84685>\"\u001b[0;36m, line \u001b[0;32m2\u001b[0m\n\u001b[0;31m    ## CODE HERE ##\u001b[0m\n\u001b[0m                   ^\u001b[0m\n\u001b[0;31mSyntaxError\u001b[0m\u001b[0;31m:\u001b[0m unexpected EOF while parsing\n"
     ]
    }
   ],
   "source": [
    "def create_line_geom(points):\n",
    "    ## CODE HERE ##"
   ]
  },
  {
   "cell_type": "markdown",
   "metadata": {},
   "source": [
    "Demonstre o uso da função acima criando um `LineString` com dois pontos: Point(45.2, 22.34) e Point(100.22, -3.20)"
   ]
  },
  {
   "cell_type": "code",
   "execution_count": 7,
   "metadata": {},
   "outputs": [],
   "source": [
    "## CODE HERE ##"
   ]
  },
  {
   "cell_type": "markdown",
   "metadata": {},
   "source": [
    "2. Crie uma função chamada **`create_poly_geom()`** que recebe um parâmetro chamado de `coords`, que é uma lista de objetos `Point` e retorna um objeto `Polygon`.\n",
    "\n",
    " - Dentro da função, deve ser checado com `assert` se o parâmetro de entrada é uma **list**. Se outra coisa além de uma lista vor enviado como parâmetro deve ser retornado a seguinte mensagem de erro: `\"Input should be a list!\"`\n",
    " - Também deverá ser verificado com `assert`se a lista de entrada contém pelo menos três valores. Caso contrário retorne uma mensagem de erro: `\"Polygon object requires at least three Points!\"`"
   ]
  },
  {
   "cell_type": "code",
   "execution_count": null,
   "metadata": {},
   "outputs": [],
   "source": [
    "def create_poly_geom(points):\n",
    "    ## CODE HERE ##"
   ]
  },
  {
   "cell_type": "markdown",
   "metadata": {},
   "source": [
    "Demonstre o uso da função acima criando um `Polygon` com três pontos: Point(45.2, 22.34), Point(100.22, -3.20) & Point(70.0, 10.20)"
   ]
  },
  {
   "cell_type": "code",
   "execution_count": null,
   "metadata": {},
   "outputs": [],
   "source": [
    "## CODE HERE ##"
   ]
  }
 ],
 "metadata": {
  "kernelspec": {
   "display_name": "Python 3",
   "language": "python",
   "name": "python3"
  },
  "language_info": {
   "codemirror_mode": {
    "name": "ipython",
    "version": 3
   },
   "file_extension": ".py",
   "mimetype": "text/x-python",
   "name": "python",
   "nbconvert_exporter": "python",
   "pygments_lexer": "ipython3",
   "version": "3.7.4"
  }
 },
 "nbformat": 4,
 "nbformat_minor": 2
}
