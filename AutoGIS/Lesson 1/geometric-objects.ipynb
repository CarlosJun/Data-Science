{
 "cells": [
  {
   "cell_type": "markdown",
   "metadata": {},
   "source": [
    "# Biblioteca Shapely e Objetos geométricos \n",
    "\n",
    "**Fonte:**\n",
    "este material é uma tradução e adaptação do notebook: <br/> https://github.com/Automating-GIS-processes/site/blob/master/source/notebooks/L1/geometric-objects.ipynb\n",
    "\n",
    "## Modelo espacial de dados\n",
    "\n",
    "![Spatial data model](images/SpatialDataModel.png)\n",
    "*Objetos fundamentais que podem ser utilizados em python com a biblioteca* [Shapely](https://shapely.readthedocs.io/en/latest/project.html) \n",
    "\n",
    "Os objetos geométricos fundamentais para trabalhar com dados georeferenciados são: `Points`, `Lines` e `Polygons`. Em python podemos usar o módulo [Shapely](https://shapely.readthedocs.io/en/latest/project.html) para trabalhar com esses `Geometric Objects`. Entre algumas funcionalidades, podemos citar:\n",
    "\n",
    "-  Criar uma `Line` ou `Polygon` de uma `Collection` de geometrias `Point`;\n",
    "-  Calcular área, tamanho, limites e etc. dos objetos geométricos;\n",
    "-  Realizar operações geométricas como: `Union`, `Difference`, `Distance` e etc;\n",
    "-  Realizar consultas espaciais entre geometrias, como: `Intersects`, `Touches`, `Crosses`, `Within` e etc.\n",
    "\n",
    "**Os objetos geométricos consistem em tuplas de coordenadas, em que:**\n",
    "\n",
    "-  `Point`: representa um ponto no espaço. Podendo ser bidimensional (x, y) ou tridimensional (x, y, z);\n",
    "-  `LineString`: representa uma sequência de pontos para formar uma linha. Uma linha consiste de pelo menos dois pontos.\n",
    "-  `Polygon`: representa um polígono preenchido, formado por uma lista de pelo menos três pontos, que indicam uma estrutura de anel externo. Os polígonos também podem apresentar aberturas internas (buracos).\n",
    "\n",
    "**Também é possível construir uma coleção de objetos geométricos, como:**\n",
    "\n",
    "-  `MultiPoint`: representa uma coleção de `Point`;\n",
    "-  `MultiLineString`: representa uma coleção de `LineString`;\n",
    "-  `MultiPolygon`: representa uma coleção de `Polygon`.\n",
    "\n",
    "É possível instalar o módulo Shapely em nosso ambiente através do comando:\n",
    "*conda install shapely*"
   ]
  },
  {
   "cell_type": "markdown",
   "metadata": {},
   "source": [
    "## 1. Objeto Point (Ponto)\n",
    "\n",
    "Para criar um objeto `Point` é fácil, basta passar as coordenadas x e y para o objeto `Point()` (também é possível incluir a coordenada z):"
   ]
  },
  {
   "cell_type": "code",
   "execution_count": 5,
   "metadata": {},
   "outputs": [],
   "source": [
    "# Import necessary geometric objects from shapely module\n",
    "from shapely.geometry import Point, LineString, Polygon\n",
    "\n",
    "# Create Point geometric object(s) with coordinates\n",
    "point1 = Point(2.2, 4.2)\n",
    "point2 = Point(7.2, -25.1)\n",
    "point3 = Point(9.26, -2.456)\n",
    "point3D = Point(9.26, -2.456, 0.57)"
   ]
  },
  {
   "cell_type": "markdown",
   "metadata": {},
   "source": [
    "Vamos ver como a variável do tipo `Point` é mostrada no jupyter:"
   ]
  },
  {
   "cell_type": "code",
   "execution_count": 8,
   "metadata": {},
   "outputs": [
    {
     "data": {
      "image/svg+xml": [
       "<svg xmlns=\"http://www.w3.org/2000/svg\" xmlns:xlink=\"http://www.w3.org/1999/xlink\" width=\"100.0\" height=\"100.0\" viewBox=\"1.2000000000000002 3.2 2.0 2.0\" preserveAspectRatio=\"xMinYMin meet\"><g transform=\"matrix(1,0,0,-1,0,8.4)\"><circle cx=\"2.2\" cy=\"4.2\" r=\"0.06\" stroke=\"#555555\" stroke-width=\"0.02\" fill=\"#66cc99\" opacity=\"0.6\" /></g></svg>"
      ],
      "text/plain": [
       "<shapely.geometry.point.Point at 0x7f4ed83ea590>"
      ]
     },
     "execution_count": 8,
     "metadata": {},
     "output_type": "execute_result"
    }
   ],
   "source": [
    "point1"
   ]
  },
  {
   "cell_type": "markdown",
   "metadata": {},
   "source": [
    "Também podemos imprimir os pontos para ver a sua definição:"
   ]
  },
  {
   "cell_type": "code",
   "execution_count": 13,
   "metadata": {},
   "outputs": [
    {
     "name": "stdout",
     "output_type": "stream",
     "text": [
      "POINT (2.2 4.2)\n",
      "POINT Z (9.26 -2.456 0.57)\n"
     ]
    }
   ],
   "source": [
    "print(point1)\n",
    "print(point3D)"
   ]
  },
  {
   "cell_type": "markdown",
   "metadata": {},
   "source": [
    " Pontos tridimensionais podem ser reconhecidos pela letra maiúscula Z."
   ]
  },
  {
   "cell_type": "markdown",
   "metadata": {},
   "source": [
    "Vamos verificar o tipo de dados da variável _point_:"
   ]
  },
  {
   "cell_type": "code",
   "execution_count": 11,
   "metadata": {},
   "outputs": [
    {
     "name": "stdout",
     "output_type": "stream",
     "text": [
      "<class 'shapely.geometry.point.Point'>\n"
     ]
    }
   ],
   "source": [
    "# What is the type of the point?\n",
    "print(type(point1))"
   ]
  },
  {
   "cell_type": "markdown",
   "metadata": {},
   "source": [
    "Podemos observar que o tipo do objeto ponto é um `Point` do módulo Shapely que é especificado em um formato baseado na biblioteca [GEOS](https://trac.osgeo.org/geos) do C++, que é um biblioteca padrão de GIS. Uma das bibliotecas utilizadas para construir por exemplo o [QGIS](http://www.qgis.org/en/site/)."
   ]
  },
  {
   "cell_type": "markdown",
   "metadata": {},
   "source": [
    "### 1.1 Objeto Point - Atributos e funções\n",
    "\n",
    "Os objetos do tipo `Point` já possuem atributos e funções internas para realizar operações básicas. Uma das funções mais úteis é a capacidade de extrair as coordenadas e a possibilidade de calcular a distância euclidiana entre dois pontos."
   ]
  },
  {
   "cell_type": "code",
   "execution_count": 14,
   "metadata": {},
   "outputs": [
    {
     "data": {
      "text/plain": [
       "shapely.coords.CoordinateSequence"
      ]
     },
     "execution_count": 14,
     "metadata": {},
     "output_type": "execute_result"
    }
   ],
   "source": [
    "# Get the coordinates\n",
    "point_coords = point1.coords\n",
    "\n",
    "# What is the type of this?\n",
    "type(point_coords)"
   ]
  },
  {
   "cell_type": "markdown",
   "metadata": {},
   "source": [
    "Como pode ser observado o tipo de dado da variável `point_coords` é um Shapely CoordinateSequence.\n",
    "\n",
    "Vamos ver como recuperar as coordenadas deste objeto:"
   ]
  },
  {
   "cell_type": "code",
   "execution_count": 16,
   "metadata": {},
   "outputs": [
    {
     "name": "stdout",
     "output_type": "stream",
     "text": [
      "xy: (array('d', [2.2]), array('d', [4.2])) \n",
      "\n",
      "x: 2.2 \n",
      "\n",
      "y: 4.2\n"
     ]
    }
   ],
   "source": [
    "# Get x and y coordinates\n",
    "xy = point_coords.xy\n",
    "\n",
    "# Get only x coordinates of Point1\n",
    "x = point1.x\n",
    "\n",
    "# Whatabout y coordinate?\n",
    "y = point1.y\n",
    "\n",
    "# Print out\n",
    "print(\"xy:\", xy, \"\\n\")\n",
    "print(\"x:\", x, \"\\n\")\n",
    "print(\"y:\", y)"
   ]
  },
  {
   "cell_type": "markdown",
   "metadata": {},
   "source": [
    "Como podemos ver acima a variável `xy` contém uma tupla em que as coordendas x e y são armazendas em um array numpy.\n",
    "Usando os atributos `point1.x` e `point1.y` é possível obter as coordendas diretamente como números decimais.\n",
    "\n",
    "- Também é possível calcular a distância entre pontos, que é muito útil em diversas aplicações. A distância retornada é baseada na __projeção__ dos pontos (ex. graus em WGS84, metros em UTM):"
   ]
  },
  {
   "cell_type": "markdown",
   "metadata": {},
   "source": [
    "Vamos calcular a distância entre o ponto 1 e o ponto 2:"
   ]
  },
  {
   "cell_type": "code",
   "execution_count": 17,
   "metadata": {},
   "outputs": [
    {
     "name": "stdout",
     "output_type": "stream",
     "text": [
      "Distance between the points is 29.72 decimal degrees\n"
     ]
    }
   ],
   "source": [
    "# Calculate the distance between point1 and point2\n",
    "point_dist = point1.distance(point2)\n",
    "\n",
    "print(\"Distance between the points is {0:.2f} decimal degrees\".format(point_dist))"
   ]
  },
  {
   "cell_type": "markdown",
   "metadata": {
    "collapsed": true
   },
   "source": [
    "## 2. Objeto LineString (Linha)\n",
    "\n",
    "Criar um objeto `LineString` é relativamente similar de como o objeto `Point` foi criado. \n",
    "\n",
    "Agora em vez de usar uma única tupla de coordenadas, nós podemos contruir uma _linha_ usando uma lista de `Point` ou um vetor de tuplas com as respectivas coordenadas:"
   ]
  },
  {
   "cell_type": "code",
   "execution_count": 18,
   "metadata": {},
   "outputs": [],
   "source": [
    "# Create a LineString from our Point objects\n",
    "line = LineString([point1, point2, point3])\n",
    "\n",
    "# It is also possible to produce the same outcome using coordinate tuples\n",
    "line2 = LineString([(2.2, 4.2), (7.2, -25.1), (9.26, -2.456)])"
   ]
  },
  {
   "cell_type": "markdown",
   "metadata": {},
   "source": [
    "Vamos ver como a variável do tipo `LineString` é mostrada no jupyter:"
   ]
  },
  {
   "cell_type": "code",
   "execution_count": 19,
   "metadata": {},
   "outputs": [
    {
     "data": {
      "image/svg+xml": [
       "<svg xmlns=\"http://www.w3.org/2000/svg\" xmlns:xlink=\"http://www.w3.org/1999/xlink\" width=\"100.0\" height=\"100.0\" viewBox=\"1.028 -26.272000000000002 9.404 31.644000000000002\" preserveAspectRatio=\"xMinYMin meet\"><g transform=\"matrix(1,0,0,-1,0,-20.900000000000002)\"><polyline fill=\"none\" stroke=\"#66cc99\" stroke-width=\"0.63288\" points=\"2.2,4.2 7.2,-25.1 9.26,-2.456\" opacity=\"0.8\" /></g></svg>"
      ],
      "text/plain": [
       "<shapely.geometry.linestring.LineString at 0x7f4ed8401610>"
      ]
     },
     "execution_count": 19,
     "metadata": {},
     "output_type": "execute_result"
    }
   ],
   "source": [
    "# Visualize the line\n",
    "line"
   ]
  },
  {
   "cell_type": "code",
   "execution_count": 21,
   "metadata": {},
   "outputs": [
    {
     "name": "stdout",
     "output_type": "stream",
     "text": [
      "line: \n",
      " LINESTRING (2.2 4.2, 7.2 -25.1, 9.26 -2.456) \n",
      "\n",
      "line2: \n",
      " LINESTRING (2.2 4.2, 7.2 -25.1, 9.26 -2.456) \n",
      "\n"
     ]
    }
   ],
   "source": [
    "print(\"line: \\n\", line, \"\\n\")\n",
    "print(\"line2: \\n\", line2, \"\\n\")"
   ]
  },
  {
   "cell_type": "markdown",
   "metadata": {},
   "source": [
    "Como podemos ver acima, a variável _line_ constitue um multiplo par de coordenadas."
   ]
  },
  {
   "cell_type": "markdown",
   "metadata": {},
   "source": [
    "Vamos verificar o tipo de dados da variável _line_:"
   ]
  },
  {
   "cell_type": "code",
   "execution_count": 23,
   "metadata": {},
   "outputs": [
    {
     "name": "stdout",
     "output_type": "stream",
     "text": [
      "Object data type: <class 'shapely.geometry.linestring.LineString'>\n",
      "Geometry type as text: LineString\n"
     ]
    }
   ],
   "source": [
    "print(\"Object data type:\", type(line))\n",
    "print(\"Geometry type as text:\", line.geom_type)"
   ]
  },
  {
   "cell_type": "markdown",
   "metadata": {},
   "source": [
    "### 2.1 Objeto LineString - Atributos e funções\n",
    "\n",
    "O objeto `LineString` possui diversos atributos e funções internas. Com ele é possível extrair as coordenadas ou o tamanho da linha, calcular o centróide, criar pontos ao longo da linha em distâncias específicas, calcular a menor distância da linha para um ponto específico e etc. A lista completa de funcionalidades pode ser acessada na documentação: [Shapely documentation](https://shapely.readthedocs.io/en/latest/manual.html#linestrings). Vamos utilizar algumas delas.\n",
    "\n",
    "Nós podemos extrair as coordenadas da `LineString` similar a ao objeto `Point`"
   ]
  },
  {
   "cell_type": "code",
   "execution_count": 24,
   "metadata": {},
   "outputs": [
    {
     "name": "stdout",
     "output_type": "stream",
     "text": [
      "(array('d', [2.2, 7.2, 9.26]), array('d', [4.2, -25.1, -2.456]))\n"
     ]
    }
   ],
   "source": [
    "# Get x and y coordinates of the line\n",
    "lxy = line.xy\n",
    "\n",
    "print(lxy)"
   ]
  },
  {
   "cell_type": "markdown",
   "metadata": {},
   "source": [
    "Como podemos observar, as coordenadas novamente são armazenadas em arrays numpy, em que o primeiro array inclui todas as coordenadas x e o segundo array todas as coordendas y.\n",
    "\n",
    "Podemos extrair somente as coordendas x e y das seguintes formas."
   ]
  },
  {
   "cell_type": "code",
   "execution_count": 13,
   "metadata": {},
   "outputs": [
    {
     "name": "stdout",
     "output_type": "stream",
     "text": [
      "line_x:\n",
      " array('d', [2.2, 7.2, 9.26]) \n",
      "\n",
      "line_y:\n",
      " array('d', [4.2, -25.1, -2.456])\n"
     ]
    }
   ],
   "source": [
    "# Extract x coordinates\n",
    "line_x = lxy[0]\n",
    "\n",
    "# Extract y coordinates straight from the LineObject by referring to a array at index 1\n",
    "line_y = line.xy[1]\n",
    "\n",
    "print('line_x:\\n', line_x, '\\n')\n",
    "\n",
    "print('line_y:\\n', line_y)"
   ]
  },
  {
   "cell_type": "markdown",
   "metadata": {},
   "source": [
    "É possível recuperar atributos específicos, como o tamanho da linha e o ponto central (centróide) diretamente do objeto:"
   ]
  },
  {
   "cell_type": "code",
   "execution_count": 25,
   "metadata": {},
   "outputs": [
    {
     "name": "stdout",
     "output_type": "stream",
     "text": [
      "Length of our line: 52.46\n",
      "Centroid of our line:  POINT (6.229961354035622 -11.89241115757239)\n",
      "Type of the centroid: <class 'shapely.geometry.point.Point'>\n"
     ]
    }
   ],
   "source": [
    "# Get the lenght of the line\n",
    "l_length = line.length\n",
    "\n",
    "# Get the centroid of the line\n",
    "l_centroid = line.centroid\n",
    "\n",
    "# What type is the centroid?\n",
    "centroid_type = type(l_centroid)\n",
    "\n",
    "# Print the outputs\n",
    "print(\"Length of our line: {0:.2f}\".format(l_length))\n",
    "print(\"Centroid of our line: \", l_centroid)\n",
    "print(\"Type of the centroid:\", centroid_type)"
   ]
  },
  {
   "cell_type": "markdown",
   "metadata": {},
   "source": [
    "Com estas informações, já podemos realizar muitas tarefas construindo aplicações em mapas, e ainda não calculamos nada ainda. Estes atributos estão embutidos em todos os objetos `LineString` que são criados.\n",
    "\n",
    "É importante perceber que o centróide retornado no exemplo acima é um objeto `Point`, que possui suas próprias funções já mencionadas anteriormente."
   ]
  },
  {
   "cell_type": "markdown",
   "metadata": {},
   "source": [
    "## 3. Objeto Polygon (Polígono)\n",
    "\n",
    "Para criar um objeto `Polygon` usaremos a mesma lógica do `Point` e `LineString`, porém na criação do objeto `Polygon` só podemos utilizar uma sequência de coordendas.\n",
    "\n",
    "Para criar um polígono são necessários __pelo menos três coordendas__ (que basicamente formam um triângulo)."
   ]
  },
  {
   "cell_type": "code",
   "execution_count": 26,
   "metadata": {},
   "outputs": [],
   "source": [
    "# Create a Polygon from the coordinates\n",
    "poly = Polygon([(2.2, 4.2), (7.2, -25.1), (9.26, -2.456)])\n",
    "\n",
    "# We can also use our previously created Point objects (same outcome)\n",
    "# --> notice that Polygon object requires x,y coordinates as input\n",
    "poly2 = Polygon([[p.x, p.y] for p in [point1, point2, point3]])"
   ]
  },
  {
   "cell_type": "markdown",
   "metadata": {},
   "source": [
    "Vamos ver como a variável do tipo `Polygon` é mostrada no jupyter:"
   ]
  },
  {
   "cell_type": "code",
   "execution_count": 27,
   "metadata": {},
   "outputs": [
    {
     "data": {
      "image/svg+xml": [
       "<svg xmlns=\"http://www.w3.org/2000/svg\" xmlns:xlink=\"http://www.w3.org/1999/xlink\" width=\"100.0\" height=\"100.0\" viewBox=\"1.028 -26.272000000000002 9.404 31.644000000000002\" preserveAspectRatio=\"xMinYMin meet\"><g transform=\"matrix(1,0,0,-1,0,-20.900000000000002)\"><path fill-rule=\"evenodd\" fill=\"#66cc99\" stroke=\"#555555\" stroke-width=\"0.63288\" opacity=\"0.6\" d=\"M 2.2,4.2 L 7.2,-25.1 L 9.26,-2.456 L 2.2,4.2 z\" /></g></svg>"
      ],
      "text/plain": [
       "<shapely.geometry.polygon.Polygon at 0x7f4ed83fda10>"
      ]
     },
     "execution_count": 27,
     "metadata": {},
     "output_type": "execute_result"
    }
   ],
   "source": [
    "poly2"
   ]
  },
  {
   "cell_type": "code",
   "execution_count": 28,
   "metadata": {},
   "outputs": [
    {
     "name": "stdout",
     "output_type": "stream",
     "text": [
      "poly: POLYGON ((2.2 4.2, 7.2 -25.1, 9.26 -2.456, 2.2 4.2))\n",
      "poly2: POLYGON ((2.2 4.2, 7.2 -25.1, 9.26 -2.456, 2.2 4.2))\n"
     ]
    }
   ],
   "source": [
    "print('poly:', poly)\n",
    "print('poly2:', poly2)"
   ]
  },
  {
   "cell_type": "markdown",
   "metadata": {},
   "source": [
    "Vamos verificar o tipo de dados da variável _polygon_:"
   ]
  },
  {
   "cell_type": "code",
   "execution_count": 32,
   "metadata": {},
   "outputs": [
    {
     "name": "stdout",
     "output_type": "stream",
     "text": [
      "Object data type: <class 'shapely.geometry.polygon.Polygon'>\n",
      "Geometry type as text: Polygon\n"
     ]
    }
   ],
   "source": [
    "print(\"Object data type:\", type(poly))\n",
    "print(\"Geometry type as text:\", poly.geom_type)"
   ]
  },
  {
   "cell_type": "markdown",
   "metadata": {},
   "source": [
    "Perceba que a representação do `Polygon` possui dois parentesis ao redor das coordendas (ex.: `POLYGON ((<valores>))` ). Isso acontece porque o objeto `Polygon` pode ter aberturas (buracos) dentro dele. "
   ]
  },
  {
   "cell_type": "markdown",
   "metadata": {},
   "source": [
    "Como é mostrado na documentação do `Polygon` (utilizando a função help do python) um polígono pode ser construído usando as coordendas exteriores e coordendas interiores (opcionais), em que as coordendas interiores criam um buraco dentro do polígono. "
   ]
  },
  {
   "cell_type": "code",
   "execution_count": 29,
   "metadata": {},
   "outputs": [],
   "source": [
    "# # Help function to show the documentation of Shapely's Polygon\n",
    "# help(Polygon)"
   ]
  },
  {
   "cell_type": "markdown",
   "metadata": {},
   "source": [
    "```\n",
    "Help on Polygon in module shapely.geometry.polygon object:\n",
    "     class Polygon(shapely.geometry.base.BaseGeometry)\n",
    "      |  A two-dimensional figure bounded by a linear ring\n",
    "      |\n",
    "      |  A polygon has a non-zero area. It may have one or more negative-space\n",
    "      |  \"holes\" which are also bounded by linear rings. If any rings cross each\n",
    "      |  other, the feature is invalid and operations on it may fail.\n",
    "      |\n",
    "      |  Attributes\n",
    "      |  ----------\n",
    "      |  exterior : LinearRing\n",
    "      |      The ring which bounds the positive space of the polygon.\n",
    "      |  interiors : sequence\n",
    "      |      A sequence of rings which bound all existing holes.\n",
    "      \n",
    "```"
   ]
  },
  {
   "cell_type": "markdown",
   "metadata": {},
   "source": [
    "Vamos ver como podemos criar um `Polygon` com um buraco interno. Primeiro vamos definir um _bounding box_ (caixa delimitadora) e depois criar um buraco na parte interna."
   ]
  },
  {
   "cell_type": "code",
   "execution_count": 41,
   "metadata": {},
   "outputs": [],
   "source": [
    "# First we define our exterior\n",
    "poly_exterior = [(-180, 90), (-180, -90), (180, -90), (180, 90)]\n",
    "\n",
    "# Let's create a single big hole where we leave ten decimal degrees at the boundaries of the polygon\n",
    "# Notice: there could be multiple holes, thus we need to provide a list of holes\n",
    "hole = [[(-100, 50), (-100, -50), (100, -50), (100, 50)]]\n",
    "\n",
    "# Plygon without a hole\n",
    "poly = Polygon(shell=poly_exterior)\n",
    "\n",
    "# Now we can construct our Polygon with the hole inside\n",
    "poly_has_a_hole = Polygon(shell=poly_exterior, holes=hole)"
   ]
  },
  {
   "cell_type": "markdown",
   "metadata": {},
   "source": [
    "Vamos ver como a variável o nosso `Polygon` é mostrado no jupyter:"
   ]
  },
  {
   "cell_type": "code",
   "execution_count": 42,
   "metadata": {},
   "outputs": [
    {
     "data": {
      "image/svg+xml": [
       "<svg xmlns=\"http://www.w3.org/2000/svg\" xmlns:xlink=\"http://www.w3.org/1999/xlink\" width=\"300\" height=\"208.8\" viewBox=\"-194.4 -104.4 388.8 208.8\" preserveAspectRatio=\"xMinYMin meet\"><g transform=\"matrix(1,0,0,-1,0,0.0)\"><path fill-rule=\"evenodd\" fill=\"#66cc99\" stroke=\"#555555\" stroke-width=\"2.592\" opacity=\"0.6\" d=\"M -180.0,90.0 L -180.0,-90.0 L 180.0,-90.0 L 180.0,90.0 L -180.0,90.0 z M -100.0,50.0 L -100.0,-50.0 L 100.0,-50.0 L 100.0,50.0 L -100.0,50.0 z\" /></g></svg>"
      ],
      "text/plain": [
       "<shapely.geometry.polygon.Polygon at 0x7f4ed8412310>"
      ]
     },
     "execution_count": 42,
     "metadata": {},
     "output_type": "execute_result"
    }
   ],
   "source": [
    "poly_has_a_hole"
   ]
  },
  {
   "cell_type": "code",
   "execution_count": 43,
   "metadata": {},
   "outputs": [
    {
     "name": "stdout",
     "output_type": "stream",
     "text": [
      "poly: POLYGON ((-180 90, -180 -90, 180 -90, 180 90, -180 90))\n",
      "poly_has_a_hole: POLYGON ((-180 90, -180 -90, 180 -90, 180 90, -180 90), (-100 50, -100 -50, 100 -50, 100 50, -100 50))\n",
      "type: <class 'shapely.geometry.polygon.Polygon'>\n"
     ]
    }
   ],
   "source": [
    "print('poly:', poly)\n",
    "print('poly_has_a_hole:', poly_has_a_hole)\n",
    "print('type:', type(poly_has_a_hole))"
   ]
  },
  {
   "cell_type": "markdown",
   "metadata": {},
   "source": [
    "Como podemos observar, o `Polygon` agora possui duas tuplas diferentes de coordendas. A primeira representa o **exterior** e a segunda representa o **buraco** presente no interior do polígono."
   ]
  },
  {
   "cell_type": "markdown",
   "metadata": {},
   "source": [
    "### 3.1 Objeto Polygon - Atributos e funções\n",
    "\n",
    "Podemos novamente acessar diferentes atributos diretamente do objeto `Polygon`, que podem ser bastante úteis para muitas análises, como: obter área, centróide, _bounding box_, o exterior e o perímetro (tamanho exterior).\n",
    "\n",
    "Aqui, podemos ver algunas atributos disponíveis e como acessá-los:"
   ]
  },
  {
   "cell_type": "code",
   "execution_count": 45,
   "metadata": {},
   "outputs": [
    {
     "name": "stdout",
     "output_type": "stream",
     "text": [
      "Poly centroid:  POINT (-0 -0)\n",
      "Poly Area:  64800.0\n",
      "Poly Bounding Box:  (-180.0, -90.0, 180.0, 90.0)\n",
      "Poly Exterior:  LINEARRING (-180 90, -180 -90, 180 -90, 180 90, -180 90)\n",
      "Poly Exterior Length:  1080.0\n"
     ]
    }
   ],
   "source": [
    "# Get the centroid of the Polygon\n",
    "poly_centroid = poly.centroid\n",
    "\n",
    "# Get the area of the Polygon\n",
    "poly_area = poly.area\n",
    "\n",
    "# Get the bounds of the Polygon (i.e. bounding box)\n",
    "poly_bbox = poly.bounds\n",
    "\n",
    "# Get the exterior of the Polygon\n",
    "poly_ext = poly.exterior\n",
    "\n",
    "# Get the length of the exterior\n",
    "poly_ext_length = poly_ext.length\n",
    "\n",
    "# Print the outputs\n",
    "print(\"Poly centroid: \", poly_centroid)\n",
    "print(\"Poly Area: \", poly_area)\n",
    "print(\"Poly Bounding Box: \", poly_bbox)\n",
    "print(\"Poly Exterior: \", poly_ext)\n",
    "print(\"Poly Exterior Length: \", poly_ext_length)"
   ]
  },
  {
   "cell_type": "markdown",
   "metadata": {},
   "source": [
    "Como podemos ver acima, de maneira direta podemos acessar diferentes atributos do objeto `Polygon`. Porém perceba  que o tamanho do perímetro exterior foi obtido em graus decimais, porque estamos utilizando coordendas de latitude e longitude na entrada do nosso polígono. Posteriormente vamos aprender a mudar a projeção desses dados e ser capaz de obter as mesmas informações em metros."
   ]
  },
  {
   "cell_type": "markdown",
   "metadata": {},
   "source": [
    "## 4. Coleção de geometrias (opcional)\n",
    "\n",
    "Em algumas ocasiões é necessário armazenar multiplas linhas ou polígonos em um único objeto (ex: uma geometria que representa vários polígonos). Estas coleções são implementadas através dos objetos:\n",
    "\n",
    "-  `MultiPoint`: representa uma coleção de `Point`;\n",
    "-  `MultiLineString`: representa uma coleção de `LineString`;\n",
    "-  `MultiPolygon`: representa uma coleção de `Polygon`.\n",
    "\n",
    "Estas coleções não são computacionalmente significantes, mas são úteis para modelar certos tipos de _features_. Por exemplo, uma rua em formato de Y utilizando `MultiLineString`, um conjunto de ilhas em um arquipélago com  `MultiPolygon`.\n",
    "\n",
    "Criar e visualizar um [bounding box](https://en.wikipedia.org/wiki/Minimum_bounding_box) minímo ao redor dos seus dados de pontos é uma função útil para muitos propósitos (ex: tentar entender a extensão dos seus dados), em seguida veremos como é possível realizar esta operação."
   ]
  },
  {
   "cell_type": "code",
   "execution_count": 46,
   "metadata": {},
   "outputs": [
    {
     "name": "stdout",
     "output_type": "stream",
     "text": [
      "MultiPoint: MULTIPOINT (2.2 4.2, 7.2 -25.1, 9.26 -2.456)\n",
      "MultiLine:  MULTILINESTRING ((2.2 4.2, 7.2 -25.1), (7.2 -25.1, 9.26 -2.456))\n",
      "Bounding box:  POLYGON ((180 -90, 180 90, 0 90, 0 -90, 180 -90))\n",
      "MultiPoly:  MULTIPOLYGON (((-180 90, -180 -90, 0 -90, 0 90, -180 90), (-170 80, -170 -80, -10 -80, -10 80, -170 80)), ((180 -90, 180 90, 0 90, 0 -90, 180 -90)))\n"
     ]
    }
   ],
   "source": [
    "# Import collections of geometric objects + bounding box\n",
    "from shapely.geometry import MultiPoint, MultiLineString, MultiPolygon, box\n",
    "\n",
    "# Create a MultiPoint object of our points 1,2 and 3\n",
    "multi_point = MultiPoint([point1, point2, point3])\n",
    "\n",
    "# It is also possible to pass coordinate tuples inside\n",
    "multi_point2 = MultiPoint([(2.2, 4.2), (7.2, -25.1), (9.26, -2.456)])\n",
    "\n",
    "# We can also create a MultiLineString with two lines\n",
    "line1 = LineString([point1, point2])\n",
    "line2 = LineString([point2, point3])\n",
    "multi_line = MultiLineString([line1, line2])\n",
    "\n",
    "# MultiPolygon can be done in a similar manner\n",
    "# Let's divide our world into western and eastern hemispheres with a hole on the western hemisphere\n",
    "# --------------------------------------------------------------------------------------------------\n",
    "\n",
    "# Let's create the exterior of the western part of the world\n",
    "west_exterior = [(-180, 90), (-180, -90), (0, -90), (0, 90)]\n",
    "\n",
    "# Let's create a hole --> remember there can be multiple holes, thus we need to have a list of hole(s). \n",
    "# Here we have just one.\n",
    "west_hole = [[(-170, 80), (-170, -80), (-10, -80), (-10, 80)]]\n",
    "\n",
    "# Create the Polygon\n",
    "west_poly = Polygon(shell=west_exterior, holes=west_hole)\n",
    "\n",
    "# Let's create the Polygon of our Eastern hemisphere polygon using bounding box\n",
    "# For bounding box we need to specify the lower-left corner coordinates and upper-right coordinates\n",
    "min_x, min_y = 0, -90\n",
    "max_x, max_y = 180, 90\n",
    "\n",
    "# Create the polygon using box() function\n",
    "east_poly_box = box(minx=min_x, miny=min_y, maxx=max_x, maxy=max_y)\n",
    "\n",
    "# Let's create our MultiPolygon. We can pass multiple Polygon -objects into our MultiPolygon as a list\n",
    "multi_poly = MultiPolygon([west_poly, east_poly_box])\n",
    "\n",
    "# Print outputs\n",
    "print(\"MultiPoint:\", multi_point)\n",
    "print(\"MultiLine: \", multi_line)\n",
    "print(\"Bounding box: \", east_poly_box)\n",
    "print(\"MultiPoly: \", multi_poly)\n"
   ]
  },
  {
   "cell_type": "markdown",
   "metadata": {},
   "source": [
    "Vamos ver como as nossas coleções de geometrias são mostradas no jupyter:"
   ]
  },
  {
   "cell_type": "code",
   "execution_count": 54,
   "metadata": {},
   "outputs": [
    {
     "data": {
      "image/svg+xml": [
       "<svg xmlns=\"http://www.w3.org/2000/svg\" xmlns:xlink=\"http://www.w3.org/1999/xlink\" width=\"100.0\" height=\"100.0\" viewBox=\"1.028 -26.272000000000002 9.404 31.644000000000002\" preserveAspectRatio=\"xMinYMin meet\"><g transform=\"matrix(1,0,0,-1,0,-20.900000000000002)\"><g><circle cx=\"2.2\" cy=\"4.2\" r=\"0.9493199999999999\" stroke=\"#555555\" stroke-width=\"0.31644\" fill=\"#66cc99\" opacity=\"0.6\" /><circle cx=\"7.2\" cy=\"-25.1\" r=\"0.9493199999999999\" stroke=\"#555555\" stroke-width=\"0.31644\" fill=\"#66cc99\" opacity=\"0.6\" /><circle cx=\"9.26\" cy=\"-2.456\" r=\"0.9493199999999999\" stroke=\"#555555\" stroke-width=\"0.31644\" fill=\"#66cc99\" opacity=\"0.6\" /></g></g></svg>"
      ],
      "text/plain": [
       "<shapely.geometry.multipoint.MultiPoint at 0x7f4ed83fd610>"
      ]
     },
     "execution_count": 54,
     "metadata": {},
     "output_type": "execute_result"
    }
   ],
   "source": [
    "multi_point"
   ]
  },
  {
   "cell_type": "code",
   "execution_count": 55,
   "metadata": {},
   "outputs": [
    {
     "data": {
      "image/svg+xml": [
       "<svg xmlns=\"http://www.w3.org/2000/svg\" xmlns:xlink=\"http://www.w3.org/1999/xlink\" width=\"100.0\" height=\"100.0\" viewBox=\"1.028 -26.272000000000002 9.404 31.644000000000002\" preserveAspectRatio=\"xMinYMin meet\"><g transform=\"matrix(1,0,0,-1,0,-20.900000000000002)\"><g><polyline fill=\"none\" stroke=\"#66cc99\" stroke-width=\"0.63288\" points=\"2.2,4.2 7.2,-25.1\" opacity=\"0.8\" /><polyline fill=\"none\" stroke=\"#66cc99\" stroke-width=\"0.63288\" points=\"7.2,-25.1 9.26,-2.456\" opacity=\"0.8\" /></g></g></svg>"
      ],
      "text/plain": [
       "<shapely.geometry.multilinestring.MultiLineString at 0x7f4ed84126d0>"
      ]
     },
     "execution_count": 55,
     "metadata": {},
     "output_type": "execute_result"
    }
   ],
   "source": [
    "multi_line"
   ]
  },
  {
   "cell_type": "code",
   "execution_count": 56,
   "metadata": {},
   "outputs": [
    {
     "data": {
      "image/svg+xml": [
       "<svg xmlns=\"http://www.w3.org/2000/svg\" xmlns:xlink=\"http://www.w3.org/1999/xlink\" width=\"194.39999999999998\" height=\"194.4\" viewBox=\"-187.2 -97.2 194.39999999999998 194.4\" preserveAspectRatio=\"xMinYMin meet\"><g transform=\"matrix(1,0,0,-1,0,0.0)\"><path fill-rule=\"evenodd\" fill=\"#66cc99\" stroke=\"#555555\" stroke-width=\"2.0\" opacity=\"0.6\" d=\"M -180.0,90.0 L -180.0,-90.0 L 0.0,-90.0 L 0.0,90.0 L -180.0,90.0 z M -170.0,80.0 L -170.0,-80.0 L -10.0,-80.0 L -10.0,80.0 L -170.0,80.0 z\" /></g></svg>"
      ],
      "text/plain": [
       "<shapely.geometry.polygon.Polygon at 0x7f4ed8412990>"
      ]
     },
     "execution_count": 56,
     "metadata": {},
     "output_type": "execute_result"
    }
   ],
   "source": [
    "west_poly"
   ]
  },
  {
   "cell_type": "code",
   "execution_count": 57,
   "metadata": {},
   "outputs": [
    {
     "data": {
      "image/svg+xml": [
       "<svg xmlns=\"http://www.w3.org/2000/svg\" xmlns:xlink=\"http://www.w3.org/1999/xlink\" width=\"194.39999999999998\" height=\"194.4\" viewBox=\"-7.2 -97.2 194.39999999999998 194.4\" preserveAspectRatio=\"xMinYMin meet\"><g transform=\"matrix(1,0,0,-1,0,0.0)\"><path fill-rule=\"evenodd\" fill=\"#66cc99\" stroke=\"#555555\" stroke-width=\"2.0\" opacity=\"0.6\" d=\"M 180.0,-90.0 L 180.0,90.0 L 0.0,90.0 L 0.0,-90.0 L 180.0,-90.0 z\" /></g></svg>"
      ],
      "text/plain": [
       "<shapely.geometry.polygon.Polygon at 0x7f4ed8feff10>"
      ]
     },
     "execution_count": 57,
     "metadata": {},
     "output_type": "execute_result"
    }
   ],
   "source": [
    "east_poly_box"
   ]
  },
  {
   "cell_type": "code",
   "execution_count": 58,
   "metadata": {},
   "outputs": [
    {
     "data": {
      "image/svg+xml": [
       "<svg xmlns=\"http://www.w3.org/2000/svg\" xmlns:xlink=\"http://www.w3.org/1999/xlink\" width=\"300\" height=\"208.8\" viewBox=\"-194.4 -104.4 388.8 208.8\" preserveAspectRatio=\"xMinYMin meet\"><g transform=\"matrix(1,0,0,-1,0,0.0)\"><g><path fill-rule=\"evenodd\" fill=\"#ff3333\" stroke=\"#555555\" stroke-width=\"2.592\" opacity=\"0.6\" d=\"M -180.0,90.0 L -180.0,-90.0 L 0.0,-90.0 L 0.0,90.0 L -180.0,90.0 z M -170.0,80.0 L -170.0,-80.0 L -10.0,-80.0 L -10.0,80.0 L -170.0,80.0 z\" /><path fill-rule=\"evenodd\" fill=\"#ff3333\" stroke=\"#555555\" stroke-width=\"2.592\" opacity=\"0.6\" d=\"M 180.0,-90.0 L 180.0,90.0 L 0.0,90.0 L 0.0,-90.0 L 180.0,-90.0 z\" /></g></g></svg>"
      ],
      "text/plain": [
       "<shapely.geometry.multipolygon.MultiPolygon at 0x7f4ed83fd210>"
      ]
     },
     "execution_count": 58,
     "metadata": {},
     "output_type": "execute_result"
    }
   ],
   "source": [
    "multi_poly"
   ]
  },
  {
   "cell_type": "markdown",
   "metadata": {},
   "source": [
    "Podemos observar que as saídas são similares as geometrias básicas que foram criadas anteriormente, más agora esses objetos são extensíveis para multiplos pontos, linhas e polígonos."
   ]
  },
  {
   "cell_type": "markdown",
   "metadata": {},
   "source": [
    "### 4.1 Coleção de geometrias -  Atributos e funções\n",
    "\n",
    "Podemos também utilizar muitas funções internas especificas destas coleções, como o `Convex Hull`"
   ]
  },
  {
   "cell_type": "markdown",
   "metadata": {},
   "source": [
    "Utilizando a nossa estrutura anterior de três pontos:"
   ]
  },
  {
   "cell_type": "code",
   "execution_count": 62,
   "metadata": {},
   "outputs": [
    {
     "data": {
      "image/svg+xml": [
       "<svg xmlns=\"http://www.w3.org/2000/svg\" xmlns:xlink=\"http://www.w3.org/1999/xlink\" width=\"100.0\" height=\"100.0\" viewBox=\"1.028 -26.272000000000002 9.404 31.644000000000002\" preserveAspectRatio=\"xMinYMin meet\"><g transform=\"matrix(1,0,0,-1,0,-20.900000000000002)\"><g><circle cx=\"2.2\" cy=\"4.2\" r=\"0.9493199999999999\" stroke=\"#555555\" stroke-width=\"0.31644\" fill=\"#66cc99\" opacity=\"0.6\" /><circle cx=\"7.2\" cy=\"-25.1\" r=\"0.9493199999999999\" stroke=\"#555555\" stroke-width=\"0.31644\" fill=\"#66cc99\" opacity=\"0.6\" /><circle cx=\"9.26\" cy=\"-2.456\" r=\"0.9493199999999999\" stroke=\"#555555\" stroke-width=\"0.31644\" fill=\"#66cc99\" opacity=\"0.6\" /></g></g></svg>"
      ],
      "text/plain": [
       "<shapely.geometry.multipoint.MultiPoint at 0x7f4ed83fd610>"
      ]
     },
     "execution_count": 62,
     "metadata": {},
     "output_type": "execute_result"
    }
   ],
   "source": [
    "multi_point"
   ]
  },
  {
   "cell_type": "markdown",
   "metadata": {},
   "source": [
    "Vamos chamar a função interna `Convex Hull`"
   ]
  },
  {
   "cell_type": "code",
   "execution_count": 65,
   "metadata": {},
   "outputs": [],
   "source": [
    "# Convex Hull of our MultiPoint --> https://en.wikipedia.org/wiki/Convex_hull\n",
    "convex = multi_point.convex_hull"
   ]
  },
  {
   "cell_type": "code",
   "execution_count": 66,
   "metadata": {},
   "outputs": [
    {
     "name": "stdout",
     "output_type": "stream",
     "text": [
      "Convex hull of the points:  POLYGON ((7.2 -25.1, 2.2 4.2, 9.26 -2.456, 7.2 -25.1))\n"
     ]
    },
    {
     "data": {
      "image/svg+xml": [
       "<svg xmlns=\"http://www.w3.org/2000/svg\" xmlns:xlink=\"http://www.w3.org/1999/xlink\" width=\"100.0\" height=\"100.0\" viewBox=\"1.028 -26.272000000000002 9.404 31.644000000000002\" preserveAspectRatio=\"xMinYMin meet\"><g transform=\"matrix(1,0,0,-1,0,-20.900000000000002)\"><path fill-rule=\"evenodd\" fill=\"#66cc99\" stroke=\"#555555\" stroke-width=\"0.63288\" opacity=\"0.6\" d=\"M 7.2,-25.1 L 2.2,4.2 L 9.26,-2.456 L 7.2,-25.1 z\" /></g></svg>"
      ],
      "text/plain": [
       "<shapely.geometry.polygon.Polygon at 0x7f4ed8415e50>"
      ]
     },
     "execution_count": 66,
     "metadata": {},
     "output_type": "execute_result"
    }
   ],
   "source": [
    "print(\"Convex hull of the points: \", convex)\n",
    "convex"
   ]
  },
  {
   "cell_type": "markdown",
   "metadata": {},
   "source": [
    "Outros atributos internos da coleção de geometria:"
   ]
  },
  {
   "cell_type": "code",
   "execution_count": 68,
   "metadata": {},
   "outputs": [
    {
     "name": "stdout",
     "output_type": "stream",
     "text": [
      "Number of lines in MultiLineString: 2\n"
     ]
    }
   ],
   "source": [
    "# How many lines do we have inside our MultiLineString?\n",
    "lines_count = len(multi_line)\n",
    "\n",
    "# Print output:\n",
    "print(\"Number of lines in MultiLineString:\", lines_count)"
   ]
  },
  {
   "cell_type": "code",
   "execution_count": 70,
   "metadata": {},
   "outputs": [],
   "source": [
    "# Let's calculate the area of our MultiPolygon\n",
    "multi_poly_area = multi_poly.area"
   ]
  },
  {
   "cell_type": "markdown",
   "metadata": {},
   "source": [
    "Também podemos acessar diferentes itens dentro de nossas coleções de geometria. Podemos, por exemplo, acessar um único polígono de nosso objeto `MultiPolygon`, referindo-se ao índice:"
   ]
  },
  {
   "cell_type": "code",
   "execution_count": 71,
   "metadata": {},
   "outputs": [
    {
     "name": "stdout",
     "output_type": "stream",
     "text": [
      "Area of our MultiPolygon: 39200.0\n",
      "Area of our Western Hemisphere polygon: 6800.0\n"
     ]
    }
   ],
   "source": [
    "# Let's calculate the area of our Western hemisphere (with a hole) which is at index 0\n",
    "west_area = multi_poly[0].area\n",
    "\n",
    "# Print outputs:\n",
    "print(\"Area of our MultiPolygon:\", multi_poly_area)\n",
    "print(\"Area of our Western Hemisphere polygon:\", west_area)"
   ]
  },
  {
   "cell_type": "markdown",
   "metadata": {},
   "source": [
    "Como mostrado acima podemos ver que o objeto `MultiPolygon` possui os mesmos atributos que o objeto `Polygon`, mas agora métodos como cálculo da área retorna a soma das áreas de **todos** os polígonos presentes no objeto.\n",
    "\n",
    "Também existem algumas funções extras disponíveis apenas para estas coleções, como **is_valid** que retorna se o polígono ou linhas possuem interseção um com o outro."
   ]
  },
  {
   "cell_type": "code",
   "execution_count": 72,
   "metadata": {},
   "outputs": [
    {
     "name": "stdout",
     "output_type": "stream",
     "text": [
      "Is polygon valid?:  False\n"
     ]
    }
   ],
   "source": [
    "valid = multi_poly.is_valid\n",
    "print(\"Is polygon valid?: \", valid)"
   ]
  }
 ],
 "metadata": {
  "anaconda-cloud": {},
  "kernelspec": {
   "display_name": "Python 3",
   "language": "python",
   "name": "python3"
  },
  "language_info": {
   "codemirror_mode": {
    "name": "ipython",
    "version": 3
   },
   "file_extension": ".py",
   "mimetype": "text/x-python",
   "name": "python",
   "nbconvert_exporter": "python",
   "pygments_lexer": "ipython3",
   "version": "3.8.2"
  }
 },
 "nbformat": 4,
 "nbformat_minor": 2
}
