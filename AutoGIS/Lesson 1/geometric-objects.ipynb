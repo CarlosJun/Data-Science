{
 "cells": [
  {
   "cell_type": "markdown",
   "metadata": {},
   "source": [
    "# Objetos geométricos \n",
    "\n",
    "**Fonte:**\n",
    "Este material é uma tradução e adaptação do notebook: https://github.com/Automating-GIS-processes/2018/blob/master/source/notebooks/L1/geometric-objects.ipynb\n",
    "\n",
    "## Visão geral sobre objetos e módulo Shapely\n",
    "\n",
    "![Spatial data model](images/SpatialDataModel.png)\n",
    "*Os objetos fundamentais que podem ser usados em python com o modulo* [Shapely](https://shapely.readthedocs.io/en/latest/project.html) \n",
    "\n",
    "Os objetos geométricos fundamentais para trabalhar com dados georeferenciados são `Points`, `Lines` e `Polygons`. Em python podemos usar o modulo [Shapely](https://shapely.readthedocs.io/en/latest/project.html) para trabalhar com esses `Geometric Objects`. Algumas funcionalidades possíveis com Shapely:\n",
    "\n",
    "-  Criar uma `Line` ou `Polygon` de uma `Collection` de geometrias de `Point`\n",
    "-  Calcular área, tamanho e  etc. de geometrias\n",
    "-  Realizar operações geométricas como: `Union`, `Difference`, `Distance` e etc.\n",
    "-  Realizar conmsultas espaciais entre geometrias como: `Intersects`, `Touches`, `Crosses`, `Within` e etc.\n",
    "\n",
    "**Objetos geométricos consistem em tuplas de coordenadas, em que:**\n",
    "\n",
    "-  `Point` representa um único ponto no espaço. Podendo ser bidimensional (x, y) ou tridimensional (x, y, z).\n",
    "-  `LineString` representa uma sequencia de pontos para formar uma linha. Uma linha consiste de pelo menos dois pontos.\n",
    "-  `Polygon` representa um polígono preenchido que consiste de uma lista de pelo menos três pontos, que formam um anel externo e possui a possibilidade de haver aberturas internas (buracos).\n",
    "\n",
    "**Também é possível construir uma coleção de objetos geométricos, como:**\n",
    "\n",
    "-  `MultiPoint` representa uma coleção de `Point`.\n",
    "-  `MultiLineString` representa uma coleção de `LineString`.\n",
    "-  `MultiPolygon` representa uma coleção de `Polygon`.\n",
    "\n",
    "É possível instalar o módulo Shapely em nosso ambiente através do comando:\n",
    "*conda install shapely*"
   ]
  },
  {
   "cell_type": "markdown",
   "metadata": {},
   "source": [
    "## Point\n",
    "\n",
    "-  Para criar um objeto `Point` é fácil, basta passar as coordenadas x e y para o objeto `Point()` (também é possível incluir a coordenada z):"
   ]
  },
  {
   "cell_type": "code",
   "execution_count": 29,
   "metadata": {},
   "outputs": [],
   "source": [
    "# Import necessary geometric objects from shapely module\n",
    "from shapely.geometry import Point, LineString, Polygon\n",
    "\n",
    "# Create Point geometric object(s) with coordinates\n",
    "point1 = Point(2.2, 4.2)\n",
    "point2 = Point(7.2, -25.1)\n",
    "point3 = Point(9.26, -2.456)\n",
    "point3D = Point(9.26, -2.456, 0.57)\n",
    "\n",
    "# What is the type of the point?\n",
    "point_type = type(point1)"
   ]
  },
  {
   "cell_type": "markdown",
   "metadata": {},
   "source": [
    "-  Vamos verificar o tipo das variáveis:"
   ]
  },
  {
   "cell_type": "code",
   "execution_count": 5,
   "metadata": {},
   "outputs": [
    {
     "name": "stdout",
     "output_type": "stream",
     "text": [
      "POINT (2.2 4.2)\n",
      "POINT Z (9.26 -2.456 0.57)\n",
      "<class 'shapely.geometry.point.Point'>\n"
     ]
    }
   ],
   "source": [
    "print(point1)\n",
    "print(point3D)\n",
    "print(type(point1))"
   ]
  },
  {
   "cell_type": "code",
   "execution_count": 34,
   "metadata": {},
   "outputs": [
    {
     "data": {
      "image/svg+xml": [
       "<svg xmlns=\"http://www.w3.org/2000/svg\" xmlns:xlink=\"http://www.w3.org/1999/xlink\" width=\"100.0\" height=\"100.0\" viewBox=\"1.2000000000000002 3.2 2.0 2.0\" preserveAspectRatio=\"xMinYMin meet\"><g transform=\"matrix(1,0,0,-1,0,8.4)\"><circle cx=\"2.2\" cy=\"4.2\" r=\"0.06\" stroke=\"#555555\" stroke-width=\"0.02\" fill=\"#66cc99\" opacity=\"0.6\" /></g></svg>"
      ],
      "text/plain": [
       "<shapely.geometry.point.Point at 0x7f0c2c6c2bd0>"
      ]
     },
     "execution_count": 34,
     "metadata": {},
     "output_type": "execute_result"
    }
   ],
   "source": [
    "# Visualize the point\n",
    "point1"
   ]
  },
  {
   "cell_type": "markdown",
   "metadata": {},
   "source": [
    "Podemos observar que o tipo do objeto ponto é um `Point` do módulo Shapely que é especificado em um formato baseado na biblioteca [GEOS](https://trac.osgeo.org/geos) do C++, que é um biblioteca padrão de GIS. Uma das bibliotecas utilizadas para construir por exemplo o [QGIS](http://www.qgis.org/en/site/). Pontos tridimensionais podem ser reconhecidos pela letra maiúscula Z."
   ]
  },
  {
   "cell_type": "markdown",
   "metadata": {},
   "source": [
    "### Point - Atributos e funções\n",
    "\n",
    "Os objetos `Point` possuem atributos e funções bastante úteis. Uma das funções mais úteis é a capacidade de extrair as coordenadas e a possibilidade de calcular a distância euclidiana entre dois pointos."
   ]
  },
  {
   "cell_type": "code",
   "execution_count": 8,
   "metadata": {},
   "outputs": [
    {
     "data": {
      "text/plain": [
       "shapely.coords.CoordinateSequence"
      ]
     },
     "execution_count": 8,
     "metadata": {},
     "output_type": "execute_result"
    }
   ],
   "source": [
    "# Get the coordinates\n",
    "point_coords = point1.coords\n",
    "\n",
    "# What is the type of this?\n",
    "type(point_coords)"
   ]
  },
  {
   "cell_type": "markdown",
   "metadata": {},
   "source": [
    "Como pode ser observado o tipo de dado da variável `point_coords` é um Shapely CoordinateSequence.\n",
    "\n",
    "- Vamos ver como recuperar as coordenadas deste objeto:"
   ]
  },
  {
   "cell_type": "code",
   "execution_count": 9,
   "metadata": {},
   "outputs": [
    {
     "name": "stdout",
     "output_type": "stream",
     "text": [
      "xy variable:\n",
      " (array('d', [2.2]), array('d', [4.2])) \n",
      "\n",
      "x variable:\n",
      " 2.2 \n",
      "\n",
      "y variable:\n",
      " 4.2\n"
     ]
    }
   ],
   "source": [
    "# Get x and y coordinates\n",
    "xy = point_coords.xy\n",
    "\n",
    "# Get only x coordinates of Point1\n",
    "x = point1.x\n",
    "\n",
    "# Whatabout y coordinate?\n",
    "y = point1.y\n",
    "\n",
    "# Print out\n",
    "print(\"xy variable:\\n\", xy, \"\\n\")\n",
    "print(\"x variable:\\n\", x, \"\\n\")\n",
    "print(\"y variable:\\n\", y)"
   ]
  },
  {
   "cell_type": "markdown",
   "metadata": {},
   "source": [
    "Como podemos ver acima a variável `xy` contém uma tupla em que as coordendas x e y são armazendas em um array numpy.\n",
    "Usando os atributos `point1.x` e `point1.y` é possível obter as coordendas dieretamente como números decimais.\n",
    "\n",
    "- Também é possível calcular a distância entre pontos, que é muito útil em diversas aplicações. A distância retornada é baseada na __projeção__ dos pontos (ex. graus em WGS84, metros em UTM):"
   ]
  },
  {
   "cell_type": "code",
   "execution_count": 10,
   "metadata": {},
   "outputs": [
    {
     "name": "stdout",
     "output_type": "stream",
     "text": [
      "Distance between the points is 29.72 decimal degrees\n"
     ]
    }
   ],
   "source": [
    "# Calculate the distance between point1 and point2\n",
    "point_dist = point1.distance(point2)\n",
    "\n",
    "print(\"Distance between the points is {0:.2f} decimal degrees\".format(point_dist))"
   ]
  },
  {
   "cell_type": "markdown",
   "metadata": {
    "collapsed": true
   },
   "source": [
    "## LineString\n",
    "\n",
    "Criar um objeto `LineString` é relativamente similar de como o objeto `Point` foi criado. \n",
    "\n",
    "- Agora em vez de usar uma única tupla de coordenadas, nós podemos contruir a _linha_ usando uma lista de `Point` ou passar um vetor de tuplas:"
   ]
  },
  {
   "cell_type": "code",
   "execution_count": 11,
   "metadata": {},
   "outputs": [
    {
     "name": "stdout",
     "output_type": "stream",
     "text": [
      "line variable: \n",
      " LINESTRING (2.2 4.2, 7.2 -25.1, 9.26 -2.456) \n",
      "\n",
      "line2 variable: \n",
      " LINESTRING (2.2 4.2, 7.2 -25.1, 9.26 -2.456) \n",
      "\n",
      "type of the line: \n",
      " <class 'shapely.geometry.linestring.LineString'>\n"
     ]
    }
   ],
   "source": [
    "# Create a LineString from our Point objects\n",
    "line = LineString([point1, point2, point3])\n",
    "\n",
    "# It is also possible to use coordinate tuples having the same outcome\n",
    "line2 = LineString([(2.2, 4.2), (7.2, -25.1), (9.26, -2.456)])\n",
    "\n",
    "# Print the results\n",
    "print(\"line variable: \\n\", line, \"\\n\")\n",
    "print(\"line2 variable: \\n\", line2, \"\\n\")\n",
    "print(\"type of the line: \\n\", type(line))"
   ]
  },
  {
   "cell_type": "code",
   "execution_count": 35,
   "metadata": {},
   "outputs": [
    {
     "data": {
      "image/svg+xml": [
       "<svg xmlns=\"http://www.w3.org/2000/svg\" xmlns:xlink=\"http://www.w3.org/1999/xlink\" width=\"100.0\" height=\"100.0\" viewBox=\"1.028 -26.272000000000002 9.404 31.644000000000002\" preserveAspectRatio=\"xMinYMin meet\"><g transform=\"matrix(1,0,0,-1,0,-20.900000000000002)\"><polyline fill=\"none\" stroke=\"#66cc99\" stroke-width=\"0.63288\" points=\"2.2,4.2 7.2,-25.1 9.26,-2.456\" opacity=\"0.8\" /></g></svg>"
      ],
      "text/plain": [
       "<shapely.geometry.linestring.LineString at 0x7f0c2c794550>"
      ]
     },
     "execution_count": 35,
     "metadata": {},
     "output_type": "execute_result"
    }
   ],
   "source": [
    "# Visualize the line\n",
    "line"
   ]
  },
  {
   "cell_type": "markdown",
   "metadata": {},
   "source": [
    "Como podemos ver acima, a variável _line_ constitue um multiplo par de coordenadas e o tipo do dado é um `LineString` do módulo shapely."
   ]
  },
  {
   "cell_type": "markdown",
   "metadata": {},
   "source": [
    "### LineString - Atributos e funções\n",
    "\n",
    "O objeto `LineString` possui diversos atributos e funções. Com ele é possível extrair as coordenadas ou o tamanho da linha, calcular o centróide, criar pontos ao longo da linha em distâncias especificas, calcular a menor distância da linha para um ponto especifico e também simplificar a geométria. A lista completa de funcionalidades pode esta documentado em: [Shapely documentation](https://shapely.readthedocs.io/en/latest/manual.html#linestrings). Vamos utilizar algumas delas.\n",
    "\n",
    "- Nós podemos extrair as coordenadas da `LineString` similar ao que foi feito com o `Point`\n"
   ]
  },
  {
   "cell_type": "code",
   "execution_count": 12,
   "metadata": {},
   "outputs": [
    {
     "name": "stdout",
     "output_type": "stream",
     "text": [
      "(array('d', [2.2, 7.2, 9.26]), array('d', [4.2, -25.1, -2.456]))\n"
     ]
    }
   ],
   "source": [
    "# Get x and y coordinates of the line\n",
    "lxy = line.xy\n",
    "\n",
    "print(lxy)"
   ]
  },
  {
   "cell_type": "markdown",
   "metadata": {},
   "source": [
    "Como podemos observar, as coordenadas novamente são armazenadas em arrays numpy em que o primeiro array incluir toda as coordenadas x e o segundo todas as coordendas y.\n",
    "\n",
    "- Podemos extrair somente as coordendas x e y das seguintes formas."
   ]
  },
  {
   "cell_type": "code",
   "execution_count": 13,
   "metadata": {},
   "outputs": [
    {
     "name": "stdout",
     "output_type": "stream",
     "text": [
      "line_x:\n",
      " array('d', [2.2, 7.2, 9.26]) \n",
      "\n",
      "line_y:\n",
      " array('d', [4.2, -25.1, -2.456])\n"
     ]
    }
   ],
   "source": [
    "# Extract x coordinates\n",
    "line_x = lxy[0]\n",
    "\n",
    "# Extract y coordinates straight from the LineObject by referring to a array at index 1\n",
    "line_y = line.xy[1]\n",
    "\n",
    "print('line_x:\\n', line_x, '\\n')\n",
    "\n",
    "print('line_y:\\n', line_y)"
   ]
  },
  {
   "cell_type": "markdown",
   "metadata": {},
   "source": [
    "- É possível recuperar atributos específicos como o tamanho da linha, o centro (centróide) diretamente do objeto:"
   ]
  },
  {
   "cell_type": "code",
   "execution_count": 14,
   "metadata": {},
   "outputs": [
    {
     "name": "stdout",
     "output_type": "stream",
     "text": [
      "Length of our line: 52.46\n",
      "Centroid of our line:  POINT (6.229961354035622 -11.89241115757239)\n",
      "Type of the centroid: <class 'shapely.geometry.point.Point'>\n"
     ]
    }
   ],
   "source": [
    "# Get the lenght of the line\n",
    "l_length = line.length\n",
    "\n",
    "# Get the centroid of the line\n",
    "l_centroid = line.centroid\n",
    "\n",
    "# What type is the centroid?\n",
    "centroid_type = type(l_centroid)\n",
    "\n",
    "# Print the outputs\n",
    "print(\"Length of our line: {0:.2f}\".format(l_length))\n",
    "print(\"Centroid of our line: \", l_centroid)\n",
    "print(\"Type of the centroid:\", centroid_type)"
   ]
  },
  {
   "cell_type": "markdown",
   "metadata": {},
   "source": [
    "Estas ja são informações bastante úteis para muitas tarefas utilizando GIS, e ainda não calculamos nada ainda. Estes atributos estão embutidos em todos os objetos `LineString` que são criados.\n",
    "\n",
    "É importante perceber que o centróide retornado é um objeto `Point`, que possui as próprias funções já mencionadas anteriormente. "
   ]
  },
  {
   "cell_type": "markdown",
   "metadata": {},
   "source": [
    "## Polygon\n",
    "\n",
    "Para criar um objeto `Polygon` continuaremos usando a mesma lógica do `Point` e `LineString`, porém o objeto só aceita vetor ou tupla de tuplas com as coordendas.\n",
    "\n",
    "- Para criar um polígono sao necessários pelo menos três coordendas (que basicamente formam um triângulo)."
   ]
  },
  {
   "cell_type": "code",
   "execution_count": 20,
   "metadata": {},
   "outputs": [
    {
     "name": "stdout",
     "output_type": "stream",
     "text": [
      "poly: POLYGON ((2.2 4.2, 7.2 -25.1, 9.26 -2.456, 2.2 4.2))\n",
      "poly2: POLYGON ((2.2 4.2, 7.2 -25.1, 9.26 -2.456, 2.2 4.2))\n",
      "Geometry type as text: Polygon\n",
      "Geometry how Python shows it: <class 'shapely.geometry.polygon.Polygon'>\n"
     ]
    }
   ],
   "source": [
    "# Create a Polygon from the coordinates\n",
    "poly = Polygon([(2.2, 4.2), (7.2, -25.1), (9.26, -2.456)])\n",
    "\n",
    "# We can also use our previously created Point objects (same outcome)\n",
    "# --> notice that Polygon object requires x,y coordinates as input\n",
    "poly2 = Polygon([[p.x, p.y] for p in [point1, point2, point3]])\n",
    "\n",
    "# Geometry type can be accessed as a String\n",
    "poly_type = poly.geom_type\n",
    "\n",
    "# Using the Python's type function gives the type in a different format\n",
    "poly_type2 = type(poly)\n",
    "\n",
    "# Let's see how our Polygon looks like\n",
    "print('poly:', poly)\n",
    "print('poly2:', poly2)\n",
    "print(\"Geometry type as text:\", poly_type)\n",
    "print(\"Geometry how Python shows it:\", poly_type2)"
   ]
  },
  {
   "cell_type": "code",
   "execution_count": 38,
   "metadata": {},
   "outputs": [
    {
     "data": {
      "image/svg+xml": [
       "<svg xmlns=\"http://www.w3.org/2000/svg\" xmlns:xlink=\"http://www.w3.org/1999/xlink\" width=\"100.0\" height=\"100.0\" viewBox=\"1.028 -26.272000000000002 9.404 31.644000000000002\" preserveAspectRatio=\"xMinYMin meet\"><g transform=\"matrix(1,0,0,-1,0,-20.900000000000002)\"><path fill-rule=\"evenodd\" fill=\"#66cc99\" stroke=\"#555555\" stroke-width=\"0.63288\" opacity=\"0.6\" d=\"M 2.2,4.2 L 7.2,-25.1 L 9.26,-2.456 L 2.2,4.2 z\" /></g></svg>"
      ],
      "text/plain": [
       "<shapely.geometry.polygon.Polygon at 0x7f0c2c720590>"
      ]
     },
     "execution_count": 38,
     "metadata": {},
     "output_type": "execute_result"
    }
   ],
   "source": [
    "# Visualize the polygon\n",
    "poly"
   ]
  },
  {
   "cell_type": "markdown",
   "metadata": {},
   "source": [
    "Perceba que a representação do `Polygon` possui dois parentesis ao redor das coordendas (ex. `POLYGON ((<valores>))` ). Isso acontece porque o polygono pode ter aberturas (buracos) dentro dele. \n",
    "\n",
    "Como é mostrado na documentação do `Polygon` (utilizando a função help do python) um polígono pode ser construído usando as coordendas exteriores e coordendas interiores (opcionais), em que as coordendas interiores criam um buraco dentro do polígono. "
   ]
  },
  {
   "cell_type": "code",
   "execution_count": 24,
   "metadata": {},
   "outputs": [],
   "source": [
    "# # Help function to show the documentation of Shapely's Polygon\n",
    "# help(Polygon)"
   ]
  },
  {
   "cell_type": "markdown",
   "metadata": {},
   "source": [
    "```\n",
    "Help on Polygon in module shapely.geometry.polygon object:\n",
    "     class Polygon(shapely.geometry.base.BaseGeometry)\n",
    "      |  A two-dimensional figure bounded by a linear ring\n",
    "      |\n",
    "      |  A polygon has a non-zero area. It may have one or more negative-space\n",
    "      |  \"holes\" which are also bounded by linear rings. If any rings cross each\n",
    "      |  other, the feature is invalid and operations on it may fail.\n",
    "      |\n",
    "      |  Attributes\n",
    "      |  ----------\n",
    "      |  exterior : LinearRing\n",
    "      |      The ring which bounds the positive space of the polygon.\n",
    "      |  interiors : sequence\n",
    "      |      A sequence of rings which bound all existing holes.\n",
    "      \n",
    "```"
   ]
  },
  {
   "cell_type": "markdown",
   "metadata": {},
   "source": [
    "-  Vamos ver como podemos criar um `Polygon` com um buraco interno."
   ]
  },
  {
   "cell_type": "code",
   "execution_count": 31,
   "metadata": {},
   "outputs": [],
   "source": [
    "# Let's create a bounding box of the world and make a whole in it\n",
    "\n",
    "# First we define our exterior\n",
    "world_exterior = [(-180, 90), (-180, -90), (180, -90), (180, 90)]\n",
    "\n",
    "# Let's create a single big hole where we leave ten decimal degrees at the boundaries of the world\n",
    "# Notice: there could be multiple holes, thus we need to provide a list of holes\n",
    "hole = [[(-170, 80), (-170, -80), (170, -80), (170, 80)]]\n",
    "\n",
    "# World without a hole\n",
    "world = Polygon(shell=world_exterior)\n",
    "\n",
    "# Now we can construct our Polygon with the hole inside\n",
    "world_has_a_hole = Polygon(shell=world_exterior, holes=hole)"
   ]
  },
  {
   "cell_type": "markdown",
   "metadata": {},
   "source": [
    "-  Vamos ver o que temos agora:"
   ]
  },
  {
   "cell_type": "code",
   "execution_count": 32,
   "metadata": {},
   "outputs": [
    {
     "name": "stdout",
     "output_type": "stream",
     "text": [
      "world: POLYGON ((-180 90, -180 -90, 180 -90, 180 90, -180 90))\n",
      "world_has_a_hole: POLYGON ((-180 90, -180 -90, 180 -90, 180 90, -180 90), (-170 80, -170 -80, 170 -80, 170 80, -170 80))\n",
      "type: <class 'shapely.geometry.polygon.Polygon'>\n"
     ]
    }
   ],
   "source": [
    "print('world:', world)\n",
    "print('world_has_a_hole:', world_has_a_hole)\n",
    "print('type:', type(world_has_a_hole))"
   ]
  },
  {
   "cell_type": "code",
   "execution_count": 36,
   "metadata": {},
   "outputs": [
    {
     "data": {
      "image/svg+xml": [
       "<svg xmlns=\"http://www.w3.org/2000/svg\" xmlns:xlink=\"http://www.w3.org/1999/xlink\" width=\"300\" height=\"208.8\" viewBox=\"-194.4 -104.4 388.8 208.8\" preserveAspectRatio=\"xMinYMin meet\"><g transform=\"matrix(1,0,0,-1,0,0.0)\"><path fill-rule=\"evenodd\" fill=\"#66cc99\" stroke=\"#555555\" stroke-width=\"2.592\" opacity=\"0.6\" d=\"M -180.0,90.0 L -180.0,-90.0 L 180.0,-90.0 L 180.0,90.0 L -180.0,90.0 z M -170.0,80.0 L -170.0,-80.0 L 170.0,-80.0 L 170.0,80.0 L -170.0,80.0 z\" /></g></svg>"
      ],
      "text/plain": [
       "<shapely.geometry.polygon.Polygon at 0x7f0c2c6c9a90>"
      ]
     },
     "execution_count": 36,
     "metadata": {},
     "output_type": "execute_result"
    }
   ],
   "source": [
    "# Visualize the polygon with a hole\n",
    "world_has_a_hole"
   ]
  },
  {
   "cell_type": "markdown",
   "metadata": {},
   "source": [
    "Como podemos observar, o `Polygon` agora possui duas tuplas diferentes de coordendas. A primeira representa o **exterior** e a segunda representa o **buraco** presente no interior do polígono."
   ]
  },
  {
   "cell_type": "markdown",
   "metadata": {},
   "source": [
    "### Polygon - Atributos e funções\n",
    "\n",
    "Podemos novamente acessar diferentes atributos diretamente do objeto `Polygon`, que podem ser bastante úteis para muitas análises, como: obter área, centróide, bounding box, o exterior e o perímetro (tamanho exterior).\n",
    "\n",
    "- Aqui, podemos ver algunas atributos disponíveis e como acessá-los:"
   ]
  },
  {
   "cell_type": "code",
   "execution_count": 39,
   "metadata": {},
   "outputs": [
    {
     "name": "stdout",
     "output_type": "stream",
     "text": [
      "Poly centroid:  POINT (-0 -0)\n",
      "Poly Area:  64800.0\n",
      "Poly Bounding Box:  (-180.0, -90.0, 180.0, 90.0)\n",
      "Poly Exterior:  LINEARRING (-180 90, -180 -90, 180 -90, 180 90, -180 90)\n",
      "Poly Exterior Length:  1080.0\n"
     ]
    }
   ],
   "source": [
    "# Get the centroid of the Polygon\n",
    "world_centroid = world.centroid\n",
    "\n",
    "# Get the area of the Polygon\n",
    "world_area = world.area\n",
    "\n",
    "# Get the bounds of the Polygon (i.e. bounding box)\n",
    "world_bbox = world.bounds\n",
    "\n",
    "# Get the exterior of the Polygon\n",
    "world_ext = world.exterior\n",
    "\n",
    "# Get the length of the exterior\n",
    "world_ext_length = world_ext.length\n",
    "\n",
    "# Print the outputs\n",
    "print(\"Poly centroid: \", world_centroid)\n",
    "print(\"Poly Area: \", world_area)\n",
    "print(\"Poly Bounding Box: \", world_bbox)\n",
    "print(\"Poly Exterior: \", world_ext)\n",
    "print(\"Poly Exterior Length: \", world_ext_length)"
   ]
  },
  {
   "cell_type": "markdown",
   "metadata": {},
   "source": [
    "Como podemos ver acima, de maneira direta podemos acessar diferentes atributos do objeto `Polygon`. Porém perceba  que o tamanho do perímetro exterior foi obtido em graus decimais, porque estamos utilizando coordendas de latitude e longitude na entrada do nosso polígono. Posteriormente vamos aprender a mudar a projeção desses dados e ser capaz de obter as mesmas informações em metro."
   ]
  },
  {
   "cell_type": "markdown",
   "metadata": {},
   "source": [
    "## Coleção de geometrias (opcional)\n",
    "\n",
    "Em algumas ocasiões é útil armazenar multiplas linhas ou polígonos em uma única feature (ex: uma única geometria representam varios polígonos). Estas coleções são implementadas através dos objetos:\n",
    "\n",
    "-  `MultiPoint` representa uma coleção de `Point`.\n",
    "-  `MultiLineString` representa uma coleção de `LineString`.\n",
    "-  `MultiPolygon` representa uma coleção de `Polygon`.\n",
    "\n",
    "Estas coleções não são computacionalmente significantes, mas são úteis para modelar certos tipos de features. Por exemplo, uma rua em formato de Y utilizando `MultiLineString`, um conjunto de ilhas em um arquipélago com  `MultiPolygon`.\n",
    "\n",
    "Criar e visualizar um [bounding box](https://en.wikipedia.org/wiki/Minimum_bounding_box) minímo ao redor dos seus dados de pontos é uma função bastante útil para muitos propósitos (ex: tentar entender a extensão dos seus dados), em seguida veremos como é possível realizar esta operação."
   ]
  },
  {
   "cell_type": "code",
   "execution_count": 41,
   "metadata": {},
   "outputs": [
    {
     "name": "stdout",
     "output_type": "stream",
     "text": [
      "MultiPoint: MULTIPOINT (2.2 4.2, 7.2 -25.1, 9.26 -2.456)\n",
      "MultiLine:  MULTILINESTRING ((2.2 4.2, 7.2 -25.1), (7.2 -25.1, 9.26 -2.456))\n",
      "Bounding box:  POLYGON ((180 -90, 180 90, 0 90, 0 -90, 180 -90))\n",
      "MultiPoly:  MULTIPOLYGON (((-180 90, -180 -90, 0 -90, 0 90, -180 90), (-170 80, -170 -80, -10 -80, -10 80, -170 80)), ((180 -90, 180 90, 0 90, 0 -90, 180 -90)))\n"
     ]
    }
   ],
   "source": [
    "# Import collections of geometric objects + bounding box\n",
    "from shapely.geometry import MultiPoint, MultiLineString, MultiPolygon, box\n",
    "\n",
    "# Create a MultiPoint object of our points 1,2 and 3\n",
    "multi_point = MultiPoint([point1, point2, point3])\n",
    "\n",
    "# It is also possible to pass coordinate tuples inside\n",
    "multi_point2 = MultiPoint([(2.2, 4.2), (7.2, -25.1), (9.26, -2.456)])\n",
    "\n",
    "# We can also create a MultiLineString with two lines\n",
    "line1 = LineString([point1, point2])\n",
    "line2 = LineString([point2, point3])\n",
    "multi_line = MultiLineString([line1, line2])\n",
    "\n",
    "# MultiPolygon can be done in a similar manner\n",
    "# Let's divide our world into western and eastern hemispheres with a hole on the western hemisphere\n",
    "# --------------------------------------------------------------------------------------------------\n",
    "\n",
    "# Let's create the exterior of the western part of the world\n",
    "west_exterior = [(-180, 90), (-180, -90), (0, -90), (0, 90)]\n",
    "\n",
    "# Let's create a hole --> remember there can be multiple holes, thus we need to have a list of hole(s). \n",
    "# Here we have just one.\n",
    "west_hole = [[(-170, 80), (-170, -80), (-10, -80), (-10, 80)]]\n",
    "\n",
    "# Create the Polygon\n",
    "west_poly = Polygon(shell=west_exterior, holes=west_hole)\n",
    "\n",
    "# Let's create the Polygon of our Eastern hemisphere polygon using bounding box\n",
    "# For bounding box we need to specify the lower-left corner coordinates and upper-right coordinates\n",
    "min_x, min_y = 0, -90\n",
    "max_x, max_y = 180, 90\n",
    "\n",
    "# Create the polygon using box() function\n",
    "east_poly_box = box(minx=min_x, miny=min_y, maxx=max_x, maxy=max_y)\n",
    "\n",
    "# Let's create our MultiPolygon. We can pass multiple Polygon -objects into our MultiPolygon as a list\n",
    "multi_poly = MultiPolygon([west_poly, east_poly_box])\n",
    "\n",
    "# Print outputs\n",
    "print(\"MultiPoint:\", multi_point)\n",
    "print(\"MultiLine: \", multi_line)\n",
    "print(\"Bounding box: \", east_poly_box)\n",
    "print(\"MultiPoly: \", multi_poly)\n"
   ]
  },
  {
   "cell_type": "markdown",
   "metadata": {},
   "source": [
    "Podemos observar que as saídas são similares as geometrias básicas que foram criadas anteriormente, más agora esses objetos são extensíveis para multiplos pontos, linhas e polígonos.\n",
    "\n",
    "### Geometry collection -  Atributos e funções\n",
    "\n",
    "- Podemos também utilizar muitas funções internas especificas destas coleções, como o `Convex Hull`:"
   ]
  },
  {
   "cell_type": "code",
   "execution_count": 42,
   "metadata": {},
   "outputs": [
    {
     "name": "stdout",
     "output_type": "stream",
     "text": [
      "Convex hull of the points:  POLYGON ((7.2 -25.1, 2.2 4.2, 9.26 -2.456, 7.2 -25.1))\n",
      "Number of lines in MultiLineString: 2\n",
      "Area of our MultiPolygon: 39200.0\n",
      "Area of our Western Hemisphere polygon: 6800.0\n",
      "Is polygon valid?:  False\n"
     ]
    }
   ],
   "source": [
    "# Convex Hull of our MultiPoint --> https://en.wikipedia.org/wiki/Convex_hull\n",
    "convex = multi_point.convex_hull\n",
    "\n",
    "# How many lines do we have inside our MultiLineString?\n",
    "lines_count = len(multi_line)\n",
    "\n",
    "# Let's calculate the area of our MultiPolygon\n",
    "multi_poly_area = multi_poly.area\n",
    "\n",
    "# We can also access different items inside our geometry collections. We can e.g. access a single polygon from\n",
    "# our MultiPolygon -object by referring to the index\n",
    "\n",
    "# Let's calculate the area of our Western hemisphere (with a hole) which is at index 0\n",
    "west_area = multi_poly[0].area\n",
    "\n",
    "# We can check if we have a \"valid\" MultiPolygon. MultiPolygon is thought as valid if the individual polygons \n",
    "# does notintersect with each other. Here, because the polygons have a common 0-meridian, we should NOT have \n",
    "# a valid polygon. This can be really useful information when trying to find topological errors from your data\n",
    "valid = multi_poly.is_valid\n",
    "\n",
    "# Print outputs\n",
    "print(\"Convex hull of the points: \", convex)\n",
    "print(\"Number of lines in MultiLineString:\", lines_count)\n",
    "print(\"Area of our MultiPolygon:\", multi_poly_area)\n",
    "print(\"Area of our Western Hemisphere polygon:\", west_area)\n",
    "print(\"Is polygon valid?: \", valid)"
   ]
  },
  {
   "cell_type": "markdown",
   "metadata": {},
   "source": [
    "Como mostrado acima podemos ver que o objeto `MultiPolygon` possui os mesmos atributos que o objeto `Polygon`, mas agora métodos como cálculo da área retorna a soma das áreas de **todos** os polígonos presentes no objeto.\n",
    "\n",
    "Também existem algumas funções extras disponíveis apenas para estas coleções, como **is_valid** que retorna se o polígono ou linhas possuem interseção um com o outro."
   ]
  }
 ],
 "metadata": {
  "anaconda-cloud": {},
  "kernelspec": {
   "display_name": "Python 3",
   "language": "python",
   "name": "python3"
  },
  "language_info": {
   "codemirror_mode": {
    "name": "ipython",
    "version": 3
   },
   "file_extension": ".py",
   "mimetype": "text/x-python",
   "name": "python",
   "nbconvert_exporter": "python",
   "pygments_lexer": "ipython3",
   "version": "3.7.4"
  }
 },
 "nbformat": 4,
 "nbformat_minor": 2
}
