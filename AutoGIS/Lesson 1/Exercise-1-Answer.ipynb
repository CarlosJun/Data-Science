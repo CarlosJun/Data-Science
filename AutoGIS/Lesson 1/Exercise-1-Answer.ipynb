{
 "cells": [
  {
   "cell_type": "markdown",
   "metadata": {},
   "source": [
    "**Fonte:**\n",
    "este material é uma tradução e adaptação dos notebooks: <br/> https://github.com/AutoGIS-2019/Exercise-1/blob/master/Exercise-1-problem-1-2.ipynb <br/> https://github.com/AutoGIS-2019/Exercise-1/blob/master/Exercise-1-problem-3-4.ipynb"
   ]
  },
  {
   "cell_type": "markdown",
   "metadata": {},
   "source": [
    "# Exercício 1: trabalhando com objetos geométricos"
   ]
  },
  {
   "cell_type": "markdown",
   "metadata": {},
   "source": [
    "Neste exercício vamos praticas como criar objetos usando o módulo Shapely e como encontrar diferentes atributos dessas geometrias. Vamos utilizar as funções aprendidas anteriormente para fazer diferentes operações."
   ]
  },
  {
   "cell_type": "markdown",
   "metadata": {},
   "source": [
    "## Problema 1: criando geometrias básicas"
   ]
  },
  {
   "cell_type": "markdown",
   "metadata": {},
   "source": [
    "1. Crie uma função chamada `create_point_geom()` que recebe dois parâmetros (x_coord, y_coord). Função deve retornar um objeto `Point` do módulo Shapely. "
   ]
  },
  {
   "cell_type": "code",
   "execution_count": 1,
   "metadata": {},
   "outputs": [],
   "source": [
    "# import libraries\n",
    "from shapely.geometry import Point, LineString, Polygon\n",
    "\n",
    "def create_point_geom(x_coord, y_coord):\n",
    "    return Point(x_coord, y_coord)"
   ]
  },
  {
   "cell_type": "markdown",
   "metadata": {},
   "source": [
    "Demonstre o uso da função códificada na célula acima criando um objeto `Point`"
   ]
  },
  {
   "cell_type": "code",
   "execution_count": 2,
   "metadata": {},
   "outputs": [
    {
     "name": "stdout",
     "output_type": "stream",
     "text": [
      "POINT (2.25 5.2)\n"
     ]
    }
   ],
   "source": [
    "point1 = create_point_geom(2.25, 5.2)\n",
    "print(point1)"
   ]
  },
  {
   "cell_type": "markdown",
   "metadata": {},
   "source": [
    "2. Crie uma função chamada **`create_line_geom()`** que recebe uma lista de objetos `Point` como parâmetro chamado de **`points`** e retorna um objeto `LineString` contendo estes pontos. Em adição, você deve tomar cuidado para a função tratar alguns casos como:\n",
    " - Dentro da função, deve ser checado com `assert` se o parâmetro de entrada é uma **list**. Se outro objeto for enviado como parâmetro, deve ser retornado a seguinte mensagem de erro: `\"Input should be a list!\"`\n",
    " - Também deverá ser verificado com o `assert` se a lista de entrada contém pelo menos dois valores. Caso contrário, retorne uma mensagem de erro: `\"LineString object requires at least two Points!\"`"
   ]
  },
  {
   "cell_type": "code",
   "execution_count": 2,
   "metadata": {},
   "outputs": [],
   "source": [
    "def create_line_geom(points):\n",
    "    \n",
    "    # Check if inputs is type list\n",
    "    assert isinstance(points, (list)), \"Input should be a list!\"\n",
    "    \n",
    "    # Check that the list contains at least two values\n",
    "    assert len(points) >= 2, \"LineString object requires at least two Points!\"\n",
    "    \n",
    "    return LineString([[point.x, point.y] for point in points])"
   ]
  },
  {
   "cell_type": "markdown",
   "metadata": {},
   "source": [
    "Demonstre o uso da função acima criando um `LineString` com dois pontos: <br/> Point(45.2, 22.34) <br/> Point(100.22, -3.20)"
   ]
  },
  {
   "cell_type": "code",
   "execution_count": 4,
   "metadata": {},
   "outputs": [
    {
     "name": "stdout",
     "output_type": "stream",
     "text": [
      "LINESTRING (45.2 22.34, 100.22 -3.2)\n"
     ]
    }
   ],
   "source": [
    "point1 = Point(45.2, 22.34)\n",
    "point2 = Point(100.22, -3.20)\n",
    "\n",
    "line1 = create_line_geom([point1, point2])\n",
    "print(line1)"
   ]
  },
  {
   "cell_type": "markdown",
   "metadata": {},
   "source": [
    "3. Crie uma função chamada **`create_poly_geom()`** que recebe um parâmetro chamado de `coords`, que é uma lista de objetos `Point` e retorna um objeto `Polygon`.\n",
    "\n",
    " - Dentro da função, deve ser checado com `assert` se o parâmetro de entrada é uma **list**. Se outro objeto além de uma lista for enviado como parâmetro deve ser retornado a seguinte mensagem de erro: `\"Input should be a list!\"`\n",
    " - Também deverá ser verificado com `assert`se a lista de entrada contém pelo menos três valores. Caso contrário retorne uma mensagem de erro: `\"Polygon object requires at least three Points!\"`"
   ]
  },
  {
   "cell_type": "code",
   "execution_count": 3,
   "metadata": {},
   "outputs": [
    {
     "ename": "SyntaxError",
     "evalue": "invalid syntax (<ipython-input-3-e1125c8457ab>, line 1)",
     "output_type": "error",
     "traceback": [
      "\u001b[0;36m  File \u001b[0;32m\"<ipython-input-3-e1125c8457ab>\"\u001b[0;36m, line \u001b[0;32m1\u001b[0m\n\u001b[0;31m    Demonstre o uso da função acima criando um `LineString` com dois pontos: <br/> Point(45.2, 22.34) <br/> Point(100.22, -3.20)# REPLACE THE ERROR BELOW WITH YOUR OWN CODE\u001b[0m\n\u001b[0m              ^\u001b[0m\n\u001b[0;31mSyntaxError\u001b[0m\u001b[0;31m:\u001b[0m invalid syntax\n"
     ]
    }
   ],
   "source": [
    "Demonstre o uso da função acima criando um `LineString` com dois pontos: <br/> Point(45.2, 22.34) <br/> Point(100.22, -3.20)# REPLACE THE ERROR BELOW WITH YOUR OWN CODE\n",
    "def create_poly_geom(points):\n",
    "    \n",
    "    # Check if inputs is type list\n",
    "    assert isinstance(points, (list)), \"Input should be a list!\"\n",
    "    \n",
    "    # Check that the list contains at least two values\n",
    "    assert len(points) >= 3, \"LineString object requires at least three Points!\"\n",
    "    \n",
    "    return Polygon([[point.x, point.y] for point in points])"
   ]
  },
  {
   "cell_type": "markdown",
   "metadata": {},
   "source": [
    "Demonstre o uso da função acima criando um `Polygon` com três pontos: Point(45.2, 22.34), Point(100.22, -3.20) & Point(70.0, 10.20)"
   ]
  },
  {
   "cell_type": "code",
   "execution_count": 6,
   "metadata": {},
   "outputs": [
    {
     "name": "stdout",
     "output_type": "stream",
     "text": [
      "POLYGON ((45.2 22.34, 100.22 -3.2, 70 10.2, 45.2 22.34))\n"
     ]
    }
   ],
   "source": [
    "point1 = Point(45.2, 22.34)\n",
    "point2 = Point(100.22, -3.20)\n",
    "point3 = Point(70.0, 10.20)\n",
    "\n",
    "poly1 = create_poly_geom([point1, point2, point3])\n",
    "print(poly1)"
   ]
  },
  {
   "cell_type": "markdown",
   "metadata": {},
   "source": [
    "## Problema 2: atributos das geometrias"
   ]
  },
  {
   "cell_type": "markdown",
   "metadata": {},
   "source": [
    "1. Crie uma função chamada **`get_centroid()`** que possui um parâmetro chamado geom. A função deve receber qualquer tipo de objeto geométrico do modulo shapely e retornar o centróide dessa geométria. Em adição, você deve tomar cuidado para a função tratar alguns casos como:\n",
    " - Dentro da função, deve ser checado com assert se o parâmetro de entrada é um Shapely `Point`, `LineString` ou `Polygon`. Se outro objeto for enviado como parâmetro, deve ser retornado a seguinte mensagem de erro: `\"Input should be a Shapely geometry!\"`"
   ]
  },
  {
   "cell_type": "code",
   "execution_count": 7,
   "metadata": {},
   "outputs": [],
   "source": [
    "Demonstre o uso da função acima criando um `LineString` com dois pontos: <br/> Point(45.2, 22.34) <br/> Point(100.22, -3.20)def get_centroid(geom):\n",
    "    assert type(geom) in [Point, LineString, Polygon], \"Input should be a Shapely geometry!\"\n",
    "    \n",
    "    return geom.centroid"
   ]
  },
  {
   "cell_type": "markdown",
   "metadata": {},
   "source": [
    "Demonstre o uso da função acima. Para isso você pode usar a função 'create_line_geom' codificada anteriormente. Crie uma linha com dois pontos: Point(45.2, 22.34) & Point(100.22, -3.20), e mostre o centróide. "
   ]
  },
  {
   "cell_type": "code",
   "execution_count": 8,
   "metadata": {},
   "outputs": [
    {
     "name": "stdout",
     "output_type": "stream",
     "text": [
      "POINT (72.71000000000001 9.57)\n"
     ]
    }
   ],
   "source": [
    "point1 = Point(45.2, 22.34) \n",
    "point2 = Point(100.22, -3.20)\n",
    "\n",
    "line1 = create_line_geom([point1, point2])\n",
    "centroid1 = get_centroid(line1)\n",
    "print(centroid1)"
   ]
  },
  {
   "cell_type": "markdown",
   "metadata": {},
   "source": [
    "2. Crie uma função chamada **`get_area()`** que possui um parâmetro chamado polygon. A função deve receber um objeto `Polygon` do modulo shapely e retornar a área dessa geométria. Em adição, você deve tomar cuidado para a função tratar alguns casos como:\n",
    " - Dentro da função, deve ser checado com assert se o parâmetro de entrada é um Shapely `Polygon`. Se outro objeto for enviado como parâmetro, deve ser retornado a seguinte mensagem de erro: `\"Input should be a Shapely Polygon -object!\"`"
   ]
  },
  {
   "cell_type": "code",
   "execution_count": 9,
   "metadata": {},
   "outputs": [],
   "source": [
    "def get_area(polygon):\n",
    "    \n",
    "    assert type(polygon) is Polygon, \"Input should be a Shapely Polygon -object!\"\n",
    "    \n",
    "    return polygon.area"
   ]
  },
  {
   "cell_type": "markdown",
   "metadata": {},
   "source": [
    "Demonstre o uso da função acima. Para isso você pode usar a função 'create_poly_geom' codificada anteriormente. Crie um polygon com três pontos: Point(45.2, 22.34), Point(100.22, -3.20) & Point(70.0, 10.20), e mostre a área. "
   ]
  },
  {
   "cell_type": "code",
   "execution_count": 10,
   "metadata": {},
   "outputs": [
    {
     "data": {
      "text/plain": [
       "17.27539999999999"
      ]
     },
     "execution_count": 10,
     "metadata": {},
     "output_type": "execute_result"
    }
   ],
   "source": [
    "point1 = Point(45.2, 22.34)\n",
    "point2 = Point(100.22, -3.20)\n",
    "point3 = Point(70.0, 10.20)\n",
    "\n",
    "poly1 = create_poly_geom([point1, point2, point3])\n",
    "get_area(poly1)"
   ]
  },
  {
   "cell_type": "markdown",
   "metadata": {},
   "source": [
    "3. Crie uma função chamada **`get_length()`** que possui um parâmetro chamado geom. A função deve receber um objeto` LineString` ou `Polygon` do modulo shapely e retornar o comprimento da linha se for `LineString` ou o comrpimento do anel exterior se for um `Polygon`. Em adição, você deve tomar cuidado para a função tratar alguns casos como:\n",
    " - Dentro da função, deve ser checado com assert se o parâmetro de entrada é um Shapely `LineString` ou `Polygon`. Se outro objeto for enviado como parâmetro deve ser retornado a seguinte mensagem de erro: `\"'geom' should be either LineString or Polygon!\"`"
   ]
  },
  {
   "cell_type": "code",
   "execution_count": 11,
   "metadata": {},
   "outputs": [],
   "source": [
    "def get_length(geom):\n",
    "    \n",
    "    assert type(geom) in [LineString, Polygon], \"Input should be a Shapely Polygon -object!\"\n",
    "    \n",
    "    return geom.length"
   ]
  },
  {
   "cell_type": "markdown",
   "metadata": {},
   "source": [
    "Demonstre o uso da função acima. Você pode usar o mesmo polígono usado na questão anterior. "
   ]
  },
  {
   "cell_type": "code",
   "execution_count": 12,
   "metadata": {},
   "outputs": [
    {
     "data": {
      "text/plain": [
       "121.32841570092893"
      ]
     },
     "execution_count": 12,
     "metadata": {},
     "output_type": "execute_result"
    }
   ],
   "source": [
    "point1 = Point(45.2, 22.34)\n",
    "point2 = Point(100.22, -3.20)\n",
    "point3 = Point(70.0, 10.20)\n",
    "\n",
    "poly1 = create_poly_geom([point1, point2, point3])\n",
    "get_length(poly1)"
   ]
  },
  {
   "cell_type": "markdown",
   "metadata": {},
   "source": [
    "## Problema 3: lendo coordenadas de um arquivo e criando as geometrias."
   ]
  },
  {
   "cell_type": "markdown",
   "metadata": {},
   "source": [
    "Um problema comum em GIS é a situação em que você possui um conjunto de coordenadas em um arquivo, e você precisa mapeá-las. Em python existem diversas ferramentas para lidar com este tipo de situação, sendo possível ler dados de todos os tipos (como csv, txt, excel, gpx, databases e etc).\n",
    "\n",
    "Vamos ver como podemos ler dados de um arquivo e criar objetos de pontos que podem ser salvos como um novo tipo. o Nosso dataset [travelTimes_2015_Helsinki.txt](data/travelTimes_2015_Helsinki.txt) consiste do tempo de viagem de lugares específicos na região de Helsinki. As primeiras quatros linhas podem ser vistas abaixo:\n",
    "\n",
    "```\n",
    "   from_id;to_id;fromid_toid;route_number;at;from_x;from_y;to_x;to_y;total_route_time;route_time;route_distance\n",
    "   5861326;5785640;5861326_5785640;1;08:10;24.9704379;60.3119173;24.8560344;60.399940599999994;125.0;99.0;22917.6\n",
    "   5861326;5785641;5861326_5785641;1;08:10;24.9704379;60.3119173;24.8605682;60.4000135;123.0;102.0;23123.5\n",
    "   5861326;5785642;5861326_5785642;1;08:10;24.9704379;60.3119173;24.865102;60.4000863;125.0;103.0;23241.3\n",
    "```\n",
    "Como pode ser visto, existem muitas colunas diferentes nos nosso dados, mas as colunas importantes para o nosso problema são listadas aa seguir:\n",
    "\n",
    "| Column | Description |\n",
    "|--------|-------------|\n",
    "| from_x | x-coordinate of the **origin** location (longitude) |\n",
    "| from_y | y-coordinate of the **origin** location (latitude) |\n",
    "| to_x   | x-coordinate of the **destination** location (longitude)|\n",
    "| to_y   | y-coordinate of the **destination** location (latitude) |\n",
    "| total_route_time | Travel time with public transportation at the route |\n",
    "\n",
    "### Primeiro passo - Ler os dados\n",
    "\n",
    "1. Leia o arquivo [data/travelTimes_2015_Helsinki.txt](data/travelTimes_2015_Helsinki.txt) em um variável **`dataframe`** usando Pandas. Depois mostre as cinco primeiras linhas do arquivo lido.\n",
    " - Lembre de verificar o separador dos dados.\n"
   ]
  },
  {
   "cell_type": "code",
   "execution_count": 15,
   "metadata": {},
   "outputs": [
    {
     "data": {
      "text/html": [
       "<div>\n",
       "<style scoped>\n",
       "    .dataframe tbody tr th:only-of-type {\n",
       "        vertical-align: middle;\n",
       "    }\n",
       "\n",
       "    .dataframe tbody tr th {\n",
       "        vertical-align: top;\n",
       "    }\n",
       "\n",
       "    .dataframe thead th {\n",
       "        text-align: right;\n",
       "    }\n",
       "</style>\n",
       "<table border=\"1\" class=\"dataframe\">\n",
       "  <thead>\n",
       "    <tr style=\"text-align: right;\">\n",
       "      <th></th>\n",
       "      <th>from_id</th>\n",
       "      <th>to_id</th>\n",
       "      <th>fromid_toid</th>\n",
       "      <th>route_number</th>\n",
       "      <th>at</th>\n",
       "      <th>from_x</th>\n",
       "      <th>from_y</th>\n",
       "      <th>to_x</th>\n",
       "      <th>to_y</th>\n",
       "      <th>total_route_time</th>\n",
       "      <th>route_time</th>\n",
       "      <th>route_distance</th>\n",
       "      <th>route_total_lines</th>\n",
       "    </tr>\n",
       "  </thead>\n",
       "  <tbody>\n",
       "    <tr>\n",
       "      <th>0</th>\n",
       "      <td>5861326</td>\n",
       "      <td>5785640</td>\n",
       "      <td>5861326_5785640</td>\n",
       "      <td>1</td>\n",
       "      <td>08:10</td>\n",
       "      <td>24.970438</td>\n",
       "      <td>60.311917</td>\n",
       "      <td>24.856034</td>\n",
       "      <td>60.399941</td>\n",
       "      <td>125.0</td>\n",
       "      <td>99.0</td>\n",
       "      <td>22917.6</td>\n",
       "      <td>2.0</td>\n",
       "    </tr>\n",
       "    <tr>\n",
       "      <th>1</th>\n",
       "      <td>5861326</td>\n",
       "      <td>5785641</td>\n",
       "      <td>5861326_5785641</td>\n",
       "      <td>1</td>\n",
       "      <td>08:10</td>\n",
       "      <td>24.970438</td>\n",
       "      <td>60.311917</td>\n",
       "      <td>24.860568</td>\n",
       "      <td>60.400014</td>\n",
       "      <td>123.0</td>\n",
       "      <td>102.0</td>\n",
       "      <td>23123.5</td>\n",
       "      <td>2.0</td>\n",
       "    </tr>\n",
       "    <tr>\n",
       "      <th>2</th>\n",
       "      <td>5861326</td>\n",
       "      <td>5785642</td>\n",
       "      <td>5861326_5785642</td>\n",
       "      <td>1</td>\n",
       "      <td>08:10</td>\n",
       "      <td>24.970438</td>\n",
       "      <td>60.311917</td>\n",
       "      <td>24.865102</td>\n",
       "      <td>60.400086</td>\n",
       "      <td>125.0</td>\n",
       "      <td>103.0</td>\n",
       "      <td>23241.3</td>\n",
       "      <td>2.0</td>\n",
       "    </tr>\n",
       "    <tr>\n",
       "      <th>3</th>\n",
       "      <td>5861326</td>\n",
       "      <td>5785643</td>\n",
       "      <td>5861326_5785643</td>\n",
       "      <td>1</td>\n",
       "      <td>08:10</td>\n",
       "      <td>24.970438</td>\n",
       "      <td>60.311917</td>\n",
       "      <td>24.869636</td>\n",
       "      <td>60.400159</td>\n",
       "      <td>129.0</td>\n",
       "      <td>107.0</td>\n",
       "      <td>23534.2</td>\n",
       "      <td>2.0</td>\n",
       "    </tr>\n",
       "    <tr>\n",
       "      <th>4</th>\n",
       "      <td>5861326</td>\n",
       "      <td>5787544</td>\n",
       "      <td>5861326_5787544</td>\n",
       "      <td>1</td>\n",
       "      <td>08:10</td>\n",
       "      <td>24.970438</td>\n",
       "      <td>60.311917</td>\n",
       "      <td>24.842582</td>\n",
       "      <td>60.397478</td>\n",
       "      <td>118.0</td>\n",
       "      <td>92.0</td>\n",
       "      <td>22428.2</td>\n",
       "      <td>2.0</td>\n",
       "    </tr>\n",
       "  </tbody>\n",
       "</table>\n",
       "</div>"
      ],
      "text/plain": [
       "   from_id    to_id      fromid_toid  route_number     at     from_x  \\\n",
       "0  5861326  5785640  5861326_5785640             1  08:10  24.970438   \n",
       "1  5861326  5785641  5861326_5785641             1  08:10  24.970438   \n",
       "2  5861326  5785642  5861326_5785642             1  08:10  24.970438   \n",
       "3  5861326  5785643  5861326_5785643             1  08:10  24.970438   \n",
       "4  5861326  5787544  5861326_5787544             1  08:10  24.970438   \n",
       "\n",
       "      from_y       to_x       to_y  total_route_time  route_time  \\\n",
       "0  60.311917  24.856034  60.399941             125.0        99.0   \n",
       "1  60.311917  24.860568  60.400014             123.0       102.0   \n",
       "2  60.311917  24.865102  60.400086             125.0       103.0   \n",
       "3  60.311917  24.869636  60.400159             129.0       107.0   \n",
       "4  60.311917  24.842582  60.397478             118.0        92.0   \n",
       "\n",
       "   route_distance  route_total_lines  \n",
       "0         22917.6                2.0  \n",
       "1         23123.5                2.0  \n",
       "2         23241.3                2.0  \n",
       "3         23534.2                2.0  \n",
       "4         22428.2                2.0  "
      ]
     },
     "execution_count": 15,
     "metadata": {},
     "output_type": "execute_result"
    }
   ],
   "source": [
    "import pandas as pd\n",
    "\n",
    "def read_data(filename, separator):\n",
    "    return pd.read_csv(filename, sep=separator)\n",
    "\n",
    "filename = 'data/travelTimes_2015_Helsinki.txt'\n",
    "separator = ';'\n",
    "data = read_data(filename, separator)\n",
    "data.head(5)"
   ]
  },
  {
   "cell_type": "markdown",
   "metadata": {},
   "source": [
    "### Segundo passo - Selecionar os dados\n",
    "2. Selecione somente as seguintes colunas do DataFrame: **'from_x'**, **'from_y'**, **'to_x'**, **'to_y'** e armazene em um variável chamado **`data`**. Depois mostre somente as colunas do dataframe (.columns)."
   ]
  },
  {
   "cell_type": "code",
   "execution_count": 17,
   "metadata": {},
   "outputs": [
    {
     "data": {
      "text/plain": [
       "Index(['from_x', 'from_y', 'to_x', 'to_y'], dtype='object')"
      ]
     },
     "execution_count": 17,
     "metadata": {},
     "output_type": "execute_result"
    }
   ],
   "source": [
    "def take_coordinates(data):\n",
    "    return data[['from_x', 'from_y', 'to_x', 'to_y']]\n",
    "\n",
    "data = take_coordinates(data)\n",
    "data.columns"
   ]
  },
  {
   "cell_type": "markdown",
   "metadata": {},
   "source": [
    "### Terceiro passo - Criar pontos de origin e destino\n",
    "3. Crie duas listas vazias para pontos, chamadas de **`orig_points`** e **`dest_points`**. Depois iterando em cada linha do seu DataFrame, adicione um objeto `Point` nas listas vazias criadas anteriormente, representando o ponto de origin (colunas `from_x` e `from_y`) e o ponto de destino (colunas `to_x` e `to_y`) respectivamente. "
   ]
  },
  {
   "cell_type": "code",
   "execution_count": 18,
   "metadata": {},
   "outputs": [
    {
     "name": "stdout",
     "output_type": "stream",
     "text": [
      "[<shapely.geometry.point.Point object at 0x7f4d4d920750>, <shapely.geometry.point.Point object at 0x7f4d4d9206d0>, <shapely.geometry.point.Point object at 0x7f4d4d920790>]\n"
     ]
    }
   ],
   "source": [
    "orig_points = list()\n",
    "dest_points = list()\n",
    "\n",
    "for idx, row in data.iterrows():\n",
    "    orig_points.append(Point(row['from_x'], row['from_y']))\n",
    "    dest_points.append(Point(row['to_x'], row['to_y']))\n",
    "\n",
    "print(orig_points[0:3])"
   ]
  },
  {
   "cell_type": "markdown",
   "metadata": {},
   "source": [
    "### Quarto passo - Criar linha que representa movimento\n",
    "4. Vamos criar um `LineString` que representa o movimento. Para isso, siga as seguitnes instruções:\n",
    " - Crie uma lista vazia chamada `Lines`\n",
    " - Itere sobre os pontos de origin e destino criados anterior e crie um objeto LineString.\n",
    "     - Dica: Você pode utilizar a função `zip()` para percorrer várias listas ao mesmo tempo.  \n",
    " - Adicione a LineString na lista `Lines`\n",
    "     "
   ]
  },
  {
   "cell_type": "code",
   "execution_count": 19,
   "metadata": {},
   "outputs": [
    {
     "name": "stdout",
     "output_type": "stream",
     "text": [
      "[<shapely.geometry.linestring.LineString object at 0x7f4d4ce005d0>, <shapely.geometry.linestring.LineString object at 0x7f4d4ce00650>, <shapely.geometry.linestring.LineString object at 0x7f4d4ce006d0>]\n"
     ]
    }
   ],
   "source": [
    "lines = list()\n",
    "\n",
    "for origin, destiny in zip(orig_points, dest_points):\n",
    "    lines.append(LineString((origin, destiny)))\n",
    "    \n",
    "print(lines[0:3])"
   ]
  },
  {
   "cell_type": "markdown",
   "metadata": {},
   "source": [
    "### Quinto passo - Calcular o tamanho total\n",
    "5. Crie uma variável chamada `total_length` e armazene a soma total das distâncias euclidianas de todas as LineStrings criadas anteriormente.\n",
    " - Dica: Você poderar iterar sobre as linhas e atualiza a variável com o tamanho."
   ]
  },
  {
   "cell_type": "code",
   "execution_count": 20,
   "metadata": {},
   "outputs": [
    {
     "name": "stdout",
     "output_type": "stream",
     "text": [
      "Total length of all lines is 3148.5707808651528\n"
     ]
    }
   ],
   "source": [
    "total_length = sum([line.length for line in lines])\n",
    "\n",
    "print(\"Total length of all lines is\", total_length)"
   ]
  },
  {
   "cell_type": "markdown",
   "metadata": {},
   "source": [
    "6. Para deixar o código mais reusável, reescreva em formato de função a criação do LineString e calculo do total das distâncias. Você pode copiar os códigos feitos anteriormente.\n",
    " - Nomeie as funções como desejar.\n",
    " - Dica: suas funções deve receber os pontos de origin e destino como listas."
   ]
  },
  {
   "cell_type": "code",
   "execution_count": 21,
   "metadata": {},
   "outputs": [
    {
     "data": {
      "text/plain": [
       "3148.5707808651528"
      ]
     },
     "execution_count": 21,
     "metadata": {},
     "output_type": "execute_result"
    }
   ],
   "source": [
    "def create_linestring(orig_points, dest_points):\n",
    "    \n",
    "    lines = list()\n",
    "    for origin, destiny in zip(orig_points, dest_points):\n",
    "        lines.append(LineString((origin, destiny)))\n",
    "        \n",
    "    return lines\n",
    "\n",
    "\n",
    "def sum_length(lines):\n",
    "       \n",
    "    return sum([line.length for line in lines])\n",
    "\n",
    "def take_total_length(orig_points, dest_points):\n",
    "    lines = create_linestring(orig_points, dest_points)\n",
    "    return sum_length(lines)\n",
    "\n",
    "\n",
    "take_total_length(orig_points, dest_points)"
   ]
  },
  {
   "cell_type": "markdown",
   "metadata": {},
   "source": [
    "## Fim do exercício!\n",
    "\n",
    "Você praticou com sucesso como as geometrias podem ser criadas em Python, realizou algumas operações básicas, carregou dados externos e fez operação sobre eles. Na próxima aula vamos usar as geometrias e operações ativamente. "
   ]
  }
 ],
 "metadata": {
  "kernelspec": {
   "display_name": "Python 3",
   "language": "python",
   "name": "python3"
  },
  "language_info": {
   "codemirror_mode": {
    "name": "ipython",
    "version": 3
   },
   "file_extension": ".py",
   "mimetype": "text/x-python",
   "name": "python",
   "nbconvert_exporter": "python",
   "pygments_lexer": "ipython3",
   "version": "3.7.7"
  }
 },
 "nbformat": 4,
 "nbformat_minor": 2
}
