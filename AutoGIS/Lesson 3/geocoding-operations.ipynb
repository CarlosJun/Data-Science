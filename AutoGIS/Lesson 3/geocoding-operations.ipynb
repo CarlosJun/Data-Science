{
 "cells": [
  {
   "cell_type": "markdown",
   "metadata": {},
   "source": [
    "# Geocoding no Geopandas\n",
    "\n",
    "O Geocoding é o processo de transformar um endereço em coordenadas geográficas (formato numérico). Em contrapartida a geocodificação reversa transforma coordenadas em um endereço.\n",
    "\n",
    "Utilizando o geopandas, podemos fazer operação de geocoding através da função ``geocode()``, que recebe uma lista de endereços (string) e retorna um GeoDataFrame contendo o resultado em objetos `Point` na coluna `geometry`.\n",
    "\n",
    "Nós geocodificaremos os endereços armazenados em um arquivo de texto chamado `roubos.csv`, que é uma pequena amostra com apenas 10 tuplas contendo informações de eventos de roubos que aconteceram na cidade de fortaleza.\n",
    "\n",
    "vamos carregar os dados utilizando pandas com a função `read_csv()` e mostrá-los."
   ]
  },
  {
   "cell_type": "code",
   "execution_count": 1,
   "metadata": {},
   "outputs": [
    {
     "data": {
      "text/html": [
       "<div>\n",
       "<style scoped>\n",
       "    .dataframe tbody tr th:only-of-type {\n",
       "        vertical-align: middle;\n",
       "    }\n",
       "\n",
       "    .dataframe tbody tr th {\n",
       "        vertical-align: top;\n",
       "    }\n",
       "\n",
       "    .dataframe thead th {\n",
       "        text-align: right;\n",
       "    }\n",
       "</style>\n",
       "<table border=\"1\" class=\"dataframe\">\n",
       "  <thead>\n",
       "    <tr style=\"text-align: right;\">\n",
       "      <th></th>\n",
       "      <th>natureza</th>\n",
       "      <th>localTipo</th>\n",
       "      <th>logradouro</th>\n",
       "      <th>complEnder</th>\n",
       "      <th>localNumero</th>\n",
       "      <th>municipioOficial</th>\n",
       "      <th>bairroOficial</th>\n",
       "    </tr>\n",
       "  </thead>\n",
       "  <tbody>\n",
       "    <tr>\n",
       "      <th>0</th>\n",
       "      <td>ROUBO A PESSOA</td>\n",
       "      <td>ESTACIONAMENTO</td>\n",
       "      <td>R TABELIÃO FABIÃO</td>\n",
       "      <td>SAIDA DO NORTH SHOPPING</td>\n",
       "      <td>2450</td>\n",
       "      <td>Fortaleza</td>\n",
       "      <td>São Gerardo Alagadiço</td>\n",
       "    </tr>\n",
       "    <tr>\n",
       "      <th>1</th>\n",
       "      <td>ROUBO A PESSOA</td>\n",
       "      <td>VIA PUBLICA</td>\n",
       "      <td>AV BEZERRA DE MENEZES</td>\n",
       "      <td>NORTH SHOPPING</td>\n",
       "      <td>2450</td>\n",
       "      <td>Fortaleza</td>\n",
       "      <td>São Gerardo Alagadiço</td>\n",
       "    </tr>\n",
       "    <tr>\n",
       "      <th>2</th>\n",
       "      <td>ROUBO A PESSOA</td>\n",
       "      <td>VIA PUBLICA</td>\n",
       "      <td>R RUA FRANCISCO FERREIRA BAIMA</td>\n",
       "      <td>MESSEJANA</td>\n",
       "      <td>461</td>\n",
       "      <td>Fortaleza</td>\n",
       "      <td>Messejana</td>\n",
       "    </tr>\n",
       "    <tr>\n",
       "      <th>3</th>\n",
       "      <td>ROUBO A PESSOA</td>\n",
       "      <td>VIA PUBLICA</td>\n",
       "      <td>AV FREI CIRILO</td>\n",
       "      <td>PIZZARIA FILHO DA PROMESSA</td>\n",
       "      <td>4843</td>\n",
       "      <td>Fortaleza</td>\n",
       "      <td>Messejana</td>\n",
       "    </tr>\n",
       "    <tr>\n",
       "      <th>4</th>\n",
       "      <td>ROUBO (OUTROS)</td>\n",
       "      <td>ESTACIONAMENTO</td>\n",
       "      <td>AV WASHINGTON SOARES</td>\n",
       "      <td>EXPRESS CAR WASH</td>\n",
       "      <td>1500</td>\n",
       "      <td>Fortaleza</td>\n",
       "      <td>Eng. Luciano Cavalcante</td>\n",
       "    </tr>\n",
       "  </tbody>\n",
       "</table>\n",
       "</div>"
      ],
      "text/plain": [
       "         natureza       localTipo                      logradouro  \\\n",
       "0  ROUBO A PESSOA  ESTACIONAMENTO               R TABELIÃO FABIÃO   \n",
       "1  ROUBO A PESSOA     VIA PUBLICA           AV BEZERRA DE MENEZES   \n",
       "2  ROUBO A PESSOA     VIA PUBLICA  R RUA FRANCISCO FERREIRA BAIMA   \n",
       "3  ROUBO A PESSOA     VIA PUBLICA                  AV FREI CIRILO   \n",
       "4  ROUBO (OUTROS)  ESTACIONAMENTO            AV WASHINGTON SOARES   \n",
       "\n",
       "                   complEnder  localNumero municipioOficial  \\\n",
       "0     SAIDA DO NORTH SHOPPING         2450        Fortaleza   \n",
       "1              NORTH SHOPPING         2450        Fortaleza   \n",
       "2                   MESSEJANA          461        Fortaleza   \n",
       "3  PIZZARIA FILHO DA PROMESSA         4843        Fortaleza   \n",
       "4            EXPRESS CAR WASH         1500        Fortaleza   \n",
       "\n",
       "             bairroOficial  \n",
       "0    São Gerardo Alagadiço  \n",
       "1    São Gerardo Alagadiço  \n",
       "2                Messejana  \n",
       "3                Messejana  \n",
       "4  Eng. Luciano Cavalcante  "
      ]
     },
     "execution_count": 1,
     "metadata": {},
     "output_type": "execute_result"
    }
   ],
   "source": [
    "# Import necessary modules\n",
    "import pandas as pd\n",
    "import geopandas as gpd\n",
    "from shapely.geometry import Point\n",
    "\n",
    "# Filepath\n",
    "fp = r\"data/roubos.csv\"\n",
    "\n",
    "# Read the data\n",
    "data = pd.read_csv(fp, sep=',')\n",
    "data"
   ]
  },
  {
   "cell_type": "markdown",
   "metadata": {},
   "source": [
    "Perceba que apesar de possuírmos informação de endereço, não temos coordenadas dos eventos, o que dificulta qualquer tipo de análise. Para obtermos as coordenadas vamos fazer o geocoding dos endereços."
   ]
  },
  {
   "cell_type": "markdown",
   "metadata": {},
   "source": [
    "Mas antes, vamos unir todas as informações de endereço em uma coluna só chamada de `endereco`."
   ]
  },
  {
   "cell_type": "code",
   "execution_count": 2,
   "metadata": {},
   "outputs": [
    {
     "data": {
      "text/html": [
       "<div>\n",
       "<style scoped>\n",
       "    .dataframe tbody tr th:only-of-type {\n",
       "        vertical-align: middle;\n",
       "    }\n",
       "\n",
       "    .dataframe tbody tr th {\n",
       "        vertical-align: top;\n",
       "    }\n",
       "\n",
       "    .dataframe thead th {\n",
       "        text-align: right;\n",
       "    }\n",
       "</style>\n",
       "<table border=\"1\" class=\"dataframe\">\n",
       "  <thead>\n",
       "    <tr style=\"text-align: right;\">\n",
       "      <th></th>\n",
       "      <th>natureza</th>\n",
       "      <th>localTipo</th>\n",
       "      <th>logradouro</th>\n",
       "      <th>complEnder</th>\n",
       "      <th>localNumero</th>\n",
       "      <th>municipioOficial</th>\n",
       "      <th>bairroOficial</th>\n",
       "      <th>endereco</th>\n",
       "    </tr>\n",
       "  </thead>\n",
       "  <tbody>\n",
       "    <tr>\n",
       "      <th>0</th>\n",
       "      <td>ROUBO A PESSOA</td>\n",
       "      <td>ESTACIONAMENTO</td>\n",
       "      <td>R TABELIÃO FABIÃO</td>\n",
       "      <td>SAIDA DO NORTH SHOPPING</td>\n",
       "      <td>2450</td>\n",
       "      <td>Fortaleza</td>\n",
       "      <td>São Gerardo Alagadiço</td>\n",
       "      <td>R TABELIÃO FABIÃO, 2450</td>\n",
       "    </tr>\n",
       "    <tr>\n",
       "      <th>1</th>\n",
       "      <td>ROUBO A PESSOA</td>\n",
       "      <td>VIA PUBLICA</td>\n",
       "      <td>AV BEZERRA DE MENEZES</td>\n",
       "      <td>NORTH SHOPPING</td>\n",
       "      <td>2450</td>\n",
       "      <td>Fortaleza</td>\n",
       "      <td>São Gerardo Alagadiço</td>\n",
       "      <td>AV BEZERRA DE MENEZES, 2450</td>\n",
       "    </tr>\n",
       "    <tr>\n",
       "      <th>2</th>\n",
       "      <td>ROUBO A PESSOA</td>\n",
       "      <td>VIA PUBLICA</td>\n",
       "      <td>R RUA FRANCISCO FERREIRA BAIMA</td>\n",
       "      <td>MESSEJANA</td>\n",
       "      <td>461</td>\n",
       "      <td>Fortaleza</td>\n",
       "      <td>Messejana</td>\n",
       "      <td>R RUA FRANCISCO FERREIRA BAIMA, 461</td>\n",
       "    </tr>\n",
       "    <tr>\n",
       "      <th>3</th>\n",
       "      <td>ROUBO A PESSOA</td>\n",
       "      <td>VIA PUBLICA</td>\n",
       "      <td>AV FREI CIRILO</td>\n",
       "      <td>PIZZARIA FILHO DA PROMESSA</td>\n",
       "      <td>4843</td>\n",
       "      <td>Fortaleza</td>\n",
       "      <td>Messejana</td>\n",
       "      <td>AV FREI CIRILO, 4843</td>\n",
       "    </tr>\n",
       "    <tr>\n",
       "      <th>4</th>\n",
       "      <td>ROUBO (OUTROS)</td>\n",
       "      <td>ESTACIONAMENTO</td>\n",
       "      <td>AV WASHINGTON SOARES</td>\n",
       "      <td>EXPRESS CAR WASH</td>\n",
       "      <td>1500</td>\n",
       "      <td>Fortaleza</td>\n",
       "      <td>Eng. Luciano Cavalcante</td>\n",
       "      <td>AV WASHINGTON SOARES, 1500</td>\n",
       "    </tr>\n",
       "  </tbody>\n",
       "</table>\n",
       "</div>"
      ],
      "text/plain": [
       "         natureza       localTipo                      logradouro  \\\n",
       "0  ROUBO A PESSOA  ESTACIONAMENTO               R TABELIÃO FABIÃO   \n",
       "1  ROUBO A PESSOA     VIA PUBLICA           AV BEZERRA DE MENEZES   \n",
       "2  ROUBO A PESSOA     VIA PUBLICA  R RUA FRANCISCO FERREIRA BAIMA   \n",
       "3  ROUBO A PESSOA     VIA PUBLICA                  AV FREI CIRILO   \n",
       "4  ROUBO (OUTROS)  ESTACIONAMENTO            AV WASHINGTON SOARES   \n",
       "\n",
       "                   complEnder  localNumero municipioOficial  \\\n",
       "0     SAIDA DO NORTH SHOPPING         2450        Fortaleza   \n",
       "1              NORTH SHOPPING         2450        Fortaleza   \n",
       "2                   MESSEJANA          461        Fortaleza   \n",
       "3  PIZZARIA FILHO DA PROMESSA         4843        Fortaleza   \n",
       "4            EXPRESS CAR WASH         1500        Fortaleza   \n",
       "\n",
       "             bairroOficial                             endereco  \n",
       "0    São Gerardo Alagadiço              R TABELIÃO FABIÃO, 2450  \n",
       "1    São Gerardo Alagadiço          AV BEZERRA DE MENEZES, 2450  \n",
       "2                Messejana  R RUA FRANCISCO FERREIRA BAIMA, 461  \n",
       "3                Messejana                 AV FREI CIRILO, 4843  \n",
       "4  Eng. Luciano Cavalcante           AV WASHINGTON SOARES, 1500  "
      ]
     },
     "execution_count": 2,
     "metadata": {},
     "output_type": "execute_result"
    }
   ],
   "source": [
    "data['endereco'] = data['logradouro'] + ', ' + data['localNumero'].apply(str)\n",
    "data.head()"
   ]
  },
  {
   "cell_type": "markdown",
   "metadata": {},
   "source": [
    "Agora vamos transformar os endereços em coordenadas usando `geocode()` com a ferramente de busca de dados Nominatim que realiza consultas no OpenStreetMap.\n",
    "\n",
    "Antes será necessário instalar a biblioteca geopy com o pip, para isso utilize o comando: pip install geopy"
   ]
  },
  {
   "cell_type": "code",
   "execution_count": 3,
   "metadata": {},
   "outputs": [],
   "source": [
    "# Import the geocoding tool\n",
    "from geopandas.tools import geocode\n",
    "\n",
    "# Geocode addresses with Nominatim backend\n",
    "geo = geocode(data['endereco'], provider = 'nominatim', user_agent = 'sac_student')"
   ]
  },
  {
   "cell_type": "code",
   "execution_count": 4,
   "metadata": {},
   "outputs": [
    {
     "data": {
      "text/html": [
       "<div>\n",
       "<style scoped>\n",
       "    .dataframe tbody tr th:only-of-type {\n",
       "        vertical-align: middle;\n",
       "    }\n",
       "\n",
       "    .dataframe tbody tr th {\n",
       "        vertical-align: top;\n",
       "    }\n",
       "\n",
       "    .dataframe thead th {\n",
       "        text-align: right;\n",
       "    }\n",
       "</style>\n",
       "<table border=\"1\" class=\"dataframe\">\n",
       "  <thead>\n",
       "    <tr style=\"text-align: right;\">\n",
       "      <th></th>\n",
       "      <th>geometry</th>\n",
       "      <th>address</th>\n",
       "    </tr>\n",
       "  </thead>\n",
       "  <tbody>\n",
       "    <tr>\n",
       "      <th>0</th>\n",
       "      <td>POINT (-38.5666771 -3.7338563)</td>\n",
       "      <td>Rua Tabelião Fabião, Presidente Kennedy, Forta...</td>\n",
       "    </tr>\n",
       "    <tr>\n",
       "      <th>1</th>\n",
       "      <td>POINT (-38.5650632 -3.7357739)</td>\n",
       "      <td>Avenida Bezerra de Menezes, Parquelândia, Fort...</td>\n",
       "    </tr>\n",
       "    <tr>\n",
       "      <th>2</th>\n",
       "      <td>POINT (-38.4860517 -3.8309073)</td>\n",
       "      <td>Rua Francisco Ferreira Baima, Messejana, Forta...</td>\n",
       "    </tr>\n",
       "    <tr>\n",
       "      <th>3</th>\n",
       "      <td>POINT (-38.4977753 -3.8165456)</td>\n",
       "      <td>Avenida Frei Cirilo, Messejana, Fortaleza, Mic...</td>\n",
       "    </tr>\n",
       "    <tr>\n",
       "      <th>4</th>\n",
       "      <td>POINT (-38.4817978 -3.7715008)</td>\n",
       "      <td>Avenida Washington Soares, Edson Queiroz, Fort...</td>\n",
       "    </tr>\n",
       "  </tbody>\n",
       "</table>\n",
       "</div>"
      ],
      "text/plain": [
       "                         geometry  \\\n",
       "0  POINT (-38.5666771 -3.7338563)   \n",
       "1  POINT (-38.5650632 -3.7357739)   \n",
       "2  POINT (-38.4860517 -3.8309073)   \n",
       "3  POINT (-38.4977753 -3.8165456)   \n",
       "4  POINT (-38.4817978 -3.7715008)   \n",
       "\n",
       "                                             address  \n",
       "0  Rua Tabelião Fabião, Presidente Kennedy, Forta...  \n",
       "1  Avenida Bezerra de Menezes, Parquelândia, Fort...  \n",
       "2  Rua Francisco Ferreira Baima, Messejana, Forta...  \n",
       "3  Avenida Frei Cirilo, Messejana, Fortaleza, Mic...  \n",
       "4  Avenida Washington Soares, Edson Queiroz, Fort...  "
      ]
     },
     "execution_count": 4,
     "metadata": {},
     "output_type": "execute_result"
    }
   ],
   "source": [
    "geo"
   ]
  },
  {
   "cell_type": "markdown",
   "metadata": {},
   "source": [
    "Como resultado, temos um GeoDataFrame que contém nosso endereço e uma coluna 'geoemtry' contendo objeto Point que podemos usar para exportar os endereços para um Shapefile por exemplo.\n",
    "\n",
    "Como os indices das duas tabelas são iguais, podemos unir facilmente."
   ]
  },
  {
   "cell_type": "code",
   "execution_count": 5,
   "metadata": {},
   "outputs": [
    {
     "data": {
      "text/html": [
       "<div>\n",
       "<style scoped>\n",
       "    .dataframe tbody tr th:only-of-type {\n",
       "        vertical-align: middle;\n",
       "    }\n",
       "\n",
       "    .dataframe tbody tr th {\n",
       "        vertical-align: top;\n",
       "    }\n",
       "\n",
       "    .dataframe thead th {\n",
       "        text-align: right;\n",
       "    }\n",
       "</style>\n",
       "<table border=\"1\" class=\"dataframe\">\n",
       "  <thead>\n",
       "    <tr style=\"text-align: right;\">\n",
       "      <th></th>\n",
       "      <th>natureza</th>\n",
       "      <th>localTipo</th>\n",
       "      <th>logradouro</th>\n",
       "      <th>complEnder</th>\n",
       "      <th>localNumero</th>\n",
       "      <th>municipioOficial</th>\n",
       "      <th>bairroOficial</th>\n",
       "      <th>endereco</th>\n",
       "      <th>geometry</th>\n",
       "    </tr>\n",
       "  </thead>\n",
       "  <tbody>\n",
       "    <tr>\n",
       "      <th>0</th>\n",
       "      <td>ROUBO A PESSOA</td>\n",
       "      <td>ESTACIONAMENTO</td>\n",
       "      <td>R TABELIÃO FABIÃO</td>\n",
       "      <td>SAIDA DO NORTH SHOPPING</td>\n",
       "      <td>2450</td>\n",
       "      <td>Fortaleza</td>\n",
       "      <td>São Gerardo Alagadiço</td>\n",
       "      <td>R TABELIÃO FABIÃO, 2450</td>\n",
       "      <td>POINT (-38.5666771 -3.7338563)</td>\n",
       "    </tr>\n",
       "    <tr>\n",
       "      <th>1</th>\n",
       "      <td>ROUBO A PESSOA</td>\n",
       "      <td>VIA PUBLICA</td>\n",
       "      <td>AV BEZERRA DE MENEZES</td>\n",
       "      <td>NORTH SHOPPING</td>\n",
       "      <td>2450</td>\n",
       "      <td>Fortaleza</td>\n",
       "      <td>São Gerardo Alagadiço</td>\n",
       "      <td>AV BEZERRA DE MENEZES, 2450</td>\n",
       "      <td>POINT (-38.5650632 -3.7357739)</td>\n",
       "    </tr>\n",
       "    <tr>\n",
       "      <th>2</th>\n",
       "      <td>ROUBO A PESSOA</td>\n",
       "      <td>VIA PUBLICA</td>\n",
       "      <td>R RUA FRANCISCO FERREIRA BAIMA</td>\n",
       "      <td>MESSEJANA</td>\n",
       "      <td>461</td>\n",
       "      <td>Fortaleza</td>\n",
       "      <td>Messejana</td>\n",
       "      <td>R RUA FRANCISCO FERREIRA BAIMA, 461</td>\n",
       "      <td>POINT (-38.4860517 -3.8309073)</td>\n",
       "    </tr>\n",
       "    <tr>\n",
       "      <th>3</th>\n",
       "      <td>ROUBO A PESSOA</td>\n",
       "      <td>VIA PUBLICA</td>\n",
       "      <td>AV FREI CIRILO</td>\n",
       "      <td>PIZZARIA FILHO DA PROMESSA</td>\n",
       "      <td>4843</td>\n",
       "      <td>Fortaleza</td>\n",
       "      <td>Messejana</td>\n",
       "      <td>AV FREI CIRILO, 4843</td>\n",
       "      <td>POINT (-38.4977753 -3.8165456)</td>\n",
       "    </tr>\n",
       "    <tr>\n",
       "      <th>4</th>\n",
       "      <td>ROUBO (OUTROS)</td>\n",
       "      <td>ESTACIONAMENTO</td>\n",
       "      <td>AV WASHINGTON SOARES</td>\n",
       "      <td>EXPRESS CAR WASH</td>\n",
       "      <td>1500</td>\n",
       "      <td>Fortaleza</td>\n",
       "      <td>Eng. Luciano Cavalcante</td>\n",
       "      <td>AV WASHINGTON SOARES, 1500</td>\n",
       "      <td>POINT (-38.4817978 -3.7715008)</td>\n",
       "    </tr>\n",
       "  </tbody>\n",
       "</table>\n",
       "</div>"
      ],
      "text/plain": [
       "         natureza       localTipo                      logradouro  \\\n",
       "0  ROUBO A PESSOA  ESTACIONAMENTO               R TABELIÃO FABIÃO   \n",
       "1  ROUBO A PESSOA     VIA PUBLICA           AV BEZERRA DE MENEZES   \n",
       "2  ROUBO A PESSOA     VIA PUBLICA  R RUA FRANCISCO FERREIRA BAIMA   \n",
       "3  ROUBO A PESSOA     VIA PUBLICA                  AV FREI CIRILO   \n",
       "4  ROUBO (OUTROS)  ESTACIONAMENTO            AV WASHINGTON SOARES   \n",
       "\n",
       "                   complEnder  localNumero municipioOficial  \\\n",
       "0     SAIDA DO NORTH SHOPPING         2450        Fortaleza   \n",
       "1              NORTH SHOPPING         2450        Fortaleza   \n",
       "2                   MESSEJANA          461        Fortaleza   \n",
       "3  PIZZARIA FILHO DA PROMESSA         4843        Fortaleza   \n",
       "4            EXPRESS CAR WASH         1500        Fortaleza   \n",
       "\n",
       "             bairroOficial                             endereco  \\\n",
       "0    São Gerardo Alagadiço              R TABELIÃO FABIÃO, 2450   \n",
       "1    São Gerardo Alagadiço          AV BEZERRA DE MENEZES, 2450   \n",
       "2                Messejana  R RUA FRANCISCO FERREIRA BAIMA, 461   \n",
       "3                Messejana                 AV FREI CIRILO, 4843   \n",
       "4  Eng. Luciano Cavalcante           AV WASHINGTON SOARES, 1500   \n",
       "\n",
       "                         geometry  \n",
       "0  POINT (-38.5666771 -3.7338563)  \n",
       "1  POINT (-38.5650632 -3.7357739)  \n",
       "2  POINT (-38.4860517 -3.8309073)  \n",
       "3  POINT (-38.4977753 -3.8165456)  \n",
       "4  POINT (-38.4817978 -3.7715008)  "
      ]
     },
     "execution_count": 5,
     "metadata": {},
     "output_type": "execute_result"
    }
   ],
   "source": [
    "data['geometry'] = geo['geometry']\n",
    "data.head()"
   ]
  },
  {
   "cell_type": "markdown",
   "metadata": {},
   "source": [
    "### Notas sobre a ferramenta Nominatim\n",
    "\n",
    "Nominatim funciona relativamente bem se você tiver endereços bem definidos e bem conhecidos, como os que usamos neste tutorial. No entanto, em alguns casos, talvez você não tenha endereços bem definidos e você pode ter, por exemplo, apenas o nome de um museu disponível. Nesses casos, a Nominatim pode não fornecer resultados tão bons e, nesses casos, você pode querer usar a [Google Geocoding API (V3)] (https://developers.google.com/maps/documentation/geocoding/)."
   ]
  },
  {
   "cell_type": "markdown",
   "metadata": {},
   "source": [
    "# Operações entre geometrias\n",
    "\n",
    "Descobrir se um certo ponto está localizado dentro ou fora de uma área,\n",
    "ou descobrir se uma linha cruza com outra linha ou polígono são\n",
    "operações geoespaciais fundamentais que são frequentemente usadas, e selecionar\n",
    "dados baseados na localização. Tais consultas espaciais são uma das primeiras etapas do fluxo de trabalho ao fazer análise espacial."
   ]
  },
  {
   "cell_type": "markdown",
   "metadata": {},
   "source": [
    "## Como verificar se o ponto está dentro de um polígono?\n",
    "\n",
    "Computacionalmente, detectar se um ponto está dentro de um polígono é mais comumente feito utilizando uma fórmula específica chamada [algoritmo Ray Casting] (https://en.wikipedia.org/wiki/Point_in_polygon#Ray_casting_algorithm).\n",
    "Felizmente, não precisamos criar essa função para nós mesmos\n",
    "conduzindo a consulta Point in Polygon (PIP). Em vez disso, podemos tomar\n",
    "vantagem dos [predicados binários de Shapely] (http://toblerity.org/shapely/manual.html#binary-predicates)\n",
    "que podem avaliar as relações topológicas com os objetos.\n",
    "\n",
    "Existem basicamente duas maneiras de conduzir o PIP na Shapely:\n",
    "\n",
    "1. usando uma função chamada\n",
    "   [.within()](http://toblerity.org/shapely/manual.html#object.within)\n",
    "   que verifica se um ponto está dentro de um polígono\n",
    "2. usando uma função chamada\n",
    "   [.contains ()](http://toblerity.org/shapely/manual.html#object.contains)\n",
    "   que verifica se um polígono contém um ponto\n",
    "\n",
    "Aviso: apesar de estarmos falando aqui sobre a operação de **Point** dentro de um Polygon, também é possível verificar se um LineString ou Polygon é\n",
    "dentro de outro Polygon.\n",
    "\n",
    "- Vamos primeiro criar um polígono usando uma lista de coordenadas-tuplas e um\n",
    "   par de objetos pontuais"
   ]
  },
  {
   "cell_type": "code",
   "execution_count": 6,
   "metadata": {},
   "outputs": [
    {
     "name": "stdout",
     "output_type": "stream",
     "text": [
      "POINT (24.952242 60.1696017)\n",
      "POINT (24.976567 60.16125)\n",
      "POLYGON ((24.950899 60.169158, 24.953492 60.169158, 24.95351 60.170104, 24.950958 60.16999, 24.950899 60.169158))\n"
     ]
    }
   ],
   "source": [
    "from shapely.geometry import Point, Polygon\n",
    "\n",
    "# Create Point objects\n",
    "p1 = Point(24.952242, 60.1696017)\n",
    "p2 = Point(24.976567, 60.1612500)\n",
    "\n",
    "# Create a Polygon\n",
    "coords = [(24.950899, 60.169158), (24.953492, 60.169158), (24.953510, 60.170104), (24.950958, 60.169990)]\n",
    "poly = Polygon(coords)\n",
    "\n",
    "# Let's check what we have\n",
    "print(p1)\n",
    "print(p2)\n",
    "print(poly)"
   ]
  },
  {
   "cell_type": "markdown",
   "metadata": {},
   "source": [
    "Vamos verificar se esses pontos estão dentro do polígono"
   ]
  },
  {
   "cell_type": "code",
   "execution_count": 7,
   "metadata": {},
   "outputs": [
    {
     "name": "stdout",
     "output_type": "stream",
     "text": [
      "True\n",
      "False\n"
     ]
    }
   ],
   "source": [
    "# Check if p1 is within the polygon using the within function\n",
    "print(p1.within(poly))\n",
    "\n",
    "# Check if p2 is within the polygon\n",
    "print(p2.within(poly))"
   ]
  },
  {
   "cell_type": "markdown",
   "metadata": {},
   "source": [
    "Então podemos ver que o primeiro ponto parece estar dentro do polígono e o segundo não.\n",
    "\n",
    "- Na verdade, o primeiro ponto é perto do centro do polígono, como nós\n",
    "    podemos ver se compararmos a localização do ponto com o centróide do polígono:"
   ]
  },
  {
   "cell_type": "code",
   "execution_count": 9,
   "metadata": {},
   "outputs": [
    {
     "name": "stdout",
     "output_type": "stream",
     "text": [
      "POINT (24.952242 60.1696017)\n",
      "POINT (24.95224242849236 60.16960179038188)\n"
     ]
    }
   ],
   "source": [
    "# Our point\n",
    "print(p1)\n",
    "\n",
    "# The centroid\n",
    "print(poly.centroid)"
   ]
  },
  {
   "cell_type": "markdown",
   "metadata": {},
   "source": [
    "## Interseção"
   ]
  },
  {
   "cell_type": "markdown",
   "metadata": {},
   "source": [
    "Outra operação geoespacial típica é ver se uma geometria\n",
    "[intercepta](http://toblerity.org/shapely/manual.html#object.intersects) ou [toca](http://toblerity.org/shapely/manual.html#object.touches)\n",
    "outra geometria. A diferença entre esses dois é que:\n",
    "\n",
    "- Se os objetos se cruzam, o limite e o interior de um objeto precisa\n",
    "    interceptar com os do outro objeto.\n",
    "\n",
    "- Se um objeto tocar o outro, só é necessário ter (pelo menos) um ponto único de suas fronteiras em comum, mas seus interiores não se cruzam.\n",
    "\n",
    "Vamos tentar isso.\n",
    "\n",
    "- Vamos criar dois LineStrings"
   ]
  },
  {
   "cell_type": "code",
   "execution_count": 11,
   "metadata": {},
   "outputs": [],
   "source": [
    "from shapely.geometry import LineString, MultiLineString\n",
    "\n",
    "# Create two lines\n",
    "line_a = LineString([(0, 0), (1, 1)])\n",
    "line_b = LineString([(1, 1), (0, 2)])"
   ]
  },
  {
   "cell_type": "markdown",
   "metadata": {},
   "source": [
    "- Vamos ver se eles se interceptam"
   ]
  },
  {
   "cell_type": "code",
   "execution_count": 13,
   "metadata": {},
   "outputs": [
    {
     "data": {
      "text/plain": [
       "True"
      ]
     },
     "execution_count": 13,
     "metadata": {},
     "output_type": "execute_result"
    }
   ],
   "source": [
    "line_a.intersects(line_b)"
   ]
  },
  {
   "cell_type": "markdown",
   "metadata": {},
   "source": [
    "- Eles também tocam um ao outro?"
   ]
  },
  {
   "cell_type": "code",
   "execution_count": 15,
   "metadata": {},
   "outputs": [
    {
     "data": {
      "text/plain": [
       "True"
      ]
     },
     "execution_count": 15,
     "metadata": {},
     "output_type": "execute_result"
    }
   ],
   "source": [
    "line_a.touches(line_b)"
   ]
  },
  {
   "cell_type": "markdown",
   "metadata": {},
   "source": [
    "Sim, as duas operações são verdade e podemos ver isso plotando os dois objetos juntos."
   ]
  },
  {
   "cell_type": "code",
   "execution_count": 17,
   "metadata": {},
   "outputs": [
    {
     "data": {
      "image/svg+xml": [
       "<svg xmlns=\"http://www.w3.org/2000/svg\" xmlns:xlink=\"http://www.w3.org/1999/xlink\" width=\"100.0\" height=\"100.0\" viewBox=\"-0.08 -0.08 1.1600000000000001 2.16\" preserveAspectRatio=\"xMinYMin meet\"><g transform=\"matrix(1,0,0,-1,0,2.0)\"><g><polyline fill=\"none\" stroke=\"#66cc99\" stroke-width=\"0.0432\" points=\"0.0,0.0 1.0,1.0\" opacity=\"0.8\" /><polyline fill=\"none\" stroke=\"#66cc99\" stroke-width=\"0.0432\" points=\"1.0,1.0 0.0,2.0\" opacity=\"0.8\" /></g></g></svg>"
      ],
      "text/plain": [
       "<shapely.geometry.multilinestring.MultiLineString at 0x1215cad10>"
      ]
     },
     "execution_count": 17,
     "metadata": {},
     "output_type": "execute_result"
    }
   ],
   "source": [
    "# Create a MultiLineString from line_a and line_b\n",
    "multi_line = MultiLineString([line_a, line_b])\n",
    "multi_line"
   ]
  },
  {
   "cell_type": "markdown",
   "metadata": {},
   "source": [
    "## Ponto dentro de polygon usando o geopandas"
   ]
  },
  {
   "cell_type": "markdown",
   "metadata": {},
   "source": [
    "Uma das estratégias adotadas pela Secretaria da Segurança Pública e Defesa Social (SSPDS) para o aperfeiçoamento de trabalhos policiais, periciais e bombeirísticos em território cearense é a delimitação do Estado em Áreas Integradas de Segurança (AIS).\n",
    "\n",
    "A cidade de fortaleza por si só é dividida em cerca de 10 áreas integradas de segurança (AIS). Vamos carregar estas divisões administrativas e visualizar elas."
   ]
  },
  {
   "cell_type": "code",
   "execution_count": 18,
   "metadata": {},
   "outputs": [],
   "source": [
    "ais_filep = 'data/ais.shp'\n",
    "\n",
    "ais_gdf = gpd.read_file(ais_filep)"
   ]
  },
  {
   "cell_type": "code",
   "execution_count": 81,
   "metadata": {},
   "outputs": [
    {
     "data": {
      "text/plain": [
       "{'init': 'epsg:4326'}"
      ]
     },
     "execution_count": 81,
     "metadata": {},
     "output_type": "execute_result"
    }
   ],
   "source": [
    "ais_gdf.crs"
   ]
  },
  {
   "cell_type": "code",
   "execution_count": 26,
   "metadata": {},
   "outputs": [
    {
     "data": {
      "text/html": [
       "<div>\n",
       "<style scoped>\n",
       "    .dataframe tbody tr th:only-of-type {\n",
       "        vertical-align: middle;\n",
       "    }\n",
       "\n",
       "    .dataframe tbody tr th {\n",
       "        vertical-align: top;\n",
       "    }\n",
       "\n",
       "    .dataframe thead th {\n",
       "        text-align: right;\n",
       "    }\n",
       "</style>\n",
       "<table border=\"1\" class=\"dataframe\">\n",
       "  <thead>\n",
       "    <tr style=\"text-align: right;\">\n",
       "      <th></th>\n",
       "      <th>NM_MUNICIP</th>\n",
       "      <th>CD_GEOCODM</th>\n",
       "      <th>AIS</th>\n",
       "      <th>BAIRROS</th>\n",
       "      <th>CD_BAIRRO</th>\n",
       "      <th>NM_AIS</th>\n",
       "      <th>geometry</th>\n",
       "    </tr>\n",
       "  </thead>\n",
       "  <tbody>\n",
       "    <tr>\n",
       "      <th>0</th>\n",
       "      <td>FORTALEZA</td>\n",
       "      <td>2304400</td>\n",
       "      <td>6</td>\n",
       "      <td>Presidente Kennedy</td>\n",
       "      <td>62</td>\n",
       "      <td>AIS6</td>\n",
       "      <td>POLYGON Z ((-38.61705728640338 -3.720121650480...</td>\n",
       "    </tr>\n",
       "    <tr>\n",
       "      <th>1</th>\n",
       "      <td>FORTALEZA</td>\n",
       "      <td>2304400</td>\n",
       "      <td>8</td>\n",
       "      <td>Jardim Iracema</td>\n",
       "      <td>63</td>\n",
       "      <td>AIS8</td>\n",
       "      <td>POLYGON Z ((-38.57229881808104 -3.712299179826...</td>\n",
       "    </tr>\n",
       "    <tr>\n",
       "      <th>2</th>\n",
       "      <td>FORTALEZA</td>\n",
       "      <td>2304400</td>\n",
       "      <td>4</td>\n",
       "      <td>Farias Brito</td>\n",
       "      <td>66</td>\n",
       "      <td>AIS4</td>\n",
       "      <td>POLYGON Z ((-38.56489819678552 -3.728957661980...</td>\n",
       "    </tr>\n",
       "    <tr>\n",
       "      <th>3</th>\n",
       "      <td>FORTALEZA</td>\n",
       "      <td>2304400</td>\n",
       "      <td>5</td>\n",
       "      <td>José Bonifácio</td>\n",
       "      <td>77</td>\n",
       "      <td>AIS5</td>\n",
       "      <td>POLYGON Z ((-38.52396478175962 -3.736886249790...</td>\n",
       "    </tr>\n",
       "    <tr>\n",
       "      <th>4</th>\n",
       "      <td>FORTALEZA</td>\n",
       "      <td>2304400</td>\n",
       "      <td>10</td>\n",
       "      <td>Joaquim Távora</td>\n",
       "      <td>80</td>\n",
       "      <td>AIS10</td>\n",
       "      <td>POLYGON Z ((-38.45477483944165 -3.732156292611...</td>\n",
       "    </tr>\n",
       "  </tbody>\n",
       "</table>\n",
       "</div>"
      ],
      "text/plain": [
       "  NM_MUNICIP CD_GEOCODM  AIS             BAIRROS  CD_BAIRRO NM_AIS  \\\n",
       "0  FORTALEZA    2304400    6  Presidente Kennedy         62   AIS6   \n",
       "1  FORTALEZA    2304400    8      Jardim Iracema         63   AIS8   \n",
       "2  FORTALEZA    2304400    4        Farias Brito         66   AIS4   \n",
       "3  FORTALEZA    2304400    5      José Bonifácio         77   AIS5   \n",
       "4  FORTALEZA    2304400   10      Joaquim Távora         80  AIS10   \n",
       "\n",
       "                                            geometry  \n",
       "0  POLYGON Z ((-38.61705728640338 -3.720121650480...  \n",
       "1  POLYGON Z ((-38.57229881808104 -3.712299179826...  \n",
       "2  POLYGON Z ((-38.56489819678552 -3.728957661980...  \n",
       "3  POLYGON Z ((-38.52396478175962 -3.736886249790...  \n",
       "4  POLYGON Z ((-38.45477483944165 -3.732156292611...  "
      ]
     },
     "execution_count": 26,
     "metadata": {},
     "output_type": "execute_result"
    }
   ],
   "source": [
    "ais_gdf.head()"
   ]
  },
  {
   "cell_type": "code",
   "execution_count": 44,
   "metadata": {},
   "outputs": [
    {
     "data": {
      "image/png": "[encoded data removed]",
      "text/plain": [
       "<Figure size 1080x576 with 1 Axes>"
      ]
     },
     "metadata": {
      "needs_background": "light"
     },
     "output_type": "display_data"
    }
   ],
   "source": [
    "import matplotlib.pyplot as plt\n",
    "fig, ax = plt.subplots(1,1, figsize=(15,8))\n",
    "\n",
    "ais_gdf.plot(ax=ax)\n",
    "plt.show()"
   ]
  },
  {
   "cell_type": "markdown",
   "metadata": {},
   "source": [
    "Agora vamos mostrar somente as fronteiras das AIS e os nosso eventos de crimes."
   ]
  },
  {
   "cell_type": "markdown",
   "metadata": {},
   "source": [
    "Mas antes bora transformar os nosso dados de roubo em um GeoDataFrame."
   ]
  },
  {
   "cell_type": "code",
   "execution_count": 104,
   "metadata": {},
   "outputs": [
    {
     "data": {
      "text/html": [
       "<div>\n",
       "<style scoped>\n",
       "    .dataframe tbody tr th:only-of-type {\n",
       "        vertical-align: middle;\n",
       "    }\n",
       "\n",
       "    .dataframe tbody tr th {\n",
       "        vertical-align: top;\n",
       "    }\n",
       "\n",
       "    .dataframe thead th {\n",
       "        text-align: right;\n",
       "    }\n",
       "</style>\n",
       "<table border=\"1\" class=\"dataframe\">\n",
       "  <thead>\n",
       "    <tr style=\"text-align: right;\">\n",
       "      <th></th>\n",
       "      <th>natureza</th>\n",
       "      <th>localTipo</th>\n",
       "      <th>logradouro</th>\n",
       "      <th>complEnder</th>\n",
       "      <th>localNumero</th>\n",
       "      <th>municipioOficial</th>\n",
       "      <th>bairroOficial</th>\n",
       "      <th>endereco</th>\n",
       "      <th>geometry</th>\n",
       "    </tr>\n",
       "  </thead>\n",
       "  <tbody>\n",
       "    <tr>\n",
       "      <th>0</th>\n",
       "      <td>ROUBO A PESSOA</td>\n",
       "      <td>ESTACIONAMENTO</td>\n",
       "      <td>R TABELIÃO FABIÃO</td>\n",
       "      <td>SAIDA DO NORTH SHOPPING</td>\n",
       "      <td>2450</td>\n",
       "      <td>Fortaleza</td>\n",
       "      <td>São Gerardo Alagadiço</td>\n",
       "      <td>R TABELIÃO FABIÃO, 2450</td>\n",
       "      <td>POINT (-38.5666771 -3.7338563)</td>\n",
       "    </tr>\n",
       "    <tr>\n",
       "      <th>1</th>\n",
       "      <td>ROUBO A PESSOA</td>\n",
       "      <td>VIA PUBLICA</td>\n",
       "      <td>AV BEZERRA DE MENEZES</td>\n",
       "      <td>NORTH SHOPPING</td>\n",
       "      <td>2450</td>\n",
       "      <td>Fortaleza</td>\n",
       "      <td>São Gerardo Alagadiço</td>\n",
       "      <td>AV BEZERRA DE MENEZES, 2450</td>\n",
       "      <td>POINT (-38.5650632 -3.7357739)</td>\n",
       "    </tr>\n",
       "    <tr>\n",
       "      <th>2</th>\n",
       "      <td>ROUBO A PESSOA</td>\n",
       "      <td>VIA PUBLICA</td>\n",
       "      <td>R RUA FRANCISCO FERREIRA BAIMA</td>\n",
       "      <td>MESSEJANA</td>\n",
       "      <td>461</td>\n",
       "      <td>Fortaleza</td>\n",
       "      <td>Messejana</td>\n",
       "      <td>R RUA FRANCISCO FERREIRA BAIMA, 461</td>\n",
       "      <td>POINT (-38.4860517 -3.8309073)</td>\n",
       "    </tr>\n",
       "    <tr>\n",
       "      <th>3</th>\n",
       "      <td>ROUBO A PESSOA</td>\n",
       "      <td>VIA PUBLICA</td>\n",
       "      <td>AV FREI CIRILO</td>\n",
       "      <td>PIZZARIA FILHO DA PROMESSA</td>\n",
       "      <td>4843</td>\n",
       "      <td>Fortaleza</td>\n",
       "      <td>Messejana</td>\n",
       "      <td>AV FREI CIRILO, 4843</td>\n",
       "      <td>POINT (-38.4977753 -3.8165456)</td>\n",
       "    </tr>\n",
       "    <tr>\n",
       "      <th>4</th>\n",
       "      <td>ROUBO (OUTROS)</td>\n",
       "      <td>ESTACIONAMENTO</td>\n",
       "      <td>AV WASHINGTON SOARES</td>\n",
       "      <td>EXPRESS CAR WASH</td>\n",
       "      <td>1500</td>\n",
       "      <td>Fortaleza</td>\n",
       "      <td>Eng. Luciano Cavalcante</td>\n",
       "      <td>AV WASHINGTON SOARES, 1500</td>\n",
       "      <td>POINT (-38.4817978 -3.7715008)</td>\n",
       "    </tr>\n",
       "  </tbody>\n",
       "</table>\n",
       "</div>"
      ],
      "text/plain": [
       "         natureza       localTipo                      logradouro  \\\n",
       "0  ROUBO A PESSOA  ESTACIONAMENTO               R TABELIÃO FABIÃO   \n",
       "1  ROUBO A PESSOA     VIA PUBLICA           AV BEZERRA DE MENEZES   \n",
       "2  ROUBO A PESSOA     VIA PUBLICA  R RUA FRANCISCO FERREIRA BAIMA   \n",
       "3  ROUBO A PESSOA     VIA PUBLICA                  AV FREI CIRILO   \n",
       "4  ROUBO (OUTROS)  ESTACIONAMENTO            AV WASHINGTON SOARES   \n",
       "\n",
       "                   complEnder  localNumero municipioOficial  \\\n",
       "0     SAIDA DO NORTH SHOPPING         2450        Fortaleza   \n",
       "1              NORTH SHOPPING         2450        Fortaleza   \n",
       "2                   MESSEJANA          461        Fortaleza   \n",
       "3  PIZZARIA FILHO DA PROMESSA         4843        Fortaleza   \n",
       "4            EXPRESS CAR WASH         1500        Fortaleza   \n",
       "\n",
       "             bairroOficial                             endereco  \\\n",
       "0    São Gerardo Alagadiço              R TABELIÃO FABIÃO, 2450   \n",
       "1    São Gerardo Alagadiço          AV BEZERRA DE MENEZES, 2450   \n",
       "2                Messejana  R RUA FRANCISCO FERREIRA BAIMA, 461   \n",
       "3                Messejana                 AV FREI CIRILO, 4843   \n",
       "4  Eng. Luciano Cavalcante           AV WASHINGTON SOARES, 1500   \n",
       "\n",
       "                         geometry  \n",
       "0  POINT (-38.5666771 -3.7338563)  \n",
       "1  POINT (-38.5650632 -3.7357739)  \n",
       "2  POINT (-38.4860517 -3.8309073)  \n",
       "3  POINT (-38.4977753 -3.8165456)  \n",
       "4  POINT (-38.4817978 -3.7715008)  "
      ]
     },
     "execution_count": 104,
     "metadata": {},
     "output_type": "execute_result"
    }
   ],
   "source": [
    "data_gdf = gpd.GeoDataFrame(data)\n",
    "data_gdf.crs = ais_gdf.crs\n",
    "data_gdf.head()"
   ]
  },
  {
   "cell_type": "markdown",
   "metadata": {},
   "source": [
    "Agora sim, vamos mostrar as fronteiras de cada AIS juntamente com os eventos de roubo."
   ]
  },
  {
   "cell_type": "code",
   "execution_count": 85,
   "metadata": {},
   "outputs": [
    {
     "data": {
      "image/png": "[encoded data removed]",
      "text/plain": [
       "<Figure size 1080x576 with 1 Axes>"
      ]
     },
     "metadata": {
      "needs_background": "light"
     },
     "output_type": "display_data"
    }
   ],
   "source": [
    "fig, ax = plt.subplots(1,1, figsize=(15,8))\n",
    "\n",
    "for idx, ais in ais_gdf.iterrows():\n",
    "    ax.plot(*ais['geometry'].exterior.xy, color='black')\n",
    "\n",
    "data_gdf.plot(ax=ax, color='red')\n",
    "plt.show()"
   ]
  },
  {
   "cell_type": "markdown",
   "metadata": {},
   "source": [
    "Relembrando o endereço dos nosso dados, dois roubos aconteceram na avenida bezerra de menezes próximos ao north shopping. Sabendo que a AIS que contém o shopping é a de número 6, vamos selecionar somente os eventos de roubo dentro da AIS 6."
   ]
  },
  {
   "cell_type": "markdown",
   "metadata": {},
   "source": [
    "Primeiro vamos separar somente a geometria da AIS 6. Antes vamos visualizar os dados e verificar qual coluna pode nos ajudar nessa tarefa."
   ]
  },
  {
   "cell_type": "code",
   "execution_count": 119,
   "metadata": {},
   "outputs": [
    {
     "data": {
      "text/html": [
       "<div>\n",
       "<style scoped>\n",
       "    .dataframe tbody tr th:only-of-type {\n",
       "        vertical-align: middle;\n",
       "    }\n",
       "\n",
       "    .dataframe tbody tr th {\n",
       "        vertical-align: top;\n",
       "    }\n",
       "\n",
       "    .dataframe thead th {\n",
       "        text-align: right;\n",
       "    }\n",
       "</style>\n",
       "<table border=\"1\" class=\"dataframe\">\n",
       "  <thead>\n",
       "    <tr style=\"text-align: right;\">\n",
       "      <th></th>\n",
       "      <th>NM_MUNICIP</th>\n",
       "      <th>CD_GEOCODM</th>\n",
       "      <th>AIS</th>\n",
       "      <th>BAIRROS</th>\n",
       "      <th>CD_BAIRRO</th>\n",
       "      <th>NM_AIS</th>\n",
       "      <th>geometry</th>\n",
       "    </tr>\n",
       "  </thead>\n",
       "  <tbody>\n",
       "    <tr>\n",
       "      <th>0</th>\n",
       "      <td>FORTALEZA</td>\n",
       "      <td>2304400</td>\n",
       "      <td>6</td>\n",
       "      <td>Presidente Kennedy</td>\n",
       "      <td>62</td>\n",
       "      <td>AIS6</td>\n",
       "      <td>POLYGON Z ((-38.61705728640338 -3.720121650480...</td>\n",
       "    </tr>\n",
       "    <tr>\n",
       "      <th>1</th>\n",
       "      <td>FORTALEZA</td>\n",
       "      <td>2304400</td>\n",
       "      <td>8</td>\n",
       "      <td>Jardim Iracema</td>\n",
       "      <td>63</td>\n",
       "      <td>AIS8</td>\n",
       "      <td>POLYGON Z ((-38.57229881808104 -3.712299179826...</td>\n",
       "    </tr>\n",
       "    <tr>\n",
       "      <th>2</th>\n",
       "      <td>FORTALEZA</td>\n",
       "      <td>2304400</td>\n",
       "      <td>4</td>\n",
       "      <td>Farias Brito</td>\n",
       "      <td>66</td>\n",
       "      <td>AIS4</td>\n",
       "      <td>POLYGON Z ((-38.56489819678552 -3.728957661980...</td>\n",
       "    </tr>\n",
       "    <tr>\n",
       "      <th>3</th>\n",
       "      <td>FORTALEZA</td>\n",
       "      <td>2304400</td>\n",
       "      <td>5</td>\n",
       "      <td>José Bonifácio</td>\n",
       "      <td>77</td>\n",
       "      <td>AIS5</td>\n",
       "      <td>POLYGON Z ((-38.52396478175962 -3.736886249790...</td>\n",
       "    </tr>\n",
       "    <tr>\n",
       "      <th>4</th>\n",
       "      <td>FORTALEZA</td>\n",
       "      <td>2304400</td>\n",
       "      <td>10</td>\n",
       "      <td>Joaquim Távora</td>\n",
       "      <td>80</td>\n",
       "      <td>AIS10</td>\n",
       "      <td>POLYGON Z ((-38.45477483944165 -3.732156292611...</td>\n",
       "    </tr>\n",
       "    <tr>\n",
       "      <th>5</th>\n",
       "      <td>FORTALEZA</td>\n",
       "      <td>2304400</td>\n",
       "      <td>1</td>\n",
       "      <td>Praia de Iracema</td>\n",
       "      <td>88</td>\n",
       "      <td>AIS1</td>\n",
       "      <td>POLYGON Z ((-38.46888002030288 -3.707287185024...</td>\n",
       "    </tr>\n",
       "    <tr>\n",
       "      <th>6</th>\n",
       "      <td>FORTALEZA</td>\n",
       "      <td>2304400</td>\n",
       "      <td>7</td>\n",
       "      <td>Lagoa Sapiranga (Coité)</td>\n",
       "      <td>112</td>\n",
       "      <td>AIS7</td>\n",
       "      <td>POLYGON Z ((-38.39901098395301 -3.824063742273...</td>\n",
       "    </tr>\n",
       "    <tr>\n",
       "      <th>7</th>\n",
       "      <td>FORTALEZA</td>\n",
       "      <td>2304400</td>\n",
       "      <td>3</td>\n",
       "      <td>Jangurussu</td>\n",
       "      <td>114</td>\n",
       "      <td>AIS3</td>\n",
       "      <td>POLYGON Z ((-38.44519649736023 -3.819270544514...</td>\n",
       "    </tr>\n",
       "    <tr>\n",
       "      <th>8</th>\n",
       "      <td>FORTALEZA</td>\n",
       "      <td>2304400</td>\n",
       "      <td>9</td>\n",
       "      <td>Parque Santa Rosa (Apolo XI)</td>\n",
       "      <td>117</td>\n",
       "      <td>AIS9</td>\n",
       "      <td>POLYGON Z ((-38.56277895915136 -3.787864306853...</td>\n",
       "    </tr>\n",
       "    <tr>\n",
       "      <th>9</th>\n",
       "      <td>FORTALEZA</td>\n",
       "      <td>2304400</td>\n",
       "      <td>2</td>\n",
       "      <td>Genibaú</td>\n",
       "      <td>127</td>\n",
       "      <td>AIS2</td>\n",
       "      <td>POLYGON Z ((-38.59787109105275 -3.759515254000...</td>\n",
       "    </tr>\n",
       "  </tbody>\n",
       "</table>\n",
       "</div>"
      ],
      "text/plain": [
       "  NM_MUNICIP CD_GEOCODM  AIS                       BAIRROS  CD_BAIRRO NM_AIS  \\\n",
       "0  FORTALEZA    2304400    6            Presidente Kennedy         62   AIS6   \n",
       "1  FORTALEZA    2304400    8                Jardim Iracema         63   AIS8   \n",
       "2  FORTALEZA    2304400    4                  Farias Brito         66   AIS4   \n",
       "3  FORTALEZA    2304400    5                José Bonifácio         77   AIS5   \n",
       "4  FORTALEZA    2304400   10                Joaquim Távora         80  AIS10   \n",
       "5  FORTALEZA    2304400    1              Praia de Iracema         88   AIS1   \n",
       "6  FORTALEZA    2304400    7       Lagoa Sapiranga (Coité)        112   AIS7   \n",
       "7  FORTALEZA    2304400    3                    Jangurussu        114   AIS3   \n",
       "8  FORTALEZA    2304400    9  Parque Santa Rosa (Apolo XI)        117   AIS9   \n",
       "9  FORTALEZA    2304400    2                       Genibaú        127   AIS2   \n",
       "\n",
       "                                            geometry  \n",
       "0  POLYGON Z ((-38.61705728640338 -3.720121650480...  \n",
       "1  POLYGON Z ((-38.57229881808104 -3.712299179826...  \n",
       "2  POLYGON Z ((-38.56489819678552 -3.728957661980...  \n",
       "3  POLYGON Z ((-38.52396478175962 -3.736886249790...  \n",
       "4  POLYGON Z ((-38.45477483944165 -3.732156292611...  \n",
       "5  POLYGON Z ((-38.46888002030288 -3.707287185024...  \n",
       "6  POLYGON Z ((-38.39901098395301 -3.824063742273...  \n",
       "7  POLYGON Z ((-38.44519649736023 -3.819270544514...  \n",
       "8  POLYGON Z ((-38.56277895915136 -3.787864306853...  \n",
       "9  POLYGON Z ((-38.59787109105275 -3.759515254000...  "
      ]
     },
     "execution_count": 119,
     "metadata": {},
     "output_type": "execute_result"
    }
   ],
   "source": [
    "ais_gdf"
   ]
  },
  {
   "cell_type": "markdown",
   "metadata": {},
   "source": [
    "Existem duas colunas que podem nos ajudar a filtrar a AIS desejada, a coluna `AIS` e a coluna `NM_AIS`. Vamos utilizar a primeira por ser necessário utilizar apenas o número."
   ]
  },
  {
   "cell_type": "code",
   "execution_count": 123,
   "metadata": {},
   "outputs": [
    {
     "data": {
      "image/png": "[encoded data removed]",
      "text/plain": [
       "<Figure size 432x288 with 1 Axes>"
      ]
     },
     "metadata": {
      "needs_background": "light"
     },
     "output_type": "display_data"
    }
   ],
   "source": [
    "ais6 = ais_gdf[ais_gdf['AIS'] == 6]\n",
    "ais6.plot()\n",
    "plt.show()"
   ]
  },
  {
   "cell_type": "code",
   "execution_count": 124,
   "metadata": {},
   "outputs": [
    {
     "data": {
      "text/plain": [
       "geopandas.geodataframe.GeoDataFrame"
      ]
     },
     "execution_count": 124,
     "metadata": {},
     "output_type": "execute_result"
    }
   ],
   "source": [
    "type(ais6)"
   ]
  },
  {
   "cell_type": "markdown",
   "metadata": {},
   "source": [
    "Agora podemos utilizar a função `within()` para selecionar apenas os eventos que aconteceram dentro da AIS 6."
   ]
  },
  {
   "cell_type": "code",
   "execution_count": 133,
   "metadata": {},
   "outputs": [
    {
     "data": {
      "text/plain": [
       "0     True\n",
       "1     True\n",
       "2    False\n",
       "3    False\n",
       "4    False\n",
       "dtype: bool"
      ]
     },
     "execution_count": 133,
     "metadata": {},
     "output_type": "execute_result"
    }
   ],
   "source": [
    "mask = data_gdf.within(ais6.geometry[0])\n",
    "mask"
   ]
  },
  {
   "cell_type": "code",
   "execution_count": 136,
   "metadata": {},
   "outputs": [
    {
     "data": {
      "text/html": [
       "<div>\n",
       "<style scoped>\n",
       "    .dataframe tbody tr th:only-of-type {\n",
       "        vertical-align: middle;\n",
       "    }\n",
       "\n",
       "    .dataframe tbody tr th {\n",
       "        vertical-align: top;\n",
       "    }\n",
       "\n",
       "    .dataframe thead th {\n",
       "        text-align: right;\n",
       "    }\n",
       "</style>\n",
       "<table border=\"1\" class=\"dataframe\">\n",
       "  <thead>\n",
       "    <tr style=\"text-align: right;\">\n",
       "      <th></th>\n",
       "      <th>natureza</th>\n",
       "      <th>localTipo</th>\n",
       "      <th>logradouro</th>\n",
       "      <th>complEnder</th>\n",
       "      <th>localNumero</th>\n",
       "      <th>municipioOficial</th>\n",
       "      <th>bairroOficial</th>\n",
       "      <th>endereco</th>\n",
       "      <th>geometry</th>\n",
       "    </tr>\n",
       "  </thead>\n",
       "  <tbody>\n",
       "    <tr>\n",
       "      <th>0</th>\n",
       "      <td>ROUBO A PESSOA</td>\n",
       "      <td>ESTACIONAMENTO</td>\n",
       "      <td>R TABELIÃO FABIÃO</td>\n",
       "      <td>SAIDA DO NORTH SHOPPING</td>\n",
       "      <td>2450</td>\n",
       "      <td>Fortaleza</td>\n",
       "      <td>São Gerardo Alagadiço</td>\n",
       "      <td>R TABELIÃO FABIÃO, 2450</td>\n",
       "      <td>POINT (-38.5666771 -3.7338563)</td>\n",
       "    </tr>\n",
       "    <tr>\n",
       "      <th>1</th>\n",
       "      <td>ROUBO A PESSOA</td>\n",
       "      <td>VIA PUBLICA</td>\n",
       "      <td>AV BEZERRA DE MENEZES</td>\n",
       "      <td>NORTH SHOPPING</td>\n",
       "      <td>2450</td>\n",
       "      <td>Fortaleza</td>\n",
       "      <td>São Gerardo Alagadiço</td>\n",
       "      <td>AV BEZERRA DE MENEZES, 2450</td>\n",
       "      <td>POINT (-38.5650632 -3.7357739)</td>\n",
       "    </tr>\n",
       "  </tbody>\n",
       "</table>\n",
       "</div>"
      ],
      "text/plain": [
       "         natureza       localTipo             logradouro  \\\n",
       "0  ROUBO A PESSOA  ESTACIONAMENTO      R TABELIÃO FABIÃO   \n",
       "1  ROUBO A PESSOA     VIA PUBLICA  AV BEZERRA DE MENEZES   \n",
       "\n",
       "                complEnder  localNumero municipioOficial  \\\n",
       "0  SAIDA DO NORTH SHOPPING         2450        Fortaleza   \n",
       "1           NORTH SHOPPING         2450        Fortaleza   \n",
       "\n",
       "           bairroOficial                     endereco  \\\n",
       "0  São Gerardo Alagadiço      R TABELIÃO FABIÃO, 2450   \n",
       "1  São Gerardo Alagadiço  AV BEZERRA DE MENEZES, 2450   \n",
       "\n",
       "                         geometry  \n",
       "0  POINT (-38.5666771 -3.7338563)  \n",
       "1  POINT (-38.5650632 -3.7357739)  "
      ]
     },
     "execution_count": 136,
     "metadata": {},
     "output_type": "execute_result"
    }
   ],
   "source": [
    "data_gdf_ais6 = data_gdf[mask]\n",
    "data_gdf_ais6"
   ]
  },
  {
   "cell_type": "markdown",
   "metadata": {},
   "source": [
    "Vamos ver os nosso dados em um mapa utilizando a o módulo Folium: conda install -c conda-forge folium "
   ]
  },
  {
   "cell_type": "code",
   "execution_count": 146,
   "metadata": {},
   "outputs": [
    {
     "data": {
      "text/html": [
       "<div style=\"width:100%;\"><div style=\"position:relative;width:100%;height:0;padding-bottom:60%;\"><iframe src=\"data:text/html;charset=utf-8;base64,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\" style=\"position:absolute;width:100%;height:100%;left:0;top:0;border:none !important;\" allowfullscreen webkitallowfullscreen mozallowfullscreen></iframe></div></div>"
      ],
      "text/plain": [
       "<folium.folium.Map at 0x134215350>"
      ]
     },
     "execution_count": 146,
     "metadata": {},
     "output_type": "execute_result"
    }
   ],
   "source": [
    "import folium\n",
    "\n",
    "map_fortal = folium.Map(location=[data_gdf_ais6.loc[0, 'geometry'].y, \n",
    "                                  data_gdf_ais6.loc[0, 'geometry'].x], \n",
    "                                  zoom_start = 15)\n",
    "\n",
    "folium.Marker([data_gdf_ais6.loc[0, 'geometry'].y, \n",
    "               data_gdf_ais6.loc[0, 'geometry'].x]).add_to(map_fortal)\n",
    "folium.Marker([data_gdf_ais6.loc[1, 'geometry'].y,\n",
    "               data_gdf_ais6.loc[1, 'geometry'].x]).add_to(map_fortal)\n",
    "\n",
    "map_fortal"
   ]
  },
  {
   "cell_type": "code",
   "execution_count": null,
   "metadata": {},
   "outputs": [],
   "source": []
  }
 ],
 "metadata": {
  "kernelspec": {
   "display_name": "Python 3",
   "language": "python",
   "name": "python3"
  },
  "language_info": {
   "codemirror_mode": {
    "name": "ipython",
    "version": 3
   },
   "file_extension": ".py",
   "mimetype": "text/x-python",
   "name": "python",
   "nbconvert_exporter": "python",
   "pygments_lexer": "ipython3",
   "version": "3.7.4"
  }
 },
 "nbformat": 4,
 "nbformat_minor": 2
}
