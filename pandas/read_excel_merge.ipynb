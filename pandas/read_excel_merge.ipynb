{
 "cells": [
  {
   "cell_type": "code",
   "execution_count": 1,
   "metadata": {},
   "outputs": [],
   "source": [
    "import pandas as pd"
   ]
  },
  {
   "cell_type": "markdown",
   "metadata": {},
   "source": [
    "# Load and create the excel files"
   ]
  },
  {
   "cell_type": "code",
   "execution_count": 2,
   "metadata": {},
   "outputs": [],
   "source": [
    "filename = 'data/sales_data.csv'\n",
    "df = pd.read_csv(filename, index_col=0)"
   ]
  },
  {
   "cell_type": "code",
   "execution_count": 3,
   "metadata": {},
   "outputs": [],
   "source": [
    "# remover o id\n",
    "df = df.drop(['Order ID'], axis=1)"
   ]
  },
  {
   "cell_type": "code",
   "execution_count": 4,
   "metadata": {},
   "outputs": [],
   "source": [
    "df_tmp = df.iloc[:1000].copy()\n",
    "df_tmp = df_tmp.reset_index(drop=True)\n",
    "\n",
    "# salvar a tabela com quantidade de vendas\n",
    "df_tmp.to_excel('data/sales_one.xlsx', sheet_name='Sales1')"
   ]
  },
  {
   "cell_type": "code",
   "execution_count": 5,
   "metadata": {},
   "outputs": [],
   "source": [
    "df_tmp = df.iloc[850:1850].copy()\n",
    "df_tmp = df_tmp.reset_index(drop=True)\n",
    "\n",
    "# salvar a tabela com quantidade de vendas\n",
    "df_tmp.to_excel('data/sales_two.xlsx', sheet_name='Sales2')"
   ]
  },
  {
   "cell_type": "code",
   "execution_count": 6,
   "metadata": {},
   "outputs": [],
   "source": [
    "## ordendar pelo datetime\n",
    "# df['Order Date'] = pd.to_datetime(df['Order Date'])\n",
    "# df = df.sort_values('Order Date')"
   ]
  },
  {
   "cell_type": "markdown",
   "metadata": {},
   "source": [
    "# Read excel file"
   ]
  },
  {
   "cell_type": "code",
   "execution_count": 7,
   "metadata": {},
   "outputs": [],
   "source": [
    "# pip install openpyxl\n",
    "import openpyxl"
   ]
  },
  {
   "cell_type": "code",
   "execution_count": 8,
   "metadata": {},
   "outputs": [],
   "source": [
    "# defini os nomes dos arquivos\n",
    "filename = 'data/sales_one.xlsx'"
   ]
  },
  {
   "cell_type": "markdown",
   "metadata": {},
   "source": [
    "### Using the Openpyxl directly"
   ]
  },
  {
   "cell_type": "code",
   "execution_count": 9,
   "metadata": {},
   "outputs": [],
   "source": [
    "# carregar o arquivo excel com a biblioteca\n",
    "workbook = openpyxl.load_workbook(filename)"
   ]
  },
  {
   "cell_type": "code",
   "execution_count": 10,
   "metadata": {},
   "outputs": [
    {
     "data": {
      "text/plain": [
       "[<Worksheet \"Sales1\">]"
      ]
     },
     "execution_count": 10,
     "metadata": {},
     "output_type": "execute_result"
    }
   ],
   "source": [
    "# mostrar as tabelas (worksheets)\n",
    "workbook.worksheets"
   ]
  },
  {
   "cell_type": "code",
   "execution_count": 11,
   "metadata": {},
   "outputs": [],
   "source": [
    "worksheet = workbook['Sales1']"
   ]
  },
  {
   "cell_type": "code",
   "execution_count": 12,
   "metadata": {},
   "outputs": [
    {
     "data": {
      "text/plain": [
       "11.95"
      ]
     },
     "execution_count": 12,
     "metadata": {},
     "output_type": "execute_result"
    }
   ],
   "source": [
    "# acessando um valor específico\n",
    "worksheet['D2'].value"
   ]
  },
  {
   "cell_type": "code",
   "execution_count": 13,
   "metadata": {},
   "outputs": [
    {
     "data": {
      "text/plain": [
       "11.95"
      ]
     },
     "execution_count": 13,
     "metadata": {},
     "output_type": "execute_result"
    }
   ],
   "source": [
    "# acessando um valor (outra forma)\n",
    "worksheet_mat = list(worksheet.columns)\n",
    "\n",
    "worksheet_mat[3][1].value"
   ]
  },
  {
   "cell_type": "markdown",
   "metadata": {},
   "source": [
    "### Using pandas"
   ]
  },
  {
   "cell_type": "code",
   "execution_count": 14,
   "metadata": {},
   "outputs": [
    {
     "data": {
      "text/html": [
       "<div>\n",
       "<style scoped>\n",
       "    .dataframe tbody tr th:only-of-type {\n",
       "        vertical-align: middle;\n",
       "    }\n",
       "\n",
       "    .dataframe tbody tr th {\n",
       "        vertical-align: top;\n",
       "    }\n",
       "\n",
       "    .dataframe thead th {\n",
       "        text-align: right;\n",
       "    }\n",
       "</style>\n",
       "<table border=\"1\" class=\"dataframe\">\n",
       "  <thead>\n",
       "    <tr style=\"text-align: right;\">\n",
       "      <th></th>\n",
       "      <th>Product</th>\n",
       "      <th>Quantity Ordered</th>\n",
       "      <th>Price Each</th>\n",
       "      <th>Order Date</th>\n",
       "      <th>Purchase Address</th>\n",
       "      <th>Month</th>\n",
       "      <th>City</th>\n",
       "    </tr>\n",
       "  </thead>\n",
       "  <tbody>\n",
       "    <tr>\n",
       "      <th>0</th>\n",
       "      <td>USB-C Charging Cable</td>\n",
       "      <td>2</td>\n",
       "      <td>11.95</td>\n",
       "      <td>04/19/19 08:46</td>\n",
       "      <td>917 1st St, Dallas, TX 75001</td>\n",
       "      <td>4</td>\n",
       "      <td>Dallas  (TX)</td>\n",
       "    </tr>\n",
       "    <tr>\n",
       "      <th>1</th>\n",
       "      <td>Bose SoundSport Headphones</td>\n",
       "      <td>1</td>\n",
       "      <td>99.99</td>\n",
       "      <td>04/07/19 22:30</td>\n",
       "      <td>682 Chestnut St, Boston, MA 02215</td>\n",
       "      <td>4</td>\n",
       "      <td>Boston  (MA)</td>\n",
       "    </tr>\n",
       "    <tr>\n",
       "      <th>2</th>\n",
       "      <td>Google Phone</td>\n",
       "      <td>1</td>\n",
       "      <td>600.00</td>\n",
       "      <td>04/12/19 14:38</td>\n",
       "      <td>669 Spruce St, Los Angeles, CA 90001</td>\n",
       "      <td>4</td>\n",
       "      <td>Los Angeles  (CA)</td>\n",
       "    </tr>\n",
       "    <tr>\n",
       "      <th>3</th>\n",
       "      <td>Wired Headphones</td>\n",
       "      <td>1</td>\n",
       "      <td>11.99</td>\n",
       "      <td>04/12/19 14:38</td>\n",
       "      <td>669 Spruce St, Los Angeles, CA 90001</td>\n",
       "      <td>4</td>\n",
       "      <td>Los Angeles  (CA)</td>\n",
       "    </tr>\n",
       "    <tr>\n",
       "      <th>4</th>\n",
       "      <td>Wired Headphones</td>\n",
       "      <td>1</td>\n",
       "      <td>11.99</td>\n",
       "      <td>04/30/19 09:27</td>\n",
       "      <td>333 8th St, Los Angeles, CA 90001</td>\n",
       "      <td>4</td>\n",
       "      <td>Los Angeles  (CA)</td>\n",
       "    </tr>\n",
       "  </tbody>\n",
       "</table>\n",
       "</div>"
      ],
      "text/plain": [
       "                      Product  Quantity Ordered  Price Each      Order Date  \\\n",
       "0        USB-C Charging Cable                 2       11.95  04/19/19 08:46   \n",
       "1  Bose SoundSport Headphones                 1       99.99  04/07/19 22:30   \n",
       "2                Google Phone                 1      600.00  04/12/19 14:38   \n",
       "3            Wired Headphones                 1       11.99  04/12/19 14:38   \n",
       "4            Wired Headphones                 1       11.99  04/30/19 09:27   \n",
       "\n",
       "                       Purchase Address  Month               City  \n",
       "0          917 1st St, Dallas, TX 75001      4       Dallas  (TX)  \n",
       "1     682 Chestnut St, Boston, MA 02215      4       Boston  (MA)  \n",
       "2  669 Spruce St, Los Angeles, CA 90001      4  Los Angeles  (CA)  \n",
       "3  669 Spruce St, Los Angeles, CA 90001      4  Los Angeles  (CA)  \n",
       "4     333 8th St, Los Angeles, CA 90001      4  Los Angeles  (CA)  "
      ]
     },
     "execution_count": 14,
     "metadata": {},
     "output_type": "execute_result"
    }
   ],
   "source": [
    "df = pd.read_excel(filename, index_col=0)\n",
    "df.head()"
   ]
  },
  {
   "cell_type": "code",
   "execution_count": 15,
   "metadata": {},
   "outputs": [
    {
     "data": {
      "text/plain": [
       "11.95"
      ]
     },
     "execution_count": 15,
     "metadata": {},
     "output_type": "execute_result"
    }
   ],
   "source": [
    "# acessando um valor\n",
    "df.loc[0,'Price Each']"
   ]
  },
  {
   "cell_type": "markdown",
   "metadata": {},
   "source": [
    "# Merge different spreadsheets"
   ]
  },
  {
   "cell_type": "code",
   "execution_count": 16,
   "metadata": {},
   "outputs": [],
   "source": [
    "# defini os nomes dos arquivos\n",
    "filename_one = 'data/sales_one.xlsx'\n",
    "filename_two = 'data/sales_two.xlsx'"
   ]
  },
  {
   "cell_type": "code",
   "execution_count": 17,
   "metadata": {},
   "outputs": [
    {
     "data": {
      "text/html": [
       "<div>\n",
       "<style scoped>\n",
       "    .dataframe tbody tr th:only-of-type {\n",
       "        vertical-align: middle;\n",
       "    }\n",
       "\n",
       "    .dataframe tbody tr th {\n",
       "        vertical-align: top;\n",
       "    }\n",
       "\n",
       "    .dataframe thead th {\n",
       "        text-align: right;\n",
       "    }\n",
       "</style>\n",
       "<table border=\"1\" class=\"dataframe\">\n",
       "  <thead>\n",
       "    <tr style=\"text-align: right;\">\n",
       "      <th></th>\n",
       "      <th>Product</th>\n",
       "      <th>Quantity Ordered</th>\n",
       "      <th>Price Each</th>\n",
       "      <th>Order Date</th>\n",
       "      <th>Purchase Address</th>\n",
       "      <th>Month</th>\n",
       "      <th>City</th>\n",
       "    </tr>\n",
       "  </thead>\n",
       "  <tbody>\n",
       "    <tr>\n",
       "      <th>0</th>\n",
       "      <td>USB-C Charging Cable</td>\n",
       "      <td>2</td>\n",
       "      <td>11.95</td>\n",
       "      <td>04/19/19 08:46</td>\n",
       "      <td>917 1st St, Dallas, TX 75001</td>\n",
       "      <td>4</td>\n",
       "      <td>Dallas  (TX)</td>\n",
       "    </tr>\n",
       "    <tr>\n",
       "      <th>1</th>\n",
       "      <td>Bose SoundSport Headphones</td>\n",
       "      <td>1</td>\n",
       "      <td>99.99</td>\n",
       "      <td>04/07/19 22:30</td>\n",
       "      <td>682 Chestnut St, Boston, MA 02215</td>\n",
       "      <td>4</td>\n",
       "      <td>Boston  (MA)</td>\n",
       "    </tr>\n",
       "    <tr>\n",
       "      <th>2</th>\n",
       "      <td>Google Phone</td>\n",
       "      <td>1</td>\n",
       "      <td>600.00</td>\n",
       "      <td>04/12/19 14:38</td>\n",
       "      <td>669 Spruce St, Los Angeles, CA 90001</td>\n",
       "      <td>4</td>\n",
       "      <td>Los Angeles  (CA)</td>\n",
       "    </tr>\n",
       "    <tr>\n",
       "      <th>3</th>\n",
       "      <td>Wired Headphones</td>\n",
       "      <td>1</td>\n",
       "      <td>11.99</td>\n",
       "      <td>04/12/19 14:38</td>\n",
       "      <td>669 Spruce St, Los Angeles, CA 90001</td>\n",
       "      <td>4</td>\n",
       "      <td>Los Angeles  (CA)</td>\n",
       "    </tr>\n",
       "    <tr>\n",
       "      <th>4</th>\n",
       "      <td>Wired Headphones</td>\n",
       "      <td>1</td>\n",
       "      <td>11.99</td>\n",
       "      <td>04/30/19 09:27</td>\n",
       "      <td>333 8th St, Los Angeles, CA 90001</td>\n",
       "      <td>4</td>\n",
       "      <td>Los Angeles  (CA)</td>\n",
       "    </tr>\n",
       "    <tr>\n",
       "      <th>...</th>\n",
       "      <td>...</td>\n",
       "      <td>...</td>\n",
       "      <td>...</td>\n",
       "      <td>...</td>\n",
       "      <td>...</td>\n",
       "      <td>...</td>\n",
       "      <td>...</td>\n",
       "    </tr>\n",
       "    <tr>\n",
       "      <th>995</th>\n",
       "      <td>AAA Batteries (4-pack)</td>\n",
       "      <td>1</td>\n",
       "      <td>2.99</td>\n",
       "      <td>04/09/19 20:13</td>\n",
       "      <td>825 2nd St, Portland, OR 97035</td>\n",
       "      <td>4</td>\n",
       "      <td>Portland  (OR)</td>\n",
       "    </tr>\n",
       "    <tr>\n",
       "      <th>996</th>\n",
       "      <td>Bose SoundSport Headphones</td>\n",
       "      <td>1</td>\n",
       "      <td>99.99</td>\n",
       "      <td>04/07/19 06:45</td>\n",
       "      <td>845 Lakeview St, San Francisco, CA 94016</td>\n",
       "      <td>4</td>\n",
       "      <td>San Francisco  (CA)</td>\n",
       "    </tr>\n",
       "    <tr>\n",
       "      <th>997</th>\n",
       "      <td>AAA Batteries (4-pack)</td>\n",
       "      <td>1</td>\n",
       "      <td>2.99</td>\n",
       "      <td>04/28/19 19:03</td>\n",
       "      <td>616 9th St, New York City, NY 10001</td>\n",
       "      <td>4</td>\n",
       "      <td>New York City  (NY)</td>\n",
       "    </tr>\n",
       "    <tr>\n",
       "      <th>998</th>\n",
       "      <td>Bose SoundSport Headphones</td>\n",
       "      <td>1</td>\n",
       "      <td>99.99</td>\n",
       "      <td>04/15/19 09:51</td>\n",
       "      <td>182 Main St, San Francisco, CA 94016</td>\n",
       "      <td>4</td>\n",
       "      <td>San Francisco  (CA)</td>\n",
       "    </tr>\n",
       "    <tr>\n",
       "      <th>999</th>\n",
       "      <td>iPhone</td>\n",
       "      <td>1</td>\n",
       "      <td>700.00</td>\n",
       "      <td>04/07/19 17:38</td>\n",
       "      <td>719 North St, Los Angeles, CA 90001</td>\n",
       "      <td>4</td>\n",
       "      <td>Los Angeles  (CA)</td>\n",
       "    </tr>\n",
       "  </tbody>\n",
       "</table>\n",
       "<p>1000 rows × 7 columns</p>\n",
       "</div>"
      ],
      "text/plain": [
       "                        Product  Quantity Ordered  Price Each      Order Date  \\\n",
       "0          USB-C Charging Cable                 2       11.95  04/19/19 08:46   \n",
       "1    Bose SoundSport Headphones                 1       99.99  04/07/19 22:30   \n",
       "2                  Google Phone                 1      600.00  04/12/19 14:38   \n",
       "3              Wired Headphones                 1       11.99  04/12/19 14:38   \n",
       "4              Wired Headphones                 1       11.99  04/30/19 09:27   \n",
       "..                          ...               ...         ...             ...   \n",
       "995      AAA Batteries (4-pack)                 1        2.99  04/09/19 20:13   \n",
       "996  Bose SoundSport Headphones                 1       99.99  04/07/19 06:45   \n",
       "997      AAA Batteries (4-pack)                 1        2.99  04/28/19 19:03   \n",
       "998  Bose SoundSport Headphones                 1       99.99  04/15/19 09:51   \n",
       "999                      iPhone                 1      700.00  04/07/19 17:38   \n",
       "\n",
       "                             Purchase Address  Month                 City  \n",
       "0                917 1st St, Dallas, TX 75001      4         Dallas  (TX)  \n",
       "1           682 Chestnut St, Boston, MA 02215      4         Boston  (MA)  \n",
       "2        669 Spruce St, Los Angeles, CA 90001      4    Los Angeles  (CA)  \n",
       "3        669 Spruce St, Los Angeles, CA 90001      4    Los Angeles  (CA)  \n",
       "4           333 8th St, Los Angeles, CA 90001      4    Los Angeles  (CA)  \n",
       "..                                        ...    ...                  ...  \n",
       "995            825 2nd St, Portland, OR 97035      4       Portland  (OR)  \n",
       "996  845 Lakeview St, San Francisco, CA 94016      4  San Francisco  (CA)  \n",
       "997       616 9th St, New York City, NY 10001      4  New York City  (NY)  \n",
       "998      182 Main St, San Francisco, CA 94016      4  San Francisco  (CA)  \n",
       "999       719 North St, Los Angeles, CA 90001      4    Los Angeles  (CA)  \n",
       "\n",
       "[1000 rows x 7 columns]"
      ]
     },
     "execution_count": 17,
     "metadata": {},
     "output_type": "execute_result"
    }
   ],
   "source": [
    "df_one = pd.read_excel(filename_one, index_col=0)\n",
    "df_one"
   ]
  },
  {
   "cell_type": "code",
   "execution_count": 18,
   "metadata": {},
   "outputs": [
    {
     "data": {
      "text/html": [
       "<div>\n",
       "<style scoped>\n",
       "    .dataframe tbody tr th:only-of-type {\n",
       "        vertical-align: middle;\n",
       "    }\n",
       "\n",
       "    .dataframe tbody tr th {\n",
       "        vertical-align: top;\n",
       "    }\n",
       "\n",
       "    .dataframe thead th {\n",
       "        text-align: right;\n",
       "    }\n",
       "</style>\n",
       "<table border=\"1\" class=\"dataframe\">\n",
       "  <thead>\n",
       "    <tr style=\"text-align: right;\">\n",
       "      <th></th>\n",
       "      <th>Product</th>\n",
       "      <th>Quantity Ordered</th>\n",
       "      <th>Price Each</th>\n",
       "      <th>Order Date</th>\n",
       "      <th>Purchase Address</th>\n",
       "      <th>Month</th>\n",
       "      <th>City</th>\n",
       "    </tr>\n",
       "  </thead>\n",
       "  <tbody>\n",
       "    <tr>\n",
       "      <th>0</th>\n",
       "      <td>Apple Airpods Headphones</td>\n",
       "      <td>1</td>\n",
       "      <td>150.00</td>\n",
       "      <td>04/10/19 18:32</td>\n",
       "      <td>732 Forest St, New York City, NY 10001</td>\n",
       "      <td>4</td>\n",
       "      <td>New York City  (NY)</td>\n",
       "    </tr>\n",
       "    <tr>\n",
       "      <th>1</th>\n",
       "      <td>Bose SoundSport Headphones</td>\n",
       "      <td>1</td>\n",
       "      <td>99.99</td>\n",
       "      <td>04/19/19 20:15</td>\n",
       "      <td>715 Church St, Los Angeles, CA 90001</td>\n",
       "      <td>4</td>\n",
       "      <td>Los Angeles  (CA)</td>\n",
       "    </tr>\n",
       "    <tr>\n",
       "      <th>2</th>\n",
       "      <td>27in 4K Gaming Monitor</td>\n",
       "      <td>1</td>\n",
       "      <td>389.99</td>\n",
       "      <td>04/27/19 15:23</td>\n",
       "      <td>61 Spruce St, San Francisco, CA 94016</td>\n",
       "      <td>4</td>\n",
       "      <td>San Francisco  (CA)</td>\n",
       "    </tr>\n",
       "    <tr>\n",
       "      <th>3</th>\n",
       "      <td>27in FHD Monitor</td>\n",
       "      <td>1</td>\n",
       "      <td>149.99</td>\n",
       "      <td>04/22/19 12:14</td>\n",
       "      <td>564 Lake St, San Francisco, CA 94016</td>\n",
       "      <td>4</td>\n",
       "      <td>San Francisco  (CA)</td>\n",
       "    </tr>\n",
       "    <tr>\n",
       "      <th>4</th>\n",
       "      <td>Lightning Charging Cable</td>\n",
       "      <td>1</td>\n",
       "      <td>14.95</td>\n",
       "      <td>04/25/19 08:01</td>\n",
       "      <td>829 Dogwood St, San Francisco, CA 94016</td>\n",
       "      <td>4</td>\n",
       "      <td>San Francisco  (CA)</td>\n",
       "    </tr>\n",
       "    <tr>\n",
       "      <th>...</th>\n",
       "      <td>...</td>\n",
       "      <td>...</td>\n",
       "      <td>...</td>\n",
       "      <td>...</td>\n",
       "      <td>...</td>\n",
       "      <td>...</td>\n",
       "      <td>...</td>\n",
       "    </tr>\n",
       "    <tr>\n",
       "      <th>995</th>\n",
       "      <td>AA Batteries (4-pack)</td>\n",
       "      <td>1</td>\n",
       "      <td>3.84</td>\n",
       "      <td>04/06/19 12:27</td>\n",
       "      <td>198 8th St, San Francisco, CA 94016</td>\n",
       "      <td>4</td>\n",
       "      <td>San Francisco  (CA)</td>\n",
       "    </tr>\n",
       "    <tr>\n",
       "      <th>996</th>\n",
       "      <td>AA Batteries (4-pack)</td>\n",
       "      <td>1</td>\n",
       "      <td>3.84</td>\n",
       "      <td>04/22/19 16:55</td>\n",
       "      <td>594 7th St, New York City, NY 10001</td>\n",
       "      <td>4</td>\n",
       "      <td>New York City  (NY)</td>\n",
       "    </tr>\n",
       "    <tr>\n",
       "      <th>997</th>\n",
       "      <td>Apple Airpods Headphones</td>\n",
       "      <td>1</td>\n",
       "      <td>150.00</td>\n",
       "      <td>04/05/19 23:46</td>\n",
       "      <td>686 8th St, San Francisco, CA 94016</td>\n",
       "      <td>4</td>\n",
       "      <td>San Francisco  (CA)</td>\n",
       "    </tr>\n",
       "    <tr>\n",
       "      <th>998</th>\n",
       "      <td>USB-C Charging Cable</td>\n",
       "      <td>1</td>\n",
       "      <td>11.95</td>\n",
       "      <td>04/04/19 16:39</td>\n",
       "      <td>263 Sunset St, Los Angeles, CA 90001</td>\n",
       "      <td>4</td>\n",
       "      <td>Los Angeles  (CA)</td>\n",
       "    </tr>\n",
       "    <tr>\n",
       "      <th>999</th>\n",
       "      <td>Apple Airpods Headphones</td>\n",
       "      <td>1</td>\n",
       "      <td>150.00</td>\n",
       "      <td>04/26/19 14:24</td>\n",
       "      <td>388 Johnson St, San Francisco, CA 94016</td>\n",
       "      <td>4</td>\n",
       "      <td>San Francisco  (CA)</td>\n",
       "    </tr>\n",
       "  </tbody>\n",
       "</table>\n",
       "<p>1000 rows × 7 columns</p>\n",
       "</div>"
      ],
      "text/plain": [
       "                        Product  Quantity Ordered  Price Each      Order Date  \\\n",
       "0      Apple Airpods Headphones                 1      150.00  04/10/19 18:32   \n",
       "1    Bose SoundSport Headphones                 1       99.99  04/19/19 20:15   \n",
       "2        27in 4K Gaming Monitor                 1      389.99  04/27/19 15:23   \n",
       "3              27in FHD Monitor                 1      149.99  04/22/19 12:14   \n",
       "4      Lightning Charging Cable                 1       14.95  04/25/19 08:01   \n",
       "..                          ...               ...         ...             ...   \n",
       "995       AA Batteries (4-pack)                 1        3.84  04/06/19 12:27   \n",
       "996       AA Batteries (4-pack)                 1        3.84  04/22/19 16:55   \n",
       "997    Apple Airpods Headphones                 1      150.00  04/05/19 23:46   \n",
       "998        USB-C Charging Cable                 1       11.95  04/04/19 16:39   \n",
       "999    Apple Airpods Headphones                 1      150.00  04/26/19 14:24   \n",
       "\n",
       "                            Purchase Address  Month                 City  \n",
       "0     732 Forest St, New York City, NY 10001      4  New York City  (NY)  \n",
       "1       715 Church St, Los Angeles, CA 90001      4    Los Angeles  (CA)  \n",
       "2      61 Spruce St, San Francisco, CA 94016      4  San Francisco  (CA)  \n",
       "3       564 Lake St, San Francisco, CA 94016      4  San Francisco  (CA)  \n",
       "4    829 Dogwood St, San Francisco, CA 94016      4  San Francisco  (CA)  \n",
       "..                                       ...    ...                  ...  \n",
       "995      198 8th St, San Francisco, CA 94016      4  San Francisco  (CA)  \n",
       "996      594 7th St, New York City, NY 10001      4  New York City  (NY)  \n",
       "997      686 8th St, San Francisco, CA 94016      4  San Francisco  (CA)  \n",
       "998     263 Sunset St, Los Angeles, CA 90001      4    Los Angeles  (CA)  \n",
       "999  388 Johnson St, San Francisco, CA 94016      4  San Francisco  (CA)  \n",
       "\n",
       "[1000 rows x 7 columns]"
      ]
     },
     "execution_count": 18,
     "metadata": {},
     "output_type": "execute_result"
    }
   ],
   "source": [
    "df_two = pd.read_excel(filename_two, index_col=0)\n",
    "df_two"
   ]
  },
  {
   "cell_type": "markdown",
   "metadata": {},
   "source": [
    "### Merge similar data"
   ]
  },
  {
   "cell_type": "code",
   "execution_count": 19,
   "metadata": {},
   "outputs": [],
   "source": [
    "df_merge = df_one.merge(df_two)"
   ]
  },
  {
   "cell_type": "code",
   "execution_count": 20,
   "metadata": {},
   "outputs": [
    {
     "data": {
      "text/html": [
       "<div>\n",
       "<style scoped>\n",
       "    .dataframe tbody tr th:only-of-type {\n",
       "        vertical-align: middle;\n",
       "    }\n",
       "\n",
       "    .dataframe tbody tr th {\n",
       "        vertical-align: top;\n",
       "    }\n",
       "\n",
       "    .dataframe thead th {\n",
       "        text-align: right;\n",
       "    }\n",
       "</style>\n",
       "<table border=\"1\" class=\"dataframe\">\n",
       "  <thead>\n",
       "    <tr style=\"text-align: right;\">\n",
       "      <th></th>\n",
       "      <th>Product</th>\n",
       "      <th>Quantity Ordered</th>\n",
       "      <th>Price Each</th>\n",
       "      <th>Order Date</th>\n",
       "      <th>Purchase Address</th>\n",
       "      <th>Month</th>\n",
       "      <th>City</th>\n",
       "    </tr>\n",
       "  </thead>\n",
       "  <tbody>\n",
       "    <tr>\n",
       "      <th>0</th>\n",
       "      <td>Apple Airpods Headphones</td>\n",
       "      <td>1</td>\n",
       "      <td>150.00</td>\n",
       "      <td>04/10/19 18:32</td>\n",
       "      <td>732 Forest St, New York City, NY 10001</td>\n",
       "      <td>4</td>\n",
       "      <td>New York City  (NY)</td>\n",
       "    </tr>\n",
       "    <tr>\n",
       "      <th>1</th>\n",
       "      <td>Bose SoundSport Headphones</td>\n",
       "      <td>1</td>\n",
       "      <td>99.99</td>\n",
       "      <td>04/19/19 20:15</td>\n",
       "      <td>715 Church St, Los Angeles, CA 90001</td>\n",
       "      <td>4</td>\n",
       "      <td>Los Angeles  (CA)</td>\n",
       "    </tr>\n",
       "    <tr>\n",
       "      <th>2</th>\n",
       "      <td>27in 4K Gaming Monitor</td>\n",
       "      <td>1</td>\n",
       "      <td>389.99</td>\n",
       "      <td>04/27/19 15:23</td>\n",
       "      <td>61 Spruce St, San Francisco, CA 94016</td>\n",
       "      <td>4</td>\n",
       "      <td>San Francisco  (CA)</td>\n",
       "    </tr>\n",
       "    <tr>\n",
       "      <th>3</th>\n",
       "      <td>27in FHD Monitor</td>\n",
       "      <td>1</td>\n",
       "      <td>149.99</td>\n",
       "      <td>04/22/19 12:14</td>\n",
       "      <td>564 Lake St, San Francisco, CA 94016</td>\n",
       "      <td>4</td>\n",
       "      <td>San Francisco  (CA)</td>\n",
       "    </tr>\n",
       "    <tr>\n",
       "      <th>4</th>\n",
       "      <td>Lightning Charging Cable</td>\n",
       "      <td>1</td>\n",
       "      <td>14.95</td>\n",
       "      <td>04/25/19 08:01</td>\n",
       "      <td>829 Dogwood St, San Francisco, CA 94016</td>\n",
       "      <td>4</td>\n",
       "      <td>San Francisco  (CA)</td>\n",
       "    </tr>\n",
       "    <tr>\n",
       "      <th>...</th>\n",
       "      <td>...</td>\n",
       "      <td>...</td>\n",
       "      <td>...</td>\n",
       "      <td>...</td>\n",
       "      <td>...</td>\n",
       "      <td>...</td>\n",
       "      <td>...</td>\n",
       "    </tr>\n",
       "    <tr>\n",
       "      <th>145</th>\n",
       "      <td>AAA Batteries (4-pack)</td>\n",
       "      <td>1</td>\n",
       "      <td>2.99</td>\n",
       "      <td>04/09/19 20:13</td>\n",
       "      <td>825 2nd St, Portland, OR 97035</td>\n",
       "      <td>4</td>\n",
       "      <td>Portland  (OR)</td>\n",
       "    </tr>\n",
       "    <tr>\n",
       "      <th>146</th>\n",
       "      <td>Bose SoundSport Headphones</td>\n",
       "      <td>1</td>\n",
       "      <td>99.99</td>\n",
       "      <td>04/07/19 06:45</td>\n",
       "      <td>845 Lakeview St, San Francisco, CA 94016</td>\n",
       "      <td>4</td>\n",
       "      <td>San Francisco  (CA)</td>\n",
       "    </tr>\n",
       "    <tr>\n",
       "      <th>147</th>\n",
       "      <td>AAA Batteries (4-pack)</td>\n",
       "      <td>1</td>\n",
       "      <td>2.99</td>\n",
       "      <td>04/28/19 19:03</td>\n",
       "      <td>616 9th St, New York City, NY 10001</td>\n",
       "      <td>4</td>\n",
       "      <td>New York City  (NY)</td>\n",
       "    </tr>\n",
       "    <tr>\n",
       "      <th>148</th>\n",
       "      <td>Bose SoundSport Headphones</td>\n",
       "      <td>1</td>\n",
       "      <td>99.99</td>\n",
       "      <td>04/15/19 09:51</td>\n",
       "      <td>182 Main St, San Francisco, CA 94016</td>\n",
       "      <td>4</td>\n",
       "      <td>San Francisco  (CA)</td>\n",
       "    </tr>\n",
       "    <tr>\n",
       "      <th>149</th>\n",
       "      <td>iPhone</td>\n",
       "      <td>1</td>\n",
       "      <td>700.00</td>\n",
       "      <td>04/07/19 17:38</td>\n",
       "      <td>719 North St, Los Angeles, CA 90001</td>\n",
       "      <td>4</td>\n",
       "      <td>Los Angeles  (CA)</td>\n",
       "    </tr>\n",
       "  </tbody>\n",
       "</table>\n",
       "<p>150 rows × 7 columns</p>\n",
       "</div>"
      ],
      "text/plain": [
       "                        Product  Quantity Ordered  Price Each      Order Date  \\\n",
       "0      Apple Airpods Headphones                 1      150.00  04/10/19 18:32   \n",
       "1    Bose SoundSport Headphones                 1       99.99  04/19/19 20:15   \n",
       "2        27in 4K Gaming Monitor                 1      389.99  04/27/19 15:23   \n",
       "3              27in FHD Monitor                 1      149.99  04/22/19 12:14   \n",
       "4      Lightning Charging Cable                 1       14.95  04/25/19 08:01   \n",
       "..                          ...               ...         ...             ...   \n",
       "145      AAA Batteries (4-pack)                 1        2.99  04/09/19 20:13   \n",
       "146  Bose SoundSport Headphones                 1       99.99  04/07/19 06:45   \n",
       "147      AAA Batteries (4-pack)                 1        2.99  04/28/19 19:03   \n",
       "148  Bose SoundSport Headphones                 1       99.99  04/15/19 09:51   \n",
       "149                      iPhone                 1      700.00  04/07/19 17:38   \n",
       "\n",
       "                             Purchase Address  Month                 City  \n",
       "0      732 Forest St, New York City, NY 10001      4  New York City  (NY)  \n",
       "1        715 Church St, Los Angeles, CA 90001      4    Los Angeles  (CA)  \n",
       "2       61 Spruce St, San Francisco, CA 94016      4  San Francisco  (CA)  \n",
       "3        564 Lake St, San Francisco, CA 94016      4  San Francisco  (CA)  \n",
       "4     829 Dogwood St, San Francisco, CA 94016      4  San Francisco  (CA)  \n",
       "..                                        ...    ...                  ...  \n",
       "145            825 2nd St, Portland, OR 97035      4       Portland  (OR)  \n",
       "146  845 Lakeview St, San Francisco, CA 94016      4  San Francisco  (CA)  \n",
       "147       616 9th St, New York City, NY 10001      4  New York City  (NY)  \n",
       "148      182 Main St, San Francisco, CA 94016      4  San Francisco  (CA)  \n",
       "149       719 North St, Los Angeles, CA 90001      4    Los Angeles  (CA)  \n",
       "\n",
       "[150 rows x 7 columns]"
      ]
     },
     "execution_count": 20,
     "metadata": {},
     "output_type": "execute_result"
    }
   ],
   "source": [
    "df_merge"
   ]
  },
  {
   "cell_type": "code",
   "execution_count": 21,
   "metadata": {},
   "outputs": [
    {
     "data": {
      "text/html": [
       "<div>\n",
       "<style scoped>\n",
       "    .dataframe tbody tr th:only-of-type {\n",
       "        vertical-align: middle;\n",
       "    }\n",
       "\n",
       "    .dataframe tbody tr th {\n",
       "        vertical-align: top;\n",
       "    }\n",
       "\n",
       "    .dataframe thead th {\n",
       "        text-align: right;\n",
       "    }\n",
       "</style>\n",
       "<table border=\"1\" class=\"dataframe\">\n",
       "  <thead>\n",
       "    <tr style=\"text-align: right;\">\n",
       "      <th></th>\n",
       "      <th>Product</th>\n",
       "      <th>Quantity Ordered</th>\n",
       "      <th>Price Each</th>\n",
       "      <th>Order Date</th>\n",
       "      <th>Purchase Address</th>\n",
       "      <th>Month</th>\n",
       "      <th>City</th>\n",
       "    </tr>\n",
       "  </thead>\n",
       "  <tbody>\n",
       "    <tr>\n",
       "      <th>850</th>\n",
       "      <td>Apple Airpods Headphones</td>\n",
       "      <td>1</td>\n",
       "      <td>150.0</td>\n",
       "      <td>04/10/19 18:32</td>\n",
       "      <td>732 Forest St, New York City, NY 10001</td>\n",
       "      <td>4</td>\n",
       "      <td>New York City  (NY)</td>\n",
       "    </tr>\n",
       "  </tbody>\n",
       "</table>\n",
       "</div>"
      ],
      "text/plain": [
       "                      Product  Quantity Ordered  Price Each      Order Date  \\\n",
       "850  Apple Airpods Headphones                 1       150.0  04/10/19 18:32   \n",
       "\n",
       "                           Purchase Address  Month                 City  \n",
       "850  732 Forest St, New York City, NY 10001      4  New York City  (NY)  "
      ]
     },
     "execution_count": 21,
     "metadata": {},
     "output_type": "execute_result"
    }
   ],
   "source": [
    "# testar se o valor existe na planilha 1\n",
    "df_one[df_one['Order Date'] == '04/10/19 18:32']"
   ]
  },
  {
   "cell_type": "code",
   "execution_count": 22,
   "metadata": {},
   "outputs": [
    {
     "data": {
      "text/html": [
       "<div>\n",
       "<style scoped>\n",
       "    .dataframe tbody tr th:only-of-type {\n",
       "        vertical-align: middle;\n",
       "    }\n",
       "\n",
       "    .dataframe tbody tr th {\n",
       "        vertical-align: top;\n",
       "    }\n",
       "\n",
       "    .dataframe thead th {\n",
       "        text-align: right;\n",
       "    }\n",
       "</style>\n",
       "<table border=\"1\" class=\"dataframe\">\n",
       "  <thead>\n",
       "    <tr style=\"text-align: right;\">\n",
       "      <th></th>\n",
       "      <th>Product</th>\n",
       "      <th>Quantity Ordered</th>\n",
       "      <th>Price Each</th>\n",
       "      <th>Order Date</th>\n",
       "      <th>Purchase Address</th>\n",
       "      <th>Month</th>\n",
       "      <th>City</th>\n",
       "    </tr>\n",
       "  </thead>\n",
       "  <tbody>\n",
       "    <tr>\n",
       "      <th>0</th>\n",
       "      <td>Apple Airpods Headphones</td>\n",
       "      <td>1</td>\n",
       "      <td>150.0</td>\n",
       "      <td>04/10/19 18:32</td>\n",
       "      <td>732 Forest St, New York City, NY 10001</td>\n",
       "      <td>4</td>\n",
       "      <td>New York City  (NY)</td>\n",
       "    </tr>\n",
       "  </tbody>\n",
       "</table>\n",
       "</div>"
      ],
      "text/plain": [
       "                    Product  Quantity Ordered  Price Each      Order Date  \\\n",
       "0  Apple Airpods Headphones                 1       150.0  04/10/19 18:32   \n",
       "\n",
       "                         Purchase Address  Month                 City  \n",
       "0  732 Forest St, New York City, NY 10001      4  New York City  (NY)  "
      ]
     },
     "execution_count": 22,
     "metadata": {},
     "output_type": "execute_result"
    }
   ],
   "source": [
    "# testar se o valor existe na planilha 2\n",
    "df_two[df_two['Order Date'] == '04/10/19 18:32']"
   ]
  },
  {
   "cell_type": "markdown",
   "metadata": {},
   "source": [
    "### Merge different data"
   ]
  },
  {
   "cell_type": "code",
   "execution_count": 23,
   "metadata": {},
   "outputs": [
    {
     "data": {
      "text/html": [
       "<div>\n",
       "<style scoped>\n",
       "    .dataframe tbody tr th:only-of-type {\n",
       "        vertical-align: middle;\n",
       "    }\n",
       "\n",
       "    .dataframe tbody tr th {\n",
       "        vertical-align: top;\n",
       "    }\n",
       "\n",
       "    .dataframe thead th {\n",
       "        text-align: right;\n",
       "    }\n",
       "</style>\n",
       "<table border=\"1\" class=\"dataframe\">\n",
       "  <thead>\n",
       "    <tr style=\"text-align: right;\">\n",
       "      <th></th>\n",
       "      <th>Product</th>\n",
       "      <th>Quantity Ordered</th>\n",
       "      <th>Price Each</th>\n",
       "      <th>Order Date</th>\n",
       "      <th>Purchase Address</th>\n",
       "      <th>Month</th>\n",
       "      <th>City</th>\n",
       "    </tr>\n",
       "  </thead>\n",
       "  <tbody>\n",
       "    <tr>\n",
       "      <th>0</th>\n",
       "      <td>USB-C Charging Cable</td>\n",
       "      <td>2</td>\n",
       "      <td>11.95</td>\n",
       "      <td>04/19/19 08:46</td>\n",
       "      <td>917 1st St, Dallas, TX 75001</td>\n",
       "      <td>4</td>\n",
       "      <td>Dallas  (TX)</td>\n",
       "    </tr>\n",
       "    <tr>\n",
       "      <th>1</th>\n",
       "      <td>Bose SoundSport Headphones</td>\n",
       "      <td>1</td>\n",
       "      <td>99.99</td>\n",
       "      <td>04/07/19 22:30</td>\n",
       "      <td>682 Chestnut St, Boston, MA 02215</td>\n",
       "      <td>4</td>\n",
       "      <td>Boston  (MA)</td>\n",
       "    </tr>\n",
       "    <tr>\n",
       "      <th>2</th>\n",
       "      <td>Google Phone</td>\n",
       "      <td>1</td>\n",
       "      <td>600.00</td>\n",
       "      <td>04/12/19 14:38</td>\n",
       "      <td>669 Spruce St, Los Angeles, CA 90001</td>\n",
       "      <td>4</td>\n",
       "      <td>Los Angeles  (CA)</td>\n",
       "    </tr>\n",
       "    <tr>\n",
       "      <th>3</th>\n",
       "      <td>Wired Headphones</td>\n",
       "      <td>1</td>\n",
       "      <td>11.99</td>\n",
       "      <td>04/12/19 14:38</td>\n",
       "      <td>669 Spruce St, Los Angeles, CA 90001</td>\n",
       "      <td>4</td>\n",
       "      <td>Los Angeles  (CA)</td>\n",
       "    </tr>\n",
       "    <tr>\n",
       "      <th>4</th>\n",
       "      <td>Wired Headphones</td>\n",
       "      <td>1</td>\n",
       "      <td>11.99</td>\n",
       "      <td>04/30/19 09:27</td>\n",
       "      <td>333 8th St, Los Angeles, CA 90001</td>\n",
       "      <td>4</td>\n",
       "      <td>Los Angeles  (CA)</td>\n",
       "    </tr>\n",
       "    <tr>\n",
       "      <th>...</th>\n",
       "      <td>...</td>\n",
       "      <td>...</td>\n",
       "      <td>...</td>\n",
       "      <td>...</td>\n",
       "      <td>...</td>\n",
       "      <td>...</td>\n",
       "      <td>...</td>\n",
       "    </tr>\n",
       "    <tr>\n",
       "      <th>1845</th>\n",
       "      <td>AA Batteries (4-pack)</td>\n",
       "      <td>1</td>\n",
       "      <td>3.84</td>\n",
       "      <td>04/06/19 12:27</td>\n",
       "      <td>198 8th St, San Francisco, CA 94016</td>\n",
       "      <td>4</td>\n",
       "      <td>San Francisco  (CA)</td>\n",
       "    </tr>\n",
       "    <tr>\n",
       "      <th>1846</th>\n",
       "      <td>AA Batteries (4-pack)</td>\n",
       "      <td>1</td>\n",
       "      <td>3.84</td>\n",
       "      <td>04/22/19 16:55</td>\n",
       "      <td>594 7th St, New York City, NY 10001</td>\n",
       "      <td>4</td>\n",
       "      <td>New York City  (NY)</td>\n",
       "    </tr>\n",
       "    <tr>\n",
       "      <th>1847</th>\n",
       "      <td>Apple Airpods Headphones</td>\n",
       "      <td>1</td>\n",
       "      <td>150.00</td>\n",
       "      <td>04/05/19 23:46</td>\n",
       "      <td>686 8th St, San Francisco, CA 94016</td>\n",
       "      <td>4</td>\n",
       "      <td>San Francisco  (CA)</td>\n",
       "    </tr>\n",
       "    <tr>\n",
       "      <th>1848</th>\n",
       "      <td>USB-C Charging Cable</td>\n",
       "      <td>1</td>\n",
       "      <td>11.95</td>\n",
       "      <td>04/04/19 16:39</td>\n",
       "      <td>263 Sunset St, Los Angeles, CA 90001</td>\n",
       "      <td>4</td>\n",
       "      <td>Los Angeles  (CA)</td>\n",
       "    </tr>\n",
       "    <tr>\n",
       "      <th>1849</th>\n",
       "      <td>Apple Airpods Headphones</td>\n",
       "      <td>1</td>\n",
       "      <td>150.00</td>\n",
       "      <td>04/26/19 14:24</td>\n",
       "      <td>388 Johnson St, San Francisco, CA 94016</td>\n",
       "      <td>4</td>\n",
       "      <td>San Francisco  (CA)</td>\n",
       "    </tr>\n",
       "  </tbody>\n",
       "</table>\n",
       "<p>1850 rows × 7 columns</p>\n",
       "</div>"
      ],
      "text/plain": [
       "                         Product  Quantity Ordered  Price Each  \\\n",
       "0           USB-C Charging Cable                 2       11.95   \n",
       "1     Bose SoundSport Headphones                 1       99.99   \n",
       "2                   Google Phone                 1      600.00   \n",
       "3               Wired Headphones                 1       11.99   \n",
       "4               Wired Headphones                 1       11.99   \n",
       "...                          ...               ...         ...   \n",
       "1845       AA Batteries (4-pack)                 1        3.84   \n",
       "1846       AA Batteries (4-pack)                 1        3.84   \n",
       "1847    Apple Airpods Headphones                 1      150.00   \n",
       "1848        USB-C Charging Cable                 1       11.95   \n",
       "1849    Apple Airpods Headphones                 1      150.00   \n",
       "\n",
       "          Order Date                         Purchase Address  Month  \\\n",
       "0     04/19/19 08:46             917 1st St, Dallas, TX 75001      4   \n",
       "1     04/07/19 22:30        682 Chestnut St, Boston, MA 02215      4   \n",
       "2     04/12/19 14:38     669 Spruce St, Los Angeles, CA 90001      4   \n",
       "3     04/12/19 14:38     669 Spruce St, Los Angeles, CA 90001      4   \n",
       "4     04/30/19 09:27        333 8th St, Los Angeles, CA 90001      4   \n",
       "...              ...                                      ...    ...   \n",
       "1845  04/06/19 12:27      198 8th St, San Francisco, CA 94016      4   \n",
       "1846  04/22/19 16:55      594 7th St, New York City, NY 10001      4   \n",
       "1847  04/05/19 23:46      686 8th St, San Francisco, CA 94016      4   \n",
       "1848  04/04/19 16:39     263 Sunset St, Los Angeles, CA 90001      4   \n",
       "1849  04/26/19 14:24  388 Johnson St, San Francisco, CA 94016      4   \n",
       "\n",
       "                     City  \n",
       "0            Dallas  (TX)  \n",
       "1            Boston  (MA)  \n",
       "2       Los Angeles  (CA)  \n",
       "3       Los Angeles  (CA)  \n",
       "4       Los Angeles  (CA)  \n",
       "...                   ...  \n",
       "1845  San Francisco  (CA)  \n",
       "1846  New York City  (NY)  \n",
       "1847  San Francisco  (CA)  \n",
       "1848    Los Angeles  (CA)  \n",
       "1849  San Francisco  (CA)  \n",
       "\n",
       "[1850 rows x 7 columns]"
      ]
     },
     "execution_count": 23,
     "metadata": {},
     "output_type": "execute_result"
    }
   ],
   "source": [
    "df_merge = df_one.merge(df_two, how='outer')\n",
    "df_merge"
   ]
  },
  {
   "cell_type": "markdown",
   "metadata": {},
   "source": [
    "# Save excel spreadsheet"
   ]
  },
  {
   "cell_type": "code",
   "execution_count": 24,
   "metadata": {},
   "outputs": [],
   "source": [
    "filename = 'data/sales_merge.xlsx'\n",
    "\n",
    "df_merge.to_excel(filename, sheet_name='Sales merged')"
   ]
  },
  {
   "cell_type": "markdown",
   "metadata": {},
   "source": [
    "# Write in excel spreadsheet"
   ]
  },
  {
   "cell_type": "code",
   "execution_count": 25,
   "metadata": {},
   "outputs": [
    {
     "data": {
      "text/plain": [
       "['Sales merged']"
      ]
     },
     "execution_count": 25,
     "metadata": {},
     "output_type": "execute_result"
    }
   ],
   "source": [
    "workbook = openpyxl.load_workbook(filename)\n",
    "\n",
    "workbook.sheetnames"
   ]
  },
  {
   "cell_type": "code",
   "execution_count": 26,
   "metadata": {},
   "outputs": [],
   "source": [
    "worksheet = workbook['Sales merged']"
   ]
  },
  {
   "cell_type": "code",
   "execution_count": 27,
   "metadata": {},
   "outputs": [
    {
     "data": {
      "text/plain": [
       "'1852'"
      ]
     },
     "execution_count": 27,
     "metadata": {},
     "output_type": "execute_result"
    }
   ],
   "source": [
    "last_index = str(len(df_merge)+2)\n",
    "last_index"
   ]
  },
  {
   "cell_type": "code",
   "execution_count": 28,
   "metadata": {},
   "outputs": [],
   "source": [
    "# escrever na planilha\n",
    "worksheet['A' + last_index] = 'Total of Sales'\n",
    "# deixar em negrito\n",
    "worksheet['A' + last_index].font = openpyxl.styles.Font(bold=True)"
   ]
  },
  {
   "cell_type": "code",
   "execution_count": 29,
   "metadata": {},
   "outputs": [],
   "source": [
    "# escrever na planilha\n",
    "worksheet['D' + last_index] = '=SUMPRODUCT(C2:C{},D2:D{})'.format(str(int(last_index)-1),\n",
    "                                                                  str(int(last_index)-1))"
   ]
  },
  {
   "cell_type": "code",
   "execution_count": 30,
   "metadata": {},
   "outputs": [
    {
     "data": {
      "text/plain": [
       "'=SUMPRODUCT(C2:C1851,D2:D1851)'"
      ]
     },
     "execution_count": 30,
     "metadata": {},
     "output_type": "execute_result"
    }
   ],
   "source": [
    "# verificar valor escrito\n",
    "worksheet['D' + last_index].value"
   ]
  },
  {
   "cell_type": "code",
   "execution_count": 31,
   "metadata": {},
   "outputs": [],
   "source": [
    "# salvar arquivo\n",
    "workbook.save(filename)"
   ]
  }
 ],
 "metadata": {
  "kernelspec": {
   "display_name": "Python 3",
   "language": "python",
   "name": "python3"
  },
  "language_info": {
   "codemirror_mode": {
    "name": "ipython",
    "version": 3
   },
   "file_extension": ".py",
   "mimetype": "text/x-python",
   "name": "python",
   "nbconvert_exporter": "python",
   "pygments_lexer": "ipython3",
   "version": "3.7.7"
  }
 },
 "nbformat": 4,
 "nbformat_minor": 4
}
