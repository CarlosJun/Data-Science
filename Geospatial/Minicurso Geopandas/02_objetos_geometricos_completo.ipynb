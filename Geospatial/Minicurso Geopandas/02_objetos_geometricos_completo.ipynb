{
 "cells": [
  {
   "cell_type": "markdown",
   "metadata": {},
   "source": [
    "<center><img src=\"https://synapsedatascience.com.br/wp-content/uploads/2020/12/logo-jupyter.png\" width=\"300\"/></center>"
   ]
  },
  {
   "cell_type": "markdown",
   "metadata": {},
   "source": [
    "# Estrutura do GeoPandas"
   ]
  },
  {
   "cell_type": "markdown",
   "metadata": {},
   "source": [
    "![Divisão do GeoPandas](imagens/geopandas_separacao_expandido.png)"
   ]
  },
  {
   "cell_type": "markdown",
   "metadata": {},
   "source": [
    "A biblioteca `geopandas` é uma extensão da biblioteca `pandas` criada para facilitar a manipulação de dados georreferenciados."
   ]
  },
  {
   "cell_type": "markdown",
   "metadata": {},
   "source": [
    "# 1. Modelo espacial de dados"
   ]
  },
  {
   "cell_type": "markdown",
   "metadata": {},
   "source": [
    "![Modelo espaciald e dados](imagens/modelo_espacial_dados.png)"
   ]
  },
  {
   "cell_type": "markdown",
   "metadata": {},
   "source": [
    "Os objetos geométricos fundamentais para trabalhar com dados espaciais são: `Points`, `Lines` e `Polygons`. Em python podemos usar a biblioteca [Shapely](https://shapely.readthedocs.io/en/latest/project.html) para definir e realizar operações com os objetos geométricos. Entre algumas funcionalidades, podemos citar:\n",
    "\n",
    "-  Criar objetos básicos, como: `Point`, `Line`, `Polygon` e outros;\n",
    "-  Calcular área, tamanho, limite dos objetos geométricos;\n",
    "-  Realizar operações geométricas, como: `Union`, `Intersection`, `Difference`, `Distance` e etc;\n",
    "-  Realizar consultas espaciais entre geometrias, como: `Intersects`, `Touches`, `Crosses`, `Within` e etc.\n",
    "\n",
    "**Os objetos geométricos consistem em tuplas de coordenadas, em que:**\n",
    "\n",
    "-  `Point`: representa um ponto no espaço. Podendo ser bidimensional (x, y) ou tridimensional (x, y, z);\n",
    "-  `LineString`: representa uma sequência de pontos para formar uma linha. Uma linha consiste de pelo menos dois pontos.\n",
    "-  `Polygon`: representa um polígono preenchido, formado por uma lista de pelo menos três pontos, que indicam uma estrutura de anel externo. Os polígonos também podem apresentar aberturas internas (buracos).\n",
    "\n",
    "**Também é possível construir uma coleção de objetos geométricos, como:**\n",
    "\n",
    "-  `MultiPoint`: representa uma coleção de `Point`;\n",
    "-  `MultiLineString`: representa uma coleção de `LineString`;\n",
    "-  `MultiPolygon`: representa uma coleção de `Polygon`."
   ]
  },
  {
   "cell_type": "markdown",
   "metadata": {},
   "source": [
    "É possível instalar o módulo `shapely` em nosso ambiente através do comando:"
   ]
  },
  {
   "cell_type": "code",
   "execution_count": 2,
   "metadata": {},
   "outputs": [
    {
     "name": "stdout",
     "output_type": "stream",
     "text": [
      "Collecting package metadata (current_repodata.json): done\n",
      "Solving environment: done\n",
      "\n",
      "\n",
      "==> WARNING: A newer version of conda exists. <==\n",
      "  current version: 4.8.3\n",
      "  latest version: 4.9.2\n",
      "\n",
      "Please update conda by running\n",
      "\n",
      "    $ conda update -n base -c defaults conda\n",
      "\n",
      "\n",
      "\n",
      "# All requested packages already installed.\n",
      "\n"
     ]
    }
   ],
   "source": [
    "# instalando a biblioteca shapely com conda\n",
    "!conda install shapely -y\n",
    "\n",
    "# instalando a biblioteca shapely com pip\n",
    "#!pip install shapely"
   ]
  },
  {
   "cell_type": "code",
   "execution_count": 3,
   "metadata": {},
   "outputs": [
    {
     "name": "stdout",
     "output_type": "stream",
     "text": [
      "# packages in environment at /home/carlos/miniconda3/envs/synapse:\r\n",
      "#\r\n",
      "# Name                    Version                   Build  Channel\r\n",
      "shapely                   1.7.1            py37h98ec03d_0  \r\n"
     ]
    }
   ],
   "source": [
    "# mostrar a versão da biblioteca\n",
    "!conda list shapely"
   ]
  },
  {
   "cell_type": "markdown",
   "metadata": {},
   "source": [
    "Vamos importar os objetos geométricos."
   ]
  },
  {
   "cell_type": "code",
   "execution_count": 6,
   "metadata": {},
   "outputs": [],
   "source": [
    "# importar os objetos geométricos da biblioteca shapely\n",
    "from shapely.geometry import Point, LineString, Polygon"
   ]
  },
  {
   "cell_type": "markdown",
   "metadata": {},
   "source": [
    "## 1.1. Ponto (_Point_)\n",
    "\n",
    "![Exemplo de aplicações com Ponto](imagens/ponto-exemplo-app.png)\n",
    "\n",
    "Para criar um objeto `Point` passaremos as coordenadas x e y para a classe `Point()`. \n",
    "\n",
    "**`Dica:`** para pontos tridimensionais podemos incluir a coordenada z."
   ]
  },
  {
   "cell_type": "code",
   "execution_count": 7,
   "metadata": {},
   "outputs": [],
   "source": [
    "# criar uma geometria do tipo ponto\n",
    "ponto = Point(5, 10)"
   ]
  },
  {
   "cell_type": "markdown",
   "metadata": {},
   "source": [
    "Vamos ver como a variável do tipo `Point` é mostrada no jupyter:"
   ]
  },
  {
   "cell_type": "code",
   "execution_count": 8,
   "metadata": {},
   "outputs": [
    {
     "data": {
      "image/svg+xml": [
       "<svg xmlns=\"http://www.w3.org/2000/svg\" xmlns:xlink=\"http://www.w3.org/1999/xlink\" width=\"100.0\" height=\"100.0\" viewBox=\"4.0 9.0 2.0 2.0\" preserveAspectRatio=\"xMinYMin meet\"><g transform=\"matrix(1,0,0,-1,0,20.0)\"><circle cx=\"5.0\" cy=\"10.0\" r=\"0.06\" stroke=\"#555555\" stroke-width=\"0.02\" fill=\"#66cc99\" opacity=\"0.6\" /></g></svg>"
      ],
      "text/plain": [
       "<shapely.geometry.point.Point at 0x7fd1c4e27f10>"
      ]
     },
     "execution_count": 8,
     "metadata": {},
     "output_type": "execute_result"
    }
   ],
   "source": [
    "ponto"
   ]
  },
  {
   "cell_type": "markdown",
   "metadata": {},
   "source": [
    "Vamos imprimir e ver o tipo do objeto para ver a sua definição:"
   ]
  },
  {
   "cell_type": "code",
   "execution_count": 5,
   "metadata": {},
   "outputs": [
    {
     "name": "stdout",
     "output_type": "stream",
     "text": [
      "POINT (5 10)\n"
     ]
    }
   ],
   "source": [
    "print(ponto)"
   ]
  },
  {
   "cell_type": "code",
   "execution_count": 6,
   "metadata": {},
   "outputs": [
    {
     "data": {
      "text/plain": [
       "shapely.geometry.point.Point"
      ]
     },
     "execution_count": 6,
     "metadata": {},
     "output_type": "execute_result"
    }
   ],
   "source": [
    "type(ponto)"
   ]
  },
  {
   "cell_type": "markdown",
   "metadata": {},
   "source": [
    "Também podemos definir pontos de três dimensões."
   ]
  },
  {
   "cell_type": "code",
   "execution_count": 7,
   "metadata": {},
   "outputs": [
    {
     "data": {
      "image/svg+xml": [
       "<svg xmlns=\"http://www.w3.org/2000/svg\" xmlns:xlink=\"http://www.w3.org/1999/xlink\" width=\"100.0\" height=\"100.0\" viewBox=\"4.0 9.0 2.0 2.0\" preserveAspectRatio=\"xMinYMin meet\"><g transform=\"matrix(1,0,0,-1,0,20.0)\"><circle cx=\"5.0\" cy=\"10.0\" r=\"0.06\" stroke=\"#555555\" stroke-width=\"0.02\" fill=\"#66cc99\" opacity=\"0.6\" /></g></svg>"
      ],
      "text/plain": [
       "<shapely.geometry.point.Point at 0x7f05cc408050>"
      ]
     },
     "execution_count": 7,
     "metadata": {},
     "output_type": "execute_result"
    }
   ],
   "source": [
    "ponto3D = Point(5, 10, 3)\n",
    "ponto3D"
   ]
  },
  {
   "cell_type": "code",
   "execution_count": 8,
   "metadata": {},
   "outputs": [
    {
     "name": "stdout",
     "output_type": "stream",
     "text": [
      "POINT Z (5 10 3)\n"
     ]
    }
   ],
   "source": [
    "print(ponto3D)"
   ]
  },
  {
   "cell_type": "markdown",
   "metadata": {},
   "source": [
    "### Ponto - Atributos e funções"
   ]
  },
  {
   "cell_type": "markdown",
   "metadata": {},
   "source": [
    "Os objetos do tipo `Point` já possuem atributos e funções internas para realizar operações básicas. Uma das funções mais simples é a capacidade de extrair as coordenadas e a possibilidade de calcular a distância entre dois pontos."
   ]
  },
  {
   "cell_type": "markdown",
   "metadata": {},
   "source": [
    "Podemos obter as coordenadas x e y de diferentes maneiras: "
   ]
  },
  {
   "cell_type": "code",
   "execution_count": 9,
   "metadata": {},
   "outputs": [
    {
     "data": {
      "text/plain": [
       "[(5.0, 10.0)]"
      ]
     },
     "execution_count": 9,
     "metadata": {},
     "output_type": "execute_result"
    }
   ],
   "source": [
    "# utilizando a função coords\n",
    "list(ponto.coords)"
   ]
  },
  {
   "cell_type": "code",
   "execution_count": 10,
   "metadata": {},
   "outputs": [
    {
     "name": "stdout",
     "output_type": "stream",
     "text": [
      "5.0 10.0\n"
     ]
    }
   ],
   "source": [
    "# lendo x e y separadamente\n",
    "x = ponto.x\n",
    "y = ponto.y\n",
    "print(x, y)"
   ]
  },
  {
   "cell_type": "markdown",
   "metadata": {},
   "source": [
    "Também podemos calcular a distância entre dois pontos:"
   ]
  },
  {
   "cell_type": "code",
   "execution_count": 11,
   "metadata": {},
   "outputs": [
    {
     "name": "stdout",
     "output_type": "stream",
     "text": [
      "Distância entre os pontos: 5.0\n"
     ]
    }
   ],
   "source": [
    "ponto_1 = Point(2,3)\n",
    "ponto_2 = Point(5,7)\n",
    "\n",
    "distancia = ponto_1.distance(ponto_2)\n",
    "\n",
    "print(\"Distância entre os pontos:\", distancia)"
   ]
  },
  {
   "cell_type": "markdown",
   "metadata": {},
   "source": [
    "## 1.2. Linha (_LineString_)\n",
    "\n",
    "![Exemplo de aplicações com Ponto](imagens/linha-exemplo-app.png)\n",
    "\n",
    "Criar um objeto `LineString` é parecido com a criação objeto `Point`. \n",
    "\n",
    "Agora, em vez de usar uma única tupla de coordenadas, nós podemos contruir uma linha usando uma lista de `Point` ou um vetor de tuplas com as respectivas coordenadas:"
   ]
  },
  {
   "cell_type": "code",
   "execution_count": 12,
   "metadata": {},
   "outputs": [],
   "source": [
    "# criar uma linha a partir de objetos pontos \n",
    "ponto_1 = Point(2,3)\n",
    "ponto_2 = Point(5,7)\n",
    "ponto_3 = Point(2,10)\n",
    "\n",
    "linha = LineString([ponto_1, ponto_2, ponto_3])"
   ]
  },
  {
   "cell_type": "markdown",
   "metadata": {},
   "source": [
    "Vamos ver como a variável do tipo `LineString` é mostrada no jupyter:"
   ]
  },
  {
   "cell_type": "code",
   "execution_count": 13,
   "metadata": {},
   "outputs": [
    {
     "data": {
      "image/svg+xml": [
       "<svg xmlns=\"http://www.w3.org/2000/svg\" xmlns:xlink=\"http://www.w3.org/1999/xlink\" width=\"100.0\" height=\"100.0\" viewBox=\"1.72 2.7199999999999998 3.5600000000000005 7.56\" preserveAspectRatio=\"xMinYMin meet\"><g transform=\"matrix(1,0,0,-1,0,13.0)\"><polyline fill=\"none\" stroke=\"#66cc99\" stroke-width=\"0.1512\" points=\"2.0,3.0 5.0,7.0 2.0,10.0\" opacity=\"0.8\" /></g></svg>"
      ],
      "text/plain": [
       "<shapely.geometry.linestring.LineString at 0x7f05cc40e6d0>"
      ]
     },
     "execution_count": 13,
     "metadata": {},
     "output_type": "execute_result"
    }
   ],
   "source": [
    "linha"
   ]
  },
  {
   "cell_type": "code",
   "execution_count": 14,
   "metadata": {},
   "outputs": [
    {
     "data": {
      "image/svg+xml": [
       "<svg xmlns=\"http://www.w3.org/2000/svg\" xmlns:xlink=\"http://www.w3.org/1999/xlink\" width=\"100.0\" height=\"100.0\" viewBox=\"1.72 2.7199999999999998 3.5600000000000005 7.56\" preserveAspectRatio=\"xMinYMin meet\"><g transform=\"matrix(1,0,0,-1,0,13.0)\"><polyline fill=\"none\" stroke=\"#66cc99\" stroke-width=\"0.1512\" points=\"2.0,3.0 5.0,7.0 2.0,10.0\" opacity=\"0.8\" /></g></svg>"
      ],
      "text/plain": [
       "<shapely.geometry.linestring.LineString at 0x7f05cc4155d0>"
      ]
     },
     "execution_count": 14,
     "metadata": {},
     "output_type": "execute_result"
    }
   ],
   "source": [
    "# também podemos criar um LineString com as respectivas coordenadas\n",
    "linha_2 = LineString([(2,3), (5,7), (2,10)])\n",
    "linha_2"
   ]
  },
  {
   "cell_type": "code",
   "execution_count": 15,
   "metadata": {},
   "outputs": [
    {
     "name": "stdout",
     "output_type": "stream",
     "text": [
      "linha 1: LINESTRING (2 3, 5 7, 2 10)\n",
      "linha 2: LINESTRING (2 3, 5 7, 2 10)\n"
     ]
    }
   ],
   "source": [
    "# vamos imprimir e comparar as duas linhas\n",
    "print(\"linha 1:\", linha)\n",
    "print(\"linha 2:\", linha_2)"
   ]
  },
  {
   "cell_type": "code",
   "execution_count": 16,
   "metadata": {},
   "outputs": [
    {
     "data": {
      "text/plain": [
       "True"
      ]
     },
     "execution_count": 16,
     "metadata": {},
     "output_type": "execute_result"
    }
   ],
   "source": [
    "linha == linha_2"
   ]
  },
  {
   "cell_type": "markdown",
   "metadata": {},
   "source": [
    "Vamos imprimir e ver o tipo do objeto linha para ver a sua definição:"
   ]
  },
  {
   "cell_type": "code",
   "execution_count": 17,
   "metadata": {},
   "outputs": [
    {
     "name": "stdout",
     "output_type": "stream",
     "text": [
      "LINESTRING (2 3, 5 7, 2 10)\n"
     ]
    }
   ],
   "source": [
    "print(linha)"
   ]
  },
  {
   "cell_type": "code",
   "execution_count": 18,
   "metadata": {},
   "outputs": [
    {
     "data": {
      "text/plain": [
       "shapely.geometry.linestring.LineString"
      ]
     },
     "execution_count": 18,
     "metadata": {},
     "output_type": "execute_result"
    }
   ],
   "source": [
    "type(linha)"
   ]
  },
  {
   "cell_type": "markdown",
   "metadata": {},
   "source": [
    "### Linha - Atributos e funções"
   ]
  },
  {
   "cell_type": "markdown",
   "metadata": {},
   "source": [
    "O objeto `LineString` possui diversos atributos e funções internas. Algumas operações possíveis com o objeto do tipo linha:\n",
    "\n",
    "- extrair as coordenadas;\n",
    "- calcular o tamanho da linha;\n",
    "- calcular o ponto médio (centróide).\n",
    "\n",
    "A lista completa de funcionalidades pode ser acessada na [documentação da biblioteca](https://shapely.readthedocs.io/en/latest/manual.html#linestrings). \n",
    "\n",
    "Vamos ver algumas dessas funções.\n",
    "\n",
    "Nós podemos extrair as coordenadas da `LineString` similar ao objeto `Point`."
   ]
  },
  {
   "cell_type": "code",
   "execution_count": 19,
   "metadata": {},
   "outputs": [
    {
     "data": {
      "text/plain": [
       "[(2.0, 3.0), (5.0, 7.0), (2.0, 10.0)]"
      ]
     },
     "execution_count": 19,
     "metadata": {},
     "output_type": "execute_result"
    }
   ],
   "source": [
    "# utilizando a função coords\n",
    "list(linha.coords)"
   ]
  },
  {
   "cell_type": "code",
   "execution_count": 20,
   "metadata": {},
   "outputs": [
    {
     "name": "stdout",
     "output_type": "stream",
     "text": [
      "coordenadas x: [2.0, 5.0, 2.0]\n",
      "coordenadas y: [3.0, 7.0, 10.0]\n"
     ]
    }
   ],
   "source": [
    "# lendo x e y separadamente\n",
    "coordenadas_x = list(linha.xy[0])\n",
    "coordenadas_y = list(linha.xy[1])\n",
    "\n",
    "print('coordenadas x:', coordenadas_x)\n",
    "print('coordenadas y:', coordenadas_y)"
   ]
  },
  {
   "cell_type": "markdown",
   "metadata": {},
   "source": [
    "Também é possível obter o tamanho da linha e o ponto central (centróide) diretamente do objeto:"
   ]
  },
  {
   "cell_type": "code",
   "execution_count": 21,
   "metadata": {},
   "outputs": [
    {
     "name": "stdout",
     "output_type": "stream",
     "text": [
      "Tamanho da linha: 9.24\n"
     ]
    }
   ],
   "source": [
    "# pegar o tamanho da linha\n",
    "tamanho = linha.length\n",
    "\n",
    "#print(\"Tamanho da linha:\", tamanho)\n",
    "print(\"Tamanho da linha: {:.2f}\".format(tamanho))"
   ]
  },
  {
   "cell_type": "code",
   "execution_count": 22,
   "metadata": {},
   "outputs": [
    {
     "name": "stdout",
     "output_type": "stream",
     "text": [
      "POINT (3.5 6.606601717798214)\n"
     ]
    }
   ],
   "source": [
    "# obter o ponto central (centróide)\n",
    "centroide = linha.centroid\n",
    "\n",
    "print(centroide)"
   ]
  },
  {
   "cell_type": "markdown",
   "metadata": {},
   "source": [
    "## 1.3. Polígono (_Polygon_)\n",
    "\n",
    "![Exemplo de aplicações com Poligono](imagens/poligono-exemplo-app.png)\n",
    "\n",
    "Podemos criar um objeto `Polygon` usando a mesma lógica do `Point` e `LineString`, porém a criação do objeto `Polygon` só aceita uma sequência de coordenadas.\n",
    "\n",
    "Para criar um polígono são necessários __pelo menos três coordenadas__."
   ]
  },
  {
   "cell_type": "code",
   "execution_count": 23,
   "metadata": {},
   "outputs": [],
   "source": [
    "# criar um Polygon passando as coordenadas\n",
    "poligono = Polygon([(2,3), (5,7), (2,10)])"
   ]
  },
  {
   "cell_type": "markdown",
   "metadata": {},
   "source": [
    "Vamos ver como a variável do tipo `Polygon` é mostrada no jupyter:"
   ]
  },
  {
   "cell_type": "code",
   "execution_count": 24,
   "metadata": {},
   "outputs": [
    {
     "data": {
      "image/svg+xml": [
       "<svg xmlns=\"http://www.w3.org/2000/svg\" xmlns:xlink=\"http://www.w3.org/1999/xlink\" width=\"100.0\" height=\"100.0\" viewBox=\"1.72 2.7199999999999998 3.5600000000000005 7.56\" preserveAspectRatio=\"xMinYMin meet\"><g transform=\"matrix(1,0,0,-1,0,13.0)\"><path fill-rule=\"evenodd\" fill=\"#66cc99\" stroke=\"#555555\" stroke-width=\"0.1512\" opacity=\"0.6\" d=\"M 2.0,3.0 L 5.0,7.0 L 2.0,10.0 L 2.0,3.0 z\" /></g></svg>"
      ],
      "text/plain": [
       "<shapely.geometry.polygon.Polygon at 0x7f05cc41bf10>"
      ]
     },
     "execution_count": 24,
     "metadata": {},
     "output_type": "execute_result"
    }
   ],
   "source": [
    "poligono"
   ]
  },
  {
   "cell_type": "code",
   "execution_count": 25,
   "metadata": {},
   "outputs": [
    {
     "data": {
      "image/svg+xml": [
       "<svg xmlns=\"http://www.w3.org/2000/svg\" xmlns:xlink=\"http://www.w3.org/1999/xlink\" width=\"100.0\" height=\"100.0\" viewBox=\"1.72 2.7199999999999998 3.5600000000000005 7.56\" preserveAspectRatio=\"xMinYMin meet\"><g transform=\"matrix(1,0,0,-1,0,13.0)\"><path fill-rule=\"evenodd\" fill=\"#66cc99\" stroke=\"#555555\" stroke-width=\"0.1512\" opacity=\"0.6\" d=\"M 2.0,3.0 L 5.0,7.0 L 2.0,10.0 L 2.0,3.0 z\" /></g></svg>"
      ],
      "text/plain": [
       "<shapely.geometry.polygon.Polygon at 0x7f05cc41bbd0>"
      ]
     },
     "execution_count": 25,
     "metadata": {},
     "output_type": "execute_result"
    }
   ],
   "source": [
    "# também podemos criar um polygon usando nossos objetos Point criados anteriormente com list comprehension.\n",
    "poligono_2 = Polygon([[ponto.x, ponto.y] for ponto in [ponto_1, ponto_2, ponto_3]])\n",
    "\n",
    "poligono_2"
   ]
  },
  {
   "cell_type": "markdown",
   "metadata": {},
   "source": [
    "Para entender o resultado vamos ver o resultado da operação anterior"
   ]
  },
  {
   "cell_type": "code",
   "execution_count": 26,
   "metadata": {},
   "outputs": [
    {
     "data": {
      "text/plain": [
       "[[2.0, 3.0], [5.0, 7.0], [2.0, 10.0]]"
      ]
     },
     "execution_count": 26,
     "metadata": {},
     "output_type": "execute_result"
    }
   ],
   "source": [
    "[[ponto.x, ponto.y] for ponto in [ponto_1, ponto_2, ponto_3]]"
   ]
  },
  {
   "cell_type": "code",
   "execution_count": 27,
   "metadata": {},
   "outputs": [
    {
     "name": "stdout",
     "output_type": "stream",
     "text": [
      "polígono 1: POLYGON ((2 3, 5 7, 2 10, 2 3))\n",
      "polígono 2: POLYGON ((2 3, 5 7, 2 10, 2 3))\n"
     ]
    }
   ],
   "source": [
    "# vamos imprimir e comparar os dois polygons\n",
    "print(\"polígono 1:\", poligono)\n",
    "print(\"polígono 2:\", poligono_2)"
   ]
  },
  {
   "cell_type": "code",
   "execution_count": 28,
   "metadata": {},
   "outputs": [
    {
     "data": {
      "text/plain": [
       "True"
      ]
     },
     "execution_count": 28,
     "metadata": {},
     "output_type": "execute_result"
    }
   ],
   "source": [
    "poligono == poligono_2"
   ]
  },
  {
   "cell_type": "markdown",
   "metadata": {},
   "source": [
    "Vamos imprimir e ver o tipo do objeto linha para ver a sua definição:"
   ]
  },
  {
   "cell_type": "code",
   "execution_count": 29,
   "metadata": {},
   "outputs": [
    {
     "name": "stdout",
     "output_type": "stream",
     "text": [
      "POLYGON ((2 3, 5 7, 2 10, 2 3))\n"
     ]
    }
   ],
   "source": [
    "print(poligono)"
   ]
  },
  {
   "cell_type": "code",
   "execution_count": 30,
   "metadata": {},
   "outputs": [
    {
     "data": {
      "text/plain": [
       "shapely.geometry.polygon.Polygon"
      ]
     },
     "execution_count": 30,
     "metadata": {},
     "output_type": "execute_result"
    }
   ],
   "source": [
    "type(poligono)"
   ]
  },
  {
   "cell_type": "markdown",
   "metadata": {},
   "source": [
    "Perceba que a representação do `Polygon` possui dois parentesis ao redor das coordendas (ex.: `POLYGON ((<coordenadas>))`). Isso acontece porque o objeto `Polygon` pode ter aberturas (buracos) dentro dele. Vamos definir o mesmo polígono com uma abertura interna."
   ]
  },
  {
   "cell_type": "code",
   "execution_count": 31,
   "metadata": {},
   "outputs": [
    {
     "data": {
      "image/svg+xml": [
       "<svg xmlns=\"http://www.w3.org/2000/svg\" xmlns:xlink=\"http://www.w3.org/1999/xlink\" width=\"100.0\" height=\"100.0\" viewBox=\"-0.4 -0.4 10.8 10.8\" preserveAspectRatio=\"xMinYMin meet\"><g transform=\"matrix(1,0,0,-1,0,10.0)\"><path fill-rule=\"evenodd\" fill=\"#66cc99\" stroke=\"#555555\" stroke-width=\"0.21600000000000003\" opacity=\"0.6\" d=\"M 0.0,0.0 L 0.0,10.0 L 10.0,10.0 L 10.0,0.0 L 0.0,0.0 z\" /></g></svg>"
      ],
      "text/plain": [
       "<shapely.geometry.polygon.Polygon at 0x7f05cc40ef10>"
      ]
     },
     "execution_count": 31,
     "metadata": {},
     "output_type": "execute_result"
    }
   ],
   "source": [
    "# vamos criar um quadro maior\n",
    "quadrado = Polygon([(0, 0), (0, 10), (10, 10), (10, 0)])\n",
    "\n",
    "quadrado"
   ]
  },
  {
   "cell_type": "code",
   "execution_count": 32,
   "metadata": {},
   "outputs": [
    {
     "data": {
      "image/svg+xml": [
       "<svg xmlns=\"http://www.w3.org/2000/svg\" xmlns:xlink=\"http://www.w3.org/1999/xlink\" width=\"100.0\" height=\"100.0\" viewBox=\"2.3 2.3 5.4 5.4\" preserveAspectRatio=\"xMinYMin meet\"><g transform=\"matrix(1,0,0,-1,0,10.0)\"><path fill-rule=\"evenodd\" fill=\"#66cc99\" stroke=\"#555555\" stroke-width=\"0.10800000000000001\" opacity=\"0.6\" d=\"M 2.5,2.5 L 2.5,7.5 L 7.5,7.5 L 7.5,2.5 L 2.5,2.5 z\" /></g></svg>"
      ],
      "text/plain": [
       "<shapely.geometry.polygon.Polygon at 0x7f05cc40e5d0>"
      ]
     },
     "execution_count": 32,
     "metadata": {},
     "output_type": "execute_result"
    }
   ],
   "source": [
    "# vamos criar um quadro menor\n",
    "quadrado_menor = Polygon([(2.5, 2.5), (2.5, 7.5), (7.5, 7.5), (7.5, 2.5)])\n",
    "\n",
    "quadrado_menor"
   ]
  },
  {
   "cell_type": "markdown",
   "metadata": {},
   "source": [
    "Como pegar as coordenadas do polígono?"
   ]
  },
  {
   "cell_type": "code",
   "execution_count": 33,
   "metadata": {},
   "outputs": [
    {
     "data": {
      "text/plain": [
       "[(0.0, 0.0), (0.0, 10.0), (10.0, 10.0), (10.0, 0.0), (0.0, 0.0)]"
      ]
     },
     "execution_count": 33,
     "metadata": {},
     "output_type": "execute_result"
    }
   ],
   "source": [
    "list(quadrado.exterior.coords)"
   ]
  },
  {
   "cell_type": "code",
   "execution_count": 34,
   "metadata": {},
   "outputs": [
    {
     "data": {
      "image/svg+xml": [
       "<svg xmlns=\"http://www.w3.org/2000/svg\" xmlns:xlink=\"http://www.w3.org/1999/xlink\" width=\"100.0\" height=\"100.0\" viewBox=\"-0.4 -0.4 10.8 10.8\" preserveAspectRatio=\"xMinYMin meet\"><g transform=\"matrix(1,0,0,-1,0,10.0)\"><path fill-rule=\"evenodd\" fill=\"#66cc99\" stroke=\"#555555\" stroke-width=\"0.21600000000000003\" opacity=\"0.6\" d=\"M 0.0,0.0 L 0.0,10.0 L 10.0,10.0 L 10.0,0.0 L 0.0,0.0 z M 2.5,2.5 L 2.5,7.5 L 7.5,7.5 L 7.5,2.5 L 2.5,2.5 z\" /></g></svg>"
      ],
      "text/plain": [
       "<shapely.geometry.polygon.Polygon at 0x7f05cc415950>"
      ]
     },
     "execution_count": 34,
     "metadata": {},
     "output_type": "execute_result"
    }
   ],
   "source": [
    "# criar o polígono combinando os dois quadrados\n",
    "poligono_buraco = Polygon(shell=list(quadrado.exterior.coords), \n",
    "                          holes=[list(quadrado_menor.exterior.coords)])\n",
    "\n",
    "poligono_buraco"
   ]
  },
  {
   "cell_type": "code",
   "execution_count": 35,
   "metadata": {},
   "outputs": [
    {
     "name": "stdout",
     "output_type": "stream",
     "text": [
      "POLYGON ((0 0, 0 10, 10 10, 10 0, 0 0), (2.5 2.5, 2.5 7.5, 7.5 7.5, 7.5 2.5, 2.5 2.5))\n"
     ]
    }
   ],
   "source": [
    "print(poligono_buraco)"
   ]
  },
  {
   "cell_type": "markdown",
   "metadata": {},
   "source": [
    "### Polígonos - Atributos e funções"
   ]
  },
  {
   "cell_type": "markdown",
   "metadata": {},
   "source": [
    "Podemos acessar diferentes funções diretamente do objeto `Polygon`, que são úteis para muitas tarefas e análises, como: obter área, centróide, _bounding box_, o exterior e o perímetro (tamanho exterior).\n",
    "\n",
    "Aqui, podemos ver alguns atributos disponíveis e como acessá-los:"
   ]
  },
  {
   "cell_type": "code",
   "execution_count": 36,
   "metadata": {},
   "outputs": [
    {
     "name": "stdout",
     "output_type": "stream",
     "text": [
      "Área: 100.0\n"
     ]
    }
   ],
   "source": [
    "# calcular a área\n",
    "poligono_area = quadrado.area\n",
    "\n",
    "print(\"Área:\", poligono_area)"
   ]
  },
  {
   "cell_type": "code",
   "execution_count": 37,
   "metadata": {},
   "outputs": [
    {
     "ename": "NameError",
     "evalue": "name 'poly_centroid' is not defined",
     "output_type": "error",
     "traceback": [
      "\u001b[0;31m---------------------------------------------------------------------------\u001b[0m",
      "\u001b[0;31mNameError\u001b[0m                                 Traceback (most recent call last)",
      "\u001b[0;32m<ipython-input-37-6da0b17bc797>\u001b[0m in \u001b[0;36m<module>\u001b[0;34m\u001b[0m\n\u001b[1;32m      2\u001b[0m \u001b[0mpoligono_centroid\u001b[0m \u001b[0;34m=\u001b[0m \u001b[0mquadrado\u001b[0m\u001b[0;34m.\u001b[0m\u001b[0mcentroid\u001b[0m\u001b[0;34m\u001b[0m\u001b[0;34m\u001b[0m\u001b[0m\n\u001b[1;32m      3\u001b[0m \u001b[0;34m\u001b[0m\u001b[0m\n\u001b[0;32m----> 4\u001b[0;31m \u001b[0mprint\u001b[0m\u001b[0;34m(\u001b[0m\u001b[0;34m\"Centróide:\"\u001b[0m\u001b[0;34m,\u001b[0m \u001b[0mpoly_centroid\u001b[0m\u001b[0;34m)\u001b[0m\u001b[0;34m\u001b[0m\u001b[0;34m\u001b[0m\u001b[0m\n\u001b[0m",
      "\u001b[0;31mNameError\u001b[0m: name 'poly_centroid' is not defined"
     ]
    }
   ],
   "source": [
    "# pegar o centroide do polígono\n",
    "poligono_centroid = quadrado.centroid\n",
    "\n",
    "print(\"Centróide:\", poly_centroid)"
   ]
  },
  {
   "cell_type": "code",
   "execution_count": 38,
   "metadata": {},
   "outputs": [
    {
     "name": "stdout",
     "output_type": "stream",
     "text": [
      "Bounding Box: (0.0, 0.0, 10.0, 10.0)\n"
     ]
    }
   ],
   "source": [
    "# obter as coordenadas dos pontos de fronteira (bounding box)\n",
    "poligono_bbox = quadrado.bounds\n",
    "\n",
    "print(\"Bounding Box:\", poligono_bbox)"
   ]
  },
  {
   "cell_type": "code",
   "execution_count": 39,
   "metadata": {},
   "outputs": [
    {
     "name": "stdout",
     "output_type": "stream",
     "text": [
      "Exterior: LINEARRING (0 0, 0 10, 10 10, 10 0, 0 0)\n"
     ]
    }
   ],
   "source": [
    "# pegar as coordenadas da linha exterior\n",
    "poligono_exterior = quadrado.exterior\n",
    "\n",
    "print(\"Exterior:\", poligono_exterior)"
   ]
  },
  {
   "cell_type": "code",
   "execution_count": 40,
   "metadata": {},
   "outputs": [
    {
     "name": "stdout",
     "output_type": "stream",
     "text": [
      "Comprimento exterior: 40.0\n"
     ]
    }
   ],
   "source": [
    "# obter o tamanho da linha exterior\n",
    "poligono_exterior_length = quadrado.exterior.length\n",
    "\n",
    "print(\"Comprimento exterior:\", poligono_exterior_length)"
   ]
  },
  {
   "cell_type": "markdown",
   "metadata": {},
   "source": [
    "# 2. Operações básicas entre geometrias"
   ]
  },
  {
   "cell_type": "code",
   "execution_count": 53,
   "metadata": {},
   "outputs": [
    {
     "data": {
      "image/svg+xml": [
       "<svg xmlns=\"http://www.w3.org/2000/svg\" xmlns:xlink=\"http://www.w3.org/1999/xlink\" width=\"100.0\" height=\"100.0\" viewBox=\"0.92 -0.08 2.16 2.16\" preserveAspectRatio=\"xMinYMin meet\"><g transform=\"matrix(1,0,0,-1,0,2.0)\"><path fill-rule=\"evenodd\" fill=\"#66cc99\" stroke=\"#555555\" stroke-width=\"0.0432\" opacity=\"0.6\" d=\"M 3.0,1.0 L 2.995184726672197,0.9019828596704395 L 2.9807852804032304,0.8049096779838719 L 2.956940335732209,0.709715322745538 L 2.923879532511287,0.6173165676349106 L 2.8819212643483554,0.5286032631740027 L 2.831469612302546,0.44442976698039827 L 2.7730104533627373,0.36560671583635507 L 2.707106781186548,0.2928932188134531 L 2.634393284163646,0.22698954663726367 L 2.555570233019603,0.16853038769745532 L 2.471396736825999,0.1180787356516455 L 2.382683432365091,0.0761204674887137 L 2.290284677254464,0.04305966426779151 L 2.1950903220161297,0.01921471959676979 L 2.098017140329562,0.004815273327803293 L 2.0000000000000018,0.0 L 1.9019828596704411,0.00481527332780296 L 1.8049096779838736,0.019214719596769236 L 1.7097153227455395,0.04305966426779062 L 1.6173165676349122,0.07612046748871248 L 1.5286032631740043,0.11807873565164395 L 1.4444297669803996,0.16853038769745365 L 1.365606715836356,0.22698954663726179 L 1.2928932188134539,0.2928932188134512 L 1.226989546637264,0.3656067158363532 L 1.1685303876974555,0.4444297669803964 L 1.1180787356516457,0.528603263174001 L 1.076120467488714,0.6173165676349088 L 1.0430596642677914,0.7097153227455364 L 1.0192147195967698,0.8049096779838705 L 1.0048152733278033,0.9019828596704382 L 1.0,0.999999999999999 L 1.004815273327803,1.0980171403295598 L 1.0192147195967693,1.1950903220161275 L 1.043059664267791,1.2902846772544616 L 1.076120467488713,1.3826834323650892 L 1.1180787356516446,1.4713967368259973 L 1.1685303876974547,1.555570233019602 L 1.226989546637263,1.6343932841636453 L 1.2928932188134523,1.7071067811865475 L 1.365606715836354,1.7730104533627367 L 1.444429766980397,1.831469612302545 L 1.5286032631740012,1.8819212643483545 L 1.6173165676349088,1.923879532511286 L 1.709715322745536,1.9569403357322084 L 1.8049096779838696,1.98078528040323 L 1.901982859670437,1.9951847266721967 L 1.9999999999999971,2.0 L 2.0980171403295573,1.9951847266721972 L 2.195090322016125,1.980785280403231 L 2.2902846772544585,1.95694033573221 L 2.382683432365086,1.9238795325112883 L 2.4713967368259935,1.8819212643483572 L 2.555570233019598,1.831469612302548 L 2.6343932841636413,1.7730104533627402 L 2.7071067811865435,1.7071067811865515 L 2.7730104533627333,1.6343932841636502 L 2.831469612302542,1.5555702330196075 L 2.881921264348352,1.4713967368260035 L 2.9238795325112843,1.3826834323650963 L 2.956940335732207,1.2902846772544692 L 2.980785280403229,1.1950903220161357 L 2.9951847266721963,1.0980171403295684 L 3.0,1.0000000000000082 L 3.0,1.0 z\" /></g></svg>"
      ],
      "text/plain": [
       "<shapely.geometry.polygon.Polygon at 0x7f0505b702d0>"
      ]
     },
     "execution_count": 53,
     "metadata": {},
     "output_type": "execute_result"
    }
   ],
   "source": [
    "# vamos criar dois círculos\n",
    "circulo_1 = Point(1,1).buffer(1)\n",
    "circulo_2 = Point(2,1).buffer(1)\n",
    "\n",
    "circulo_2"
   ]
  },
  {
   "cell_type": "markdown",
   "metadata": {},
   "source": [
    "Vamos mostrar os dois círculos com a biblioteca matplotlib"
   ]
  },
  {
   "cell_type": "code",
   "execution_count": 68,
   "metadata": {},
   "outputs": [],
   "source": [
    "# importar a biblioteca matplotlib\n",
    "import matplotlib.pyplot as plt"
   ]
  },
  {
   "cell_type": "code",
   "execution_count": 57,
   "metadata": {},
   "outputs": [
    {
     "data": {
      "image/png": "[encoded data removed]",
      "text/plain": [
       "<Figure size 432x288 with 1 Axes>"
      ]
     },
     "metadata": {
      "needs_background": "light"
     },
     "output_type": "display_data"
    }
   ],
   "source": [
    "# plotar o círculo 1 \n",
    "x,y = circulo_1.exterior.xy\n",
    "plt.plot(x,y)\n",
    "\n",
    "# plotar o círculo 2\n",
    "x,y = circulo_2.exterior.xy\n",
    "plt.plot(x,y)\n",
    "\n",
    "plt.show()"
   ]
  },
  {
   "cell_type": "markdown",
   "metadata": {},
   "source": [
    "## 2.1. Interseção"
   ]
  },
  {
   "cell_type": "code",
   "execution_count": 59,
   "metadata": {},
   "outputs": [
    {
     "data": {
      "image/svg+xml": [
       "<svg xmlns=\"http://www.w3.org/2000/svg\" xmlns:xlink=\"http://www.w3.org/1999/xlink\" width=\"100.0\" height=\"100.0\" viewBox=\"0.9308178297460941 0.0660407015722697 1.138364340507812 1.8679185968554608\" preserveAspectRatio=\"xMinYMin meet\"><g transform=\"matrix(1,0,0,-1,0,2.0)\"><path fill-rule=\"evenodd\" fill=\"#66cc99\" stroke=\"#555555\" stroke-width=\"0.03735837193710922\" opacity=\"0.6\" d=\"M 2.0,1.0 L 1.995184726672197,0.9019828596704395 L 1.9807852804032304,0.8049096779838719 L 1.956940335732209,0.709715322745538 L 1.923879532511287,0.6173165676349106 L 1.8819212643483554,0.5286032631740027 L 1.8314696123025456,0.44442976698039827 L 1.7730104533627373,0.36560671583635507 L 1.7071067811865481,0.2928932188134531 L 1.6343932841636462,0.22698954663726367 L 1.555570233019603,0.16853038769745532 L 1.5,0.13522287182617565 L 1.4444297669803996,0.16853038769745365 L 1.365606715836356,0.22698954663726179 L 1.2928932188134539,0.2928932188134512 L 1.226989546637264,0.3656067158363532 L 1.1685303876974555,0.4444297669803964 L 1.1180787356516457,0.528603263174001 L 1.076120467488714,0.6173165676349088 L 1.0430596642677914,0.7097153227455364 L 1.0192147195967698,0.8049096779838705 L 1.0048152733278033,0.9019828596704382 L 1.0,0.999999999999999 L 1.004815273327803,1.0980171403295598 L 1.0192147195967693,1.1950903220161275 L 1.043059664267791,1.2902846772544616 L 1.076120467488713,1.3826834323650892 L 1.1180787356516446,1.4713967368259973 L 1.1685303876974547,1.555570233019602 L 1.226989546637263,1.6343932841636453 L 1.2928932188134523,1.7071067811865475 L 1.365606715836354,1.7730104533627367 L 1.444429766980397,1.831469612302545 L 1.4999999999999998,1.8647771281738246 L 1.5555702330195982,1.831469612302548 L 1.6343932841636415,1.7730104533627402 L 1.7071067811865435,1.7071067811865515 L 1.7730104533627333,1.6343932841636502 L 1.8314696123025418,1.5555702330196075 L 1.8819212643483518,1.4713967368260035 L 1.923879532511284,1.3826834323650963 L 1.9569403357322068,1.2902846772544692 L 1.980785280403229,1.1950903220161357 L 1.9951847266721963,1.0980171403295684 L 2.0,1.0000000000000082 L 2.0,1.0 z\" /></g></svg>"
      ],
      "text/plain": [
       "<shapely.geometry.polygon.Polygon at 0x7f0506396ad0>"
      ]
     },
     "execution_count": 59,
     "metadata": {},
     "output_type": "execute_result"
    }
   ],
   "source": [
    "# operação de interseção\n",
    "circulo_inter = circulo_1.intersection(circulo_2)\n",
    "\n",
    "circulo_inter"
   ]
  },
  {
   "cell_type": "markdown",
   "metadata": {},
   "source": [
    "## 2.2. União"
   ]
  },
  {
   "cell_type": "code",
   "execution_count": 62,
   "metadata": {},
   "outputs": [
    {
     "data": {
      "image/svg+xml": [
       "<svg xmlns=\"http://www.w3.org/2000/svg\" xmlns:xlink=\"http://www.w3.org/1999/xlink\" width=\"100.0\" height=\"100.0\" viewBox=\"-0.12 -0.12 3.24 2.24\" preserveAspectRatio=\"xMinYMin meet\"><g transform=\"matrix(1,0,0,-1,0,2.0)\"><path fill-rule=\"evenodd\" fill=\"#66cc99\" stroke=\"#555555\" stroke-width=\"0.06480000000000001\" opacity=\"0.6\" d=\"M 1.5,0.13522287182617565 L 1.4713967368259986,0.1180787356516455 L 1.382683432365091,0.0761204674887137 L 1.2902846772544636,0.04305966426779151 L 1.1950903220161297,0.01921471959676979 L 1.098017140329562,0.004815273327803293 L 1.0000000000000016,0.0 L 0.9019828596704411,0.00481527332780296 L 0.8049096779838736,0.019214719596769236 L 0.7097153227455395,0.04305966426779062 L 0.6173165676349122,0.07612046748871248 L 0.5286032631740043,0.11807873565164395 L 0.4444297669803995,0.16853038769745365 L 0.36560671583635607,0.22698954663726179 L 0.29289321881345376,0.2928932188134512 L 0.22698954663726412,0.3656067158363532 L 0.16853038769745565,0.4444297669803964 L 0.11807873565164573,0.528603263174001 L 0.07612046748871382,0.6173165676349088 L 0.04305966426779151,0.7097153227455364 L 0.01921471959676979,0.8049096779838705 L 0.004815273327803182,0.9019828596704382 L 0.0,0.999999999999999 L 0.004815273327803071,1.0980171403295598 L 0.019214719596769347,1.1950903220161275 L 0.043059664267790954,1.2902846772544616 L 0.07612046748871304,1.3826834323650892 L 0.11807873565164473,1.4713967368259973 L 0.16853038769745454,1.555570233019602 L 0.2269895466372629,1.6343932841636453 L 0.2928932188134523,1.7071067811865475 L 0.36560671583635407,1.7730104533627367 L 0.44442976698039705,1.831469612302545 L 0.5286032631740013,1.8819212643483545 L 0.6173165676349088,1.923879532511286 L 0.709715322745536,1.9569403357322084 L 0.8049096779838696,1.98078528040323 L 0.9019828596704369,1.9951847266721967 L 0.9999999999999971,2.0 L 1.0980171403295573,1.9951847266721972 L 1.1950903220161249,1.980785280403231 L 1.2902846772544587,1.95694033573221 L 1.3826834323650858,1.9238795325112883 L 1.4713967368259937,1.8819212643483572 L 1.4999999999999998,1.8647771281738246 L 1.5286032631740012,1.8819212643483545 L 1.6173165676349088,1.923879532511286 L 1.709715322745536,1.9569403357322084 L 1.8049096779838696,1.98078528040323 L 1.901982859670437,1.9951847266721967 L 1.9999999999999971,2.0 L 2.0980171403295573,1.9951847266721972 L 2.195090322016125,1.980785280403231 L 2.2902846772544585,1.95694033573221 L 2.382683432365086,1.9238795325112883 L 2.4713967368259935,1.8819212643483572 L 2.555570233019598,1.831469612302548 L 2.6343932841636413,1.7730104533627402 L 2.7071067811865435,1.7071067811865515 L 2.7730104533627333,1.6343932841636502 L 2.831469612302542,1.5555702330196075 L 2.881921264348352,1.4713967368260035 L 2.9238795325112843,1.3826834323650963 L 2.956940335732207,1.2902846772544692 L 2.980785280403229,1.1950903220161357 L 2.9951847266721963,1.0980171403295684 L 3.0,1.0000000000000082 L 3.0,1.0 L 2.995184726672197,0.9019828596704395 L 2.9807852804032304,0.8049096779838719 L 2.956940335732209,0.709715322745538 L 2.923879532511287,0.6173165676349106 L 2.8819212643483554,0.5286032631740027 L 2.831469612302546,0.44442976698039827 L 2.7730104533627373,0.36560671583635507 L 2.707106781186548,0.2928932188134531 L 2.634393284163646,0.22698954663726367 L 2.555570233019603,0.16853038769745532 L 2.471396736825999,0.1180787356516455 L 2.382683432365091,0.0761204674887137 L 2.290284677254464,0.04305966426779151 L 2.1950903220161297,0.01921471959676979 L 2.098017140329562,0.004815273327803293 L 2.0000000000000018,0.0 L 1.9019828596704411,0.00481527332780296 L 1.8049096779838736,0.019214719596769236 L 1.7097153227455395,0.04305966426779062 L 1.6173165676349122,0.07612046748871248 L 1.5286032631740043,0.11807873565164395 L 1.5,0.13522287182617565 z\" /></g></svg>"
      ],
      "text/plain": [
       "<shapely.geometry.polygon.Polygon at 0x7f05063ae7d0>"
      ]
     },
     "execution_count": 62,
     "metadata": {},
     "output_type": "execute_result"
    }
   ],
   "source": [
    "# operação de união\n",
    "circulo_union = circulo_1.union(circulo_2)\n",
    "\n",
    "circulo_union"
   ]
  },
  {
   "cell_type": "markdown",
   "metadata": {},
   "source": [
    "## 2.3. Diferença"
   ]
  },
  {
   "cell_type": "code",
   "execution_count": 63,
   "metadata": {},
   "outputs": [
    {
     "data": {
      "image/svg+xml": [
       "<svg xmlns=\"http://www.w3.org/2000/svg\" xmlns:xlink=\"http://www.w3.org/1999/xlink\" width=\"100.0\" height=\"100.0\" viewBox=\"-0.08 -0.08 1.6600000000000001 2.16\" preserveAspectRatio=\"xMinYMin meet\"><g transform=\"matrix(1,0,0,-1,0,2.0)\"><path fill-rule=\"evenodd\" fill=\"#66cc99\" stroke=\"#555555\" stroke-width=\"0.0432\" opacity=\"0.6\" d=\"M 1.5,0.13522287182617565 L 1.4713967368259986,0.1180787356516455 L 1.382683432365091,0.0761204674887137 L 1.2902846772544636,0.04305966426779151 L 1.1950903220161297,0.01921471959676979 L 1.098017140329562,0.004815273327803293 L 1.0000000000000016,0.0 L 0.9019828596704411,0.00481527332780296 L 0.8049096779838736,0.019214719596769236 L 0.7097153227455395,0.04305966426779062 L 0.6173165676349122,0.07612046748871248 L 0.5286032631740043,0.11807873565164395 L 0.4444297669803995,0.16853038769745365 L 0.36560671583635607,0.22698954663726179 L 0.29289321881345376,0.2928932188134512 L 0.22698954663726412,0.3656067158363532 L 0.16853038769745565,0.4444297669803964 L 0.11807873565164573,0.528603263174001 L 0.07612046748871382,0.6173165676349088 L 0.04305966426779151,0.7097153227455364 L 0.01921471959676979,0.8049096779838705 L 0.004815273327803182,0.9019828596704382 L 0.0,0.999999999999999 L 0.004815273327803071,1.0980171403295598 L 0.019214719596769347,1.1950903220161275 L 0.043059664267790954,1.2902846772544616 L 0.07612046748871304,1.3826834323650892 L 0.11807873565164473,1.4713967368259973 L 0.16853038769745454,1.555570233019602 L 0.2269895466372629,1.6343932841636453 L 0.2928932188134523,1.7071067811865475 L 0.36560671583635407,1.7730104533627367 L 0.44442976698039705,1.831469612302545 L 0.5286032631740013,1.8819212643483545 L 0.6173165676349088,1.923879532511286 L 0.709715322745536,1.9569403357322084 L 0.8049096779838696,1.98078528040323 L 0.9019828596704369,1.9951847266721967 L 0.9999999999999971,2.0 L 1.0980171403295573,1.9951847266721972 L 1.1950903220161249,1.980785280403231 L 1.2902846772544587,1.95694033573221 L 1.3826834323650858,1.9238795325112883 L 1.4713967368259937,1.8819212643483572 L 1.4999999999999998,1.8647771281738246 L 1.444429766980397,1.831469612302545 L 1.365606715836354,1.7730104533627367 L 1.2928932188134523,1.7071067811865475 L 1.226989546637263,1.6343932841636453 L 1.1685303876974547,1.555570233019602 L 1.1180787356516446,1.4713967368259973 L 1.076120467488713,1.3826834323650892 L 1.043059664267791,1.2902846772544616 L 1.0192147195967693,1.1950903220161275 L 1.004815273327803,1.0980171403295598 L 1.0,0.999999999999999 L 1.0048152733278033,0.9019828596704382 L 1.0192147195967698,0.8049096779838705 L 1.0430596642677914,0.7097153227455364 L 1.076120467488714,0.6173165676349088 L 1.1180787356516457,0.528603263174001 L 1.1685303876974555,0.4444297669803964 L 1.226989546637264,0.3656067158363532 L 1.2928932188134539,0.2928932188134512 L 1.365606715836356,0.22698954663726179 L 1.4444297669803996,0.16853038769745365 L 1.5,0.13522287182617565 z\" /></g></svg>"
      ],
      "text/plain": [
       "<shapely.geometry.polygon.Polygon at 0x7f0506396a90>"
      ]
     },
     "execution_count": 63,
     "metadata": {},
     "output_type": "execute_result"
    }
   ],
   "source": [
    "# operação de diferença\n",
    "circulo_diff_1 = circulo_1.difference(circulo_2)\n",
    "\n",
    "circulo_diff_1"
   ]
  },
  {
   "cell_type": "code",
   "execution_count": 64,
   "metadata": {},
   "outputs": [
    {
     "data": {
      "image/svg+xml": [
       "<svg xmlns=\"http://www.w3.org/2000/svg\" xmlns:xlink=\"http://www.w3.org/1999/xlink\" width=\"100.0\" height=\"100.0\" viewBox=\"1.4199999999999997 -0.08 1.6600000000000004 2.16\" preserveAspectRatio=\"xMinYMin meet\"><g transform=\"matrix(1,0,0,-1,0,2.0)\"><path fill-rule=\"evenodd\" fill=\"#66cc99\" stroke=\"#555555\" stroke-width=\"0.0432\" opacity=\"0.6\" d=\"M 3.0,1.0 L 2.995184726672197,0.9019828596704395 L 2.9807852804032304,0.8049096779838719 L 2.956940335732209,0.709715322745538 L 2.923879532511287,0.6173165676349106 L 2.8819212643483554,0.5286032631740027 L 2.831469612302546,0.44442976698039827 L 2.7730104533627373,0.36560671583635507 L 2.707106781186548,0.2928932188134531 L 2.634393284163646,0.22698954663726367 L 2.555570233019603,0.16853038769745532 L 2.471396736825999,0.1180787356516455 L 2.382683432365091,0.0761204674887137 L 2.290284677254464,0.04305966426779151 L 2.1950903220161297,0.01921471959676979 L 2.098017140329562,0.004815273327803293 L 2.0000000000000018,0.0 L 1.9019828596704411,0.00481527332780296 L 1.8049096779838736,0.019214719596769236 L 1.7097153227455395,0.04305966426779062 L 1.6173165676349122,0.07612046748871248 L 1.5286032631740043,0.11807873565164395 L 1.5,0.13522287182617565 L 1.555570233019603,0.16853038769745532 L 1.6343932841636462,0.22698954663726367 L 1.7071067811865481,0.2928932188134531 L 1.7730104533627373,0.36560671583635507 L 1.8314696123025456,0.44442976698039827 L 1.8819212643483554,0.5286032631740027 L 1.923879532511287,0.6173165676349106 L 1.956940335732209,0.709715322745538 L 1.9807852804032304,0.8049096779838719 L 1.995184726672197,0.9019828596704395 L 2.0,1.0 L 2.0,1.0000000000000082 L 1.9951847266721963,1.0980171403295684 L 1.980785280403229,1.1950903220161357 L 1.9569403357322068,1.2902846772544692 L 1.923879532511284,1.3826834323650963 L 1.8819212643483518,1.4713967368260035 L 1.8314696123025418,1.5555702330196075 L 1.7730104533627333,1.6343932841636502 L 1.7071067811865435,1.7071067811865515 L 1.6343932841636415,1.7730104533627402 L 1.5555702330195982,1.831469612302548 L 1.4999999999999998,1.8647771281738246 L 1.5286032631740012,1.8819212643483545 L 1.6173165676349088,1.923879532511286 L 1.709715322745536,1.9569403357322084 L 1.8049096779838696,1.98078528040323 L 1.901982859670437,1.9951847266721967 L 1.9999999999999971,2.0 L 2.0980171403295573,1.9951847266721972 L 2.195090322016125,1.980785280403231 L 2.2902846772544585,1.95694033573221 L 2.382683432365086,1.9238795325112883 L 2.4713967368259935,1.8819212643483572 L 2.555570233019598,1.831469612302548 L 2.6343932841636413,1.7730104533627402 L 2.7071067811865435,1.7071067811865515 L 2.7730104533627333,1.6343932841636502 L 2.831469612302542,1.5555702330196075 L 2.881921264348352,1.4713967368260035 L 2.9238795325112843,1.3826834323650963 L 2.956940335732207,1.2902846772544692 L 2.980785280403229,1.1950903220161357 L 2.9951847266721963,1.0980171403295684 L 3.0,1.0000000000000082 L 3.0,1.0 z\" /></g></svg>"
      ],
      "text/plain": [
       "<shapely.geometry.polygon.Polygon at 0x7f0506189d10>"
      ]
     },
     "execution_count": 64,
     "metadata": {},
     "output_type": "execute_result"
    }
   ],
   "source": [
    "# operação de diferença\n",
    "circulo_diff_2 = circulo_2.difference(circulo_1)\n",
    "\n",
    "circulo_diff_2"
   ]
  },
  {
   "cell_type": "markdown",
   "metadata": {},
   "source": [
    "## 2.4. Diferença Simétrica"
   ]
  },
  {
   "cell_type": "code",
   "execution_count": 67,
   "metadata": {},
   "outputs": [
    {
     "data": {
      "image/svg+xml": [
       "<svg xmlns=\"http://www.w3.org/2000/svg\" xmlns:xlink=\"http://www.w3.org/1999/xlink\" width=\"100.0\" height=\"100.0\" viewBox=\"-0.12 -0.12 3.24 2.24\" preserveAspectRatio=\"xMinYMin meet\"><g transform=\"matrix(1,0,0,-1,0,2.0)\"><g><path fill-rule=\"evenodd\" fill=\"#66cc99\" stroke=\"#555555\" stroke-width=\"0.06480000000000001\" opacity=\"0.6\" d=\"M 1.5,0.13522287182617565 L 1.555570233019603,0.16853038769745532 L 1.6343932841636462,0.22698954663726367 L 1.7071067811865481,0.2928932188134531 L 1.7730104533627373,0.36560671583635507 L 1.8314696123025456,0.44442976698039827 L 1.8819212643483554,0.5286032631740027 L 1.923879532511287,0.6173165676349106 L 1.956940335732209,0.709715322745538 L 1.9807852804032304,0.8049096779838719 L 1.995184726672197,0.9019828596704395 L 2.0,1.0 L 2.0,1.0000000000000082 L 1.9951847266721963,1.0980171403295684 L 1.980785280403229,1.1950903220161357 L 1.9569403357322068,1.2902846772544692 L 1.923879532511284,1.3826834323650963 L 1.8819212643483518,1.4713967368260035 L 1.8314696123025418,1.5555702330196075 L 1.7730104533627333,1.6343932841636502 L 1.7071067811865435,1.7071067811865515 L 1.6343932841636415,1.7730104533627402 L 1.5555702330195982,1.831469612302548 L 1.4999999999999998,1.8647771281738246 L 1.5286032631740012,1.8819212643483545 L 1.6173165676349088,1.923879532511286 L 1.709715322745536,1.9569403357322084 L 1.8049096779838696,1.98078528040323 L 1.901982859670437,1.9951847266721967 L 1.9999999999999971,2.0 L 2.0980171403295573,1.9951847266721972 L 2.195090322016125,1.980785280403231 L 2.2902846772544585,1.95694033573221 L 2.382683432365086,1.9238795325112883 L 2.4713967368259935,1.8819212643483572 L 2.555570233019598,1.831469612302548 L 2.6343932841636413,1.7730104533627402 L 2.7071067811865435,1.7071067811865515 L 2.7730104533627333,1.6343932841636502 L 2.831469612302542,1.5555702330196075 L 2.881921264348352,1.4713967368260035 L 2.9238795325112843,1.3826834323650963 L 2.956940335732207,1.2902846772544692 L 2.980785280403229,1.1950903220161357 L 2.9951847266721963,1.0980171403295684 L 3.0,1.0000000000000082 L 3.0,1.0 L 2.995184726672197,0.9019828596704395 L 2.9807852804032304,0.8049096779838719 L 2.956940335732209,0.709715322745538 L 2.923879532511287,0.6173165676349106 L 2.8819212643483554,0.5286032631740027 L 2.831469612302546,0.44442976698039827 L 2.7730104533627373,0.36560671583635507 L 2.707106781186548,0.2928932188134531 L 2.634393284163646,0.22698954663726367 L 2.555570233019603,0.16853038769745532 L 2.471396736825999,0.1180787356516455 L 2.382683432365091,0.0761204674887137 L 2.290284677254464,0.04305966426779151 L 2.1950903220161297,0.01921471959676979 L 2.098017140329562,0.004815273327803293 L 2.0000000000000018,0.0 L 1.9019828596704411,0.00481527332780296 L 1.8049096779838736,0.019214719596769236 L 1.7097153227455395,0.04305966426779062 L 1.6173165676349122,0.07612046748871248 L 1.5286032631740043,0.11807873565164395 L 1.5,0.13522287182617565 z\" /><path fill-rule=\"evenodd\" fill=\"#66cc99\" stroke=\"#555555\" stroke-width=\"0.06480000000000001\" opacity=\"0.6\" d=\"M 1.5,0.13522287182617565 L 1.4713967368259986,0.1180787356516455 L 1.382683432365091,0.0761204674887137 L 1.2902846772544636,0.04305966426779151 L 1.1950903220161297,0.01921471959676979 L 1.098017140329562,0.004815273327803293 L 1.0000000000000016,0.0 L 0.9019828596704411,0.00481527332780296 L 0.8049096779838736,0.019214719596769236 L 0.7097153227455395,0.04305966426779062 L 0.6173165676349122,0.07612046748871248 L 0.5286032631740043,0.11807873565164395 L 0.4444297669803995,0.16853038769745365 L 0.36560671583635607,0.22698954663726179 L 0.29289321881345376,0.2928932188134512 L 0.22698954663726412,0.3656067158363532 L 0.16853038769745565,0.4444297669803964 L 0.11807873565164573,0.528603263174001 L 0.07612046748871382,0.6173165676349088 L 0.04305966426779151,0.7097153227455364 L 0.01921471959676979,0.8049096779838705 L 0.004815273327803182,0.9019828596704382 L 0.0,0.999999999999999 L 0.004815273327803071,1.0980171403295598 L 0.019214719596769347,1.1950903220161275 L 0.043059664267790954,1.2902846772544616 L 0.07612046748871304,1.3826834323650892 L 0.11807873565164473,1.4713967368259973 L 0.16853038769745454,1.555570233019602 L 0.2269895466372629,1.6343932841636453 L 0.2928932188134523,1.7071067811865475 L 0.36560671583635407,1.7730104533627367 L 0.44442976698039705,1.831469612302545 L 0.5286032631740013,1.8819212643483545 L 0.6173165676349088,1.923879532511286 L 0.709715322745536,1.9569403357322084 L 0.8049096779838696,1.98078528040323 L 0.9019828596704369,1.9951847266721967 L 0.9999999999999971,2.0 L 1.0980171403295573,1.9951847266721972 L 1.1950903220161249,1.980785280403231 L 1.2902846772544587,1.95694033573221 L 1.3826834323650858,1.9238795325112883 L 1.4713967368259937,1.8819212643483572 L 1.4999999999999998,1.8647771281738246 L 1.444429766980397,1.831469612302545 L 1.365606715836354,1.7730104533627367 L 1.2928932188134523,1.7071067811865475 L 1.226989546637263,1.6343932841636453 L 1.1685303876974547,1.555570233019602 L 1.1180787356516446,1.4713967368259973 L 1.076120467488713,1.3826834323650892 L 1.043059664267791,1.2902846772544616 L 1.0192147195967693,1.1950903220161275 L 1.004815273327803,1.0980171403295598 L 1.0,0.999999999999999 L 1.0048152733278033,0.9019828596704382 L 1.0192147195967698,0.8049096779838705 L 1.0430596642677914,0.7097153227455364 L 1.076120467488714,0.6173165676349088 L 1.1180787356516457,0.528603263174001 L 1.1685303876974555,0.4444297669803964 L 1.226989546637264,0.3656067158363532 L 1.2928932188134539,0.2928932188134512 L 1.365606715836356,0.22698954663726179 L 1.4444297669803996,0.16853038769745365 L 1.5,0.13522287182617565 z\" /></g></g></svg>"
      ],
      "text/plain": [
       "<shapely.geometry.multipolygon.MultiPolygon at 0x7f050613b710>"
      ]
     },
     "execution_count": 67,
     "metadata": {},
     "output_type": "execute_result"
    }
   ],
   "source": [
    "# operação de diferença simétrica\n",
    "circulo_diffsim = circulo_1.symmetric_difference(circulo_2)\n",
    "\n",
    "circulo_diffsim"
   ]
  },
  {
   "cell_type": "markdown",
   "metadata": {},
   "source": [
    "## Resumo\n",
    "\n",
    "Nesta aula nós vimos como criar objetos geométricos com a biblioteca shapely. Mais especificamente \n",
    "voce deve ter aprendido:\n",
    "\n",
    "**1)** Criar objetos de pontos, linhas e polígonos;\n",
    "\n",
    "**2)** Usar funções básicas dos objetos geométricos;\n",
    "\n",
    "**3)** Realizar operações entre geometrias."
   ]
  }
 ],
 "metadata": {
  "kernelspec": {
   "display_name": "Python 3",
   "language": "python",
   "name": "python3"
  },
  "language_info": {
   "codemirror_mode": {
    "name": "ipython",
    "version": 3
   },
   "file_extension": ".py",
   "mimetype": "text/x-python",
   "name": "python",
   "nbconvert_exporter": "python",
   "pygments_lexer": "ipython3",
   "version": "3.7.7"
  }
 },
 "nbformat": 4,
 "nbformat_minor": 4
}
