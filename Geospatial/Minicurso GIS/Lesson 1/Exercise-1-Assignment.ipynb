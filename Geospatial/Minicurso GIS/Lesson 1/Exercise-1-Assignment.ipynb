{
 "cells": [
  {
   "cell_type": "markdown",
   "metadata": {},
   "source": [
    "**Fonte:**\n",
    "este material é uma tradução e adaptação dos notebooks: <br/> https://github.com/AutoGIS-2019/Exercise-1/blob/master/Exercise-1-problem-1-2.ipynb <br/> https://github.com/AutoGIS-2019/Exercise-1/blob/master/Exercise-1-problem-3-4.ipynb\n"
   ]
  },
  {
   "cell_type": "markdown",
   "metadata": {},
   "source": [
    "# Exercício 1: trabalhando com objetos geométricos"
   ]
  },
  {
   "cell_type": "markdown",
   "metadata": {},
   "source": [
    "Neste exercício vamos praticar como criar objetos usando o módulo Shapely e como encontrar diferentes atributos dessas geometrias. Vamos utilizar as funções aprendidas anteriormente para fazer diferentes operações."
   ]
  },
  {
   "cell_type": "markdown",
   "metadata": {},
   "source": [
    "## Problema 1: criando geometrias básicas"
   ]
  },
  {
   "cell_type": "markdown",
   "metadata": {},
   "source": [
    "1. Crie uma função chamada `create_point_geom()` que recebe dois parâmetros (x_coord, y_coord). Função deve retornar um objeto `Point` do módulo Shapely. "
   ]
  },
  {
   "cell_type": "code",
   "execution_count": 2,
   "metadata": {},
   "outputs": [],
   "source": [
    "def create_point_geom(x_coord, y_coord):\n",
    "    ## CODE HERE ##\n",
    "    return None"
   ]
  },
  {
   "cell_type": "markdown",
   "metadata": {},
   "source": [
    "Demonstre o uso da função códificada na célula acima criando um objeto Point"
   ]
  },
  {
   "cell_type": "code",
   "execution_count": 12,
   "metadata": {},
   "outputs": [],
   "source": [
    "## CODE HERE ##"
   ]
  },
  {
   "cell_type": "markdown",
   "metadata": {},
   "source": [
    "2. Crie uma função chamada **`create_line_geom()`** que recebe uma lista de objetos `Point` como parâmetro chamado de **`points`** e retorna um objeto `LineString` contendo estes pontos. Em adição, você deve tomar cuidado para a função tratar alguns casos como:\n",
    " - Dentro da função, deve ser checado com `assert` se o parâmetro de entrada é uma **list**. Se outro objeto for enviado como parâmetro, deve ser retornado a seguinte mensagem de erro: `\"Input should be a list!\"`\n",
    " - Também deverá ser verificado com o `assert` se a lista de entrada contém pelo menos dois valores. Caso contrário, retorne uma mensagem de erro: `\"LineString object requires at least two Points!\"`"
   ]
  },
  {
   "cell_type": "code",
   "execution_count": 13,
   "metadata": {},
   "outputs": [],
   "source": [
    "def create_line_geom(points):\n",
    "    ## CODE HERE ##\n",
    "    return None"
   ]
  },
  {
   "cell_type": "markdown",
   "metadata": {},
   "source": [
    "Demonstre o uso da função acima criando um `LineString` com dois pontos: <br/> Point(45.2, 22.34) <br/> Point(100.22, -3.20)"
   ]
  },
  {
   "cell_type": "code",
   "execution_count": 7,
   "metadata": {},
   "outputs": [],
   "source": [
    "## CODE HERE ##"
   ]
  },
  {
   "cell_type": "markdown",
   "metadata": {},
   "source": [
    "3. Crie uma função chamada **`create_poly_geom()`** que recebe um parâmetro chamado de `coords`, que é uma lista de objetos `Point` e retorna um objeto `Polygon`.\n",
    "\n",
    " - Dentro da função, deve ser checado com `assert` se o parâmetro de entrada é uma **list**. Se outro objeto além de uma lista for enviado como parâmetro deve ser retornado a seguinte mensagem de erro: `\"Input should be a list!\"`\n",
    " - Também deverá ser verificado com `assert`se a lista de entrada contém pelo menos três valores. Caso contrário retorne uma mensagem de erro: `\"Polygon object requires at least three Points!\"`"
   ]
  },
  {
   "cell_type": "code",
   "execution_count": null,
   "metadata": {},
   "outputs": [],
   "source": [
    "def create_poly_geom(points):\n",
    "    ## CODE HERE ##\n",
    "    return None"
   ]
  },
  {
   "cell_type": "markdown",
   "metadata": {},
   "source": [
    "Demonstre o uso da função acima criando um `Polygon` com três pontos: Point(45.2, 22.34), Point(100.22, -3.20) & Point(70.0, 10.20)"
   ]
  },
  {
   "cell_type": "code",
   "execution_count": null,
   "metadata": {},
   "outputs": [],
   "source": [
    "## CODE HERE ##"
   ]
  },
  {
   "cell_type": "markdown",
   "metadata": {},
   "source": [
    "## Problema 2: atributos das geometrias"
   ]
  },
  {
   "cell_type": "markdown",
   "metadata": {},
   "source": [
    "1. Crie uma função chamada **`get_centroid()`** que possui um parâmetro chamado geom. A função deve receber qualquer tipo de objeto geométrico do modulo shapely e retornar o centróide dessa geométria. Em adição, você deve tomar cuidado para a função tratar alguns casos como:\n",
    " - Dentro da função, deve ser checado com assert se o parâmetro de entrada é um Shapely `Point`, `LineString` ou `Polygon`. Se outro objeto for enviado como parâmetro, deve ser retornado a seguinte mensagem de erro: `\"Input should be a Shapely geometry!\"`"
   ]
  },
  {
   "cell_type": "code",
   "execution_count": 9,
   "metadata": {},
   "outputs": [],
   "source": [
    "def get_centroid(geom):\n",
    "    ## CODE HERE ##\n",
    "    return None"
   ]
  },
  {
   "cell_type": "markdown",
   "metadata": {},
   "source": [
    "Demonstre o uso da função acima. Para isso você pode usar a função 'create_line_geom' codificada anteriormente. Crie uma linha com dois pontos: Point(45.2, 22.34) & Point(100.22, -3.20), e mostre o centróide. "
   ]
  },
  {
   "cell_type": "code",
   "execution_count": 10,
   "metadata": {},
   "outputs": [],
   "source": [
    "## CODE HERE ##"
   ]
  },
  {
   "cell_type": "markdown",
   "metadata": {},
   "source": [
    "2. Crie uma função chamada **`get_area()`** que possui um parâmetro chamado polygon. A função deve receber um objeto `Polygon` do modulo shapely e retornar a área dessa geométria. Em adição, você deve tomar cuidado para a função tratar alguns casos como:\n",
    " - Dentro da função, deve ser checado com assert se o parâmetro de entrada é um Shapely `Polygon`. Se outro objeto for enviado como parâmetro, deve ser retornado a seguinte mensagem de erro: `\"Input should be a Shapely Polygon -object!\"`"
   ]
  },
  {
   "cell_type": "code",
   "execution_count": 11,
   "metadata": {},
   "outputs": [],
   "source": [
    "def get_area(polygon):\n",
    "    ## CODE HERE ##\n",
    "    return None"
   ]
  },
  {
   "cell_type": "markdown",
   "metadata": {},
   "source": [
    "Demonstre o uso da função acima. Para isso você pode usar a função 'create_poly_geom' codificada anteriormente. Crie um polygon com três pontos: Point(45.2, 22.34), Point(100.22, -3.20) & Point(70.0, 10.20), e mostre a área. "
   ]
  },
  {
   "cell_type": "code",
   "execution_count": 5,
   "metadata": {},
   "outputs": [],
   "source": [
    "## CODE HERE ##"
   ]
  },
  {
   "cell_type": "markdown",
   "metadata": {},
   "source": [
    "3. Crie uma função chamada **`get_length()`** que possui um parâmetro chamado geom. A função deve receber um objeto` LineString` ou `Polygon` do modulo shapely e retornar o comprimento da linha se for `LineString` ou o comrpimento do anel exterior se for um `Polygon`. Em adição, você deve tomar cuidado para a função tratar alguns casos como:\n",
    " - Dentro da função, deve ser checado com assert se o parâmetro de entrada é um Shapely `LineString` ou `Polygon`. Se outro objeto for enviado como parâmetro deve ser retornado a seguinte mensagem de erro: `\"'geom' should be either LineString or Polygon!\"`"
   ]
  },
  {
   "cell_type": "code",
   "execution_count": 7,
   "metadata": {},
   "outputs": [],
   "source": [
    "def get_length(geom):\n",
    "    ## CODE HERE ##\n",
    "    return None"
   ]
  },
  {
   "cell_type": "markdown",
   "metadata": {},
   "source": [
    "Demonstre o uso da função acima. Você pode usar o mesmo polígono usado na questão anterior. "
   ]
  },
  {
   "cell_type": "code",
   "execution_count": 9,
   "metadata": {},
   "outputs": [],
   "source": [
    "## CODE HERE ##"
   ]
  },
  {
   "cell_type": "markdown",
   "metadata": {},
   "source": [
    "## Problema 3: lendo coordenadas de um arquivo e criando as geometrias."
   ]
  },
  {
   "cell_type": "markdown",
   "metadata": {},
   "source": [
    "Um problema comum em GIS é a situação em que você possui um conjunto de coordenadas em um arquivo, e você precisa mapeá-las. Em python existem diversas ferramentas para lidar com este tipo de situação, sendo possível ler dados de todos os tipos (como csv, txt, excel, gpx, databases e etc).\n",
    "\n",
    "Vamos ver como podemos ler dados de um arquivo e criar objetos de pontos que podem ser salvos como um novo tipo. o Nosso dataset [travelTimes_2015_Helsinki.txt](data/travelTimes_2015_Helsinki.txt) consiste do tempo de viagem de lugares específicos na região de Helsinki. As primeiras quatros linhas podem ser vistas abaixo:\n",
    "\n",
    "```\n",
    "   from_id;to_id;fromid_toid;route_number;at;from_x;from_y;to_x;to_y;total_route_time;route_time;route_distance\n",
    "   5861326;5785640;5861326_5785640;1;08:10;24.9704379;60.3119173;24.8560344;60.399940599999994;125.0;99.0;22917.6\n",
    "   5861326;5785641;5861326_5785641;1;08:10;24.9704379;60.3119173;24.8605682;60.4000135;123.0;102.0;23123.5\n",
    "   5861326;5785642;5861326_5785642;1;08:10;24.9704379;60.3119173;24.865102;60.4000863;125.0;103.0;23241.3\n",
    "```\n",
    "Como pode ser visto, existem muitas colunas diferentes nos nosso dados, mas as colunas importantes para o nosso problema são listadas aa seguir:\n",
    "\n",
    "| Column | Description |\n",
    "|--------|-------------|\n",
    "| from_x | x-coordinate of the **origin** location (longitude) |\n",
    "| from_y | y-coordinate of the **origin** location (latitude) |\n",
    "| to_x   | x-coordinate of the **destination** location (longitude)|\n",
    "| to_y   | y-coordinate of the **destination** location (latitude) |\n",
    "| total_route_time | Travel time with public transportation at the route |\n",
    "\n",
    "### Primeiro passo - Ler os dados\n",
    "\n",
    "1. Leia o arquivo [data/travelTimes_2015_Helsinki.txt](data/travelTimes_2015_Helsinki.txt) em um variável **`dataframe`** usando Pandas. Depois mostre as cinco primeiras linhas do arquivo lido.\n",
    " - Lembre de verificar o separador dos dados.\n"
   ]
  },
  {
   "cell_type": "code",
   "execution_count": null,
   "metadata": {},
   "outputs": [],
   "source": [
    "## CODE HERE ##"
   ]
  },
  {
   "cell_type": "markdown",
   "metadata": {},
   "source": [
    "### Segundo passo - Selecionar os dados\n",
    "2. Selecione somente as seguintes colunas do DataFrame: **'from_x'**, **'from_y'**, **'to_x'**, **'to_y'** e armazene em um variável chamada **`data`**. Depois mostre somente as colunas do dataframe (.columns)."
   ]
  },
  {
   "cell_type": "code",
   "execution_count": 13,
   "metadata": {},
   "outputs": [],
   "source": [
    "## CODE HERE ##"
   ]
  },
  {
   "cell_type": "markdown",
   "metadata": {},
   "source": [
    "### Terceiro passo - Criar pontos de origin e destino\n",
    "3. Crie duas listas vazias para pontos, chamadas de **`orig_points`** e **`dest_points`**. Depois iterando em cada linha do seu DataFrame, adicione um objeto `Point` nas listas vazias criadas anteriormente, representando o ponto de origin (colunas `from_x` e `from_y`) e o ponto de destino (colunas `to_x` e `to_y`) respectivamente. "
   ]
  },
  {
   "cell_type": "code",
   "execution_count": null,
   "metadata": {},
   "outputs": [],
   "source": [
    "## CODE HERE ##"
   ]
  },
  {
   "cell_type": "markdown",
   "metadata": {},
   "source": [
    "### Quarto passo - Criar linha que representa movimento\n",
    "4. Vamos criar um `LineString` que representa o movimento. Para isso, siga as seguitnes instruções:\n",
    " - Crie uma lista vazia chamada `Lines`\n",
    " - Itere sobre os pontos de origin e destino criados anterior e crie um objeto LineString.\n",
    "     - Dica: Você pode utilizar a função `zip()` para percorrer várias listas ao mesmo tempo.  \n",
    " - Adicione a LineString na lista `Lines`\n",
    "     "
   ]
  },
  {
   "cell_type": "code",
   "execution_count": 14,
   "metadata": {},
   "outputs": [],
   "source": [
    "## CODE HERE ##"
   ]
  },
  {
   "cell_type": "markdown",
   "metadata": {},
   "source": [
    "### Quinto passo - Calcular o tamanho total\n",
    "5. Crie uma variável chamada `total_length` e armazene a soma total das distâncias euclidianas de todas as `LineStrings` criadas anteriormente.\n",
    " - Dica: você poderar iterar sobre as linhas e atualizar a variável com o tamanho."
   ]
  },
  {
   "cell_type": "code",
   "execution_count": 15,
   "metadata": {},
   "outputs": [],
   "source": [
    "## CODE HERE ##"
   ]
  },
  {
   "cell_type": "markdown",
   "metadata": {},
   "source": [
    "6. Para deixar o código mais reusável, reescreva em formato de função a criação do `LineString` e calculo do total das distâncias. Você pode copiar os códigos feitos anteriormente.\n",
    " - Nomeie as funções como desejar.\n",
    " - Dica: suas funções deve receber os pontos de origin e destino como listas."
   ]
  },
  {
   "cell_type": "code",
   "execution_count": 16,
   "metadata": {},
   "outputs": [],
   "source": [
    "## CODE HERE ##"
   ]
  },
  {
   "cell_type": "markdown",
   "metadata": {},
   "source": [
    "## Fim do exercício!\n",
    "\n",
    "Você praticou com sucesso como as geometrias podem ser criadas em Python, realizou algumas operações básicas, carregou dados externos e fez operação sobre eles. Na próxima aula vamos usar as geometrias e operações ativamente. "
   ]
  }
 ],
 "metadata": {
  "kernelspec": {
   "display_name": "Python 3",
   "language": "python",
   "name": "python3"
  },
  "language_info": {
   "codemirror_mode": {
    "name": "ipython",
    "version": 3
   },
   "file_extension": ".py",
   "mimetype": "text/x-python",
   "name": "python",
   "nbconvert_exporter": "python",
   "pygments_lexer": "ipython3",
   "version": "3.8.2"
  }
 },
 "nbformat": 4,
 "nbformat_minor": 2
}
