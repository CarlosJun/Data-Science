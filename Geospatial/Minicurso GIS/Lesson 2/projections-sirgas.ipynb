{
 "cells": [
  {
   "cell_type": "markdown",
   "metadata": {},
   "source": [
    "# 1. Projeção de mapas\n",
    "\n",
    "**Fonte:**\n",
    "este material é uma tradução e adaptação do notebook: <br/> https://github.com/Automating-GIS-processes/site/blob/master/source/notebooks/L2/projections.ipynb\n",
    "\n",
    "Sistema de referência de coordenadas (CRS) são importantes, porque as geometrias utilizadas em GeoDataFrame são simplesmente uma coleção de coordenadas em um espaço arbitrário. O CRS diz ao python como essas coordenadas estão relacionadas com o espaço no planeta terra. Uma projeção de mapa é uma transformação sistemática de latitudes e longitudes em uma superficie plana, em que as unidades são comumente representadas em metros (em vez de graus). Esta transformação são usadas para representar a terra tridimensional em um mapa plano e bidimensional.\n",
    "\n",
    "Como o CRS em diferentes conjuntos de dados espaciais diferem com frequência (isto é, pode-se ter coordenadas definidas em graus decimais enquanto em outro conjunto de dados está em metros), é um procedimento comum redefinir (ou reprojetar) o CRS para ser idêntico em ambos os datasets. É importante que as camadas possuam o mesmo sistema de referência de coordenadas, pois permite analisar as relações espaciais entre elas, como conduzir uma consulta de um Point em um Polygon.\n",
    "\n",
    "Escolher uma projeção apropriada para o seu mapa nem sempre é  uma tarefa simples, porque depende do que você realmente quer representar com seu mapa e de qual é a escala espacial dos seus dados. De fato, não existe uma \"projeção perfeita\", já que cada uma tem alguns pontos fortes e fracos, e você deve escolher uma projeção que se ajuste melhor às suas necessidades. Na verdade, a projeção que você escolher pode até dizer algo sobre você:\n",
    "    \n",
    "![](images/Map-projections.png)\n",
    "*Fonte: XKCD, See a full comic about [\"What your favorite map projection tells about you\"](https://xkcd.com/977/)*.\n",
    "\n",
    "Para aqueles que querem um pouco mais de abordagem analítica para escolher a projeção, você pode obter uma boa visão geral em [georeference.org](http://www.georeference.org/doc/guide_to_selecting_map_projections.htm), ou neste post introduzindo [os pontos fortes e fracos de algumas projeções comumente usadas](http://usersguidetotheuniverse.com/index.php/2011/03/03/whats-the-best-map-projection/)."
   ]
  },
  {
   "cell_type": "markdown",
   "metadata": {},
   "source": [
    "## 1.1 Sistema de Referência de Coordenadas (SRC) no Geopandas\n",
    "\n",
    "Para este tutorial, usaremos o Shapefile chamado `limitebairro.shp` que possui as fronteiras de cada bairros na cidade de Fortaleza/CE.\n",
    "\n",
    "O Shapefile deve sempre conter informações sobre o sistema de referência de coordenadas que é armazenado no arquivo `.prj` (se os dados tiverem sido produzidos corretamente). Ao ler os dados em `GeoDataFrame` com Geopandas esta informação é automaticamente armazenada no atributo `.crs` do GeoDataFrame.\n",
    "\n",
    "- Vamos começar lendo os dados do arquivo `limitebairro.shp` e verificando o` crs`:"
   ]
  },
  {
   "cell_type": "code",
   "execution_count": 53,
   "metadata": {},
   "outputs": [
    {
     "data": {
      "text/plain": [
       "<Geographic 2D CRS: EPSG:4326>\n",
       "Name: WGS 84\n",
       "Axis Info [ellipsoidal]:\n",
       "- Lat[north]: Geodetic latitude (degree)\n",
       "- Lon[east]: Geodetic longitude (degree)\n",
       "Area of Use:\n",
       "- name: World\n",
       "- bounds: (-180.0, -90.0, 180.0, 90.0)\n",
       "Datum: World Geodetic System 1984\n",
       "- Ellipsoid: WGS 84\n",
       "- Prime Meridian: Greenwich"
      ]
     },
     "execution_count": 53,
     "metadata": {},
     "output_type": "execute_result"
    }
   ],
   "source": [
    "# Import necessary packages\n",
    "import geopandas as gpd\n",
    "\n",
    "# Read the file\n",
    "fp = \"data/limitebairro.shp\"\n",
    "data = gpd.read_file(fp)\n",
    "\n",
    "# Check the coordinate reference system\n",
    "data.crs"
   ]
  },
  {
   "cell_type": "markdown",
   "metadata": {},
   "source": [
    "Como podemos ver, o `crs` é um conjunto de informações que identificam a projeção utilizada, neste caso podemos identificaro o código `EPSG:4326`. Essa é uma maneira muito típica de como o CRS é armazenado em GeoDataFrames. Há também outra maneira típica de representar o sistema de referência de coordenadas, ou seja, armazenar essa informação no formato [Proj4-string](https://proj4.org/usage/quickstart.html).\n",
    "\n",
    "O número da sigla __EPSG__ (\"European Petroleum Survey Group\") é um código que informa sobre o sistema de coordenadas do conjunto de dados. [Conjunto de dados de parâmetros geodésicos EPSG](http://www.epsg.org/) é uma coleção de definições de sistemas de referência de coordenadas e coordena transformações que podem ser globais, regionais, nacionais ou locais\". O código EPSG `4326` que temos aqui, pertence ao sistema de coordenadas WGS84 (isto é, as coordenadas estão em graus decimais: latitudes e longitudes).\n",
    "\n",
    "Você pode encontrar mais informações e listas de sistemas de referência de coordenadas em:\n",
    "\n",
    "  - [www.spatialreference.org](http://spatialreference.org/)\n",
    "  - [www.proj4.org](https://proj4.org/operations/projections/)\n",
    "  - [www.mapref.org](http://mapref.org/CollectionofCRSinEurope.html)"
   ]
  },
  {
   "cell_type": "markdown",
   "metadata": {},
   "source": [
    "- Vamos continuar verificando os valores na coluna `geometry` para verificar se o CRS de nosso GeoDataFrame parece correto:"
   ]
  },
  {
   "cell_type": "code",
   "execution_count": 5,
   "metadata": {},
   "outputs": [
    {
     "data": {
      "text/plain": [
       "0    POLYGON ((-38.53982 -3.79554, -38.53974 -3.795...\n",
       "1    POLYGON ((-38.47933 -3.72091, -38.47930 -3.720...\n",
       "2    POLYGON ((-38.46765 -3.74968, -38.46751 -3.749...\n",
       "3    POLYGON ((-38.51716 -3.76998, -38.51726 -3.769...\n",
       "4    POLYGON ((-38.56888 -3.70169, -38.56893 -3.701...\n",
       "Name: geometry, dtype: geometry"
      ]
     },
     "execution_count": 5,
     "metadata": {},
     "output_type": "execute_result"
    }
   ],
   "source": [
    "data['geometry'].head()"
   ]
  },
  {
   "cell_type": "markdown",
   "metadata": {},
   "source": [
    "Como podemos observar, os valores de coordenadas dos polígonos realmente se parecem com valores de latitude e longitude, então tudo parece estar em ordem."
   ]
  },
  {
   "cell_type": "markdown",
   "metadata": {},
   "source": [
    "## 1.2 Calculando a área em metros"
   ]
  },
  {
   "cell_type": "markdown",
   "metadata": {},
   "source": [
    "Vamos chamar a função `area` para o nosso `GeoDataFrame` e analisar o resultado."
   ]
  },
  {
   "cell_type": "code",
   "execution_count": 26,
   "metadata": {},
   "outputs": [
    {
     "data": {
      "text/html": [
       "<div>\n",
       "<style scoped>\n",
       "    .dataframe tbody tr th:only-of-type {\n",
       "        vertical-align: middle;\n",
       "    }\n",
       "\n",
       "    .dataframe tbody tr th {\n",
       "        vertical-align: top;\n",
       "    }\n",
       "\n",
       "    .dataframe thead th {\n",
       "        text-align: right;\n",
       "    }\n",
       "</style>\n",
       "<table border=\"1\" class=\"dataframe\">\n",
       "  <thead>\n",
       "    <tr style=\"text-align: right;\">\n",
       "      <th></th>\n",
       "      <th>id</th>\n",
       "      <th>GID</th>\n",
       "      <th>NOME</th>\n",
       "      <th>geometry</th>\n",
       "    </tr>\n",
       "  </thead>\n",
       "  <tbody>\n",
       "    <tr>\n",
       "      <th>0</th>\n",
       "      <td>Limite Bairro.fid-2be50750_153af4824fe_2d2e</td>\n",
       "      <td>6</td>\n",
       "      <td>PASSARE</td>\n",
       "      <td>POLYGON ((-38.53982 -3.79554, -38.53974 -3.795...</td>\n",
       "    </tr>\n",
       "    <tr>\n",
       "      <th>1</th>\n",
       "      <td>Limite Bairro.fid-2be50750_153af4824fe_2d2f</td>\n",
       "      <td>21</td>\n",
       "      <td>CAIS DO PORTO</td>\n",
       "      <td>POLYGON ((-38.47933 -3.72091, -38.47930 -3.720...</td>\n",
       "    </tr>\n",
       "    <tr>\n",
       "      <th>2</th>\n",
       "      <td>Limite Bairro.fid-2be50750_153af4824fe_2d30</td>\n",
       "      <td>22</td>\n",
       "      <td>CIDADE 2000</td>\n",
       "      <td>POLYGON ((-38.46765 -3.74968, -38.46751 -3.749...</td>\n",
       "    </tr>\n",
       "    <tr>\n",
       "      <th>3</th>\n",
       "      <td>Limite Bairro.fid-2be50750_153af4824fe_2d31</td>\n",
       "      <td>23</td>\n",
       "      <td>ALTO DA BALANCA</td>\n",
       "      <td>POLYGON ((-38.51716 -3.76998, -38.51726 -3.769...</td>\n",
       "    </tr>\n",
       "    <tr>\n",
       "      <th>4</th>\n",
       "      <td>Limite Bairro.fid-2be50750_153af4824fe_2d32</td>\n",
       "      <td>17</td>\n",
       "      <td>BARRA DO CEARA</td>\n",
       "      <td>POLYGON ((-38.56888 -3.70169, -38.56893 -3.701...</td>\n",
       "    </tr>\n",
       "  </tbody>\n",
       "</table>\n",
       "</div>"
      ],
      "text/plain": [
       "                                            id  GID             NOME  \\\n",
       "0  Limite Bairro.fid-2be50750_153af4824fe_2d2e    6          PASSARE   \n",
       "1  Limite Bairro.fid-2be50750_153af4824fe_2d2f   21    CAIS DO PORTO   \n",
       "2  Limite Bairro.fid-2be50750_153af4824fe_2d30   22      CIDADE 2000   \n",
       "3  Limite Bairro.fid-2be50750_153af4824fe_2d31   23  ALTO DA BALANCA   \n",
       "4  Limite Bairro.fid-2be50750_153af4824fe_2d32   17   BARRA DO CEARA   \n",
       "\n",
       "                                            geometry  \n",
       "0  POLYGON ((-38.53982 -3.79554, -38.53974 -3.795...  \n",
       "1  POLYGON ((-38.47933 -3.72091, -38.47930 -3.720...  \n",
       "2  POLYGON ((-38.46765 -3.74968, -38.46751 -3.749...  \n",
       "3  POLYGON ((-38.51716 -3.76998, -38.51726 -3.769...  \n",
       "4  POLYGON ((-38.56888 -3.70169, -38.56893 -3.701...  "
      ]
     },
     "execution_count": 26,
     "metadata": {},
     "output_type": "execute_result"
    }
   ],
   "source": [
    "selection"
   ]
  },
  {
   "cell_type": "code",
   "execution_count": 27,
   "metadata": {},
   "outputs": [
    {
     "name": "stdout",
     "output_type": "stream",
     "text": [
      "Bairro PASSARE possui uma área de 0.00058 graus quadrados\n",
      "Bairro CAIS DO PORTO possui uma área de 0.00021 graus quadrados\n",
      "Bairro CIDADE 2000 possui uma área de 0.00004 graus quadrados\n",
      "Bairro ALTO DA BALANCA possui uma área de 0.00007 graus quadrados\n",
      "Bairro BARRA DO CEARA possui uma área de 0.00033 graus quadrados\n"
     ]
    }
   ],
   "source": [
    "# Make a selection that contains only the first five rows\n",
    "selection = data[0:5]\n",
    "\n",
    "# Iterate over rows and print the area of a Polygon\n",
    "for index, row in selection.iterrows():\n",
    "    # Get the area of the polygon\n",
    "    poly_area = row['geometry'].area\n",
    "    # Get the name att of the polygon\n",
    "    poly_name = row['NOME']\n",
    "    # Print information for the user\n",
    "    print(\"Bairro {name} possui uma área de {area:.5f} graus quadrados\".format(name=poly_name, \n",
    "                                                                                area=poly_area))"
   ]
  },
  {
   "cell_type": "markdown",
   "metadata": {},
   "source": [
    "Como podemos observar, obtemos valores baixos, considerando que estamos calculando a área de grandes aglomerados urbanos. Isso acontece, porque os nosso dados estão em um sistema de coordenadas geográfica, desta forma, os nosso valores estão representados em graus. A função de cálculo da área não se importa em qual projeção os dados estão, ela apenas cálcula a área de cada geometria do nosso `GeoDataFrame`."
   ]
  },
  {
   "cell_type": "markdown",
   "metadata": {},
   "source": [
    "Felizmente, para definir e alterar projeções no Geopandas é fácil. Agora vamos reprojetar os dados de\n",
    "WGS84 (coordenadas de latitude longitude) em uma projeção planar, facilitando o cálculo das métricas em metros. No nosso exemplo, iremos utilizar a projeção padrão para américa do sul [SIRGAS 2000](http://www.sirgas.org/pt/sirgas-realizations/sirgas2000/)."
   ]
  },
  {
   "cell_type": "markdown",
   "metadata": {},
   "source": [
    "De acordo com os dados de datum (SIRGAS 2000), projeção (UTM), fuso horário (24) e o hemisfério (Sul), o código para a cidade de Fortaleza é o EPSG:31984 "
   ]
  },
  {
   "cell_type": "code",
   "execution_count": 9,
   "metadata": {},
   "outputs": [],
   "source": [
    "epsg_proj = \"EPSG:31984\""
   ]
  },
  {
   "cell_type": "code",
   "execution_count": 108,
   "metadata": {},
   "outputs": [
    {
     "name": "stdout",
     "output_type": "stream",
     "text": [
      "0    POLYGON ((551095.599 9580459.369, 551104.542 9...\n",
      "1    POLYGON ((557816.513 9588704.498, 557820.203 9...\n",
      "2    POLYGON ((559112.388 9585523.444, 559127.299 9...\n",
      "3    POLYGON ((553612.653 9583283.104, 553602.293 9...\n",
      "4    POLYGON ((547874.164 9590834.764, 547867.807 9...\n",
      "Name: geometry, dtype: geometry\n"
     ]
    }
   ],
   "source": [
    "# Reproject the data\n",
    "data_proj = data.to_crs(epsg_proj)\n",
    "\n",
    "# Check the new geometry values\n",
    "print(data_proj['geometry'].head())"
   ]
  },
  {
   "cell_type": "markdown",
   "metadata": {},
   "source": [
    "Podemos ver que os valores de coordenadas nas geometrias foram alterados! Agora, mudamos com sucesso a projeção de nossa camada para uma nova."
   ]
  },
  {
   "cell_type": "markdown",
   "metadata": {},
   "source": [
    "Vamos novamente chamar a função area para o nosso GeoDataFrame e analisar o resultado."
   ]
  },
  {
   "cell_type": "code",
   "execution_count": 109,
   "metadata": {},
   "outputs": [
    {
     "name": "stdout",
     "output_type": "stream",
     "text": [
      "Bairro PASSARE possui uma área de 7167306.64176 metros quadrados\n",
      "Bairro CAIS DO PORTO possui uma área de 2562799.52426 metros quadrados\n",
      "Bairro CIDADE 2000 possui uma área de 497197.33551 metros quadrados\n",
      "Bairro ALTO DA BALANCA possui uma área de 916449.73840 metros quadrados\n",
      "Bairro BARRA DO CEARA possui uma área de 4102986.76628 metros quadrados\n"
     ]
    }
   ],
   "source": [
    "# Reproject the data\n",
    "data_proj = data.to_crs(epsg_proj)\n",
    "\n",
    "# Make a selection that contains only the first five rows\n",
    "selection = data_proj[0:5]\n",
    "\n",
    "# Iterate over rows and print the area of a Polygon\n",
    "for index, row in selection.iterrows():\n",
    "    # Get the area of the polygon\n",
    "    poly_area = row['geometry'].area\n",
    "    # Get the name att of the polygon\n",
    "    poly_name = row['NOME']\n",
    "    # Print information for the user\n",
    "    print(\"Bairro {name} possui uma área de {area:.5f} metros quadrados\".format(name=poly_name, \n",
    "                                                                                area=poly_area))"
   ]
  },
  {
   "cell_type": "markdown",
   "metadata": {},
   "source": [
    "Agora temos os valores de área em m². Podemos transformar de m² para km² dividindo por 1000000."
   ]
  },
  {
   "cell_type": "code",
   "execution_count": 110,
   "metadata": {},
   "outputs": [
    {
     "name": "stdout",
     "output_type": "stream",
     "text": [
      "Bairro PASSARE possui uma área de 7.16731 quilometros quadrados\n",
      "Bairro CAIS DO PORTO possui uma área de 2.56280 quilometros quadrados\n",
      "Bairro CIDADE 2000 possui uma área de 0.49720 quilometros quadrados\n",
      "Bairro ALTO DA BALANCA possui uma área de 0.91645 quilometros quadrados\n",
      "Bairro BARRA DO CEARA possui uma área de 4.10299 quilometros quadrados\n"
     ]
    }
   ],
   "source": [
    "# Reproject the data\n",
    "data_proj = data.to_crs(epsg_proj)\n",
    "\n",
    "# Make a selection that contains only the first five rows\n",
    "selection = data_proj[0:5]\n",
    "\n",
    "# Iterate over rows and print the area of a Polygon\n",
    "for index, row in selection.iterrows():\n",
    "    # Get the area of the polygon\n",
    "    poly_area = row['geometry'].area / 1000000\n",
    "    # Get the name att of the polygon\n",
    "    poly_name = row['NOME']\n",
    "    # Print information for the user\n",
    "    print(\"Bairro {name} possui uma área de {area:.5f} quilômetros quadrados\".format(name=poly_name, \n",
    "                                                                                area=poly_area))"
   ]
  },
  {
   "cell_type": "markdown",
   "metadata": {},
   "source": [
    "Vamos salvar nossos dados projetados em um Shapefile para podermos usar mais tarde."
   ]
  },
  {
   "cell_type": "code",
   "execution_count": 111,
   "metadata": {},
   "outputs": [],
   "source": [
    "# Ouput filepath\n",
    "outfp = \"data/limitebairro_proj.shp\"\n",
    "    \n",
    "# Save to disk\n",
    "data_proj.to_file(outfp)"
   ]
  },
  {
   "cell_type": "markdown",
   "metadata": {},
   "source": [
    "## 1.3 Calculando a distância em metros"
   ]
  },
  {
   "cell_type": "markdown",
   "metadata": {},
   "source": [
    "Em seguida, conduziremos um exemplo prático com o arquivo `limitebairro_proj.shp`. Nosso objetivo é encontrar as distâncias euclidianas dos centróides (pontos médios) de todos os bairros de Fortaleza para a nossa geometria do Campus do Pici.\n",
    "\n",
    "Vamos primeiro criar um GeoDataFrame que contenha um polígono representando a localização do Campus do Pici."
   ]
  },
  {
   "cell_type": "code",
   "execution_count": 112,
   "metadata": {},
   "outputs": [
    {
     "name": "stdout",
     "output_type": "stream",
     "text": [
      "                                            geometry        location\n",
      "0  POLYGON ((-38.57351 -3.73745, -38.58482 -3.744...  Campus do Pici\n"
     ]
    }
   ],
   "source": [
    "from shapely.geometry import Polygon\n",
    "\n",
    "# Approximate coordinates of Campus do Pici, UFC (Fortaleza/CE)\n",
    "coordinates = [(-38.57351, -3.73745), (-38.58482, -3.74404), (-38.58471, -3.74632), (-38.58146, -3.74620),\n",
    "               (-38.58200, -3.74711), (-38.57242, -3.75738), (-38.57186, -3.75680), (-38.57256, -3.75608),\n",
    "               (-38.57090, -3.75490), (-38.57079, -3.75400), (-38.57464, -3.74978), (-38.57122, -3.74648),\n",
    "               (-38.56920, -3.74857), (-38.56670, -3.74600), (-38.56938, -3.74132), (-38.56933, -3.73688)]\n",
    "\n",
    "# Create a Shapely polygon from the coordinate-tuple list\n",
    "poly = Polygon(coordinates)\n",
    "\n",
    "# Create an empty geopandas GeoDataFrame\n",
    "gdf_pici = gpd.GeoDataFrame([poly], geometry='geometry', \n",
    "                            crs='EPSG:4326', \n",
    "                            columns=['geometry'])\n",
    "\n",
    "gdf_pici.loc[0, 'location'] = 'Campus do Pici'\n",
    "\n",
    "# # Let's see what we have\n",
    "print(gdf_pici)"
   ]
  },
  {
   "cell_type": "markdown",
   "metadata": {},
   "source": [
    "Para instalar o módulo pycrs, você pode utilizar o seguinte comando: conda install -c conda-forge pycrs "
   ]
  },
  {
   "cell_type": "markdown",
   "metadata": {},
   "source": [
    "Como podemos ver, é possível criar um GeoDataFrame diretamente utilizando penas uma linha de código. Observe que, aqui, especificamos o CRS diretamente passando o crs como a string \"EPSG:4326\". Nós também dissemos que a informação `geometry` é armazenada na coluna `geometry` que nós definimos com o parâmetro `columns = ['geometry'] `.\n",
    "\n",
    "Em seguida, precisamos converter essa projeção do `GeoDataFrame` para a projeção do SIRGAS 2000."
   ]
  },
  {
   "cell_type": "code",
   "execution_count": 113,
   "metadata": {},
   "outputs": [
    {
     "name": "stdout",
     "output_type": "stream",
     "text": [
      "                                            geometry        location\n",
      "0  POLYGON ((547357.837 9586882.111, 546101.598 9...  Campus do Pici\n",
      "\n",
      "CRS:\n",
      " EPSG:31984\n"
     ]
    }
   ],
   "source": [
    "epsg_proj = \"EPSG:31984\"\n",
    "\n",
    "gdf_pici_proj = gdf_pici.to_crs(epsg_proj)\n",
    "\n",
    "# Print the data\n",
    "print(gdf_pici_proj)\n",
    "\n",
    "# Print the crs\n",
    "print('\\nCRS:\\n', gdf_pici_proj.crs)"
   ]
  },
  {
   "cell_type": "markdown",
   "metadata": {},
   "source": [
    "Vamos ler novamente todos os bairros e mudar para a projeção SIRGAS 2000."
   ]
  },
  {
   "cell_type": "code",
   "execution_count": 114,
   "metadata": {},
   "outputs": [
    {
     "name": "stdout",
     "output_type": "stream",
     "text": [
      "                                            id  GID             NOME  \\\n",
      "0  Limite Bairro.fid-2be50750_153af4824fe_2d2e    6          PASSARE   \n",
      "1  Limite Bairro.fid-2be50750_153af4824fe_2d2f   21    CAIS DO PORTO   \n",
      "2  Limite Bairro.fid-2be50750_153af4824fe_2d30   22      CIDADE 2000   \n",
      "3  Limite Bairro.fid-2be50750_153af4824fe_2d31   23  ALTO DA BALANCA   \n",
      "4  Limite Bairro.fid-2be50750_153af4824fe_2d32   17   BARRA DO CEARA   \n",
      "\n",
      "                                            geometry  \n",
      "0  POLYGON ((551095.599 9580459.369, 551104.542 9...  \n",
      "1  POLYGON ((557816.513 9588704.498, 557820.203 9...  \n",
      "2  POLYGON ((559112.388 9585523.444, 559127.299 9...  \n",
      "3  POLYGON ((553612.653 9583283.104, 553602.293 9...  \n",
      "4  POLYGON ((547874.164 9590834.764, 547867.807 9...  \n",
      "\n",
      "CRS:\n",
      " EPSG:31984\n"
     ]
    }
   ],
   "source": [
    "# Set filepath \n",
    "fp = \"data/limitebairro.json\"\n",
    "epsg_proj = \"EPSG:31984\"\n",
    "\n",
    "# Read file using gpd.read_file()\n",
    "gdf_bairros = gpd.read_file(fp, driver='GeoJSON')\n",
    "gdf_bairros_proj = gdf_bairros.to_crs(epsg_proj)\n",
    "\n",
    "# Print the data\n",
    "print(gdf_bairros_proj.head())\n",
    "\n",
    "# Print the crs\n",
    "print('\\nCRS:\\n', gdf_bairros_proj.crs)"
   ]
  },
  {
   "cell_type": "markdown",
   "metadata": {},
   "source": [
    "Agora podemos ver que as coordenadas na coluna `geometry` são números bastante grandes, pois representam a distância em metros de acordo com um ponto de referência, diferente ds medidas de graus utilizadas anteriormente.\n",
    "\n",
    "- Vamos traçar as fronteiras dos bairros de Fortaleza e a localização do Campus do Pici para observar se as mudanças de projeção estão conforme o esperado."
   ]
  },
  {
   "cell_type": "code",
   "execution_count": 115,
   "metadata": {},
   "outputs": [
    {
     "data": {
      "text/plain": [
       "<matplotlib.axes._subplots.AxesSubplot at 0x7f7acb79e100>"
      ]
     },
     "execution_count": 115,
     "metadata": {},
     "output_type": "execute_result"
    },
    {
     "data": {
      "image/png": "[encoded data removed]",
      "text/plain": [
       "<Figure size 720x720 with 1 Axes>"
      ]
     },
     "metadata": {
      "needs_background": "light"
     },
     "output_type": "display_data"
    }
   ],
   "source": [
    "import matplotlib.pyplot as plt\n",
    "\n",
    "%matplotlib inline\n",
    "fig, ax = plt.subplots(figsize=(10,10))\n",
    "\n",
    "# Plot the country borders\n",
    "gdf_bairros_proj.plot(ax=ax)\n",
    "\n",
    "# Plot the Helsinki point on top of the borders using the same axis\n",
    "gdf_pici_proj.plot(ax=ax, color='red', markersize=30)"
   ]
  },
  {
   "cell_type": "markdown",
   "metadata": {},
   "source": [
    "Como podemos ver no mapa, os dois dados aparentam estar na mesma projeção."
   ]
  },
  {
   "cell_type": "markdown",
   "metadata": {},
   "source": [
    "Em seguida, nosso objetivo é calcular a distância de todos os bairros até o Campus do Pici. Para podermos fazer isso, precisamos calcular os centróides de todos os polígonos que representam os limites dos bairros fortalezenses.\n",
    "\n",
    "- Isso pode ser feito facilmente em Geopandas usando o atributo `centroid`:"
   ]
  },
  {
   "cell_type": "code",
   "execution_count": 118,
   "metadata": {},
   "outputs": [
    {
     "data": {
      "text/html": [
       "<div>\n",
       "<style scoped>\n",
       "    .dataframe tbody tr th:only-of-type {\n",
       "        vertical-align: middle;\n",
       "    }\n",
       "\n",
       "    .dataframe tbody tr th {\n",
       "        vertical-align: top;\n",
       "    }\n",
       "\n",
       "    .dataframe thead th {\n",
       "        text-align: right;\n",
       "    }\n",
       "</style>\n",
       "<table border=\"1\" class=\"dataframe\">\n",
       "  <thead>\n",
       "    <tr style=\"text-align: right;\">\n",
       "      <th></th>\n",
       "      <th>id</th>\n",
       "      <th>GID</th>\n",
       "      <th>NOME</th>\n",
       "      <th>geometry</th>\n",
       "      <th>centroid</th>\n",
       "    </tr>\n",
       "  </thead>\n",
       "  <tbody>\n",
       "    <tr>\n",
       "      <th>0</th>\n",
       "      <td>Limite Bairro.fid-2be50750_153af4824fe_2d2e</td>\n",
       "      <td>6</td>\n",
       "      <td>PASSARE</td>\n",
       "      <td>POLYGON ((551095.599 9580459.369, 551104.542 9...</td>\n",
       "      <td>POINT (551957.460 9578515.003)</td>\n",
       "    </tr>\n",
       "    <tr>\n",
       "      <th>1</th>\n",
       "      <td>Limite Bairro.fid-2be50750_153af4824fe_2d2f</td>\n",
       "      <td>21</td>\n",
       "      <td>CAIS DO PORTO</td>\n",
       "      <td>POLYGON ((557816.513 9588704.498, 557820.203 9...</td>\n",
       "      <td>POINT (558784.923 9589362.498)</td>\n",
       "    </tr>\n",
       "    <tr>\n",
       "      <th>2</th>\n",
       "      <td>Limite Bairro.fid-2be50750_153af4824fe_2d30</td>\n",
       "      <td>22</td>\n",
       "      <td>CIDADE 2000</td>\n",
       "      <td>POLYGON ((559112.388 9585523.444, 559127.299 9...</td>\n",
       "      <td>POINT (558640.923 9585360.684)</td>\n",
       "    </tr>\n",
       "  </tbody>\n",
       "</table>\n",
       "</div>"
      ],
      "text/plain": [
       "                                            id  GID           NOME  \\\n",
       "0  Limite Bairro.fid-2be50750_153af4824fe_2d2e    6        PASSARE   \n",
       "1  Limite Bairro.fid-2be50750_153af4824fe_2d2f   21  CAIS DO PORTO   \n",
       "2  Limite Bairro.fid-2be50750_153af4824fe_2d30   22    CIDADE 2000   \n",
       "\n",
       "                                            geometry  \\\n",
       "0  POLYGON ((551095.599 9580459.369, 551104.542 9...   \n",
       "1  POLYGON ((557816.513 9588704.498, 557820.203 9...   \n",
       "2  POLYGON ((559112.388 9585523.444, 559127.299 9...   \n",
       "\n",
       "                         centroid  \n",
       "0  POINT (551957.460 9578515.003)  \n",
       "1  POINT (558784.923 9589362.498)  \n",
       "2  POINT (558640.923 9585360.684)  "
      ]
     },
     "execution_count": 118,
     "metadata": {},
     "output_type": "execute_result"
    }
   ],
   "source": [
    "gdf_bairros_proj['centroid'] = gdf_bairros_proj.centroid\n",
    "gdf_bairros_proj.head(3)"
   ]
  },
  {
   "cell_type": "markdown",
   "metadata": {},
   "source": [
    "Agora nós criamos uma nova coluna chamada `centroid` que possui as geometrias de Ponto representando os centróides de cada polígono (na projeção SIRGAS 2000).\n",
    "\n",
    "Em seguida, calcularemos as distâncias entre os bairros até o centroid do Campus do Pici. Para fazer isso, poderíamos usar a função `iterrows ()` que usamos anteriormente, mas aqui demonstraremos uma técnica mais eficiente (mais rápida) para percorrer todas as linhas no GeoDataFrame usando a função `apply ()`.\n",
    "\n",
    "A função [apply ()](https://pandas.pydata.org/pandas-docs/stable/generated/pandas.DataFrame.apply.html) pode dar um grande impulso no desempenho sobre o `iterrows ()` e é a maneira recomendável de iterar as linhas em GeoDataFrames. Aqui, veremos como usá-la para calcular a distância entre os centróides dos bairros até o centroid do Campus do Pici."
   ]
  },
  {
   "cell_type": "markdown",
   "metadata": {},
   "source": [
    "- Antes de usar nossa função e calcular as distâncias entre o Campus do Pici e os centróides, precisamos obter a geometria do ponto Shapely do ponto central do Campus do Pici reprojetado, para que passamos passar para a nossa função (no parâmetro `dest_geom`. Podemos usar a função `loc` para recuperar o valores especificos de índice e coluna:"
   ]
  },
  {
   "cell_type": "code",
   "execution_count": 126,
   "metadata": {},
   "outputs": [
    {
     "name": "stdout",
     "output_type": "stream",
     "text": [
      "POINT (547179.711048448 9586001.998799218)\n"
     ]
    }
   ],
   "source": [
    "# Retrieve the geometry from Campus do Pici GeoDataFrame\n",
    "pici_centroid = gdf_pici_proj.loc[0, 'geometry'].centroid\n",
    "print(pici_centroid)"
   ]
  },
  {
   "cell_type": "markdown",
   "metadata": {},
   "source": [
    "Agora vamos calcular todas as distâncias com apply."
   ]
  },
  {
   "cell_type": "code",
   "execution_count": 127,
   "metadata": {},
   "outputs": [],
   "source": [
    "gdf_bairros_proj['dist_to_pici'] = gdf_bairros_proj.apply(lambda row: row.centroid.distance(pici_centroid), axis=1)"
   ]
  },
  {
   "cell_type": "code",
   "execution_count": 131,
   "metadata": {},
   "outputs": [
    {
     "data": {
      "text/html": [
       "<div>\n",
       "<style scoped>\n",
       "    .dataframe tbody tr th:only-of-type {\n",
       "        vertical-align: middle;\n",
       "    }\n",
       "\n",
       "    .dataframe tbody tr th {\n",
       "        vertical-align: top;\n",
       "    }\n",
       "\n",
       "    .dataframe thead th {\n",
       "        text-align: right;\n",
       "    }\n",
       "</style>\n",
       "<table border=\"1\" class=\"dataframe\">\n",
       "  <thead>\n",
       "    <tr style=\"text-align: right;\">\n",
       "      <th></th>\n",
       "      <th>id</th>\n",
       "      <th>GID</th>\n",
       "      <th>NOME</th>\n",
       "      <th>geometry</th>\n",
       "      <th>centroid</th>\n",
       "      <th>dist_to_pici</th>\n",
       "    </tr>\n",
       "  </thead>\n",
       "  <tbody>\n",
       "    <tr>\n",
       "      <th>0</th>\n",
       "      <td>Limite Bairro.fid-2be50750_153af4824fe_2d2e</td>\n",
       "      <td>6</td>\n",
       "      <td>PASSARE</td>\n",
       "      <td>POLYGON ((551095.599 9580459.369, 551104.542 9...</td>\n",
       "      <td>POINT (551957.460 9578515.003)</td>\n",
       "      <td>8.881554</td>\n",
       "    </tr>\n",
       "    <tr>\n",
       "      <th>1</th>\n",
       "      <td>Limite Bairro.fid-2be50750_153af4824fe_2d2f</td>\n",
       "      <td>21</td>\n",
       "      <td>CAIS DO PORTO</td>\n",
       "      <td>POLYGON ((557816.513 9588704.498, 557820.203 9...</td>\n",
       "      <td>POINT (558784.923 9589362.498)</td>\n",
       "      <td>12.081966</td>\n",
       "    </tr>\n",
       "    <tr>\n",
       "      <th>2</th>\n",
       "      <td>Limite Bairro.fid-2be50750_153af4824fe_2d30</td>\n",
       "      <td>22</td>\n",
       "      <td>CIDADE 2000</td>\n",
       "      <td>POLYGON ((559112.388 9585523.444, 559127.299 9...</td>\n",
       "      <td>POINT (558640.923 9585360.684)</td>\n",
       "      <td>11.479140</td>\n",
       "    </tr>\n",
       "  </tbody>\n",
       "</table>\n",
       "</div>"
      ],
      "text/plain": [
       "                                            id  GID           NOME  \\\n",
       "0  Limite Bairro.fid-2be50750_153af4824fe_2d2e    6        PASSARE   \n",
       "1  Limite Bairro.fid-2be50750_153af4824fe_2d2f   21  CAIS DO PORTO   \n",
       "2  Limite Bairro.fid-2be50750_153af4824fe_2d30   22    CIDADE 2000   \n",
       "\n",
       "                                            geometry  \\\n",
       "0  POLYGON ((551095.599 9580459.369, 551104.542 9...   \n",
       "1  POLYGON ((557816.513 9588704.498, 557820.203 9...   \n",
       "2  POLYGON ((559112.388 9585523.444, 559127.299 9...   \n",
       "\n",
       "                         centroid  dist_to_pici  \n",
       "0  POINT (551957.460 9578515.003)      8.881554  \n",
       "1  POINT (558784.923 9589362.498)     12.081966  \n",
       "2  POINT (558640.923 9585360.684)     11.479140  "
      ]
     },
     "execution_count": 131,
     "metadata": {},
     "output_type": "execute_result"
    }
   ],
   "source": [
    "gdf_bairros_proj.head(3)"
   ]
  },
  {
   "cell_type": "markdown",
   "metadata": {},
   "source": [
    "Também podemos tranformar as nossas distâncias de metros para quilômetros."
   ]
  },
  {
   "cell_type": "code",
   "execution_count": 130,
   "metadata": {},
   "outputs": [],
   "source": [
    "gdf_bairros_proj['dist_to_pici'] = gdf_bairros_proj['dist_to_pici'] / 1000"
   ]
  },
  {
   "cell_type": "code",
   "execution_count": 132,
   "metadata": {},
   "outputs": [
    {
     "data": {
      "text/html": [
       "<div>\n",
       "<style scoped>\n",
       "    .dataframe tbody tr th:only-of-type {\n",
       "        vertical-align: middle;\n",
       "    }\n",
       "\n",
       "    .dataframe tbody tr th {\n",
       "        vertical-align: top;\n",
       "    }\n",
       "\n",
       "    .dataframe thead th {\n",
       "        text-align: right;\n",
       "    }\n",
       "</style>\n",
       "<table border=\"1\" class=\"dataframe\">\n",
       "  <thead>\n",
       "    <tr style=\"text-align: right;\">\n",
       "      <th></th>\n",
       "      <th>id</th>\n",
       "      <th>GID</th>\n",
       "      <th>NOME</th>\n",
       "      <th>geometry</th>\n",
       "      <th>centroid</th>\n",
       "      <th>dist_to_pici</th>\n",
       "    </tr>\n",
       "  </thead>\n",
       "  <tbody>\n",
       "    <tr>\n",
       "      <th>0</th>\n",
       "      <td>Limite Bairro.fid-2be50750_153af4824fe_2d2e</td>\n",
       "      <td>6</td>\n",
       "      <td>PASSARE</td>\n",
       "      <td>POLYGON ((551095.599 9580459.369, 551104.542 9...</td>\n",
       "      <td>POINT (551957.460 9578515.003)</td>\n",
       "      <td>8.881554</td>\n",
       "    </tr>\n",
       "    <tr>\n",
       "      <th>1</th>\n",
       "      <td>Limite Bairro.fid-2be50750_153af4824fe_2d2f</td>\n",
       "      <td>21</td>\n",
       "      <td>CAIS DO PORTO</td>\n",
       "      <td>POLYGON ((557816.513 9588704.498, 557820.203 9...</td>\n",
       "      <td>POINT (558784.923 9589362.498)</td>\n",
       "      <td>12.081966</td>\n",
       "    </tr>\n",
       "    <tr>\n",
       "      <th>2</th>\n",
       "      <td>Limite Bairro.fid-2be50750_153af4824fe_2d30</td>\n",
       "      <td>22</td>\n",
       "      <td>CIDADE 2000</td>\n",
       "      <td>POLYGON ((559112.388 9585523.444, 559127.299 9...</td>\n",
       "      <td>POINT (558640.923 9585360.684)</td>\n",
       "      <td>11.479140</td>\n",
       "    </tr>\n",
       "  </tbody>\n",
       "</table>\n",
       "</div>"
      ],
      "text/plain": [
       "                                            id  GID           NOME  \\\n",
       "0  Limite Bairro.fid-2be50750_153af4824fe_2d2e    6        PASSARE   \n",
       "1  Limite Bairro.fid-2be50750_153af4824fe_2d2f   21  CAIS DO PORTO   \n",
       "2  Limite Bairro.fid-2be50750_153af4824fe_2d30   22    CIDADE 2000   \n",
       "\n",
       "                                            geometry  \\\n",
       "0  POLYGON ((551095.599 9580459.369, 551104.542 9...   \n",
       "1  POLYGON ((557816.513 9588704.498, 557820.203 9...   \n",
       "2  POLYGON ((559112.388 9585523.444, 559127.299 9...   \n",
       "\n",
       "                         centroid  dist_to_pici  \n",
       "0  POINT (551957.460 9578515.003)      8.881554  \n",
       "1  POINT (558784.923 9589362.498)     12.081966  \n",
       "2  POINT (558640.923 9585360.684)     11.479140  "
      ]
     },
     "execution_count": 132,
     "metadata": {},
     "output_type": "execute_result"
    }
   ],
   "source": [
    "gdf_bairros_proj.head(3)"
   ]
  },
  {
   "cell_type": "markdown",
   "metadata": {},
   "source": [
    "Ótimo! Agora calculamos com sucesso as distâncias entre os centróides de cada bairro em formato de Polygon para o centroid do Campus do Pici em formato de Point. 😎"
   ]
  },
  {
   "cell_type": "markdown",
   "metadata": {},
   "source": [
    "- Vamos verificar qual é a distância mais longa e a distância média para o Campus do Pici, em relação aos centróides dos outros bairros de fortaleza:"
   ]
  },
  {
   "cell_type": "code",
   "execution_count": 134,
   "metadata": {},
   "outputs": [
    {
     "name": "stdout",
     "output_type": "stream",
     "text": [
      "Maximum distance to Campus do Pici is 17 km, and the mean distance is 7 km.\n"
     ]
    }
   ],
   "source": [
    "# Calculat the maximum and average distance\n",
    "max_dist = gdf_bairros_proj['dist_to_pici'].max()\n",
    "mean_dist = gdf_bairros_proj['dist_to_pici'].mean()\n",
    "\n",
    "print(\"Maximum distance to Campus do Pici is %.0f km, and the mean distance is %.0f km.\" % (max_dist, mean_dist))"
   ]
  },
  {
   "cell_type": "markdown",
   "metadata": {},
   "source": [
    "Vamos ver em ordem crescente de distância, quais os bairros mais próximos com relação ao centróide."
   ]
  },
  {
   "cell_type": "code",
   "execution_count": 142,
   "metadata": {},
   "outputs": [
    {
     "data": {
      "text/html": [
       "<div>\n",
       "<style scoped>\n",
       "    .dataframe tbody tr th:only-of-type {\n",
       "        vertical-align: middle;\n",
       "    }\n",
       "\n",
       "    .dataframe tbody tr th {\n",
       "        vertical-align: top;\n",
       "    }\n",
       "\n",
       "    .dataframe thead th {\n",
       "        text-align: right;\n",
       "    }\n",
       "</style>\n",
       "<table border=\"1\" class=\"dataframe\">\n",
       "  <thead>\n",
       "    <tr style=\"text-align: right;\">\n",
       "      <th></th>\n",
       "      <th>id</th>\n",
       "      <th>GID</th>\n",
       "      <th>NOME</th>\n",
       "      <th>geometry</th>\n",
       "      <th>centroid</th>\n",
       "      <th>dist_to_pici</th>\n",
       "    </tr>\n",
       "  </thead>\n",
       "  <tbody>\n",
       "    <tr>\n",
       "      <th>105</th>\n",
       "      <td>Limite Bairro.fid-2be50750_153af4824fe_2d97</td>\n",
       "      <td>102</td>\n",
       "      <td>PICI</td>\n",
       "      <td>POLYGON ((548056.004 9585341.580, 548049.228 9...</td>\n",
       "      <td>POINT (547217.418 9585706.867)</td>\n",
       "      <td>0.297531</td>\n",
       "    </tr>\n",
       "    <tr>\n",
       "      <th>99</th>\n",
       "      <td>Limite Bairro.fid-2be50750_153af4824fe_2d91</td>\n",
       "      <td>92</td>\n",
       "      <td>PADRE ANDRADE</td>\n",
       "      <td>POLYGON ((546128.979 9587527.481, 546150.139 9...</td>\n",
       "      <td>POINT (546572.934 9587052.535)</td>\n",
       "      <td>1.213180</td>\n",
       "    </tr>\n",
       "    <tr>\n",
       "      <th>58</th>\n",
       "      <td>Limite Bairro.fid-2be50750_153af4824fe_2d68</td>\n",
       "      <td>49</td>\n",
       "      <td>PANAMERICANO</td>\n",
       "      <td>POLYGON ((547790.757 9584777.621, 547726.477 9...</td>\n",
       "      <td>POINT (548277.125 9584854.883)</td>\n",
       "      <td>1.587511</td>\n",
       "    </tr>\n",
       "    <tr>\n",
       "      <th>115</th>\n",
       "      <td>Limite Bairro.fid-2be50750_153af4824fe_2da1</td>\n",
       "      <td>110</td>\n",
       "      <td>DOM LUSTOSA</td>\n",
       "      <td>POLYGON ((546349.250 9585139.782, 546352.710 9...</td>\n",
       "      <td>POINT (545758.666 9585135.024)</td>\n",
       "      <td>1.664637</td>\n",
       "    </tr>\n",
       "    <tr>\n",
       "      <th>110</th>\n",
       "      <td>Limite Bairro.fid-2be50750_153af4824fe_2d9c</td>\n",
       "      <td>106</td>\n",
       "      <td>PRESIDENTE KENNEDY</td>\n",
       "      <td>POLYGON ((546947.172 9587888.345, 546952.753 9...</td>\n",
       "      <td>POINT (547724.419 9587647.532)</td>\n",
       "      <td>1.733345</td>\n",
       "    </tr>\n",
       "    <tr>\n",
       "      <th>...</th>\n",
       "      <td>...</td>\n",
       "      <td>...</td>\n",
       "      <td>...</td>\n",
       "      <td>...</td>\n",
       "      <td>...</td>\n",
       "      <td>...</td>\n",
       "    </tr>\n",
       "    <tr>\n",
       "      <th>50</th>\n",
       "      <td>Limite Bairro.fid-2be50750_153af4824fe_2d60</td>\n",
       "      <td>40</td>\n",
       "      <td>LAGOA REDONDA</td>\n",
       "      <td>POLYGON ((559116.378 9574901.995, 559037.988 9...</td>\n",
       "      <td>POINT (560043.184 9577159.094)</td>\n",
       "      <td>15.609801</td>\n",
       "    </tr>\n",
       "    <tr>\n",
       "      <th>8</th>\n",
       "      <td>Limite Bairro.fid-2be50750_153af4824fe_2d36</td>\n",
       "      <td>28</td>\n",
       "      <td>PAUPINA</td>\n",
       "      <td>POLYGON ((557111.551 9572820.818, 557238.674 9...</td>\n",
       "      <td>POINT (556386.334 9573261.990)</td>\n",
       "      <td>15.718452</td>\n",
       "    </tr>\n",
       "    <tr>\n",
       "      <th>7</th>\n",
       "      <td>Limite Bairro.fid-2be50750_153af4824fe_2d35</td>\n",
       "      <td>26</td>\n",
       "      <td>PEDRAS</td>\n",
       "      <td>POLYGON ((555310.209 9570240.217, 555309.000 9...</td>\n",
       "      <td>POINT (554245.568 9571661.421)</td>\n",
       "      <td>15.986823</td>\n",
       "    </tr>\n",
       "    <tr>\n",
       "      <th>34</th>\n",
       "      <td>Limite Bairro.fid-2be50750_153af4824fe_2d50</td>\n",
       "      <td>11</td>\n",
       "      <td>SAO BENTO</td>\n",
       "      <td>POLYGON ((557238.674 9572798.279, 557111.551 9...</td>\n",
       "      <td>POINT (557477.064 9573725.019)</td>\n",
       "      <td>16.023723</td>\n",
       "    </tr>\n",
       "    <tr>\n",
       "      <th>9</th>\n",
       "      <td>Limite Bairro.fid-2be50750_153af4824fe_2d37</td>\n",
       "      <td>48</td>\n",
       "      <td>SABIAGUABA</td>\n",
       "      <td>POLYGON ((563276.467 9582398.879, 563278.307 9...</td>\n",
       "      <td>POINT (563289.484 9580008.313)</td>\n",
       "      <td>17.188631</td>\n",
       "    </tr>\n",
       "  </tbody>\n",
       "</table>\n",
       "<p>119 rows × 6 columns</p>\n",
       "</div>"
      ],
      "text/plain": [
       "                                              id  GID                NOME  \\\n",
       "105  Limite Bairro.fid-2be50750_153af4824fe_2d97  102                PICI   \n",
       "99   Limite Bairro.fid-2be50750_153af4824fe_2d91   92       PADRE ANDRADE   \n",
       "58   Limite Bairro.fid-2be50750_153af4824fe_2d68   49        PANAMERICANO   \n",
       "115  Limite Bairro.fid-2be50750_153af4824fe_2da1  110         DOM LUSTOSA   \n",
       "110  Limite Bairro.fid-2be50750_153af4824fe_2d9c  106  PRESIDENTE KENNEDY   \n",
       "..                                           ...  ...                 ...   \n",
       "50   Limite Bairro.fid-2be50750_153af4824fe_2d60   40       LAGOA REDONDA   \n",
       "8    Limite Bairro.fid-2be50750_153af4824fe_2d36   28             PAUPINA   \n",
       "7    Limite Bairro.fid-2be50750_153af4824fe_2d35   26              PEDRAS   \n",
       "34   Limite Bairro.fid-2be50750_153af4824fe_2d50   11           SAO BENTO   \n",
       "9    Limite Bairro.fid-2be50750_153af4824fe_2d37   48          SABIAGUABA   \n",
       "\n",
       "                                              geometry  \\\n",
       "105  POLYGON ((548056.004 9585341.580, 548049.228 9...   \n",
       "99   POLYGON ((546128.979 9587527.481, 546150.139 9...   \n",
       "58   POLYGON ((547790.757 9584777.621, 547726.477 9...   \n",
       "115  POLYGON ((546349.250 9585139.782, 546352.710 9...   \n",
       "110  POLYGON ((546947.172 9587888.345, 546952.753 9...   \n",
       "..                                                 ...   \n",
       "50   POLYGON ((559116.378 9574901.995, 559037.988 9...   \n",
       "8    POLYGON ((557111.551 9572820.818, 557238.674 9...   \n",
       "7    POLYGON ((555310.209 9570240.217, 555309.000 9...   \n",
       "34   POLYGON ((557238.674 9572798.279, 557111.551 9...   \n",
       "9    POLYGON ((563276.467 9582398.879, 563278.307 9...   \n",
       "\n",
       "                           centroid  dist_to_pici  \n",
       "105  POINT (547217.418 9585706.867)      0.297531  \n",
       "99   POINT (546572.934 9587052.535)      1.213180  \n",
       "58   POINT (548277.125 9584854.883)      1.587511  \n",
       "115  POINT (545758.666 9585135.024)      1.664637  \n",
       "110  POINT (547724.419 9587647.532)      1.733345  \n",
       "..                              ...           ...  \n",
       "50   POINT (560043.184 9577159.094)     15.609801  \n",
       "8    POINT (556386.334 9573261.990)     15.718452  \n",
       "7    POINT (554245.568 9571661.421)     15.986823  \n",
       "34   POINT (557477.064 9573725.019)     16.023723  \n",
       "9    POINT (563289.484 9580008.313)     17.188631  \n",
       "\n",
       "[119 rows x 6 columns]"
      ]
     },
     "execution_count": 142,
     "metadata": {},
     "output_type": "execute_result"
    }
   ],
   "source": [
    "gdf_bairros_proj.sort_values('dist_to_pici', ascending=True)"
   ]
  },
  {
   "cell_type": "markdown",
   "metadata": {},
   "source": [
    "Aviso: se você quiser calcular distâncias entre vários locais ao redor do mundo, é recomendável usar a [fórmula de Haversine](https://en.wikipedia.org/wiki/Haversine_formula) para fazer os cálculos. O pacote [Haversine](https://github.com/mapado/haversine) em Python fornece uma função fácil de usar para calcular com base em valores de latitude e longitude.\n",
    "\n",
    "## Resumo \n",
    "\n",
    "Durante este tutorial, vimos como:\n",
    "\n",
    "**1)** Definir o sistema de referência de coordenadas utilizando o código EPSG; <br/>\n",
    "**2)** Reprojetar (transformar) as geometrias de um CRS para outro usando a função `to_crs ()` no GeoPandas; <br/>\n",
    "**3)** Calcular as distâncias entre os locais e usar a função `apply()` para iterar as linhas de maneira mais eficiente do que usando o `iterrows()`. "
   ]
  }
 ],
 "metadata": {
  "kernelspec": {
   "display_name": "Python 3",
   "language": "python",
   "name": "python3"
  },
  "language_info": {
   "codemirror_mode": {
    "name": "ipython",
    "version": 3
   },
   "file_extension": ".py",
   "mimetype": "text/x-python",
   "name": "python",
   "nbconvert_exporter": "python",
   "pygments_lexer": "ipython3",
   "version": "3.8.2"
  }
 },
 "nbformat": 4,
 "nbformat_minor": 2
}
