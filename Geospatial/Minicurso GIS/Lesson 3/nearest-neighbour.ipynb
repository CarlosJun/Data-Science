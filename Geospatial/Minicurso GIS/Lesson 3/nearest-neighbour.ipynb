{
 "cells": [
  {
   "cell_type": "markdown",
   "metadata": {},
   "source": [
    "# Análise de vizinho mais próximo\n",
    "\n",
    "Uma tarefa muito comum em análises GIS é encontrar o vizinho mais próximo. Por exemplo, você pode ter um único objeto Point representando o seu local de residência e, em seguida, outro conjunto de localizações representando, as paradas de transporte público. Então, uma pergunta bastante típica é *\"qual das paradas é a mais próxima da minha casa?\"*. Esta é uma análise típica de vizinho mais próximo, onde o objetivo é encontrar a geometria mais próxima de outra geometria.\n",
    "\n",
    "No Python, esse tipo de análise pode ser feito com uma função chamada ``Nearest_points ()`` que [retorna uma tupla dos pontos mais próximos de acordo com as geometrias de entrada](https://shapely.readthedocs.io/en/latest/manual .html # shapely.ops.nearest_points).\n",
    "\n",
    "\n",
    "## Ponto mais próximo usando Shapely\n",
    "\n",
    "\n",
    "Vamos começar testando como podemos encontrar o objeto Point mais próximo usando a função ``Nearest_points ()`` do módulo Shapely.\n",
    "\n",
    "Vamos criar um ponto de origem e alguns pontos de destino e descobrir o destino mais próximo."
   ]
  },
  {
   "cell_type": "code",
   "execution_count": 1,
   "metadata": {},
   "outputs": [],
   "source": [
    "from shapely.geometry import Point, MultiPoint\n",
    "from shapely.ops import nearest_points\n",
    "\n",
    "orig = Point(1, 1.67)\n",
    "dest1, dest2, dest3 = Point(0, 1.45), Point(2, 2), Point(0, 2.5)"
   ]
  },
  {
   "cell_type": "markdown",
   "metadata": {},
   "source": [
    "Para poder descobrir o ponto de destino mais próximo da origem, precisamos criar um objeto MultiPoint a partir dos pontos de destino."
   ]
  },
  {
   "cell_type": "code",
   "execution_count": 3,
   "metadata": {},
   "outputs": [
    {
     "name": "stdout",
     "output_type": "stream",
     "text": [
      "MULTIPOINT (0 1.45, 2 2, 0 2.5)\n"
     ]
    }
   ],
   "source": [
    "destinations = MultiPoint([dest1, dest2, dest3])\n",
    "print(destinations)"
   ]
  },
  {
   "cell_type": "markdown",
   "metadata": {},
   "source": [
    "Agora podemos ver que todos os pontos de destino são representados como um único objeto MultiPoint.\n",
    "\n",
    "- Agora podemos descobrir o ponto de destino mais próximo usando a função ``Nearest_points()``."
   ]
  },
  {
   "cell_type": "code",
   "execution_count": 4,
   "metadata": {},
   "outputs": [
    {
     "name": "stdout",
     "output_type": "stream",
     "text": [
      "(<shapely.geometry.point.Point object at 0x7fb2b840ba90>, <shapely.geometry.point.Point object at 0x7fb2b840b490>)\n",
      "POINT (1 1.67)\n",
      "POINT (0 1.45)\n"
     ]
    }
   ],
   "source": [
    "nearest_geoms = nearest_points(orig, destinations)\n",
    "near_idx0 = nearest_geoms[0]\n",
    "near_idx1 = nearest_geoms[1]\n",
    "print(nearest_geoms)\n",
    "print(near_idx0)\n",
    "print(near_idx1)"
   ]
  },
  {
   "cell_type": "markdown",
   "metadata": {},
   "source": [
    "Como você pode ver, a função `` Nearest_points () `` retorna uma tupla de geometrias onde o primeiro item é a geometria do nosso ponto de origem e o segundo item (no índice 1) é a geometria real mais próxima dos pontos de destino.\n",
    "\n",
    "Assim, o ponto de destino mais próximo parece ser aquele localizado nas coordenadas (0, 1,45).\n",
    "\n",
    "Esta é a lógica básica de como podemos encontrar o ponto mais próximo utilizando um conjunto de pontos."
   ]
  }
 ],
 "metadata": {
  "kernelspec": {
   "display_name": "Python 3",
   "language": "python",
   "name": "python3"
  },
  "language_info": {
   "codemirror_mode": {
    "name": "ipython",
    "version": 3
   },
   "file_extension": ".py",
   "mimetype": "text/x-python",
   "name": "python",
   "nbconvert_exporter": "python",
   "pygments_lexer": "ipython3",
   "version": "3.8.2"
  }
 },
 "nbformat": 4,
 "nbformat_minor": 2
}
