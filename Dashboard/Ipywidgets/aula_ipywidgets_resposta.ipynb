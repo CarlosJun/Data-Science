{
 "cells": [
  {
   "cell_type": "markdown",
   "metadata": {},
   "source": [
    "<center><img src=\"https://synapsedatascience.com.br/wp-content/uploads/2020/12/logo-jupyter.png\" width=\"300\"/></center>"
   ]
  },
  {
   "cell_type": "code",
   "execution_count": 1,
   "metadata": {},
   "outputs": [],
   "source": [
    "# importar a biblioteca de widgets\n",
    "import ipywidgets as widgets\n",
    "from ipywidgets import Layout, GridBox"
   ]
  },
  {
   "cell_type": "markdown",
   "metadata": {},
   "source": [
    "## Construindo a interface de seleção"
   ]
  },
  {
   "cell_type": "code",
   "execution_count": 2,
   "metadata": {},
   "outputs": [
    {
     "data": {
      "application/vnd.jupyter.widget-view+json": {
       "model_id": "2dd440b4130745628a84a7e501d9b68b",
       "version_major": 2,
       "version_minor": 0
      },
      "text/plain": [
       "GridBox(children=(SelectMultiple(layout=Layout(grid_area='wid_select_add', width='auto'), options=(), value=()…"
      ]
     },
     "metadata": {},
     "output_type": "display_data"
    }
   ],
   "source": [
    "wid_select_add = widgets.SelectMultiple(\n",
    "    layout=Layout(width='auto', grid_area='wid_select_add'))\n",
    "wid_select_remove = widgets.SelectMultiple(\n",
    "    layout=Layout(width='auto', grid_area='wid_select_remove'))\n",
    "\n",
    "wid_button_add = widgets.Button(\n",
    "    button_style='success',\n",
    "    tooltip='Add',\n",
    "    icon='angle-double-right',\n",
    "    layout=Layout(width='auto', grid_area='wid_button_add')\n",
    ")\n",
    "wid_button_remove = widgets.Button(\n",
    "    button_style='danger',\n",
    "    tooltip='Remove',\n",
    "    icon='angle-double-left',\n",
    "    layout=Layout(width='auto', grid_area='wid_button_remove')\n",
    ")\n",
    "\n",
    "widget_gridbox = \\\n",
    "    GridBox(children=[wid_select_add, wid_select_remove, \n",
    "                      wid_button_add, wid_button_remove],\n",
    "            layout=widgets.Layout(\n",
    "                width='100%',\n",
    "                grid_template_rows='auto',\n",
    "                grid_template_columns='40% 5% 40%',\n",
    "                grid_gap='5px',\n",
    "                grid_template_areas='''\n",
    "                    \"wid_select_remove wid_button_add wid_select_add\"\n",
    "                    \"wid_select_remove wid_button_remove wid_select_add\"\n",
    "                    '''\n",
    "            )\n",
    "    )\n",
    "\n",
    "def add_button_clicked(button):\n",
    "\n",
    "    if len(wid_select_remove.value) > 0:\n",
    "        \n",
    "        selected_values = list(wid_select_remove.value)\n",
    "        \n",
    "        wid_select_remove.options = [value for value in wid_select_remove.options \n",
    "                                     if value not in wid_select_remove.value]\n",
    "\n",
    "        selected_options = selected_values + list(wid_select_add.options)\n",
    "        wid_select_add.options = selected_options\n",
    "\n",
    "def remove_button_clicked(button):\n",
    "\n",
    "    if len(wid_select_add.value) > 0:\n",
    "        \n",
    "        selected_values = list(wid_select_add.value)\n",
    "        \n",
    "        wid_select_add.options = [value for value in wid_select_add.options \n",
    "                                  if value not in wid_select_add.value]\n",
    "\n",
    "        selected_options = selected_values + list(wid_select_remove.options)\n",
    "        wid_select_remove.options = selected_options\n",
    "\n",
    "wid_button_add.on_click(add_button_clicked)\n",
    "wid_button_remove.on_click(remove_button_clicked)\n",
    "\n",
    "wid_select_remove.options = ['Brasil', 'Argentina', 'Uriguai', 'Estados Unidos', \n",
    "                             'Itália', 'França', 'Portugal']\n",
    "\n",
    "display(widget_gridbox)"
   ]
  },
  {
   "cell_type": "markdown",
   "metadata": {},
   "source": [
    "# Exercício\n",
    "\n",
    "1. Escolha um dataset com uma feature (coluna) categórica;  \n",
    "\n",
    "\n",
    "2. Utilizando a interface *widget_gridbox* criada anteriormente, preencha a tela da esquerda com todos os valores únicos da feature escolhida;\n",
    "\n",
    "  **`Dica:`** para pegar os valores únicos, você pode utilizar [pandas.unique()](https://pandas.pydata.org/pandas-docs/stable/reference/api/pandas.unique.html)\n",
    "\n",
    "\n",
    "3. Crie um novo botão e um handle **on_click** para filtar o dataset somente com os valores categóricos adicionados pelo usuário, ou seja, que foram movidos para a tela da direita com a interface *widget_gridbox*;\n",
    "\n",
    "  **`Dica:`** para filtrar um dataframe e manter somente os valores contídos em uma lista, você pode utilizar [pandas.isin()](https://pandas.pydata.org/pandas-docs/stable/reference/api/pandas.DataFrame.isin.html)\n",
    "\n",
    "\n",
    "4. Mostre o dataframe antes e depois de realizar um processo de filtragem."
   ]
  },
  {
   "cell_type": "markdown",
   "metadata": {},
   "source": [
    "# Resposta"
   ]
  },
  {
   "cell_type": "markdown",
   "metadata": {},
   "source": [
    "### 1. Escolha um dataset com uma feature (coluna) categórica;  "
   ]
  },
  {
   "cell_type": "markdown",
   "metadata": {},
   "source": [
    "Vamos utilizar dados com informações de ranqueamento de diferentes universidades do mundo.\n",
    "\n",
    "Dados disponibilizados no Kaggle: https://www.kaggle.com/mylesoneill/world-university-rankings?select=cwurData.csv"
   ]
  },
  {
   "cell_type": "code",
   "execution_count": 3,
   "metadata": {},
   "outputs": [],
   "source": [
    "import pandas as pd"
   ]
  },
  {
   "cell_type": "code",
   "execution_count": 4,
   "metadata": {},
   "outputs": [
    {
     "data": {
      "text/html": [
       "<div>\n",
       "<style scoped>\n",
       "    .dataframe tbody tr th:only-of-type {\n",
       "        vertical-align: middle;\n",
       "    }\n",
       "\n",
       "    .dataframe tbody tr th {\n",
       "        vertical-align: top;\n",
       "    }\n",
       "\n",
       "    .dataframe thead th {\n",
       "        text-align: right;\n",
       "    }\n",
       "</style>\n",
       "<table border=\"1\" class=\"dataframe\">\n",
       "  <thead>\n",
       "    <tr style=\"text-align: right;\">\n",
       "      <th></th>\n",
       "      <th>world_rank</th>\n",
       "      <th>institution</th>\n",
       "      <th>country</th>\n",
       "      <th>national_rank</th>\n",
       "      <th>quality_of_education</th>\n",
       "      <th>alumni_employment</th>\n",
       "      <th>quality_of_faculty</th>\n",
       "      <th>publications</th>\n",
       "      <th>influence</th>\n",
       "      <th>citations</th>\n",
       "      <th>broad_impact</th>\n",
       "      <th>patents</th>\n",
       "      <th>score</th>\n",
       "      <th>year</th>\n",
       "    </tr>\n",
       "  </thead>\n",
       "  <tbody>\n",
       "    <tr>\n",
       "      <th>0</th>\n",
       "      <td>1</td>\n",
       "      <td>Harvard University</td>\n",
       "      <td>USA</td>\n",
       "      <td>1</td>\n",
       "      <td>7</td>\n",
       "      <td>9</td>\n",
       "      <td>1</td>\n",
       "      <td>1</td>\n",
       "      <td>1</td>\n",
       "      <td>1</td>\n",
       "      <td>NaN</td>\n",
       "      <td>5</td>\n",
       "      <td>100.00</td>\n",
       "      <td>2012</td>\n",
       "    </tr>\n",
       "    <tr>\n",
       "      <th>1</th>\n",
       "      <td>2</td>\n",
       "      <td>Massachusetts Institute of Technology</td>\n",
       "      <td>USA</td>\n",
       "      <td>2</td>\n",
       "      <td>9</td>\n",
       "      <td>17</td>\n",
       "      <td>3</td>\n",
       "      <td>12</td>\n",
       "      <td>4</td>\n",
       "      <td>4</td>\n",
       "      <td>NaN</td>\n",
       "      <td>1</td>\n",
       "      <td>91.67</td>\n",
       "      <td>2012</td>\n",
       "    </tr>\n",
       "    <tr>\n",
       "      <th>2</th>\n",
       "      <td>3</td>\n",
       "      <td>Stanford University</td>\n",
       "      <td>USA</td>\n",
       "      <td>3</td>\n",
       "      <td>17</td>\n",
       "      <td>11</td>\n",
       "      <td>5</td>\n",
       "      <td>4</td>\n",
       "      <td>2</td>\n",
       "      <td>2</td>\n",
       "      <td>NaN</td>\n",
       "      <td>15</td>\n",
       "      <td>89.50</td>\n",
       "      <td>2012</td>\n",
       "    </tr>\n",
       "    <tr>\n",
       "      <th>3</th>\n",
       "      <td>4</td>\n",
       "      <td>University of Cambridge</td>\n",
       "      <td>United Kingdom</td>\n",
       "      <td>1</td>\n",
       "      <td>10</td>\n",
       "      <td>24</td>\n",
       "      <td>4</td>\n",
       "      <td>16</td>\n",
       "      <td>16</td>\n",
       "      <td>11</td>\n",
       "      <td>NaN</td>\n",
       "      <td>50</td>\n",
       "      <td>86.17</td>\n",
       "      <td>2012</td>\n",
       "    </tr>\n",
       "    <tr>\n",
       "      <th>4</th>\n",
       "      <td>5</td>\n",
       "      <td>California Institute of Technology</td>\n",
       "      <td>USA</td>\n",
       "      <td>4</td>\n",
       "      <td>2</td>\n",
       "      <td>29</td>\n",
       "      <td>7</td>\n",
       "      <td>37</td>\n",
       "      <td>22</td>\n",
       "      <td>22</td>\n",
       "      <td>NaN</td>\n",
       "      <td>18</td>\n",
       "      <td>85.21</td>\n",
       "      <td>2012</td>\n",
       "    </tr>\n",
       "  </tbody>\n",
       "</table>\n",
       "</div>"
      ],
      "text/plain": [
       "   world_rank                            institution         country  \\\n",
       "0           1                     Harvard University             USA   \n",
       "1           2  Massachusetts Institute of Technology             USA   \n",
       "2           3                    Stanford University             USA   \n",
       "3           4                University of Cambridge  United Kingdom   \n",
       "4           5     California Institute of Technology             USA   \n",
       "\n",
       "   national_rank  quality_of_education  alumni_employment  quality_of_faculty  \\\n",
       "0              1                     7                  9                   1   \n",
       "1              2                     9                 17                   3   \n",
       "2              3                    17                 11                   5   \n",
       "3              1                    10                 24                   4   \n",
       "4              4                     2                 29                   7   \n",
       "\n",
       "   publications  influence  citations  broad_impact  patents   score  year  \n",
       "0             1          1          1           NaN        5  100.00  2012  \n",
       "1            12          4          4           NaN        1   91.67  2012  \n",
       "2             4          2          2           NaN       15   89.50  2012  \n",
       "3            16         16         11           NaN       50   86.17  2012  \n",
       "4            37         22         22           NaN       18   85.21  2012  "
      ]
     },
     "execution_count": 4,
     "metadata": {},
     "output_type": "execute_result"
    }
   ],
   "source": [
    "df = pd.read_csv('cwurData.csv')\n",
    "df.head(5)"
   ]
  },
  {
   "cell_type": "markdown",
   "metadata": {},
   "source": [
    "Vamos utilizar a feature categórica **country** para fazer a nossa filtragem."
   ]
  },
  {
   "cell_type": "markdown",
   "metadata": {},
   "source": [
    "### 2. Utilizando a interface *widget_gridbox* criada anteriormente, preencha a tela da esquerda com todos os valores únicos da feature escolhida;"
   ]
  },
  {
   "cell_type": "code",
   "execution_count": 5,
   "metadata": {},
   "outputs": [],
   "source": [
    "wid_select_remove.options = df['country'].unique()"
   ]
  },
  {
   "cell_type": "code",
   "execution_count": 6,
   "metadata": {},
   "outputs": [
    {
     "data": {
      "application/vnd.jupyter.widget-view+json": {
       "model_id": "2dd440b4130745628a84a7e501d9b68b",
       "version_major": 2,
       "version_minor": 0
      },
      "text/plain": [
       "GridBox(children=(SelectMultiple(layout=Layout(grid_area='wid_select_add', width='auto'), options=(), value=()…"
      ]
     },
     "metadata": {},
     "output_type": "display_data"
    }
   ],
   "source": [
    "display(widget_gridbox)"
   ]
  },
  {
   "cell_type": "markdown",
   "metadata": {},
   "source": [
    "### 3. Crie um novo botão e um handle **on_click** para filtar o dataset somente com os valores categóricos adicionados pelo usuário, ou seja, que foram movidos para a tela da direita com a interface *widget_gridbox*;"
   ]
  },
  {
   "cell_type": "code",
   "execution_count": 7,
   "metadata": {},
   "outputs": [
    {
     "data": {
      "application/vnd.jupyter.widget-view+json": {
       "model_id": "2b65f482cf16423da22db3d5e3bce7a2",
       "version_major": 2,
       "version_minor": 0
      },
      "text/plain": [
       "Button(description='Filtrar', style=ButtonStyle())"
      ]
     },
     "metadata": {},
     "output_type": "display_data"
    },
    {
     "data": {
      "application/vnd.jupyter.widget-view+json": {
       "model_id": "129ee3ac1152439bb8f3b26f28606d92",
       "version_major": 2,
       "version_minor": 0
      },
      "text/plain": [
       "Output()"
      ]
     },
     "metadata": {},
     "output_type": "display_data"
    }
   ],
   "source": [
    "# definição do widget de botão para realizar a filtragem\n",
    "wid_button = widgets.Button(description='Filtrar')\n",
    "# definição do widget output para mostrar o dataframe filtrado\n",
    "wid_output = widgets.Output()\n",
    "\n",
    "# função executada ao clicar no botão de filtragem\n",
    "def on_button_clicked(b):\n",
    "    df_tmp = df[df['country'].isin(wid_select_add.options)]\n",
    "    # limpar os dados da tela de saída antes de mostrar novamente\n",
    "    wid_output.clear_output(wait=True)\n",
    "    with wid_output:\n",
    "        display(df_tmp)\n",
    "\n",
    "wid_button.on_click(on_button_clicked)\n",
    "\n",
    "display(wid_button)\n",
    "display(wid_output)"
   ]
  },
  {
   "cell_type": "markdown",
   "metadata": {},
   "source": [
    "### 4. Mostre o dataframe antes e depois de realizar um processo de filtragem."
   ]
  },
  {
   "cell_type": "code",
   "execution_count": 8,
   "metadata": {
    "scrolled": false
   },
   "outputs": [
    {
     "data": {
      "application/vnd.jupyter.widget-view+json": {
       "model_id": "80a6191495a948628d6040a2487acd05",
       "version_major": 2,
       "version_minor": 0
      },
      "text/plain": [
       "VBox(children=(GridBox(children=(SelectMultiple(layout=Layout(grid_area='wid_select_add', width='auto'), optio…"
      ]
     },
     "metadata": {},
     "output_type": "display_data"
    }
   ],
   "source": [
    "wid_vbox_filter = widgets.VBox([widget_gridbox, wid_button, wid_output], \n",
    "                               layout=widgets.Layout(grid_gap='10px'))\n",
    "\n",
    "wid_vbox_filter"
   ]
  }
 ],
 "metadata": {
  "kernelspec": {
   "display_name": "Python 3",
   "language": "python",
   "name": "python3"
  },
  "language_info": {
   "codemirror_mode": {
    "name": "ipython",
    "version": 3
   },
   "file_extension": ".py",
   "mimetype": "text/x-python",
   "name": "python",
   "nbconvert_exporter": "python",
   "pygments_lexer": "ipython3",
   "version": "3.7.7"
  }
 },
 "nbformat": 4,
 "nbformat_minor": 4
}
